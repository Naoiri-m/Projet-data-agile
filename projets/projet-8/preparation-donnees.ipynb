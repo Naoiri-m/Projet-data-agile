{
 "cells": [
  {
   "cell_type": "code",
   "execution_count": 2,
   "metadata": {},
   "outputs": [],
   "source": [
    "# Importe les modules\n",
    "import numpy as np\n",
    "import pandas as pd"
   ]
  },
  {
   "attachments": {},
   "cell_type": "markdown",
   "metadata": {},
   "source": [
    "# Projet 8 : Préparation des données"
   ]
  },
  {
   "attachments": {},
   "cell_type": "markdown",
   "metadata": {},
   "source": [
    "## Introduction"
   ]
  },
  {
   "attachments": {},
   "cell_type": "markdown",
   "metadata": {},
   "source": [
    "L'ensemble des données proviennent du Ministère de l'Education Nationale et ont été récupérées sur la plateforme [data.education.gouv.fr](https://data.education.gouv.fr/pages/accueil/). Les fichiers suivant ont été téléchargés au format CSV :\n",
    "* `fr-en-ips-lycees-ap2022` ;\n",
    "* `fr-en-ips_lycees` ;\n",
    "* `fr-en-annuaire-education` ;\n",
    "* `fr-en-indicateurs-de-resultat-des-lycees-denseignement-general-et-technologique` ;\n",
    "* `fr-en-indicateurs-de-resultat-des-lycees-denseignement-professionnels`.\n",
    "\n",
    "Tous ces fichiers ont été mis à jour en 2023 et ils contiennent des données jusqu'en 2022.\n",
    "\n",
    "Un fichier supplémentaire, permettant à Power BI de créer des visuels de type « Carte de formes », a été généré à partir de [FranceGEOJSON](https://france-geojson.gregoiredavid.fr/).\n",
    "> Le projet Github france-geojson propose au format GeoJSON les cartes des régions, départements, arrondissements, cantons et communes de France (métropole et départements d'outre-mer) à partir des données publiées par l'IGN et l'INSEE.\n",
    "\n",
    "Le fichier `geojson` a ensuite été converti au format `json` grâce au site [Mapshaper](https://mapshaper.org/) pour être utilisable par Power BI. Il se nomme : `fr-departements-shape-map`.\n"
   ]
  },
  {
   "attachments": {},
   "cell_type": "markdown",
   "metadata": {},
   "source": [
    "## Objectif"
   ]
  },
  {
   "attachments": {},
   "cell_type": "markdown",
   "metadata": {},
   "source": [
    "Dans ce *notebook*, nous allons préparer les données qui vont être utilisées au sein de Power BI :\n",
    "* les fichiers des IPS vont être concaténés ainsi que ceux des indicateurs de résulatats ;\n",
    "* on va s'assurer que le périmètre géographique et temporel est cohérent entre fichiers ;\n",
    "* on va procéder à différents nettoyage, renommage ou suppression des variables."
   ]
  },
  {
   "attachments": {},
   "cell_type": "markdown",
   "metadata": {},
   "source": [
    "## Préparation des données"
   ]
  },
  {
   "attachments": {},
   "cell_type": "markdown",
   "metadata": {},
   "source": [
    "### Fichiers des IPS"
   ]
  },
  {
   "cell_type": "code",
   "execution_count": 3,
   "metadata": {},
   "outputs": [],
   "source": [
    "df_ips_2022 = pd.read_csv('./datasets/raw/fr-en-ips-lycees-ap-2022.csv', sep=';')\n",
    "df_ips_2016_2021 = pd.read_csv('./datasets/raw/fr-en-ips-lycees-2016-2021.csv', sep=';')"
   ]
  },
  {
   "cell_type": "code",
   "execution_count": 4,
   "metadata": {},
   "outputs": [
    {
     "data": {
      "text/html": [
       "<div>\n",
       "<style scoped>\n",
       "    .dataframe tbody tr th:only-of-type {\n",
       "        vertical-align: middle;\n",
       "    }\n",
       "\n",
       "    .dataframe tbody tr th {\n",
       "        vertical-align: top;\n",
       "    }\n",
       "\n",
       "    .dataframe thead th {\n",
       "        text-align: right;\n",
       "    }\n",
       "</style>\n",
       "<table border=\"1\" class=\"dataframe\">\n",
       "  <thead>\n",
       "    <tr style=\"text-align: right;\">\n",
       "      <th></th>\n",
       "      <th>Rentrée scolaire</th>\n",
       "      <th>Académie</th>\n",
       "      <th>Code du département</th>\n",
       "      <th>Département</th>\n",
       "      <th>UAI</th>\n",
       "      <th>Nom de l'établissment</th>\n",
       "      <th>Code INSEE de la commune</th>\n",
       "      <th>Nom de la commune</th>\n",
       "      <th>Secteur</th>\n",
       "      <th>Type de lycée</th>\n",
       "      <th>Effectifs voie GT</th>\n",
       "      <th>Effectifs voie PRO</th>\n",
       "      <th>Effectifs Ensemble GT-PRO</th>\n",
       "      <th>IPS voie GT</th>\n",
       "      <th>IPS voie PRO</th>\n",
       "      <th>IPS Ensemble GT-PRO</th>\n",
       "      <th>Ecart-type de l'IPS voie GT</th>\n",
       "      <th>Ecart-type de l'IPS voie PRO</th>\n",
       "    </tr>\n",
       "  </thead>\n",
       "  <tbody>\n",
       "    <tr>\n",
       "      <th>0</th>\n",
       "      <td>2022-2023</td>\n",
       "      <td>LYON</td>\n",
       "      <td>001</td>\n",
       "      <td>AIN</td>\n",
       "      <td>0010001W</td>\n",
       "      <td>LYCEE PROFESSIONNEL ALEXANDRE BERARD LYCEE DES...</td>\n",
       "      <td>01004</td>\n",
       "      <td>AMBERIEU EN BUGEY</td>\n",
       "      <td>public</td>\n",
       "      <td>LP</td>\n",
       "      <td>NaN</td>\n",
       "      <td>583.0</td>\n",
       "      <td>583.0</td>\n",
       "      <td>NaN</td>\n",
       "      <td>91.5</td>\n",
       "      <td>91.5</td>\n",
       "      <td>NaN</td>\n",
       "      <td>27.2</td>\n",
       "    </tr>\n",
       "    <tr>\n",
       "      <th>1</th>\n",
       "      <td>2022-2023</td>\n",
       "      <td>LYON</td>\n",
       "      <td>001</td>\n",
       "      <td>AIN</td>\n",
       "      <td>0010006B</td>\n",
       "      <td>LYCEE POLYVALENT SAINT EXUPERY LYCEE DES METIE...</td>\n",
       "      <td>01033</td>\n",
       "      <td>VALSERHONE</td>\n",
       "      <td>public</td>\n",
       "      <td>LPO</td>\n",
       "      <td>556.0</td>\n",
       "      <td>334.0</td>\n",
       "      <td>890.0</td>\n",
       "      <td>99.2</td>\n",
       "      <td>84.2</td>\n",
       "      <td>93.6</td>\n",
       "      <td>33.3</td>\n",
       "      <td>24.8</td>\n",
       "    </tr>\n",
       "    <tr>\n",
       "      <th>2</th>\n",
       "      <td>2022-2023</td>\n",
       "      <td>LYON</td>\n",
       "      <td>001</td>\n",
       "      <td>AIN</td>\n",
       "      <td>0010013J</td>\n",
       "      <td>LYCEE GENERAL LALANDE</td>\n",
       "      <td>01053</td>\n",
       "      <td>BOURG EN BRESSE</td>\n",
       "      <td>public</td>\n",
       "      <td>LEGT</td>\n",
       "      <td>1028.0</td>\n",
       "      <td>NaN</td>\n",
       "      <td>1028.0</td>\n",
       "      <td>123.0</td>\n",
       "      <td>NaN</td>\n",
       "      <td>123.0</td>\n",
       "      <td>34.7</td>\n",
       "      <td>NaN</td>\n",
       "    </tr>\n",
       "  </tbody>\n",
       "</table>\n",
       "</div>"
      ],
      "text/plain": [
       "  Rentrée scolaire Académie Code du département Département       UAI  \\\n",
       "0        2022-2023     LYON                 001         AIN  0010001W   \n",
       "1        2022-2023     LYON                 001         AIN  0010006B   \n",
       "2        2022-2023     LYON                 001         AIN  0010013J   \n",
       "\n",
       "                               Nom de l'établissment Code INSEE de la commune  \\\n",
       "0  LYCEE PROFESSIONNEL ALEXANDRE BERARD LYCEE DES...                    01004   \n",
       "1  LYCEE POLYVALENT SAINT EXUPERY LYCEE DES METIE...                    01033   \n",
       "2                              LYCEE GENERAL LALANDE                    01053   \n",
       "\n",
       "   Nom de la commune Secteur Type de lycée  Effectifs voie GT  \\\n",
       "0  AMBERIEU EN BUGEY  public            LP                NaN   \n",
       "1         VALSERHONE  public           LPO              556.0   \n",
       "2    BOURG EN BRESSE  public          LEGT             1028.0   \n",
       "\n",
       "   Effectifs voie PRO  Effectifs Ensemble GT-PRO  IPS voie GT  IPS voie PRO  \\\n",
       "0               583.0                      583.0          NaN          91.5   \n",
       "1               334.0                      890.0         99.2          84.2   \n",
       "2                 NaN                     1028.0        123.0           NaN   \n",
       "\n",
       "   IPS Ensemble GT-PRO  Ecart-type de l'IPS voie GT  \\\n",
       "0                 91.5                          NaN   \n",
       "1                 93.6                         33.3   \n",
       "2                123.0                         34.7   \n",
       "\n",
       "   Ecart-type de l'IPS voie PRO  \n",
       "0                          27.2  \n",
       "1                          24.8  \n",
       "2                           NaN  "
      ]
     },
     "execution_count": 4,
     "metadata": {},
     "output_type": "execute_result"
    }
   ],
   "source": [
    "df_ips_2022.head(3)"
   ]
  },
  {
   "cell_type": "code",
   "execution_count": 5,
   "metadata": {},
   "outputs": [
    {
     "data": {
      "text/html": [
       "<div>\n",
       "<style scoped>\n",
       "    .dataframe tbody tr th:only-of-type {\n",
       "        vertical-align: middle;\n",
       "    }\n",
       "\n",
       "    .dataframe tbody tr th {\n",
       "        vertical-align: top;\n",
       "    }\n",
       "\n",
       "    .dataframe thead th {\n",
       "        text-align: right;\n",
       "    }\n",
       "</style>\n",
       "<table border=\"1\" class=\"dataframe\">\n",
       "  <thead>\n",
       "    <tr style=\"text-align: right;\">\n",
       "      <th></th>\n",
       "      <th>Rentrée scolaire</th>\n",
       "      <th>Académie</th>\n",
       "      <th>Code du département</th>\n",
       "      <th>Département</th>\n",
       "      <th>UAI</th>\n",
       "      <th>Nom de l'établissment</th>\n",
       "      <th>Code INSEE de la commune</th>\n",
       "      <th>Nom de la commune</th>\n",
       "      <th>Secteur</th>\n",
       "      <th>Type de lycée</th>\n",
       "      <th>IPS voie GT</th>\n",
       "      <th>IPS voie PRO</th>\n",
       "      <th>IPS Ensemble GT-PRO</th>\n",
       "      <th>Ecart-type de l'IPS voie GT</th>\n",
       "      <th>Ecart-type de l'IPS voie PRO</th>\n",
       "    </tr>\n",
       "  </thead>\n",
       "  <tbody>\n",
       "    <tr>\n",
       "      <th>0</th>\n",
       "      <td>2018-2019</td>\n",
       "      <td>CRETEIL</td>\n",
       "      <td>77.0</td>\n",
       "      <td>SEINE-ET-MARNE</td>\n",
       "      <td>0771995A</td>\n",
       "      <td>LYCEE PROFESSIONNEL LE CHAMP DE CLAYE LYCEE DE...</td>\n",
       "      <td>77118.0</td>\n",
       "      <td>CLAYE SOUILLY</td>\n",
       "      <td>public</td>\n",
       "      <td>LP</td>\n",
       "      <td>NaN</td>\n",
       "      <td>87.4</td>\n",
       "      <td>87.4</td>\n",
       "      <td>NaN</td>\n",
       "      <td>NaN</td>\n",
       "    </tr>\n",
       "    <tr>\n",
       "      <th>1</th>\n",
       "      <td>2018-2019</td>\n",
       "      <td>CRETEIL</td>\n",
       "      <td>77.0</td>\n",
       "      <td>SEINE-ET-MARNE</td>\n",
       "      <td>0772127U</td>\n",
       "      <td>LYCEE GENERAL ET TECHNOLOGIQUE GALILEE</td>\n",
       "      <td>77122.0</td>\n",
       "      <td>COMBS LA VILLE</td>\n",
       "      <td>public</td>\n",
       "      <td>LEGT</td>\n",
       "      <td>115.6</td>\n",
       "      <td>NaN</td>\n",
       "      <td>115.6</td>\n",
       "      <td>NaN</td>\n",
       "      <td>NaN</td>\n",
       "    </tr>\n",
       "    <tr>\n",
       "      <th>2</th>\n",
       "      <td>2018-2019</td>\n",
       "      <td>CRETEIL</td>\n",
       "      <td>77.0</td>\n",
       "      <td>SEINE-ET-MARNE</td>\n",
       "      <td>0772151V</td>\n",
       "      <td>LYCEE PROFESSIONNEL PRIVE LES SINOPLIES</td>\n",
       "      <td>77390.0</td>\n",
       "      <td>ROISSY EN BRIE</td>\n",
       "      <td>privé sous contrat</td>\n",
       "      <td>LP</td>\n",
       "      <td>NaN</td>\n",
       "      <td>114.2</td>\n",
       "      <td>114.2</td>\n",
       "      <td>NaN</td>\n",
       "      <td>NaN</td>\n",
       "    </tr>\n",
       "  </tbody>\n",
       "</table>\n",
       "</div>"
      ],
      "text/plain": [
       "  Rentrée scolaire Académie  Code du département     Département       UAI  \\\n",
       "0        2018-2019  CRETEIL                 77.0  SEINE-ET-MARNE  0771995A   \n",
       "1        2018-2019  CRETEIL                 77.0  SEINE-ET-MARNE  0772127U   \n",
       "2        2018-2019  CRETEIL                 77.0  SEINE-ET-MARNE  0772151V   \n",
       "\n",
       "                               Nom de l'établissment  \\\n",
       "0  LYCEE PROFESSIONNEL LE CHAMP DE CLAYE LYCEE DE...   \n",
       "1             LYCEE GENERAL ET TECHNOLOGIQUE GALILEE   \n",
       "2            LYCEE PROFESSIONNEL PRIVE LES SINOPLIES   \n",
       "\n",
       "   Code INSEE de la commune Nom de la commune             Secteur  \\\n",
       "0                   77118.0     CLAYE SOUILLY              public   \n",
       "1                   77122.0    COMBS LA VILLE              public   \n",
       "2                   77390.0    ROISSY EN BRIE  privé sous contrat   \n",
       "\n",
       "  Type de lycée  IPS voie GT  IPS voie PRO  IPS Ensemble GT-PRO  \\\n",
       "0            LP          NaN          87.4                 87.4   \n",
       "1          LEGT        115.6           NaN                115.6   \n",
       "2            LP          NaN         114.2                114.2   \n",
       "\n",
       "   Ecart-type de l'IPS voie GT  Ecart-type de l'IPS voie PRO  \n",
       "0                          NaN                           NaN  \n",
       "1                          NaN                           NaN  \n",
       "2                          NaN                           NaN  "
      ]
     },
     "execution_count": 5,
     "metadata": {},
     "output_type": "execute_result"
    }
   ],
   "source": [
    "df_ips_2016_2021.head(3)"
   ]
  },
  {
   "attachments": {},
   "cell_type": "markdown",
   "metadata": {},
   "source": [
    "Les fichiers semblent correctement importés. On formate d'abord les noms des variables pour faciliter la suite des manipulations en s'aidant d'une fonction pour répéter facilement l'opération."
   ]
  },
  {
   "cell_type": "code",
   "execution_count": 6,
   "metadata": {},
   "outputs": [],
   "source": [
    "def snake_case (df):\n",
    "    \"\"\"\n",
    "    Converti les noms de variables d'un DataFrame au format Snake Case :\n",
    "    - mise en minuscule ;\n",
    "    - remplacement de l'espaces, du tiret et de l'apostrophe par '_' ;\n",
    "    - suppression des accents.\n",
    "    \"\"\"\n",
    "    df.columns = (\n",
    "        df.columns\n",
    "        .str.lower()\n",
    "        .str.replace('\\'', '_')\n",
    "        .str.replace(' - ', '_')\n",
    "        .str.replace('-', '_')\n",
    "        .str.replace(' ', '_')\n",
    "        .str.normalize('NFKD')\n",
    "        .str.encode('ascii', errors='ignore')\n",
    "        .str.decode('utf-8')\n",
    "    )"
   ]
  },
  {
   "cell_type": "code",
   "execution_count": 7,
   "metadata": {},
   "outputs": [],
   "source": [
    "snake_case(df_ips_2016_2021)\n",
    "snake_case(df_ips_2022)"
   ]
  },
  {
   "cell_type": "code",
   "execution_count": 8,
   "metadata": {},
   "outputs": [
    {
     "name": "stdout",
     "output_type": "stream",
     "text": [
      "Dimensions des DataFrames :\n",
      "- df_ips_2022 : (3598, 18)\n",
      "- df_ips_2016_2021 : (21777, 15)\n"
     ]
    }
   ],
   "source": [
    "print(\n",
    "    f'Dimensions des DataFrames :\\n'\n",
    "    f'- df_ips_2022 : {df_ips_2022.shape}\\n'\n",
    "    f'- df_ips_2016_2021 : {df_ips_2016_2021.shape}'\n",
    "    )"
   ]
  },
  {
   "attachments": {},
   "cell_type": "markdown",
   "metadata": {},
   "source": [
    "Le nombre de colonnes diffère, la dernière version contient plus de variables."
   ]
  },
  {
   "cell_type": "code",
   "execution_count": 9,
   "metadata": {},
   "outputs": [
    {
     "data": {
      "text/plain": [
       "Index(['rentree_scolaire', 'academie', 'code_du_departement', 'departement',\n",
       "       'uai', 'nom_de_l_etablissment', 'code_insee_de_la_commune',\n",
       "       'nom_de_la_commune', 'secteur', 'type_de_lycee', 'effectifs_voie_gt',\n",
       "       'effectifs_voie_pro', 'effectifs_ensemble_gt_pro', 'ips_voie_gt',\n",
       "       'ips_voie_pro', 'ips_ensemble_gt_pro', 'ecart_type_de_l_ips_voie_gt',\n",
       "       'ecart_type_de_l_ips_voie_pro'],\n",
       "      dtype='object')"
      ]
     },
     "execution_count": 9,
     "metadata": {},
     "output_type": "execute_result"
    }
   ],
   "source": [
    "df_ips_2022.columns"
   ]
  },
  {
   "cell_type": "code",
   "execution_count": 10,
   "metadata": {},
   "outputs": [
    {
     "data": {
      "text/plain": [
       "Index(['rentree_scolaire', 'academie', 'code_du_departement', 'departement',\n",
       "       'uai', 'nom_de_l_etablissment', 'code_insee_de_la_commune',\n",
       "       'nom_de_la_commune', 'secteur', 'type_de_lycee', 'ips_voie_gt',\n",
       "       'ips_voie_pro', 'ips_ensemble_gt_pro', 'ecart_type_de_l_ips_voie_gt',\n",
       "       'ecart_type_de_l_ips_voie_pro'],\n",
       "      dtype='object')"
      ]
     },
     "execution_count": 10,
     "metadata": {},
     "output_type": "execute_result"
    }
   ],
   "source": [
    "df_ips_2016_2021.columns"
   ]
  },
  {
   "attachments": {},
   "cell_type": "markdown",
   "metadata": {},
   "source": [
    "Les effectifs ont été ajoutés en 2022. On les supprime et on supprime également les colonnes des écarts-type."
   ]
  },
  {
   "cell_type": "code",
   "execution_count": 11,
   "metadata": {},
   "outputs": [],
   "source": [
    "df_ips_2022 = df_ips_2022.drop(\n",
    "    columns=['effectifs_voie_gt', 'effectifs_voie_pro',\n",
    "             'effectifs_ensemble_gt_pro', 'ecart_type_de_l_ips_voie_gt',\n",
    "             'ecart_type_de_l_ips_voie_pro']\n",
    ")\n",
    "\n",
    "df_ips_2016_2021 = df_ips_2016_2021.drop(\n",
    "    columns=['ecart_type_de_l_ips_voie_gt', 'ecart_type_de_l_ips_voie_pro']\n",
    ")"
   ]
  },
  {
   "cell_type": "code",
   "execution_count": 12,
   "metadata": {},
   "outputs": [
    {
     "data": {
      "text/plain": [
       "rentree_scolaire             object\n",
       "academie                     object\n",
       "code_du_departement          object\n",
       "departement                  object\n",
       "uai                          object\n",
       "nom_de_l_etablissment        object\n",
       "code_insee_de_la_commune     object\n",
       "nom_de_la_commune            object\n",
       "secteur                      object\n",
       "type_de_lycee                object\n",
       "ips_voie_gt                 float64\n",
       "ips_voie_pro                float64\n",
       "ips_ensemble_gt_pro         float64\n",
       "dtype: object"
      ]
     },
     "execution_count": 12,
     "metadata": {},
     "output_type": "execute_result"
    }
   ],
   "source": [
    "df_ips_2022.dtypes"
   ]
  },
  {
   "cell_type": "code",
   "execution_count": 13,
   "metadata": {},
   "outputs": [
    {
     "data": {
      "text/plain": [
       "rentree_scolaire             object\n",
       "academie                     object\n",
       "code_du_departement         float64\n",
       "departement                  object\n",
       "uai                          object\n",
       "nom_de_l_etablissment        object\n",
       "code_insee_de_la_commune    float64\n",
       "nom_de_la_commune            object\n",
       "secteur                      object\n",
       "type_de_lycee                object\n",
       "ips_voie_gt                 float64\n",
       "ips_voie_pro                float64\n",
       "ips_ensemble_gt_pro         float64\n",
       "dtype: object"
      ]
     },
     "execution_count": 13,
     "metadata": {},
     "output_type": "execute_result"
    }
   ],
   "source": [
    "df_ips_2016_2021.dtypes"
   ]
  },
  {
   "attachments": {},
   "cell_type": "markdown",
   "metadata": {},
   "source": [
    "Les variables ci-dessous sont converties en catégorie :\n",
    "* « code_du_departement » ;\n",
    "* « code_insee_de_la_commune » ;\n",
    "* « rentree_scolaire » ;\n",
    "* « academie » ;\n",
    "* « departement » ;\n",
    "* « uai » ;\n",
    "* « secteur » ;\n",
    "* « type_de_lycee »."
   ]
  },
  {
   "cell_type": "code",
   "execution_count": 14,
   "metadata": {},
   "outputs": [],
   "source": [
    "df_ips_2022 = df_ips_2022.astype(\n",
    "    {\n",
    "        'code_du_departement': 'category',\n",
    "        'code_insee_de_la_commune': 'category',\n",
    "        'rentree_scolaire': 'category',\n",
    "        'academie': 'category',\n",
    "        'departement': 'category',\n",
    "        'uai': 'category',\n",
    "        'secteur': 'category',\n",
    "        'type_de_lycee': 'category'\n",
    "    }\n",
    ")\n",
    "\n",
    "df_ips_2016_2021 = df_ips_2016_2021.astype(\n",
    "    {\n",
    "        'code_du_departement': 'category',\n",
    "        'code_insee_de_la_commune': 'category',\n",
    "        'rentree_scolaire': 'category',\n",
    "        'academie': 'category',\n",
    "        'departement': 'category',\n",
    "        'uai': 'category',\n",
    "        'secteur': 'category',\n",
    "        'type_de_lycee': 'category'\n",
    "    }\n",
    ")"
   ]
  },
  {
   "cell_type": "code",
   "execution_count": 15,
   "metadata": {},
   "outputs": [
    {
     "data": {
      "text/plain": [
       "rentree_scolaire            False\n",
       "academie                    False\n",
       "code_du_departement         False\n",
       "departement                 False\n",
       "uai                         False\n",
       "nom_de_l_etablissment       False\n",
       "code_insee_de_la_commune    False\n",
       "nom_de_la_commune           False\n",
       "secteur                     False\n",
       "type_de_lycee               False\n",
       "ips_voie_gt                  True\n",
       "ips_voie_pro                 True\n",
       "ips_ensemble_gt_pro         False\n",
       "dtype: bool"
      ]
     },
     "execution_count": 15,
     "metadata": {},
     "output_type": "execute_result"
    }
   ],
   "source": [
    "df_ips_2022.isna().max()"
   ]
  },
  {
   "attachments": {},
   "cell_type": "markdown",
   "metadata": {},
   "source": [
    "Il y a des valeurs manquantes dans les IPS car, par exemple, un lycée professionnel ne peut pas avoir de valeurs d'IPS correspondant à la voie générale et inversement."
   ]
  },
  {
   "cell_type": "code",
   "execution_count": 16,
   "metadata": {},
   "outputs": [
    {
     "data": {
      "text/plain": [
       "rentree_scolaire            False\n",
       "academie                    False\n",
       "code_du_departement          True\n",
       "departement                 False\n",
       "uai                         False\n",
       "nom_de_l_etablissment       False\n",
       "code_insee_de_la_commune     True\n",
       "nom_de_la_commune           False\n",
       "secteur                     False\n",
       "type_de_lycee               False\n",
       "ips_voie_gt                  True\n",
       "ips_voie_pro                 True\n",
       "ips_ensemble_gt_pro         False\n",
       "dtype: bool"
      ]
     },
     "execution_count": 16,
     "metadata": {},
     "output_type": "execute_result"
    }
   ],
   "source": [
    "df_ips_2016_2021.isna().max()"
   ]
  },
  {
   "attachments": {},
   "cell_type": "markdown",
   "metadata": {},
   "source": [
    "On constate de nouveau les valeurs manquantes des IPS, par contre on a 90 valeurs manquantes dans « code_du_departement » et « code_insee_de_la_commune »."
   ]
  },
  {
   "cell_type": "code",
   "execution_count": 17,
   "metadata": {},
   "outputs": [
    {
     "data": {
      "text/html": [
       "<div>\n",
       "<style scoped>\n",
       "    .dataframe tbody tr th:only-of-type {\n",
       "        vertical-align: middle;\n",
       "    }\n",
       "\n",
       "    .dataframe tbody tr th {\n",
       "        vertical-align: top;\n",
       "    }\n",
       "\n",
       "    .dataframe thead th {\n",
       "        text-align: right;\n",
       "    }\n",
       "</style>\n",
       "<table border=\"1\" class=\"dataframe\">\n",
       "  <thead>\n",
       "    <tr style=\"text-align: right;\">\n",
       "      <th></th>\n",
       "      <th>rentree_scolaire</th>\n",
       "      <th>academie</th>\n",
       "      <th>code_du_departement</th>\n",
       "      <th>departement</th>\n",
       "      <th>uai</th>\n",
       "      <th>nom_de_l_etablissment</th>\n",
       "      <th>code_insee_de_la_commune</th>\n",
       "      <th>nom_de_la_commune</th>\n",
       "      <th>secteur</th>\n",
       "      <th>type_de_lycee</th>\n",
       "      <th>ips_voie_gt</th>\n",
       "      <th>ips_voie_pro</th>\n",
       "      <th>ips_ensemble_gt_pro</th>\n",
       "    </tr>\n",
       "  </thead>\n",
       "  <tbody>\n",
       "    <tr>\n",
       "      <th>143</th>\n",
       "      <td>2018-2019</td>\n",
       "      <td>CORSE</td>\n",
       "      <td>NaN</td>\n",
       "      <td>CORSE-DU-SUD</td>\n",
       "      <td>6200001G</td>\n",
       "      <td>LYCEE GENERAL ET TECHNOLOGIQUE FESCH AJACCIO</td>\n",
       "      <td>NaN</td>\n",
       "      <td>AJACCIO</td>\n",
       "      <td>public</td>\n",
       "      <td>LEGT</td>\n",
       "      <td>115.7</td>\n",
       "      <td>NaN</td>\n",
       "      <td>115.7</td>\n",
       "    </tr>\n",
       "    <tr>\n",
       "      <th>910</th>\n",
       "      <td>2019-2020</td>\n",
       "      <td>CORSE</td>\n",
       "      <td>NaN</td>\n",
       "      <td>CORSE-DU-SUD</td>\n",
       "      <td>6200650M</td>\n",
       "      <td>INSTITUTION SAINT PAUL (LYCEE GENERAL PRIVE) A...</td>\n",
       "      <td>NaN</td>\n",
       "      <td>AJACCIO</td>\n",
       "      <td>privé sous contrat</td>\n",
       "      <td>LEGT</td>\n",
       "      <td>113.6</td>\n",
       "      <td>NaN</td>\n",
       "      <td>113.6</td>\n",
       "    </tr>\n",
       "    <tr>\n",
       "      <th>911</th>\n",
       "      <td>2019-2020</td>\n",
       "      <td>CORSE</td>\n",
       "      <td>NaN</td>\n",
       "      <td>HAUTE-CORSE</td>\n",
       "      <td>7200093N</td>\n",
       "      <td>LYCEE PROFESSIONNEL JEAN NICOLI BASTIA</td>\n",
       "      <td>NaN</td>\n",
       "      <td>BASTIA</td>\n",
       "      <td>public</td>\n",
       "      <td>LP</td>\n",
       "      <td>NaN</td>\n",
       "      <td>85.3</td>\n",
       "      <td>85.3</td>\n",
       "    </tr>\n",
       "  </tbody>\n",
       "</table>\n",
       "</div>"
      ],
      "text/plain": [
       "    rentree_scolaire academie code_du_departement   departement       uai  \\\n",
       "143        2018-2019    CORSE                 NaN  CORSE-DU-SUD  6200001G   \n",
       "910        2019-2020    CORSE                 NaN  CORSE-DU-SUD  6200650M   \n",
       "911        2019-2020    CORSE                 NaN   HAUTE-CORSE  7200093N   \n",
       "\n",
       "                                 nom_de_l_etablissment  \\\n",
       "143       LYCEE GENERAL ET TECHNOLOGIQUE FESCH AJACCIO   \n",
       "910  INSTITUTION SAINT PAUL (LYCEE GENERAL PRIVE) A...   \n",
       "911             LYCEE PROFESSIONNEL JEAN NICOLI BASTIA   \n",
       "\n",
       "    code_insee_de_la_commune nom_de_la_commune             secteur  \\\n",
       "143                      NaN           AJACCIO              public   \n",
       "910                      NaN           AJACCIO  privé sous contrat   \n",
       "911                      NaN            BASTIA              public   \n",
       "\n",
       "    type_de_lycee  ips_voie_gt  ips_voie_pro  ips_ensemble_gt_pro  \n",
       "143          LEGT        115.7           NaN                115.7  \n",
       "910          LEGT        113.6           NaN                113.6  \n",
       "911            LP          NaN          85.3                 85.3  "
      ]
     },
     "execution_count": 17,
     "metadata": {},
     "output_type": "execute_result"
    }
   ],
   "source": [
    "df_ips_2016_2021.loc[df_ips_2016_2021['code_du_departement'].isna()].head(3)"
   ]
  },
  {
   "cell_type": "code",
   "execution_count": 18,
   "metadata": {},
   "outputs": [
    {
     "data": {
      "text/plain": [
       "1"
      ]
     },
     "execution_count": 18,
     "metadata": {},
     "output_type": "execute_result"
    }
   ],
   "source": [
    "df_ips_2016_2021.loc[\n",
    "    df_ips_2016_2021['code_du_departement'].isna(), 'academie'].nunique()"
   ]
  },
  {
   "attachments": {},
   "cell_type": "markdown",
   "metadata": {},
   "source": [
    "Les valeurs sont manquantes uniquement pour l'académie de Corse. On crée un dictionnaire à partir de du fichier de 2022 et de la variables « uai », puis on utilise ce dernier pour compléter les valeurs dans le fichier de 2016 à 2022."
   ]
  },
  {
   "cell_type": "code",
   "execution_count": 19,
   "metadata": {},
   "outputs": [],
   "source": [
    "# Remplissage du code département\n",
    "temp_dict = dict(zip(df_ips_2022['uai'], df_ips_2022['code_du_departement']))\n",
    "df_ips_2016_2021['code_du_departement'] = (\n",
    "    df_ips_2016_2021['code_du_departement']\n",
    "    .astype('string')\n",
    "    .fillna(df_ips_2016_2021['uai'].map(temp_dict))\n",
    ")\n",
    "\n",
    "# Remplissage du code commune\n",
    "temp_dict = dict(zip(df_ips_2022['uai'], df_ips_2022['code_insee_de_la_commune']))\n",
    "df_ips_2016_2021['code_insee_de_la_commune'] = (\n",
    "    df_ips_2016_2021['code_insee_de_la_commune']\n",
    "    .astype('string')\n",
    "    .fillna(df_ips_2016_2021['uai'].map(temp_dict))\n",
    ")\n",
    "\n",
    "del temp_dict"
   ]
  },
  {
   "attachments": {},
   "cell_type": "markdown",
   "metadata": {},
   "source": [
    "La dernière étape avant de concaténer les deux tables est d'harmoniser le format des valeurs de « code_du_departement » et « code_insee_de_la_commune ». On souhaite obtenir :\n",
    "* le code département avec deux caractères, à l'exception des DROM qui en compte trois ;\n",
    "* le code de la commune avec cinq caractères.\n",
    "\n",
    "En fonction de la source des données, le traitement sera différents.\n",
    "|                          | `df_ips_2016_2021`                             | `df_ips_2022`          |\n",
    "|--------------------------|:----------------------------------------------:|:----------------------:|\n",
    "|`code_du_departement`     |Suppression décimale<br>Format deux caractères  |Format deux caractères  |\n",
    "|`code_insee_de_la_commune`|Format deux caractères                          |Ok                      |"
   ]
  },
  {
   "cell_type": "code",
   "execution_count": 20,
   "metadata": {},
   "outputs": [],
   "source": [
    "df_ips_2016_2021['code_du_departement'] = (\n",
    "    df_ips_2016_2021['code_du_departement']\n",
    "    .astype('string')\n",
    "    .str[:-2] # Suppression décimale\n",
    "    .apply(lambda x: '0' + x if len(x) == 1 else x) # Format 2 caractères\n",
    ")\n",
    "\n",
    "df_ips_2016_2021['code_insee_de_la_commune'] = (\n",
    "    df_ips_2016_2021['code_insee_de_la_commune']\n",
    "    .astype('string')\n",
    "    .str[:-2] # Suppression décimale\n",
    ")\n",
    "\n",
    "df_ips_2022['code_du_departement'] = (\n",
    "    df_ips_2022['code_du_departement']\n",
    "    .astype('string')\n",
    "    .apply(lambda x: x.strip()[1:] if x.startswith('0') else x) # Format 2 caractères\n",
    ")"
   ]
  },
  {
   "attachments": {},
   "cell_type": "markdown",
   "metadata": {},
   "source": [
    "On peut concaténer les deux *DataFrames* et exporter le résultat en CSV. Comme l'étude porte sur la France métropolitaine on supprime également les enregistrements liés aux DROM-COM."
   ]
  },
  {
   "cell_type": "code",
   "execution_count": 21,
   "metadata": {},
   "outputs": [],
   "source": [
    "# Concaténe les données\n",
    "df_temp = pd.concat([df_ips_2016_2021, df_ips_2022]).reset_index(drop=True)\n",
    "\n",
    "# Met en majuscule le premier mot de \"secteur\"\n",
    "df_temp['secteur'] = df_temp['secteur'].str.capitalize().astype('category')\n",
    "\n",
    "# Crée la liste des départements à supprimer\n",
    "liste_drom_com = list(\n",
    "    df_temp.loc[\n",
    "        (df_temp['code_du_departement'].str.startswith('9'))\n",
    "        & (df_temp['code_du_departement'].str.len() == 3)\n",
    "    ]['code_du_departement'].unique()\n",
    ")\n",
    "\n",
    "# Supprime les DROM-COM\n",
    "df_temp = df_temp.loc[~df_temp['code_du_departement'].isin(liste_drom_com)]\n",
    "\n",
    "# Exporte en CSV\n",
    "df_temp.to_csv('./datasets/ips-lycees-2016-2022-hors-drom-com.csv', index=False\n",
    "               , decimal=',' , quoting=1)"
   ]
  },
  {
   "cell_type": "code",
   "execution_count": 22,
   "metadata": {},
   "outputs": [],
   "source": [
    "del(df_ips_2016_2021, df_ips_2022, df_temp, liste_drom_com)"
   ]
  },
  {
   "attachments": {},
   "cell_type": "markdown",
   "metadata": {},
   "source": [
    "## Fichier annuaire"
   ]
  },
  {
   "cell_type": "code",
   "execution_count": 23,
   "metadata": {},
   "outputs": [],
   "source": [
    "df_annuaire = pd.read_csv('./datasets/raw/fr-en-annuaire-education.csv', sep=';', low_memory=False)"
   ]
  },
  {
   "cell_type": "code",
   "execution_count": 24,
   "metadata": {},
   "outputs": [
    {
     "data": {
      "text/html": [
       "<div>\n",
       "<style scoped>\n",
       "    .dataframe tbody tr th:only-of-type {\n",
       "        vertical-align: middle;\n",
       "    }\n",
       "\n",
       "    .dataframe tbody tr th {\n",
       "        vertical-align: top;\n",
       "    }\n",
       "\n",
       "    .dataframe thead th {\n",
       "        text-align: right;\n",
       "    }\n",
       "</style>\n",
       "<table border=\"1\" class=\"dataframe\">\n",
       "  <thead>\n",
       "    <tr style=\"text-align: right;\">\n",
       "      <th></th>\n",
       "      <th>Identifiant_de_l_etablissement</th>\n",
       "      <th>Nom_etablissement</th>\n",
       "      <th>Type_etablissement</th>\n",
       "      <th>Statut_public_prive</th>\n",
       "      <th>Adresse_1</th>\n",
       "      <th>Adresse_2</th>\n",
       "      <th>Adresse_3</th>\n",
       "      <th>Code postal</th>\n",
       "      <th>Code_commune</th>\n",
       "      <th>Nom_commune</th>\n",
       "      <th>...</th>\n",
       "      <th>rpi_concentre</th>\n",
       "      <th>rpi_disperse</th>\n",
       "      <th>code_nature</th>\n",
       "      <th>libelle_nature</th>\n",
       "      <th>Code_type_contrat_prive</th>\n",
       "      <th>PIAL</th>\n",
       "      <th>etablissement_mere</th>\n",
       "      <th>type_rattachement_etablissement_mere</th>\n",
       "      <th>code_bassin_formation</th>\n",
       "      <th>libelle_bassin_formation</th>\n",
       "    </tr>\n",
       "  </thead>\n",
       "  <tbody>\n",
       "    <tr>\n",
       "      <th>0</th>\n",
       "      <td>0641141T</td>\n",
       "      <td>ECOLE PRIMAIRE PUBLIQUE HERAURITZ</td>\n",
       "      <td>Ecole</td>\n",
       "      <td>Public</td>\n",
       "      <td>Quartier Herauritz</td>\n",
       "      <td>NaN</td>\n",
       "      <td>64480 USTARITZ</td>\n",
       "      <td>64480</td>\n",
       "      <td>64547</td>\n",
       "      <td>Ustaritz</td>\n",
       "      <td>...</td>\n",
       "      <td>0.0</td>\n",
       "      <td>NaN</td>\n",
       "      <td>151</td>\n",
       "      <td>ECOLE DE NIVEAU ELEMENTAIRE</td>\n",
       "      <td>99</td>\n",
       "      <td>0641392R</td>\n",
       "      <td>NaN</td>\n",
       "      <td>NaN</td>\n",
       "      <td>04503</td>\n",
       "      <td>PAYS BASQUE</td>\n",
       "    </tr>\n",
       "    <tr>\n",
       "      <th>1</th>\n",
       "      <td>0641147Z</td>\n",
       "      <td>ECOLE PRIMAIRE DU BOURG</td>\n",
       "      <td>Ecole</td>\n",
       "      <td>Public</td>\n",
       "      <td>BOURG</td>\n",
       "      <td>NaN</td>\n",
       "      <td>64130 VIODOS ABENSE DE BAS</td>\n",
       "      <td>64130</td>\n",
       "      <td>64559</td>\n",
       "      <td>Viodos-Abense-de-Bas</td>\n",
       "      <td>...</td>\n",
       "      <td>0.0</td>\n",
       "      <td>NaN</td>\n",
       "      <td>151</td>\n",
       "      <td>ECOLE DE NIVEAU ELEMENTAIRE</td>\n",
       "      <td>99</td>\n",
       "      <td>0640039V</td>\n",
       "      <td>NaN</td>\n",
       "      <td>NaN</td>\n",
       "      <td>NaN</td>\n",
       "      <td>NaN</td>\n",
       "    </tr>\n",
       "    <tr>\n",
       "      <th>2</th>\n",
       "      <td>0641170Z</td>\n",
       "      <td>ECOLE ELEMENTAIRE PUBLIQUE</td>\n",
       "      <td>Ecole</td>\n",
       "      <td>Public</td>\n",
       "      <td>Rue de l'Ardoisière</td>\n",
       "      <td>NaN</td>\n",
       "      <td>64490 BEDOUS</td>\n",
       "      <td>64490</td>\n",
       "      <td>64104</td>\n",
       "      <td>Bedous</td>\n",
       "      <td>...</td>\n",
       "      <td>0.0</td>\n",
       "      <td>064411</td>\n",
       "      <td>151</td>\n",
       "      <td>ECOLE DE NIVEAU ELEMENTAIRE</td>\n",
       "      <td>99</td>\n",
       "      <td>0640016V</td>\n",
       "      <td>NaN</td>\n",
       "      <td>NaN</td>\n",
       "      <td>04502</td>\n",
       "      <td>CENTRE</td>\n",
       "    </tr>\n",
       "  </tbody>\n",
       "</table>\n",
       "<p>3 rows × 69 columns</p>\n",
       "</div>"
      ],
      "text/plain": [
       "  Identifiant_de_l_etablissement                  Nom_etablissement  \\\n",
       "0                       0641141T  ECOLE PRIMAIRE PUBLIQUE HERAURITZ   \n",
       "1                       0641147Z            ECOLE PRIMAIRE DU BOURG   \n",
       "2                       0641170Z         ECOLE ELEMENTAIRE PUBLIQUE   \n",
       "\n",
       "  Type_etablissement Statut_public_prive            Adresse_1 Adresse_2  \\\n",
       "0              Ecole              Public   Quartier Herauritz       NaN   \n",
       "1              Ecole              Public                BOURG       NaN   \n",
       "2              Ecole              Public  Rue de l'Ardoisière       NaN   \n",
       "\n",
       "                    Adresse_3  Code postal Code_commune           Nom_commune  \\\n",
       "0              64480 USTARITZ        64480        64547              Ustaritz   \n",
       "1  64130 VIODOS ABENSE DE BAS        64130        64559  Viodos-Abense-de-Bas   \n",
       "2                64490 BEDOUS        64490        64104                Bedous   \n",
       "\n",
       "   ... rpi_concentre  rpi_disperse  code_nature               libelle_nature  \\\n",
       "0  ...           0.0           NaN          151  ECOLE DE NIVEAU ELEMENTAIRE   \n",
       "1  ...           0.0           NaN          151  ECOLE DE NIVEAU ELEMENTAIRE   \n",
       "2  ...           0.0        064411          151  ECOLE DE NIVEAU ELEMENTAIRE   \n",
       "\n",
       "   Code_type_contrat_prive      PIAL  etablissement_mere  \\\n",
       "0                       99  0641392R                 NaN   \n",
       "1                       99  0640039V                 NaN   \n",
       "2                       99  0640016V                 NaN   \n",
       "\n",
       "   type_rattachement_etablissement_mere code_bassin_formation  \\\n",
       "0                                   NaN                 04503   \n",
       "1                                   NaN                   NaN   \n",
       "2                                   NaN                 04502   \n",
       "\n",
       "  libelle_bassin_formation  \n",
       "0              PAYS BASQUE  \n",
       "1                      NaN  \n",
       "2                   CENTRE  \n",
       "\n",
       "[3 rows x 69 columns]"
      ]
     },
     "execution_count": 24,
     "metadata": {},
     "output_type": "execute_result"
    }
   ],
   "source": [
    "df_annuaire.head(3)"
   ]
  },
  {
   "cell_type": "code",
   "execution_count": 25,
   "metadata": {},
   "outputs": [
    {
     "data": {
      "text/plain": [
       "Index(['Identifiant_de_l_etablissement', 'Nom_etablissement',\n",
       "       'Type_etablissement', 'Statut_public_prive', 'Adresse_1', 'Adresse_2',\n",
       "       'Adresse_3', 'Code postal', 'Code_commune', 'Nom_commune',\n",
       "       'Code_departement', 'Code_academie', 'Code_region', 'Ecole_maternelle',\n",
       "       'Ecole_elementaire', 'Voie_generale', 'Voie_technologique',\n",
       "       'Voie_professionnelle', 'Telephone', 'Fax', 'Web', 'Mail',\n",
       "       'Restauration', 'Hebergement', 'ULIS', 'Apprentissage', 'Segpa',\n",
       "       'Section_arts', 'Section_cinema', 'Section_theatre', 'Section_sport',\n",
       "       'Section_internationale', 'Section_europeenne', 'Lycee_Agricole',\n",
       "       'Lycee_militaire', 'Lycee_des_metiers', 'Post_BAC',\n",
       "       'Appartenance_Education_Prioritaire', 'GRETA', 'SIREN_SIRET',\n",
       "       'Nombre_d_eleves', 'Fiche_onisep', 'position', 'Type_contrat_prive',\n",
       "       'Libelle_departement', 'Libelle_academie', 'Libelle_region',\n",
       "       'coordonnee_X', 'coordonnee_Y', 'epsg', 'nom_circonscription',\n",
       "       'latitude', 'longitude', 'precision_localisation', 'date_ouverture',\n",
       "       'date_maj_ligne', 'etat', 'ministere_tutelle',\n",
       "       'etablissement_multi_lignes', 'rpi_concentre', 'rpi_disperse',\n",
       "       'code_nature', 'libelle_nature', 'Code_type_contrat_prive', 'PIAL',\n",
       "       'etablissement_mere', 'type_rattachement_etablissement_mere',\n",
       "       'code_bassin_formation', 'libelle_bassin_formation'],\n",
       "      dtype='object')"
      ]
     },
     "execution_count": 25,
     "metadata": {},
     "output_type": "execute_result"
    }
   ],
   "source": [
    "df_annuaire.dtypes.to_frame().index"
   ]
  },
  {
   "attachments": {},
   "cell_type": "markdown",
   "metadata": {},
   "source": [
    "On commence par nettoyer les noms des variables."
   ]
  },
  {
   "cell_type": "code",
   "execution_count": 26,
   "metadata": {},
   "outputs": [],
   "source": [
    "snake_case(df_annuaire)"
   ]
  },
  {
   "cell_type": "code",
   "execution_count": 27,
   "metadata": {},
   "outputs": [
    {
     "name": "stdout",
     "output_type": "stream",
     "text": [
      "Dimensions du DataFrame : (68962, 69)\n"
     ]
    }
   ],
   "source": [
    "print(f'Dimensions du DataFrame : {df_annuaire.shape}')"
   ]
  },
  {
   "attachments": {},
   "cell_type": "markdown",
   "metadata": {},
   "source": [
    "Le fichier compte de nombreux enregistrements, hors, dans cet annuaire, plusieurs types d'établissements sont présents mais seuls les lycées nous intéressent."
   ]
  },
  {
   "cell_type": "code",
   "execution_count": 28,
   "metadata": {},
   "outputs": [
    {
     "data": {
      "text/plain": [
       "Ecole                         49973\n",
       "Collège                        7649\n",
       "Lycée                          5746\n",
       "Médico-social                  2274\n",
       "Service Administratif          2155\n",
       "Information et orientation      426\n",
       "Autre                           375\n",
       "EREA                             79\n",
       "Name: type_etablissement, dtype: int64"
      ]
     },
     "execution_count": 28,
     "metadata": {},
     "output_type": "execute_result"
    }
   ],
   "source": [
    "df_annuaire['type_etablissement'].value_counts()"
   ]
  },
  {
   "attachments": {},
   "cell_type": "markdown",
   "metadata": {},
   "source": [
    "On ne garde que les lycées."
   ]
  },
  {
   "cell_type": "code",
   "execution_count": 29,
   "metadata": {},
   "outputs": [],
   "source": [
    "df_annuaire = df_annuaire.loc[df_annuaire['type_etablissement'] == 'Lycée'].reset_index()"
   ]
  },
  {
   "attachments": {},
   "cell_type": "markdown",
   "metadata": {},
   "source": [
    "De nombreuses variables sont également inutiles pour les analyses à venir. L'un des intérêts de cet annuaire est de savoir si un établissement appartient à une zone d'éducation prioritaire ou non. Les plupart des autres variables vont donc être inutiles."
   ]
  },
  {
   "cell_type": "code",
   "execution_count": 30,
   "metadata": {},
   "outputs": [
    {
     "data": {
      "text/html": [
       "<div>\n",
       "<style scoped>\n",
       "    .dataframe tbody tr th:only-of-type {\n",
       "        vertical-align: middle;\n",
       "    }\n",
       "\n",
       "    .dataframe tbody tr th {\n",
       "        vertical-align: top;\n",
       "    }\n",
       "\n",
       "    .dataframe thead th {\n",
       "        text-align: right;\n",
       "    }\n",
       "</style>\n",
       "<table border=\"1\" class=\"dataframe\">\n",
       "  <thead>\n",
       "    <tr style=\"text-align: right;\">\n",
       "      <th></th>\n",
       "      <th>index</th>\n",
       "      <th>identifiant_de_l_etablissement</th>\n",
       "      <th>nom_etablissement</th>\n",
       "      <th>type_etablissement</th>\n",
       "      <th>statut_public_prive</th>\n",
       "      <th>adresse_1</th>\n",
       "      <th>adresse_2</th>\n",
       "      <th>adresse_3</th>\n",
       "      <th>code_postal</th>\n",
       "      <th>code_commune</th>\n",
       "      <th>...</th>\n",
       "      <th>rpi_concentre</th>\n",
       "      <th>rpi_disperse</th>\n",
       "      <th>code_nature</th>\n",
       "      <th>libelle_nature</th>\n",
       "      <th>code_type_contrat_prive</th>\n",
       "      <th>pial</th>\n",
       "      <th>etablissement_mere</th>\n",
       "      <th>type_rattachement_etablissement_mere</th>\n",
       "      <th>code_bassin_formation</th>\n",
       "      <th>libelle_bassin_formation</th>\n",
       "    </tr>\n",
       "  </thead>\n",
       "  <tbody>\n",
       "    <tr>\n",
       "      <th>0</th>\n",
       "      <td>539</td>\n",
       "      <td>0741285V</td>\n",
       "      <td>Lycée professionnel privé ECA</td>\n",
       "      <td>Lycée</td>\n",
       "      <td>Privé</td>\n",
       "      <td>2 rue des Carillons</td>\n",
       "      <td>CS 70233</td>\n",
       "      <td>NaN</td>\n",
       "      <td>74942</td>\n",
       "      <td>74010</td>\n",
       "      <td>...</td>\n",
       "      <td>0.0</td>\n",
       "      <td>NaN</td>\n",
       "      <td>320</td>\n",
       "      <td>LYCEE PROFESSIONNEL</td>\n",
       "      <td>31</td>\n",
       "      <td>0740005D</td>\n",
       "      <td>NaN</td>\n",
       "      <td>NaN</td>\n",
       "      <td>08745</td>\n",
       "      <td>ALBANAIS ANNECIEN</td>\n",
       "    </tr>\n",
       "    <tr>\n",
       "      <th>1</th>\n",
       "      <td>540</td>\n",
       "      <td>0382893N</td>\n",
       "      <td>Lycée professionnel privé Jean-Marie Vianney</td>\n",
       "      <td>Lycée</td>\n",
       "      <td>Privé</td>\n",
       "      <td>22 avenue Hector Berlioz</td>\n",
       "      <td>BP 20</td>\n",
       "      <td>NaN</td>\n",
       "      <td>38260</td>\n",
       "      <td>38130</td>\n",
       "      <td>...</td>\n",
       "      <td>0.0</td>\n",
       "      <td>NaN</td>\n",
       "      <td>320</td>\n",
       "      <td>LYCEE PROFESSIONNEL</td>\n",
       "      <td>31</td>\n",
       "      <td>0382147C</td>\n",
       "      <td>NaN</td>\n",
       "      <td>NaN</td>\n",
       "      <td>08387</td>\n",
       "      <td>ISERE RHODANIENNE</td>\n",
       "    </tr>\n",
       "    <tr>\n",
       "      <th>2</th>\n",
       "      <td>541</td>\n",
       "      <td>0731040J</td>\n",
       "      <td>Lycée général privé Tomer Debora</td>\n",
       "      <td>Lycée</td>\n",
       "      <td>Privé</td>\n",
       "      <td>9 chemin de Saint-Pol</td>\n",
       "      <td>NaN</td>\n",
       "      <td>NaN</td>\n",
       "      <td>73100</td>\n",
       "      <td>73008</td>\n",
       "      <td>...</td>\n",
       "      <td>0.0</td>\n",
       "      <td>NaN</td>\n",
       "      <td>302</td>\n",
       "      <td>LYCEE D ENSEIGNEMENT GENERAL</td>\n",
       "      <td>30</td>\n",
       "      <td>NaN</td>\n",
       "      <td>NaN</td>\n",
       "      <td>NaN</td>\n",
       "      <td>08735</td>\n",
       "      <td>CHAMBERY</td>\n",
       "    </tr>\n",
       "  </tbody>\n",
       "</table>\n",
       "<p>3 rows × 70 columns</p>\n",
       "</div>"
      ],
      "text/plain": [
       "   index identifiant_de_l_etablissement  \\\n",
       "0    539                       0741285V   \n",
       "1    540                       0382893N   \n",
       "2    541                       0731040J   \n",
       "\n",
       "                              nom_etablissement type_etablissement  \\\n",
       "0                 Lycée professionnel privé ECA              Lycée   \n",
       "1  Lycée professionnel privé Jean-Marie Vianney              Lycée   \n",
       "2              Lycée général privé Tomer Debora              Lycée   \n",
       "\n",
       "  statut_public_prive                 adresse_1 adresse_2 adresse_3  \\\n",
       "0               Privé       2 rue des Carillons  CS 70233       NaN   \n",
       "1               Privé  22 avenue Hector Berlioz     BP 20       NaN   \n",
       "2               Privé     9 chemin de Saint-Pol       NaN       NaN   \n",
       "\n",
       "   code_postal code_commune  ... rpi_concentre rpi_disperse  code_nature  \\\n",
       "0        74942        74010  ...           0.0          NaN          320   \n",
       "1        38260        38130  ...           0.0          NaN          320   \n",
       "2        73100        73008  ...           0.0          NaN          302   \n",
       "\n",
       "                 libelle_nature  code_type_contrat_prive      pial  \\\n",
       "0           LYCEE PROFESSIONNEL                       31  0740005D   \n",
       "1           LYCEE PROFESSIONNEL                       31  0382147C   \n",
       "2  LYCEE D ENSEIGNEMENT GENERAL                       30       NaN   \n",
       "\n",
       "   etablissement_mere  type_rattachement_etablissement_mere  \\\n",
       "0                 NaN                                   NaN   \n",
       "1                 NaN                                   NaN   \n",
       "2                 NaN                                   NaN   \n",
       "\n",
       "   code_bassin_formation libelle_bassin_formation  \n",
       "0                  08745        ALBANAIS ANNECIEN  \n",
       "1                  08387        ISERE RHODANIENNE  \n",
       "2                  08735                 CHAMBERY  \n",
       "\n",
       "[3 rows x 70 columns]"
      ]
     },
     "execution_count": 30,
     "metadata": {},
     "output_type": "execute_result"
    }
   ],
   "source": [
    "df_annuaire.head(3)"
   ]
  },
  {
   "cell_type": "code",
   "execution_count": 31,
   "metadata": {},
   "outputs": [],
   "source": [
    "df_annuaire = df_annuaire[\n",
    "    [\n",
    "        'identifiant_de_l_etablissement',\n",
    "        'nombre_d_eleves',\n",
    "        'code_departement',\n",
    "        'code_academie',\n",
    "        'libelle_academie',\n",
    "        'code_commune',\n",
    "        'nom_commune',\n",
    "        'restauration',\n",
    "        'hebergement',\n",
    "        'ulis',\n",
    "        'apprentissage',\n",
    "        'segpa',\n",
    "        'section_arts',\n",
    "        'section_cinema',\n",
    "        'section_theatre',\n",
    "        'section_sport',\n",
    "        'section_internationale',\n",
    "        'section_europeenne',\n",
    "        'lycee_agricole',\n",
    "        'lycee_militaire',\n",
    "        'lycee_des_metiers',\n",
    "        'post_bac',\n",
    "        'etablissement_multi_lignes'\n",
    "    ]\n",
    "]"
   ]
  },
  {
   "cell_type": "code",
   "execution_count": 32,
   "metadata": {},
   "outputs": [],
   "source": [
    "df_annuaire = df_annuaire.rename(\n",
    "    columns={'identifiant_de_l_etablissement': 'uai'})"
   ]
  },
  {
   "attachments": {},
   "cell_type": "markdown",
   "metadata": {},
   "source": [
    "Certains établissements sont multi-lignes. Voyons à quoi cela correspond."
   ]
  },
  {
   "cell_type": "code",
   "execution_count": 33,
   "metadata": {},
   "outputs": [
    {
     "data": {
      "text/plain": [
       "0    5610\n",
       "1     136\n",
       "Name: etablissement_multi_lignes, dtype: int64"
      ]
     },
     "execution_count": 33,
     "metadata": {},
     "output_type": "execute_result"
    }
   ],
   "source": [
    "df_annuaire['etablissement_multi_lignes'].value_counts()"
   ]
  },
  {
   "cell_type": "code",
   "execution_count": 34,
   "metadata": {},
   "outputs": [
    {
     "data": {
      "text/plain": [
       "0580071M    3\n",
       "0570279U    3\n",
       "0690521S    3\n",
       "0492015Z    2\n",
       "0690574Z    2\n",
       "           ..\n",
       "9830418M    1\n",
       "9870003P    1\n",
       "9840265R    1\n",
       "0342266D    1\n",
       "9870025N    1\n",
       "Name: uai, Length: 74, dtype: int64"
      ]
     },
     "execution_count": 34,
     "metadata": {},
     "output_type": "execute_result"
    }
   ],
   "source": [
    "df_annuaire.loc[df_annuaire['etablissement_multi_lignes'] == 1]['uai'].value_counts()"
   ]
  },
  {
   "cell_type": "code",
   "execution_count": 35,
   "metadata": {},
   "outputs": [
    {
     "data": {
      "text/html": [
       "<div>\n",
       "<style scoped>\n",
       "    .dataframe tbody tr th:only-of-type {\n",
       "        vertical-align: middle;\n",
       "    }\n",
       "\n",
       "    .dataframe tbody tr th {\n",
       "        vertical-align: top;\n",
       "    }\n",
       "\n",
       "    .dataframe thead th {\n",
       "        text-align: right;\n",
       "    }\n",
       "</style>\n",
       "<table border=\"1\" class=\"dataframe\">\n",
       "  <thead>\n",
       "    <tr style=\"text-align: right;\">\n",
       "      <th></th>\n",
       "      <th>uai</th>\n",
       "      <th>nombre_d_eleves</th>\n",
       "      <th>code_departement</th>\n",
       "      <th>code_academie</th>\n",
       "      <th>libelle_academie</th>\n",
       "      <th>code_commune</th>\n",
       "      <th>nom_commune</th>\n",
       "      <th>restauration</th>\n",
       "      <th>hebergement</th>\n",
       "      <th>ulis</th>\n",
       "      <th>...</th>\n",
       "      <th>section_cinema</th>\n",
       "      <th>section_theatre</th>\n",
       "      <th>section_sport</th>\n",
       "      <th>section_internationale</th>\n",
       "      <th>section_europeenne</th>\n",
       "      <th>lycee_agricole</th>\n",
       "      <th>lycee_militaire</th>\n",
       "      <th>lycee_des_metiers</th>\n",
       "      <th>post_bac</th>\n",
       "      <th>etablissement_multi_lignes</th>\n",
       "    </tr>\n",
       "  </thead>\n",
       "  <tbody>\n",
       "    <tr>\n",
       "      <th>803</th>\n",
       "      <td>0580071M</td>\n",
       "      <td>660.0</td>\n",
       "      <td>058</td>\n",
       "      <td>7</td>\n",
       "      <td>Dijon</td>\n",
       "      <td>58194</td>\n",
       "      <td>Nevers</td>\n",
       "      <td>1.0</td>\n",
       "      <td>1.0</td>\n",
       "      <td>1.0</td>\n",
       "      <td>...</td>\n",
       "      <td>0.0</td>\n",
       "      <td>0.0</td>\n",
       "      <td>0.0</td>\n",
       "      <td>0.0</td>\n",
       "      <td>0.0</td>\n",
       "      <td>0.0</td>\n",
       "      <td>0.0</td>\n",
       "      <td>0.0</td>\n",
       "      <td>0.0</td>\n",
       "      <td>1</td>\n",
       "    </tr>\n",
       "    <tr>\n",
       "      <th>1828</th>\n",
       "      <td>0580071M</td>\n",
       "      <td>660.0</td>\n",
       "      <td>058</td>\n",
       "      <td>7</td>\n",
       "      <td>Dijon</td>\n",
       "      <td>58194</td>\n",
       "      <td>Nevers</td>\n",
       "      <td>1.0</td>\n",
       "      <td>1.0</td>\n",
       "      <td>1.0</td>\n",
       "      <td>...</td>\n",
       "      <td>0.0</td>\n",
       "      <td>0.0</td>\n",
       "      <td>0.0</td>\n",
       "      <td>0.0</td>\n",
       "      <td>1.0</td>\n",
       "      <td>0.0</td>\n",
       "      <td>0.0</td>\n",
       "      <td>0.0</td>\n",
       "      <td>0.0</td>\n",
       "      <td>1</td>\n",
       "    </tr>\n",
       "    <tr>\n",
       "      <th>5239</th>\n",
       "      <td>0580071M</td>\n",
       "      <td>660.0</td>\n",
       "      <td>058</td>\n",
       "      <td>7</td>\n",
       "      <td>Dijon</td>\n",
       "      <td>58194</td>\n",
       "      <td>Nevers</td>\n",
       "      <td>1.0</td>\n",
       "      <td>1.0</td>\n",
       "      <td>1.0</td>\n",
       "      <td>...</td>\n",
       "      <td>0.0</td>\n",
       "      <td>0.0</td>\n",
       "      <td>0.0</td>\n",
       "      <td>0.0</td>\n",
       "      <td>0.0</td>\n",
       "      <td>0.0</td>\n",
       "      <td>0.0</td>\n",
       "      <td>0.0</td>\n",
       "      <td>1.0</td>\n",
       "      <td>1</td>\n",
       "    </tr>\n",
       "  </tbody>\n",
       "</table>\n",
       "<p>3 rows × 23 columns</p>\n",
       "</div>"
      ],
      "text/plain": [
       "           uai  nombre_d_eleves code_departement  code_academie  \\\n",
       "803   0580071M            660.0              058              7   \n",
       "1828  0580071M            660.0              058              7   \n",
       "5239  0580071M            660.0              058              7   \n",
       "\n",
       "     libelle_academie code_commune nom_commune  restauration  hebergement  \\\n",
       "803             Dijon        58194      Nevers           1.0          1.0   \n",
       "1828            Dijon        58194      Nevers           1.0          1.0   \n",
       "5239            Dijon        58194      Nevers           1.0          1.0   \n",
       "\n",
       "      ulis  ...  section_cinema  section_theatre  section_sport  \\\n",
       "803    1.0  ...             0.0              0.0            0.0   \n",
       "1828   1.0  ...             0.0              0.0            0.0   \n",
       "5239   1.0  ...             0.0              0.0            0.0   \n",
       "\n",
       "      section_internationale  section_europeenne  lycee_agricole  \\\n",
       "803                      0.0                 0.0             0.0   \n",
       "1828                     0.0                 1.0             0.0   \n",
       "5239                     0.0                 0.0             0.0   \n",
       "\n",
       "      lycee_militaire  lycee_des_metiers  post_bac  etablissement_multi_lignes  \n",
       "803               0.0                0.0       0.0                           1  \n",
       "1828              0.0                0.0       0.0                           1  \n",
       "5239              0.0                0.0       1.0                           1  \n",
       "\n",
       "[3 rows x 23 columns]"
      ]
     },
     "execution_count": 35,
     "metadata": {},
     "output_type": "execute_result"
    }
   ],
   "source": [
    "df_annuaire.loc[df_annuaire['uai'] == '0580071M']"
   ]
  },
  {
   "attachments": {},
   "cell_type": "markdown",
   "metadata": {},
   "source": [
    "Les établissements sont dupliqués lorsqu'ils proposent des « services » supplémentaires. Pour supprimer les doublons, on groupe par UAI et, comme les services sont indiqués par « 0 » ou « 1 », on peut faire une somme pour garder l'information sur la ligne regroupée."
   ]
  },
  {
   "cell_type": "code",
   "execution_count": 36,
   "metadata": {},
   "outputs": [],
   "source": [
    "df_annuaire = df_annuaire.groupby('uai').agg(\n",
    "    {\n",
    "        'nombre_d_eleves': 'first',\n",
    "        'code_departement': 'first',\n",
    "        'code_academie': 'first',\n",
    "        'libelle_academie': 'first',\n",
    "        'code_commune': 'first',\n",
    "        'nom_commune': 'first',\n",
    "        'restauration': 'max',\n",
    "        'hebergement': 'max',\n",
    "        'ulis': 'max',\n",
    "        'apprentissage': 'max',\n",
    "        'segpa': 'max',\n",
    "        'section_arts': 'max',\n",
    "        'section_cinema': 'max',\n",
    "        'section_theatre': 'max',\n",
    "        'section_sport': 'max',\n",
    "        'section_internationale': 'max',\n",
    "        'section_europeenne': 'max',\n",
    "        'lycee_agricole': 'max',\n",
    "        'lycee_militaire': 'max',\n",
    "        'lycee_des_metiers': 'max',\n",
    "        'post_bac': 'max',\n",
    "        'etablissement_multi_lignes': 'first'\n",
    "    }\n",
    ").reset_index()"
   ]
  },
  {
   "attachments": {},
   "cell_type": "markdown",
   "metadata": {},
   "source": [
    "On supprime la variable « etablissement_multi_lignes » devenue inutile."
   ]
  },
  {
   "cell_type": "code",
   "execution_count": 37,
   "metadata": {},
   "outputs": [],
   "source": [
    "df_annuaire = df_annuaire.drop(columns='etablissement_multi_lignes')"
   ]
  },
  {
   "attachments": {},
   "cell_type": "markdown",
   "metadata": {},
   "source": [
    "On enlève les DROM-COM."
   ]
  },
  {
   "cell_type": "code",
   "execution_count": 38,
   "metadata": {},
   "outputs": [],
   "source": [
    "# Crée la liste des départements à supprimer\n",
    "liste_drom_com = list(\n",
    "    df_annuaire.loc[\n",
    "        (df_annuaire['code_departement'].str.startswith('9'))\n",
    "        & (df_annuaire['code_departement'].str.len() == 3)\n",
    "    ]['code_departement'].unique()\n",
    ")\n",
    "\n",
    "# Supprime les DROM-COM\n",
    "df_annuaire = df_annuaire.loc[\n",
    "    ~df_annuaire['code_departement'].isin(liste_drom_com)]"
   ]
  },
  {
   "cell_type": "code",
   "execution_count": 39,
   "metadata": {},
   "outputs": [
    {
     "data": {
      "text/plain": [
       "uai                          0\n",
       "nombre_d_eleves           1915\n",
       "code_departement             0\n",
       "code_academie                0\n",
       "libelle_academie             0\n",
       "code_commune                 0\n",
       "nom_commune                  0\n",
       "restauration                20\n",
       "hebergement                 20\n",
       "ulis                        20\n",
       "apprentissage              979\n",
       "segpa                       20\n",
       "section_arts               979\n",
       "section_cinema             979\n",
       "section_theatre            979\n",
       "section_sport              979\n",
       "section_internationale     979\n",
       "section_europeenne         979\n",
       "lycee_agricole             979\n",
       "lycee_militaire            979\n",
       "lycee_des_metiers           20\n",
       "post_bac                   979\n",
       "dtype: int64"
      ]
     },
     "execution_count": 39,
     "metadata": {},
     "output_type": "execute_result"
    }
   ],
   "source": [
    "df_annuaire.isna().sum()"
   ]
  },
  {
   "cell_type": "code",
   "execution_count": 40,
   "metadata": {},
   "outputs": [
    {
     "name": "stdout",
     "output_type": "stream",
     "text": [
      "35.7% des enregistrements n'ont pas de valeur d'effectifs.\n"
     ]
    }
   ],
   "source": [
    "taux_na = df_annuaire['nombre_d_eleves'].isna().mean()\n",
    "print(f'{taux_na:.1%} des enregistrements n\\'ont pas de valeur d\\'effectifs.')\n",
    "del taux_na"
   ]
  },
  {
   "attachments": {},
   "cell_type": "markdown",
   "metadata": {},
   "source": [
    "Le nombre d'établissements avec un effectif inconnu est trop important. On ne pourra pas mener d'analyses relatives à cette variables, on peut la supprimer."
   ]
  },
  {
   "cell_type": "code",
   "execution_count": 41,
   "metadata": {},
   "outputs": [],
   "source": [
    "df_annuaire = df_annuaire.drop(columns='nombre_d_eleves')"
   ]
  },
  {
   "attachments": {},
   "cell_type": "markdown",
   "metadata": {},
   "source": [
    "Pour les valeurs manquantes qui concernent les  informations d'hébergement, etc., on considère que si la valeur est manquante, on la met à 0."
   ]
  },
  {
   "cell_type": "code",
   "execution_count": 42,
   "metadata": {},
   "outputs": [],
   "source": [
    "df_annuaire = df_annuaire.fillna(0)"
   ]
  },
  {
   "cell_type": "code",
   "execution_count": 43,
   "metadata": {},
   "outputs": [
    {
     "data": {
      "text/plain": [
       "uai                        object\n",
       "code_departement           object\n",
       "code_academie               int64\n",
       "libelle_academie           object\n",
       "code_commune               object\n",
       "nom_commune                object\n",
       "restauration              float64\n",
       "hebergement               float64\n",
       "ulis                      float64\n",
       "apprentissage             float64\n",
       "segpa                     float64\n",
       "section_arts              float64\n",
       "section_cinema            float64\n",
       "section_theatre           float64\n",
       "section_sport             float64\n",
       "section_internationale    float64\n",
       "section_europeenne        float64\n",
       "lycee_agricole            float64\n",
       "lycee_militaire           float64\n",
       "lycee_des_metiers         float64\n",
       "post_bac                  float64\n",
       "dtype: object"
      ]
     },
     "execution_count": 43,
     "metadata": {},
     "output_type": "execute_result"
    }
   ],
   "source": [
    "df_annuaire.dtypes"
   ]
  },
  {
   "attachments": {},
   "cell_type": "markdown",
   "metadata": {},
   "source": [
    "On change « uai », « code_departement », « code_academie », « libelle_academie » et « code_commune » en catégorie."
   ]
  },
  {
   "cell_type": "code",
   "execution_count": 44,
   "metadata": {},
   "outputs": [],
   "source": [
    "df_annuaire = df_annuaire.astype(\n",
    "    {\n",
    "        'uai': 'category',\n",
    "        'code_departement': 'category',\n",
    "        'code_academie': 'category',\n",
    "        'libelle_academie': 'category',\n",
    "        'code_commune': 'category'\n",
    "    }\n",
    ")"
   ]
  },
  {
   "attachments": {},
   "cell_type": "markdown",
   "metadata": {},
   "source": [
    "On formate le code département à 2 caractères."
   ]
  },
  {
   "cell_type": "code",
   "execution_count": 45,
   "metadata": {},
   "outputs": [],
   "source": [
    "df_annuaire['code_departement'] = (\n",
    "    df_annuaire['code_departement']\n",
    "    .astype('string')\n",
    "    .apply(lambda x: x.strip()[1:] if x.startswith('0') else x) # Format 2 caractères\n",
    ")"
   ]
  },
  {
   "attachments": {},
   "cell_type": "markdown",
   "metadata": {},
   "source": [
    "On exporte en CSV."
   ]
  },
  {
   "cell_type": "code",
   "execution_count": 46,
   "metadata": {},
   "outputs": [],
   "source": [
    "df_annuaire.to_csv('./datasets/annuaire-lycees-hors-drom-com.csv', index=False\n",
    "               , decimal=',' , quoting=1)"
   ]
  },
  {
   "cell_type": "code",
   "execution_count": 47,
   "metadata": {},
   "outputs": [],
   "source": [
    "del(liste_drom_com, df_annuaire)"
   ]
  },
  {
   "attachments": {},
   "cell_type": "markdown",
   "metadata": {},
   "source": [
    "### Fichiers des indicateurs de résultats"
   ]
  },
  {
   "cell_type": "code",
   "execution_count": 48,
   "metadata": {},
   "outputs": [],
   "source": [
    "df_indicateurs_gt = pd.read_csv(\n",
    "    './datasets/raw/fr-en-indicateurs-resultat-lycees-generaux-technologiques-2012-2022.csv'\n",
    "    , sep=';', low_memory=False)\n",
    "df_indicateurs_pro = pd.read_csv(\n",
    "    './datasets/raw/fr-en-indicateurs-resultat-lycees-professionnels-2012-2022.csv'\n",
    "    , sep=';', low_memory=False)"
   ]
  },
  {
   "cell_type": "code",
   "execution_count": 49,
   "metadata": {},
   "outputs": [
    {
     "data": {
      "text/html": [
       "<div>\n",
       "<style scoped>\n",
       "    .dataframe tbody tr th:only-of-type {\n",
       "        vertical-align: middle;\n",
       "    }\n",
       "\n",
       "    .dataframe tbody tr th {\n",
       "        vertical-align: top;\n",
       "    }\n",
       "\n",
       "    .dataframe thead th {\n",
       "        text-align: right;\n",
       "    }\n",
       "</style>\n",
       "<table border=\"1\" class=\"dataframe\">\n",
       "  <thead>\n",
       "    <tr style=\"text-align: right;\">\n",
       "      <th></th>\n",
       "      <th>Etablissement</th>\n",
       "      <th>Annee</th>\n",
       "      <th>Ville</th>\n",
       "      <th>UAI</th>\n",
       "      <th>Code commune</th>\n",
       "      <th>Academie</th>\n",
       "      <th>Departement</th>\n",
       "      <th>Secteur</th>\n",
       "      <th>Presents - L</th>\n",
       "      <th>Presents - ES</th>\n",
       "      <th>...</th>\n",
       "      <th>Taux de mentions - Gnle</th>\n",
       "      <th>Valeur ajoutée du taux de mentions - Gnle</th>\n",
       "      <th>Nombre de mentions TB avec félicitations - G</th>\n",
       "      <th>Nombre de mentions TB sans félicitations - G</th>\n",
       "      <th>Nombre de mentions B - G</th>\n",
       "      <th>Nombre de mentions AB - G</th>\n",
       "      <th>Nombre de mentions TB avec félicitations - T</th>\n",
       "      <th>Nombre de mentions TB sans félicitations - T</th>\n",
       "      <th>Nombre de mentions B - T</th>\n",
       "      <th>Nombre de mentions AB - T</th>\n",
       "    </tr>\n",
       "  </thead>\n",
       "  <tbody>\n",
       "    <tr>\n",
       "      <th>0</th>\n",
       "      <td>LYCEE CAMILLE CLAUDEL</td>\n",
       "      <td>2017</td>\n",
       "      <td>BLOIS</td>\n",
       "      <td>0410959V</td>\n",
       "      <td>41018</td>\n",
       "      <td>ORLEANS-TOURS</td>\n",
       "      <td>LOIR ET CHER</td>\n",
       "      <td>public</td>\n",
       "      <td>35.0</td>\n",
       "      <td>60.0</td>\n",
       "      <td>...</td>\n",
       "      <td>NaN</td>\n",
       "      <td>NaN</td>\n",
       "      <td>NaN</td>\n",
       "      <td>NaN</td>\n",
       "      <td>NaN</td>\n",
       "      <td>NaN</td>\n",
       "      <td>NaN</td>\n",
       "      <td>NaN</td>\n",
       "      <td>NaN</td>\n",
       "      <td>NaN</td>\n",
       "    </tr>\n",
       "    <tr>\n",
       "      <th>1</th>\n",
       "      <td>LYCEE ALBERT CAMUS</td>\n",
       "      <td>2017</td>\n",
       "      <td>FIRMINY</td>\n",
       "      <td>0420013L</td>\n",
       "      <td>42095</td>\n",
       "      <td>LYON</td>\n",
       "      <td>LOIRE</td>\n",
       "      <td>public</td>\n",
       "      <td>35.0</td>\n",
       "      <td>45.0</td>\n",
       "      <td>...</td>\n",
       "      <td>NaN</td>\n",
       "      <td>NaN</td>\n",
       "      <td>NaN</td>\n",
       "      <td>NaN</td>\n",
       "      <td>NaN</td>\n",
       "      <td>NaN</td>\n",
       "      <td>NaN</td>\n",
       "      <td>NaN</td>\n",
       "      <td>NaN</td>\n",
       "      <td>NaN</td>\n",
       "    </tr>\n",
       "    <tr>\n",
       "      <th>2</th>\n",
       "      <td>LYCEE GEORGES BRASSENS (GENERAL ET TECHNO.)</td>\n",
       "      <td>2017</td>\n",
       "      <td>RIVE DE GIER</td>\n",
       "      <td>0420027B</td>\n",
       "      <td>42186</td>\n",
       "      <td>LYON</td>\n",
       "      <td>LOIRE</td>\n",
       "      <td>public</td>\n",
       "      <td>27.0</td>\n",
       "      <td>64.0</td>\n",
       "      <td>...</td>\n",
       "      <td>NaN</td>\n",
       "      <td>NaN</td>\n",
       "      <td>NaN</td>\n",
       "      <td>NaN</td>\n",
       "      <td>NaN</td>\n",
       "      <td>NaN</td>\n",
       "      <td>NaN</td>\n",
       "      <td>NaN</td>\n",
       "      <td>NaN</td>\n",
       "      <td>NaN</td>\n",
       "    </tr>\n",
       "  </tbody>\n",
       "</table>\n",
       "<p>3 rows × 145 columns</p>\n",
       "</div>"
      ],
      "text/plain": [
       "                                 Etablissement  Annee         Ville       UAI  \\\n",
       "0                        LYCEE CAMILLE CLAUDEL   2017         BLOIS  0410959V   \n",
       "1                           LYCEE ALBERT CAMUS   2017       FIRMINY  0420013L   \n",
       "2  LYCEE GEORGES BRASSENS (GENERAL ET TECHNO.)   2017  RIVE DE GIER  0420027B   \n",
       "\n",
       "  Code commune       Academie   Departement Secteur  Presents - L  \\\n",
       "0        41018  ORLEANS-TOURS  LOIR ET CHER  public          35.0   \n",
       "1        42095           LYON         LOIRE  public          35.0   \n",
       "2        42186           LYON         LOIRE  public          27.0   \n",
       "\n",
       "   Presents - ES  ...  Taux de mentions - Gnle  \\\n",
       "0           60.0  ...                      NaN   \n",
       "1           45.0  ...                      NaN   \n",
       "2           64.0  ...                      NaN   \n",
       "\n",
       "   Valeur ajoutée du taux de mentions - Gnle  \\\n",
       "0                                        NaN   \n",
       "1                                        NaN   \n",
       "2                                        NaN   \n",
       "\n",
       "   Nombre de mentions TB avec félicitations - G  \\\n",
       "0                                           NaN   \n",
       "1                                           NaN   \n",
       "2                                           NaN   \n",
       "\n",
       "   Nombre de mentions TB sans félicitations - G  Nombre de mentions B - G  \\\n",
       "0                                           NaN                       NaN   \n",
       "1                                           NaN                       NaN   \n",
       "2                                           NaN                       NaN   \n",
       "\n",
       "   Nombre de mentions AB - G  Nombre de mentions TB avec félicitations - T  \\\n",
       "0                        NaN                                           NaN   \n",
       "1                        NaN                                           NaN   \n",
       "2                        NaN                                           NaN   \n",
       "\n",
       "   Nombre de mentions TB sans félicitations - T  Nombre de mentions B - T  \\\n",
       "0                                           NaN                       NaN   \n",
       "1                                           NaN                       NaN   \n",
       "2                                           NaN                       NaN   \n",
       "\n",
       "   Nombre de mentions AB - T  \n",
       "0                        NaN  \n",
       "1                        NaN  \n",
       "2                        NaN  \n",
       "\n",
       "[3 rows x 145 columns]"
      ]
     },
     "execution_count": 49,
     "metadata": {},
     "output_type": "execute_result"
    }
   ],
   "source": [
    "df_indicateurs_gt.head(3)"
   ]
  },
  {
   "cell_type": "code",
   "execution_count": 50,
   "metadata": {},
   "outputs": [
    {
     "data": {
      "text/html": [
       "<div>\n",
       "<style scoped>\n",
       "    .dataframe tbody tr th:only-of-type {\n",
       "        vertical-align: middle;\n",
       "    }\n",
       "\n",
       "    .dataframe tbody tr th {\n",
       "        vertical-align: top;\n",
       "    }\n",
       "\n",
       "    .dataframe thead th {\n",
       "        text-align: right;\n",
       "    }\n",
       "</style>\n",
       "<table border=\"1\" class=\"dataframe\">\n",
       "  <thead>\n",
       "    <tr style=\"text-align: right;\">\n",
       "      <th></th>\n",
       "      <th>Etablissement</th>\n",
       "      <th>UAI</th>\n",
       "      <th>Annee</th>\n",
       "      <th>Ville</th>\n",
       "      <th>Code commune</th>\n",
       "      <th>Academie</th>\n",
       "      <th>Departement</th>\n",
       "      <th>Secteur</th>\n",
       "      <th>Presents - Specialites pluri-technologiques de la production</th>\n",
       "      <th>Presents - Transformations</th>\n",
       "      <th>...</th>\n",
       "      <th>Valeur ajoutee du taux de mentions - Specialites plurivalentes des services</th>\n",
       "      <th>Valeur ajoutee du taux de mentions - Echanges et gestion</th>\n",
       "      <th>Valeur ajoutee du taux de mentions - Communication et information</th>\n",
       "      <th>Valeur ajoutee du taux de mentions - Services aux personnes</th>\n",
       "      <th>Valeur ajoutee du taux de mentions - Services a la collectivite</th>\n",
       "      <th>Valeur ajoutee du taux de mentions - Services</th>\n",
       "      <th>Valeur ajoutee du taux de mentions - Toutes series</th>\n",
       "      <th>Nombre de mentions TB sans félicitations - P</th>\n",
       "      <th>Nombre de mentions B - P</th>\n",
       "      <th>Nombre de mentions AB - P</th>\n",
       "    </tr>\n",
       "  </thead>\n",
       "  <tbody>\n",
       "    <tr>\n",
       "      <th>0</th>\n",
       "      <td>LYCEE CHRISTOPHE COLOMB (PROFESSIONNEL)</td>\n",
       "      <td>0941918Z</td>\n",
       "      <td>2015</td>\n",
       "      <td>SUCY EN BRIE</td>\n",
       "      <td>94071</td>\n",
       "      <td>CRETEIL</td>\n",
       "      <td>VAL-DE-MARNE</td>\n",
       "      <td>public</td>\n",
       "      <td>NaN</td>\n",
       "      <td>NaN</td>\n",
       "      <td>...</td>\n",
       "      <td>NaN</td>\n",
       "      <td>NaN</td>\n",
       "      <td>NaN</td>\n",
       "      <td>NaN</td>\n",
       "      <td>NaN</td>\n",
       "      <td>NaN</td>\n",
       "      <td>NaN</td>\n",
       "      <td>NaN</td>\n",
       "      <td>NaN</td>\n",
       "      <td>NaN</td>\n",
       "    </tr>\n",
       "    <tr>\n",
       "      <th>1</th>\n",
       "      <td>LYCEE FERNAND LEGER (PROFESSIONNEL)</td>\n",
       "      <td>0941972H</td>\n",
       "      <td>2015</td>\n",
       "      <td>IVRY SUR SEINE</td>\n",
       "      <td>94041</td>\n",
       "      <td>CRETEIL</td>\n",
       "      <td>VAL-DE-MARNE</td>\n",
       "      <td>public</td>\n",
       "      <td>NaN</td>\n",
       "      <td>NaN</td>\n",
       "      <td>...</td>\n",
       "      <td>NaN</td>\n",
       "      <td>NaN</td>\n",
       "      <td>NaN</td>\n",
       "      <td>NaN</td>\n",
       "      <td>NaN</td>\n",
       "      <td>NaN</td>\n",
       "      <td>NaN</td>\n",
       "      <td>NaN</td>\n",
       "      <td>NaN</td>\n",
       "      <td>NaN</td>\n",
       "    </tr>\n",
       "    <tr>\n",
       "      <th>2</th>\n",
       "      <td>LYCEE PROFESSIONNEL VIRGINIA HENDERSON</td>\n",
       "      <td>0950709E</td>\n",
       "      <td>2015</td>\n",
       "      <td>ARNOUVILLE</td>\n",
       "      <td>95019</td>\n",
       "      <td>VERSAILLES</td>\n",
       "      <td>VAL D'OISE</td>\n",
       "      <td>public</td>\n",
       "      <td>NaN</td>\n",
       "      <td>NaN</td>\n",
       "      <td>...</td>\n",
       "      <td>NaN</td>\n",
       "      <td>NaN</td>\n",
       "      <td>NaN</td>\n",
       "      <td>NaN</td>\n",
       "      <td>NaN</td>\n",
       "      <td>NaN</td>\n",
       "      <td>NaN</td>\n",
       "      <td>NaN</td>\n",
       "      <td>NaN</td>\n",
       "      <td>NaN</td>\n",
       "    </tr>\n",
       "  </tbody>\n",
       "</table>\n",
       "<p>3 rows × 130 columns</p>\n",
       "</div>"
      ],
      "text/plain": [
       "                             Etablissement       UAI  Annee           Ville  \\\n",
       "0  LYCEE CHRISTOPHE COLOMB (PROFESSIONNEL)  0941918Z   2015    SUCY EN BRIE   \n",
       "1      LYCEE FERNAND LEGER (PROFESSIONNEL)  0941972H   2015  IVRY SUR SEINE   \n",
       "2   LYCEE PROFESSIONNEL VIRGINIA HENDERSON  0950709E   2015      ARNOUVILLE   \n",
       "\n",
       "  Code commune    Academie   Departement Secteur  \\\n",
       "0        94071     CRETEIL  VAL-DE-MARNE  public   \n",
       "1        94041     CRETEIL  VAL-DE-MARNE  public   \n",
       "2        95019  VERSAILLES    VAL D'OISE  public   \n",
       "\n",
       "   Presents - Specialites pluri-technologiques de la production  \\\n",
       "0                                                NaN              \n",
       "1                                                NaN              \n",
       "2                                                NaN              \n",
       "\n",
       "   Presents - Transformations  ...  \\\n",
       "0                         NaN  ...   \n",
       "1                         NaN  ...   \n",
       "2                         NaN  ...   \n",
       "\n",
       "   Valeur ajoutee du taux de mentions - Specialites plurivalentes des services  \\\n",
       "0                                                NaN                             \n",
       "1                                                NaN                             \n",
       "2                                                NaN                             \n",
       "\n",
       "   Valeur ajoutee du taux de mentions - Echanges et gestion  \\\n",
       "0                                                NaN          \n",
       "1                                                NaN          \n",
       "2                                                NaN          \n",
       "\n",
       "   Valeur ajoutee du taux de mentions - Communication et information  \\\n",
       "0                                                NaN                   \n",
       "1                                                NaN                   \n",
       "2                                                NaN                   \n",
       "\n",
       "   Valeur ajoutee du taux de mentions - Services aux personnes  \\\n",
       "0                                                NaN             \n",
       "1                                                NaN             \n",
       "2                                                NaN             \n",
       "\n",
       "   Valeur ajoutee du taux de mentions - Services a la collectivite  \\\n",
       "0                                                NaN                 \n",
       "1                                                NaN                 \n",
       "2                                                NaN                 \n",
       "\n",
       "   Valeur ajoutee du taux de mentions - Services  \\\n",
       "0                                            NaN   \n",
       "1                                            NaN   \n",
       "2                                            NaN   \n",
       "\n",
       "   Valeur ajoutee du taux de mentions - Toutes series  \\\n",
       "0                                                NaN    \n",
       "1                                                NaN    \n",
       "2                                                NaN    \n",
       "\n",
       "   Nombre de mentions TB sans félicitations - P  Nombre de mentions B - P  \\\n",
       "0                                           NaN                       NaN   \n",
       "1                                           NaN                       NaN   \n",
       "2                                           NaN                       NaN   \n",
       "\n",
       "   Nombre de mentions AB - P  \n",
       "0                        NaN  \n",
       "1                        NaN  \n",
       "2                        NaN  \n",
       "\n",
       "[3 rows x 130 columns]"
      ]
     },
     "execution_count": 50,
     "metadata": {},
     "output_type": "execute_result"
    }
   ],
   "source": [
    "df_indicateurs_pro.head(3)"
   ]
  },
  {
   "cell_type": "code",
   "execution_count": 51,
   "metadata": {},
   "outputs": [],
   "source": [
    "snake_case(df_indicateurs_gt)\n",
    "snake_case(df_indicateurs_pro)"
   ]
  },
  {
   "cell_type": "code",
   "execution_count": null,
   "metadata": {},
   "outputs": [],
   "source": [
    "df_indicateurs_gt = df_indicateurs_gt[\n",
    "    [\n",
    "        'etablissement',\n",
    "        'annee',\n",
    "        'ville',\n",
    "        'uai',\n",
    "        'code_commune',\n",
    "        'academie',\n",
    "        'departement',\n",
    "        'secteur',\n",
    "        'presents_l',\n",
    "        'presents_es',\n",
    "        'presents_s',\n",
    "        'presents_stg',\n",
    "        'presents_sti2d',\n",
    "        'presents_std2a',\n",
    "        'presents_stmg',\n",
    "        'presents_sti',\n",
    "        'presents_stl',\n",
    "        'presents_st2s',\n",
    "        'presents_tmd',\n",
    "        'presents_sthr',\n",
    "        'presents_toutes_series',\n",
    "        'taux_de_reussite_l',\n",
    "        'taux_de_reussite_es',\n",
    "        'taux_de_reussite_s',\n",
    "        'taux_de_reussite_stg',\n",
    "        'taux_de_reussite_sti2d',\n",
    "        'taux_de_reussite_std2a',\n",
    "        'taux_de_reussite_stmg',\n",
    "        'taux_de_reussite_sti',\n",
    "        'taux_de_reussite_stl',\n",
    "        'taux_de_reussite_st2s',\n",
    "        'taux_de_reussite_tmd',\n",
    "        'taux_de_reussite_sthr',\n",
    "        'taux_de_reussite_toutes_series',\n",
    "        'taux_de_reussite_attendu_acad_l',\n",
    "        'taux_de_reussite_attendu_acad_es',\n",
    "        'taux_de_reussite_attendu_acad_s',\n",
    "        'taux_de_reussite_attendu_acad_stg',\n",
    "        'taux_de_reussite_attendu_acad_sti2d',\n",
    "        'taux_de_reussite_attendu_acad_std2a',\n",
    "        'taux_de_reussite_attendu_acad_stmg',\n",
    "        'taux_de_reussite_attendu_acad_sti',\n",
    "        'taux_de_reussite_attendu_acad_stl',\n",
    "        'taux_de_reussite_attendu_acad_st2s',\n",
    "        'taux_de_reussite_attendu_acad_tmd',\n",
    "        'taux_de_reussite_attendu_acad_sthr',\n",
    "        'taux_de_reussite_attendu_acad_toutes_series',\n",
    "        'taux_de_reussite_attendu_france_l',\n",
    "        'taux_de_reussite_attendu_france_es',\n",
    "        'taux_de_reussite_attendu_france_s',\n",
    "        'taux_de_reussite_attendu_france_stg',\n",
    "        'taux_de_reussite_attendu_france_sti2d',\n",
    "        'taux_de_reussite_attendu_france_std2a',\n",
    "        'taux_de_reussite_attendu_france_stmg',\n",
    "        'taux_de_reussite_attendu_france_sti',\n",
    "        'taux_de_reussite_attendu_france_stl',\n",
    "        'taux_de_reussite_attendu_france_st2s',\n",
    "        'taux_de_reussite_attendu_france_tmd',\n",
    "        'taux_de_reussite_attendu_france_sthr',\n",
    "        'taux_de_reussite_attendu_france_toutes_series',\n",
    "        'taux_de_mentions_l',\n",
    "        'taux_de_mentions_es',\n",
    "        'taux_de_mentions_s',\n",
    "        'taux_de_mentions_sti2d',\n",
    "        'taux_de_mentions_std2a',\n",
    "        'taux_de_mentions_stmg',\n",
    "        'taux_de_mentions_stl',\n",
    "        'taux_de_mentions_st2s',\n",
    "        'taux_de_mentions_tmd',\n",
    "        'taux_de_mentions_sthr',\n",
    "        'taux_de_mentions_toutes_series',\n",
    "        'taux_de_mentions_attendu_l',\n",
    "        'taux_de_mentions_attendu_es',\n",
    "        'taux_de_mentions_attendu_s',\n",
    "        'taux_de_mentions_attendu_sti2d',\n",
    "        'taux_de_mentions_attendu_std2a',\n",
    "        'taux_de_mentions_attendu_stmg',\n",
    "        'taux_de_mentions_attendu_stl',\n",
    "        'taux_de_mentions_attendu_st2s',\n",
    "        'taux_de_mentions_attendu_tmd',\n",
    "        'taux_de_mentions_attendu_sthr',\n",
    "        'taux_de_mentions_attendu_toutes_series',\n",
    "        'structure_pedagogique_5_groupes',\n",
    "        'structure_pedagogique_7_groupes',\n",
    "        'pourcentage_bacheliers_sortants_2de_1re_terminale_etablissement',\n",
    "        'pourcentage_bacheliers_sortants_terminales_etablissement',\n",
    "        'pourcentage_bacheliers_sortants_2de_1re_terminale_acad',\n",
    "        'pourcentage_bacheliers_sortants_terminale_acad',\n",
    "        'pourcentage_bacheliers_sortants_2de_1re_terminale_france',\n",
    "        'pourcentage_bacheliers_sortants_terminale_france',\n",
    "        'effectif_de_seconde',\n",
    "        'effectif_de_premiere',\n",
    "        'effectif_de_terminale',\n",
    "        'taux_d_acces_2nde_bac',\n",
    "        'taux_d_acces_attendu_acad_2nde_bac',\n",
    "        'taux_d_acces_attendu_france_2nde_bac',\n",
    "        'taux_d_acces_1ere_bac',\n",
    "        'taux_d_acces_attendu_acad_1ere_bac',\n",
    "        'taux_d_acces_attendu_france_1ere_bac',\n",
    "        'taux_d_acces_terminale_bac',\n",
    "        'taux_d_acces_attendu_france_terminale_bac',\n",
    "        'region',\n",
    "        'code_region',\n",
    "        'code_departement',\n",
    "        'libelle_departement',\n",
    "        'valeur_ajoutee_du_taux_de_reussite_toutes_series',\n",
    "        'valeur_ajoutee_du_taux_d_acces_2nde_bac',\n",
    "        'valeur_ajoutee_du_taux_de_mentions_toutes_series',\n",
    "        'valeur_ajoutee_du_taux_de_reussite_l',\n",
    "        'valeur_ajoutee_du_taux_de_reussite_es',\n",
    "        'valeur_ajoutee_du_taux_de_reussite_s',\n",
    "        'valeur_ajoutee_du_taux_de_reussite_stg',\n",
    "        'valeur_ajoutee_du_taux_de_reussite_sti2d',\n",
    "        'valeur_ajoutee_du_taux_de_reussite_std2a',\n",
    "        'valeur_ajoutee_du_taux_de_reussite_stmg',\n",
    "        'valeur_ajoutee_du_taux_de_reussite_sti',\n",
    "        'valeur_ajoutee_du_taux_de_reussite_stl',\n",
    "        'valeur_ajoutee_du_taux_de_reussite_st2s',\n",
    "        'valeur_ajoutee_du_taux_de_reussite_tmd',\n",
    "        'valeur_ajoutee_du_taux_de_reussite_sthr',\n",
    "        'valeur_ajoutee_du_taux_d_acces_1ere_bac',\n",
    "        'valeur_ajoutee_du_taux_d_acces_terminale_bac',\n",
    "        'valeur_ajoutee_du_taux_de_mentions_l',\n",
    "        'valeur_ajoutee_du_taux_de_mentions_es',\n",
    "        'valeur_ajoutee_du_taux_de_mentions_s',\n",
    "        'valeur_ajoutee_du_taux_de_mentions_sti2d',\n",
    "        'valeur_ajoutee_du_taux_de_mentions_std2a',\n",
    "        'valeur_ajoutee_du_taux_de_mentions_stmg',\n",
    "        'valeur_ajoutee_du_taux_de_mentions_stl',\n",
    "        'valeur_ajoutee_du_taux_de_mentions_st2s',\n",
    "        'valeur_ajoutee_du_taux_de_mentions_tmd',\n",
    "        'valeur_ajoutee_du_taux_de_mentions_sthr',\n",
    "        'presents_gnle',\n",
    "        'taux_de_reussite_gnle',\n",
    "        'valeur_ajoutee_du_taux_de_reussite_gnle',\n",
    "        'taux_de_mentions_gnle',\n",
    "        'valeur_ajoutee_du_taux_de_mentions_gnle',\n",
    "        'nombre_de_mentions_tb_avec_felicitations_g',\n",
    "        'nombre_de_mentions_tb_sans_felicitations_g',\n",
    "        'nombre_de_mentions_b_g',\n",
    "        'nombre_de_mentions_ab_g',\n",
    "        'nombre_de_mentions_tb_avec_felicitations_t',\n",
    "        'nombre_de_mentions_tb_sans_felicitations_t',\n",
    "        'nombre_de_mentions_b_t',\n",
    "        'nombre_de_mentions_ab_t'\n",
    "    ]\n",
    "]"
   ]
  }
 ],
 "metadata": {
  "kernelspec": {
   "display_name": "oc-env",
   "language": "python",
   "name": "python3"
  },
  "language_info": {
   "codemirror_mode": {
    "name": "ipython",
    "version": 3
   },
   "file_extension": ".py",
   "mimetype": "text/x-python",
   "name": "python",
   "nbconvert_exporter": "python",
   "pygments_lexer": "ipython3",
   "version": "3.11.2"
  },
  "orig_nbformat": 4
 },
 "nbformat": 4,
 "nbformat_minor": 2
}
