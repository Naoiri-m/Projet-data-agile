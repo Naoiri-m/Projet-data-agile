{
 "cells": [
  {
   "cell_type": "code",
   "execution_count": 1,
   "metadata": {},
   "outputs": [],
   "source": [
    "# Importe les librairies\n",
    "import numpy as np\n",
    "import pandas as pd\n",
    "\n",
    "import matplotlib.pyplot as plt\n",
    "import matplotlib.ticker as ticker\n",
    "\n",
    "import seaborn as sns\n",
    "\n",
    "# from scipy import stats"
   ]
  },
  {
   "cell_type": "markdown",
   "metadata": {},
   "source": [
    "<img src='./images/logo-la-poule-qui-chante.png' width=480px />"
   ]
  },
  {
   "cell_type": "markdown",
   "metadata": {},
   "source": [
    "# Produisez une étude de marché avec Python<br>Partie n°1 : préparation des données"
   ]
  },
  {
   "cell_type": "markdown",
   "metadata": {},
   "source": [
    "> &#9888; Ce *notebook* est le premier des deux *notebooks* qui vont composer notre étude de marché. Il contient la préparation, le nettoyage et l’analyse exploratoire des données.\n",
    "\n",
    "Nous sommes en poste chez **La poule qui chante**, une entreprise française d’agroalimentaire qui souhaite se développer à l'international. Cependant, la liste des pays potentiels dans lesquels s'implanter est longue. Pour cela, nous allons réaliser une analyse des groupements de pays que l'on pourra cibler grâce à différentes méthodes de *clustering*, puis nous approfondirons l'étude de marché.\n",
    "\n",
    "Les données qui vont être utilisées seront toutes issues des [statistiques de la *Food and Agriculture Organization of the United Nations (FAO)*](https://www.fao.org/faostat/fr/#home).\n",
    "Nous disposons déjà de deux de leurs jeux de données et nous allons récupérer ceux dont nous allons avoir besoin afin d'élargir les critères de l'analyse. Pour définir ces derniers, nous nous inspirons de l'analyse PESTEL. En voici la synthèse.\n",
    "\n",
    "|Domaine            |Indicateur<sup>[1]</sup>                                                  |Jeu de données                    |\n",
    "|-------------------|--------------------------------------------------------------------------|----------------------------------|\n",
    "|**P**olitique      |Stabilité politique et absence de violence/terrorisme (indice)            |Données de la sécurité alimentaire|\n",
    "|                   |Part des importations de volailles par rapport au total                   |Bilans Alimentaires               |\n",
    "|**E**conomique     |PIB par habitant US$                                                      |Indicateurs macro                 |\n",
    "|                   |Croissance annuelle US$                                                   |Indicateurs macro                 |\n",
    "|**S**ocial         |Croissance moyenne de la population                                       |Séries temporelles et annuelles   |\n",
    "|                   |Disponibilité alimentaire en quantité                                     |Bilans Alimentaires               |\n",
    "|**T**echnologique  |Indice de production dans l'élevage                                       |Indices de production             |\n",
    "|                   |Pourcentage de la population utilisant au moins les services d'eau de base|Données de la sécurité alimentaire|\n",
    "|**E**nvironnemental|Part de superficie des terres                                             |Utilisation des terres            |\n",
    "|**L**égal          |Pas d'indicateur disponible sur la FAO                                    |                                  |\n",
    "\n",
    "*1. Les indicateurs seront donnés pour l'année 2017.*"
   ]
  },
  {
   "cell_type": "markdown",
   "metadata": {},
   "source": [
    "## Sommaire\n",
    "\n",
    "* [Préparation des données pour l'analyse](#1)\n",
    "    * [Importation des *datasets*](#1-1)\n",
    "    * [Création du *DataFrame* final](#1-2)\n",
    "    * [Vérification de `df_final`](#1-3)\n",
    "    * [Exportation de `df_final`](#1-4)\n",
    "* [Analyse descriptive](#2)\n",
    "    * [Analyse univariée](#2-1)\n",
    "    * [Analyse bivariée](#2-2)\n",
    "* [Exportation de `df_final`](#3)"
   ]
  },
  {
   "cell_type": "markdown",
   "metadata": {},
   "source": [
    "## Préparation des données pour l'analyse<a id='1'></a>"
   ]
  },
  {
   "cell_type": "markdown",
   "metadata": {},
   "source": [
    "Nous allons importer chacun des *datasets* nécessaire puis extraire, éventuellement calculer et compiler les indicateurs dans un *DataFrame* final. "
   ]
  },
  {
   "cell_type": "markdown",
   "metadata": {},
   "source": [
    "### Importation des *datasest*<a id='1-1'></a>"
   ]
  },
  {
   "cell_type": "code",
   "execution_count": 2,
   "metadata": {},
   "outputs": [
    {
     "data": {
      "text/html": [
       "<div>\n",
       "<style scoped>\n",
       "    .dataframe tbody tr th:only-of-type {\n",
       "        vertical-align: middle;\n",
       "    }\n",
       "\n",
       "    .dataframe tbody tr th {\n",
       "        vertical-align: top;\n",
       "    }\n",
       "\n",
       "    .dataframe thead th {\n",
       "        text-align: right;\n",
       "    }\n",
       "</style>\n",
       "<table border=\"1\" class=\"dataframe\">\n",
       "  <thead>\n",
       "    <tr style=\"text-align: right;\">\n",
       "      <th></th>\n",
       "      <th>Code Domaine</th>\n",
       "      <th>Domaine</th>\n",
       "      <th>Code zone (FAO)</th>\n",
       "      <th>Zone</th>\n",
       "      <th>Code Élément</th>\n",
       "      <th>Élément</th>\n",
       "      <th>Code Produit (CPC)</th>\n",
       "      <th>Produit</th>\n",
       "      <th>Code année</th>\n",
       "      <th>Année</th>\n",
       "      <th>Unité</th>\n",
       "      <th>Valeur</th>\n",
       "      <th>Symbole</th>\n",
       "      <th>Description du Symbole</th>\n",
       "    </tr>\n",
       "  </thead>\n",
       "  <tbody>\n",
       "    <tr>\n",
       "      <th>0</th>\n",
       "      <td>FBS</td>\n",
       "      <td>Bilans Alimentaires (2010-)</td>\n",
       "      <td>150</td>\n",
       "      <td>Pays-Bas (Royaume des)</td>\n",
       "      <td>5511</td>\n",
       "      <td>Production</td>\n",
       "      <td>F2511</td>\n",
       "      <td>Blé et produits</td>\n",
       "      <td>2017</td>\n",
       "      <td>2017</td>\n",
       "      <td>Milliers de tonnes</td>\n",
       "      <td>1054.0</td>\n",
       "      <td>I</td>\n",
       "      <td>Valeur imputée</td>\n",
       "    </tr>\n",
       "    <tr>\n",
       "      <th>1</th>\n",
       "      <td>FBS</td>\n",
       "      <td>Bilans Alimentaires (2010-)</td>\n",
       "      <td>150</td>\n",
       "      <td>Pays-Bas (Royaume des)</td>\n",
       "      <td>5611</td>\n",
       "      <td>Importations - Quantité</td>\n",
       "      <td>F2511</td>\n",
       "      <td>Blé et produits</td>\n",
       "      <td>2017</td>\n",
       "      <td>2017</td>\n",
       "      <td>Milliers de tonnes</td>\n",
       "      <td>6792.0</td>\n",
       "      <td>I</td>\n",
       "      <td>Valeur imputée</td>\n",
       "    </tr>\n",
       "    <tr>\n",
       "      <th>2</th>\n",
       "      <td>FBS</td>\n",
       "      <td>Bilans Alimentaires (2010-)</td>\n",
       "      <td>150</td>\n",
       "      <td>Pays-Bas (Royaume des)</td>\n",
       "      <td>5911</td>\n",
       "      <td>Exportations - Quantité</td>\n",
       "      <td>F2511</td>\n",
       "      <td>Blé et produits</td>\n",
       "      <td>2017</td>\n",
       "      <td>2017</td>\n",
       "      <td>Milliers de tonnes</td>\n",
       "      <td>1609.0</td>\n",
       "      <td>I</td>\n",
       "      <td>Valeur imputée</td>\n",
       "    </tr>\n",
       "  </tbody>\n",
       "</table>\n",
       "</div>"
      ],
      "text/plain": [
       "  Code Domaine                      Domaine  Code zone (FAO)  \\\n",
       "0          FBS  Bilans Alimentaires (2010-)              150   \n",
       "1          FBS  Bilans Alimentaires (2010-)              150   \n",
       "2          FBS  Bilans Alimentaires (2010-)              150   \n",
       "\n",
       "                     Zone  Code Élément                  Élément  \\\n",
       "0  Pays-Bas (Royaume des)          5511               Production   \n",
       "1  Pays-Bas (Royaume des)          5611  Importations - Quantité   \n",
       "2  Pays-Bas (Royaume des)          5911  Exportations - Quantité   \n",
       "\n",
       "  Code Produit (CPC)          Produit  Code année  Année               Unité  \\\n",
       "0              F2511  Blé et produits        2017   2017  Milliers de tonnes   \n",
       "1              F2511  Blé et produits        2017   2017  Milliers de tonnes   \n",
       "2              F2511  Blé et produits        2017   2017  Milliers de tonnes   \n",
       "\n",
       "   Valeur Symbole Description du Symbole  \n",
       "0  1054.0       I         Valeur imputée  \n",
       "1  6792.0       I         Valeur imputée  \n",
       "2  1609.0       I         Valeur imputée  "
      ]
     },
     "execution_count": 2,
     "metadata": {},
     "output_type": "execute_result"
    }
   ],
   "source": [
    "df_disponibilite = pd.read_csv('./datasets/raw/dispo-alimentaire-2017.csv')\n",
    "df_disponibilite.head(3)"
   ]
  },
  {
   "cell_type": "code",
   "execution_count": 3,
   "metadata": {},
   "outputs": [
    {
     "data": {
      "text/html": [
       "<div>\n",
       "<style scoped>\n",
       "    .dataframe tbody tr th:only-of-type {\n",
       "        vertical-align: middle;\n",
       "    }\n",
       "\n",
       "    .dataframe tbody tr th {\n",
       "        vertical-align: top;\n",
       "    }\n",
       "\n",
       "    .dataframe thead th {\n",
       "        text-align: right;\n",
       "    }\n",
       "</style>\n",
       "<table border=\"1\" class=\"dataframe\">\n",
       "  <thead>\n",
       "    <tr style=\"text-align: right;\">\n",
       "      <th></th>\n",
       "      <th>Code Domaine</th>\n",
       "      <th>Domaine</th>\n",
       "      <th>Code zone (FAO)</th>\n",
       "      <th>Zone</th>\n",
       "      <th>Code Élément</th>\n",
       "      <th>Élément</th>\n",
       "      <th>Code Produit</th>\n",
       "      <th>Produit</th>\n",
       "      <th>Code année</th>\n",
       "      <th>Année</th>\n",
       "      <th>Unité</th>\n",
       "      <th>Valeur</th>\n",
       "      <th>Symbole</th>\n",
       "      <th>Description du Symbole</th>\n",
       "      <th>Note</th>\n",
       "    </tr>\n",
       "  </thead>\n",
       "  <tbody>\n",
       "    <tr>\n",
       "      <th>0</th>\n",
       "      <td>MK</td>\n",
       "      <td>Indicateurs macro</td>\n",
       "      <td>2</td>\n",
       "      <td>Afghanistan</td>\n",
       "      <td>6119</td>\n",
       "      <td>Valeur US $ par habitant</td>\n",
       "      <td>22008</td>\n",
       "      <td>Produit Intérieur Brut</td>\n",
       "      <td>2017</td>\n",
       "      <td>2017</td>\n",
       "      <td>US$</td>\n",
       "      <td>530.149831</td>\n",
       "      <td>X</td>\n",
       "      <td>Ciffre de sources internationales</td>\n",
       "      <td>NaN</td>\n",
       "    </tr>\n",
       "    <tr>\n",
       "      <th>1</th>\n",
       "      <td>MK</td>\n",
       "      <td>Indicateurs macro</td>\n",
       "      <td>2</td>\n",
       "      <td>Afghanistan</td>\n",
       "      <td>6129</td>\n",
       "      <td>Croissance annuelle US$</td>\n",
       "      <td>22008</td>\n",
       "      <td>Produit Intérieur Brut</td>\n",
       "      <td>2017</td>\n",
       "      <td>2017</td>\n",
       "      <td>%</td>\n",
       "      <td>4.865790</td>\n",
       "      <td>X</td>\n",
       "      <td>Ciffre de sources internationales</td>\n",
       "      <td>NaN</td>\n",
       "    </tr>\n",
       "    <tr>\n",
       "      <th>2</th>\n",
       "      <td>MK</td>\n",
       "      <td>Indicateurs macro</td>\n",
       "      <td>2</td>\n",
       "      <td>Afghanistan</td>\n",
       "      <td>6119</td>\n",
       "      <td>Valeur US $ par habitant</td>\n",
       "      <td>22011</td>\n",
       "      <td>Revenu national brut</td>\n",
       "      <td>2017</td>\n",
       "      <td>2017</td>\n",
       "      <td>US$</td>\n",
       "      <td>537.126294</td>\n",
       "      <td>X</td>\n",
       "      <td>Ciffre de sources internationales</td>\n",
       "      <td>NaN</td>\n",
       "    </tr>\n",
       "  </tbody>\n",
       "</table>\n",
       "</div>"
      ],
      "text/plain": [
       "  Code Domaine            Domaine  Code zone (FAO)         Zone  Code Élément  \\\n",
       "0           MK  Indicateurs macro                2  Afghanistan          6119   \n",
       "1           MK  Indicateurs macro                2  Afghanistan          6129   \n",
       "2           MK  Indicateurs macro                2  Afghanistan          6119   \n",
       "\n",
       "                    Élément  Code Produit                 Produit  Code année  \\\n",
       "0  Valeur US $ par habitant         22008  Produit Intérieur Brut        2017   \n",
       "1   Croissance annuelle US$         22008  Produit Intérieur Brut        2017   \n",
       "2  Valeur US $ par habitant         22011    Revenu national brut        2017   \n",
       "\n",
       "   Année Unité      Valeur Symbole             Description du Symbole  Note  \n",
       "0   2017   US$  530.149831       X  Ciffre de sources internationales   NaN  \n",
       "1   2017     %    4.865790       X  Ciffre de sources internationales   NaN  \n",
       "2   2017   US$  537.126294       X  Ciffre de sources internationales   NaN  "
      ]
     },
     "execution_count": 3,
     "metadata": {},
     "output_type": "execute_result"
    }
   ],
   "source": [
    "df_macro = pd.read_csv('./datasets/raw/macro-2017.csv')\n",
    "df_macro.head(3)"
   ]
  },
  {
   "cell_type": "code",
   "execution_count": 4,
   "metadata": {},
   "outputs": [
    {
     "data": {
      "text/html": [
       "<div>\n",
       "<style scoped>\n",
       "    .dataframe tbody tr th:only-of-type {\n",
       "        vertical-align: middle;\n",
       "    }\n",
       "\n",
       "    .dataframe tbody tr th {\n",
       "        vertical-align: top;\n",
       "    }\n",
       "\n",
       "    .dataframe thead th {\n",
       "        text-align: right;\n",
       "    }\n",
       "</style>\n",
       "<table border=\"1\" class=\"dataframe\">\n",
       "  <thead>\n",
       "    <tr style=\"text-align: right;\">\n",
       "      <th></th>\n",
       "      <th>Code Domaine</th>\n",
       "      <th>Domaine</th>\n",
       "      <th>Code zone</th>\n",
       "      <th>Zone</th>\n",
       "      <th>Code Élément</th>\n",
       "      <th>Élément</th>\n",
       "      <th>Code Produit</th>\n",
       "      <th>Produit</th>\n",
       "      <th>Code année</th>\n",
       "      <th>Année</th>\n",
       "      <th>Unité</th>\n",
       "      <th>Valeur</th>\n",
       "      <th>Symbole</th>\n",
       "      <th>Description du Symbole</th>\n",
       "      <th>Note</th>\n",
       "    </tr>\n",
       "  </thead>\n",
       "  <tbody>\n",
       "    <tr>\n",
       "      <th>0</th>\n",
       "      <td>OA</td>\n",
       "      <td>Séries temporelles annuelles</td>\n",
       "      <td>2</td>\n",
       "      <td>Afghanistan</td>\n",
       "      <td>511</td>\n",
       "      <td>Population totale</td>\n",
       "      <td>3010</td>\n",
       "      <td>Population-Estimations</td>\n",
       "      <td>2000</td>\n",
       "      <td>2000</td>\n",
       "      <td>1000 personnes</td>\n",
       "      <td>20779.953</td>\n",
       "      <td>X</td>\n",
       "      <td>Sources internationales sûres</td>\n",
       "      <td>NaN</td>\n",
       "    </tr>\n",
       "    <tr>\n",
       "      <th>1</th>\n",
       "      <td>OA</td>\n",
       "      <td>Séries temporelles annuelles</td>\n",
       "      <td>2</td>\n",
       "      <td>Afghanistan</td>\n",
       "      <td>511</td>\n",
       "      <td>Population totale</td>\n",
       "      <td>3010</td>\n",
       "      <td>Population-Estimations</td>\n",
       "      <td>2001</td>\n",
       "      <td>2001</td>\n",
       "      <td>1000 personnes</td>\n",
       "      <td>21606.988</td>\n",
       "      <td>X</td>\n",
       "      <td>Sources internationales sûres</td>\n",
       "      <td>NaN</td>\n",
       "    </tr>\n",
       "    <tr>\n",
       "      <th>2</th>\n",
       "      <td>OA</td>\n",
       "      <td>Séries temporelles annuelles</td>\n",
       "      <td>2</td>\n",
       "      <td>Afghanistan</td>\n",
       "      <td>511</td>\n",
       "      <td>Population totale</td>\n",
       "      <td>3010</td>\n",
       "      <td>Population-Estimations</td>\n",
       "      <td>2002</td>\n",
       "      <td>2002</td>\n",
       "      <td>1000 personnes</td>\n",
       "      <td>22600.770</td>\n",
       "      <td>X</td>\n",
       "      <td>Sources internationales sûres</td>\n",
       "      <td>NaN</td>\n",
       "    </tr>\n",
       "  </tbody>\n",
       "</table>\n",
       "</div>"
      ],
      "text/plain": [
       "  Code Domaine                       Domaine  Code zone         Zone  \\\n",
       "0           OA  Séries temporelles annuelles          2  Afghanistan   \n",
       "1           OA  Séries temporelles annuelles          2  Afghanistan   \n",
       "2           OA  Séries temporelles annuelles          2  Afghanistan   \n",
       "\n",
       "   Code Élément            Élément  Code Produit                 Produit  \\\n",
       "0           511  Population totale          3010  Population-Estimations   \n",
       "1           511  Population totale          3010  Population-Estimations   \n",
       "2           511  Population totale          3010  Population-Estimations   \n",
       "\n",
       "   Code année  Année           Unité     Valeur Symbole  \\\n",
       "0        2000   2000  1000 personnes  20779.953       X   \n",
       "1        2001   2001  1000 personnes  21606.988       X   \n",
       "2        2002   2002  1000 personnes  22600.770       X   \n",
       "\n",
       "          Description du Symbole Note  \n",
       "0  Sources internationales sûres  NaN  \n",
       "1  Sources internationales sûres  NaN  \n",
       "2  Sources internationales sûres  NaN  "
      ]
     },
     "execution_count": 4,
     "metadata": {},
     "output_type": "execute_result"
    }
   ],
   "source": [
    "df_population = pd.read_csv('./datasets/raw/population-2000-2018.csv')\n",
    "df_population.head(3)"
   ]
  },
  {
   "cell_type": "code",
   "execution_count": 5,
   "metadata": {},
   "outputs": [
    {
     "data": {
      "text/html": [
       "<div>\n",
       "<style scoped>\n",
       "    .dataframe tbody tr th:only-of-type {\n",
       "        vertical-align: middle;\n",
       "    }\n",
       "\n",
       "    .dataframe tbody tr th {\n",
       "        vertical-align: top;\n",
       "    }\n",
       "\n",
       "    .dataframe thead th {\n",
       "        text-align: right;\n",
       "    }\n",
       "</style>\n",
       "<table border=\"1\" class=\"dataframe\">\n",
       "  <thead>\n",
       "    <tr style=\"text-align: right;\">\n",
       "      <th></th>\n",
       "      <th>Code Domaine</th>\n",
       "      <th>Domaine</th>\n",
       "      <th>Code zone (FAO)</th>\n",
       "      <th>Zone</th>\n",
       "      <th>Code Élément</th>\n",
       "      <th>Élément</th>\n",
       "      <th>Code Produit</th>\n",
       "      <th>Produit</th>\n",
       "      <th>Code année</th>\n",
       "      <th>Année</th>\n",
       "      <th>Unité</th>\n",
       "      <th>Valeur</th>\n",
       "      <th>Symbole</th>\n",
       "      <th>Description du Symbole</th>\n",
       "      <th>Note</th>\n",
       "    </tr>\n",
       "  </thead>\n",
       "  <tbody>\n",
       "    <tr>\n",
       "      <th>0</th>\n",
       "      <td>FS</td>\n",
       "      <td>Données de la sécurité alimentaire</td>\n",
       "      <td>150</td>\n",
       "      <td>Pays-Bas (Royaume des)</td>\n",
       "      <td>6125</td>\n",
       "      <td>Valeur</td>\n",
       "      <td>21032</td>\n",
       "      <td>Stabilité politique et absence de violence/ter...</td>\n",
       "      <td>2017</td>\n",
       "      <td>2017</td>\n",
       "      <td>indice</td>\n",
       "      <td>0.92</td>\n",
       "      <td>X</td>\n",
       "      <td>Ciffre de sources internationales</td>\n",
       "      <td>NaN</td>\n",
       "    </tr>\n",
       "    <tr>\n",
       "      <th>1</th>\n",
       "      <td>FS</td>\n",
       "      <td>Données de la sécurité alimentaire</td>\n",
       "      <td>2</td>\n",
       "      <td>Afghanistan</td>\n",
       "      <td>6125</td>\n",
       "      <td>Valeur</td>\n",
       "      <td>21032</td>\n",
       "      <td>Stabilité politique et absence de violence/ter...</td>\n",
       "      <td>2017</td>\n",
       "      <td>2017</td>\n",
       "      <td>indice</td>\n",
       "      <td>-2.80</td>\n",
       "      <td>X</td>\n",
       "      <td>Ciffre de sources internationales</td>\n",
       "      <td>NaN</td>\n",
       "    </tr>\n",
       "    <tr>\n",
       "      <th>2</th>\n",
       "      <td>FS</td>\n",
       "      <td>Données de la sécurité alimentaire</td>\n",
       "      <td>202</td>\n",
       "      <td>Afrique du Sud</td>\n",
       "      <td>6125</td>\n",
       "      <td>Valeur</td>\n",
       "      <td>21032</td>\n",
       "      <td>Stabilité politique et absence de violence/ter...</td>\n",
       "      <td>2017</td>\n",
       "      <td>2017</td>\n",
       "      <td>indice</td>\n",
       "      <td>-0.28</td>\n",
       "      <td>X</td>\n",
       "      <td>Ciffre de sources internationales</td>\n",
       "      <td>NaN</td>\n",
       "    </tr>\n",
       "  </tbody>\n",
       "</table>\n",
       "</div>"
      ],
      "text/plain": [
       "  Code Domaine                             Domaine  Code zone (FAO)  \\\n",
       "0           FS  Données de la sécurité alimentaire              150   \n",
       "1           FS  Données de la sécurité alimentaire                2   \n",
       "2           FS  Données de la sécurité alimentaire              202   \n",
       "\n",
       "                     Zone  Code Élément Élément  Code Produit  \\\n",
       "0  Pays-Bas (Royaume des)          6125  Valeur         21032   \n",
       "1             Afghanistan          6125  Valeur         21032   \n",
       "2          Afrique du Sud          6125  Valeur         21032   \n",
       "\n",
       "                                             Produit  Code année  Année  \\\n",
       "0  Stabilité politique et absence de violence/ter...        2017   2017   \n",
       "1  Stabilité politique et absence de violence/ter...        2017   2017   \n",
       "2  Stabilité politique et absence de violence/ter...        2017   2017   \n",
       "\n",
       "    Unité  Valeur Symbole             Description du Symbole  Note  \n",
       "0  indice    0.92       X  Ciffre de sources internationales   NaN  \n",
       "1  indice   -2.80       X  Ciffre de sources internationales   NaN  \n",
       "2  indice   -0.28       X  Ciffre de sources internationales   NaN  "
      ]
     },
     "execution_count": 5,
     "metadata": {},
     "output_type": "execute_result"
    }
   ],
   "source": [
    "df_securite = pd.read_csv('./datasets/raw/securite-2017.csv')\n",
    "df_securite.head(3)"
   ]
  },
  {
   "cell_type": "code",
   "execution_count": 6,
   "metadata": {},
   "outputs": [
    {
     "name": "stdout",
     "output_type": "stream",
     "text": [
      "DataFrame\t\tDimensions\tNaN\n",
      "df_disponibilite    \t(71479, 14)\t0\n",
      "df_macro            \t(844, 15)\t844\n",
      "df_population       \t(4411, 15)\t4153\n",
      "df_securite         \t(196, 15)\t196\n"
     ]
    }
   ],
   "source": [
    "# Crée la liste des DataFrames\n",
    "dfs = ['df_disponibilite', 'df_macro', 'df_population',\n",
    "       'df_securite']\n",
    "\n",
    "print(f'DataFrame\\t\\tDimensions\\tNaN')\n",
    "for df in dfs:\n",
    "    print(f'{df:<20}\\t{eval(df).shape}\\t{eval(df).isna().sum().sum()}')"
   ]
  },
  {
   "cell_type": "markdown",
   "metadata": {},
   "source": [
    "VOIR LES VALEURS NULLES"
   ]
  },
  {
   "cell_type": "markdown",
   "metadata": {},
   "source": [
    "Les noms des variables comprennent des majuscules, des espaces ou des accents. Pour simplifier la lecture et les manipulations, nous créons une fonction qui va convertir les variables selon la convention *snake case*."
   ]
  },
  {
   "cell_type": "code",
   "execution_count": 7,
   "metadata": {},
   "outputs": [],
   "source": [
    "def snake_case (df):\n",
    "    \"\"\"Renomme les variables d'un DataFrame selon la convention snake case.\"\"\"\n",
    "    df.columns = (\n",
    "        df.columns\n",
    "        .str.lower()\n",
    "        .str.replace('\\'', '_')\n",
    "        .str.replace(' - ', '_')\n",
    "        .str.replace('-', '_')\n",
    "        .str.replace(' ', '_')\n",
    "        .str.normalize('NFKD')\n",
    "        .str.encode('ascii', errors='ignore')\n",
    "        .str.decode('utf-8')\n",
    "    )"
   ]
  },
  {
   "cell_type": "markdown",
   "metadata": {},
   "source": [
    "On applique ensuite cette fonction à nos jeux de données."
   ]
  },
  {
   "cell_type": "code",
   "execution_count": 8,
   "metadata": {},
   "outputs": [],
   "source": [
    "# Applique la fonction 'snake_case' aux DataFrames\n",
    "for df in dfs:\n",
    "    snake_case(eval(df))"
   ]
  },
  {
   "cell_type": "markdown",
   "metadata": {},
   "source": [
    "### Création du *DataFrame* final<a id='1-2'></a>"
   ]
  },
  {
   "cell_type": "markdown",
   "metadata": {},
   "source": [
    "Avant de commencer à extraire les informations qui nous intéressent au sein de chaque *dataset*, nous allons déterminer celui qui contient le plus de pays. C'est par ce dernier que nous commencerons. Si des pays doivent être retirés à cause d'un nombre de données manquantes trop important, nous le ferons par la suite."
   ]
  },
  {
   "cell_type": "code",
   "execution_count": 9,
   "metadata": {},
   "outputs": [
    {
     "name": "stdout",
     "output_type": "stream",
     "text": [
      "DataFrame\t\tNombre de pays\n",
      "df_disponibilite    \t180\n",
      "df_macro            \t211\n",
      "df_population       \t238\n",
      "df_securite         \t196\n"
     ]
    }
   ],
   "source": [
    "# Affiche le nombre de pays de chaque DataFrame\n",
    "print('DataFrame\\t\\tNombre de pays')\n",
    "for df in dfs:\n",
    "    print(f'{df:<20}\\t{eval(df)[\"zone\"].nunique()}')"
   ]
  },
  {
   "cell_type": "markdown",
   "metadata": {},
   "source": [
    "C'est le *DataFrame* de la population qui contient le plus de données. Ce sera notre point de départ avant d'ajouter les autres indicateurs au fûr et à mesure."
   ]
  },
  {
   "cell_type": "markdown",
   "metadata": {},
   "source": [
    "#### `df_population`"
   ]
  },
  {
   "cell_type": "code",
   "execution_count": 10,
   "metadata": {},
   "outputs": [
    {
     "data": {
      "text/html": [
       "<div>\n",
       "<style scoped>\n",
       "    .dataframe tbody tr th:only-of-type {\n",
       "        vertical-align: middle;\n",
       "    }\n",
       "\n",
       "    .dataframe tbody tr th {\n",
       "        vertical-align: top;\n",
       "    }\n",
       "\n",
       "    .dataframe thead th {\n",
       "        text-align: right;\n",
       "    }\n",
       "</style>\n",
       "<table border=\"1\" class=\"dataframe\">\n",
       "  <thead>\n",
       "    <tr style=\"text-align: right;\">\n",
       "      <th></th>\n",
       "      <th>code_domaine</th>\n",
       "      <th>domaine</th>\n",
       "      <th>code_zone</th>\n",
       "      <th>zone</th>\n",
       "      <th>code_element</th>\n",
       "      <th>element</th>\n",
       "      <th>code_produit</th>\n",
       "      <th>produit</th>\n",
       "      <th>code_annee</th>\n",
       "      <th>annee</th>\n",
       "      <th>unite</th>\n",
       "      <th>valeur</th>\n",
       "      <th>symbole</th>\n",
       "      <th>description_du_symbole</th>\n",
       "      <th>note</th>\n",
       "    </tr>\n",
       "  </thead>\n",
       "  <tbody>\n",
       "    <tr>\n",
       "      <th>0</th>\n",
       "      <td>OA</td>\n",
       "      <td>Séries temporelles annuelles</td>\n",
       "      <td>2</td>\n",
       "      <td>Afghanistan</td>\n",
       "      <td>511</td>\n",
       "      <td>Population totale</td>\n",
       "      <td>3010</td>\n",
       "      <td>Population-Estimations</td>\n",
       "      <td>2000</td>\n",
       "      <td>2000</td>\n",
       "      <td>1000 personnes</td>\n",
       "      <td>20779.953</td>\n",
       "      <td>X</td>\n",
       "      <td>Sources internationales sûres</td>\n",
       "      <td>NaN</td>\n",
       "    </tr>\n",
       "    <tr>\n",
       "      <th>1</th>\n",
       "      <td>OA</td>\n",
       "      <td>Séries temporelles annuelles</td>\n",
       "      <td>2</td>\n",
       "      <td>Afghanistan</td>\n",
       "      <td>511</td>\n",
       "      <td>Population totale</td>\n",
       "      <td>3010</td>\n",
       "      <td>Population-Estimations</td>\n",
       "      <td>2001</td>\n",
       "      <td>2001</td>\n",
       "      <td>1000 personnes</td>\n",
       "      <td>21606.988</td>\n",
       "      <td>X</td>\n",
       "      <td>Sources internationales sûres</td>\n",
       "      <td>NaN</td>\n",
       "    </tr>\n",
       "    <tr>\n",
       "      <th>2</th>\n",
       "      <td>OA</td>\n",
       "      <td>Séries temporelles annuelles</td>\n",
       "      <td>2</td>\n",
       "      <td>Afghanistan</td>\n",
       "      <td>511</td>\n",
       "      <td>Population totale</td>\n",
       "      <td>3010</td>\n",
       "      <td>Population-Estimations</td>\n",
       "      <td>2002</td>\n",
       "      <td>2002</td>\n",
       "      <td>1000 personnes</td>\n",
       "      <td>22600.770</td>\n",
       "      <td>X</td>\n",
       "      <td>Sources internationales sûres</td>\n",
       "      <td>NaN</td>\n",
       "    </tr>\n",
       "  </tbody>\n",
       "</table>\n",
       "</div>"
      ],
      "text/plain": [
       "  code_domaine                       domaine  code_zone         zone  \\\n",
       "0           OA  Séries temporelles annuelles          2  Afghanistan   \n",
       "1           OA  Séries temporelles annuelles          2  Afghanistan   \n",
       "2           OA  Séries temporelles annuelles          2  Afghanistan   \n",
       "\n",
       "   code_element            element  code_produit                 produit  \\\n",
       "0           511  Population totale          3010  Population-Estimations   \n",
       "1           511  Population totale          3010  Population-Estimations   \n",
       "2           511  Population totale          3010  Population-Estimations   \n",
       "\n",
       "   code_annee  annee           unite     valeur symbole  \\\n",
       "0        2000   2000  1000 personnes  20779.953       X   \n",
       "1        2001   2001  1000 personnes  21606.988       X   \n",
       "2        2002   2002  1000 personnes  22600.770       X   \n",
       "\n",
       "          description_du_symbole note  \n",
       "0  Sources internationales sûres  NaN  \n",
       "1  Sources internationales sûres  NaN  \n",
       "2  Sources internationales sûres  NaN  "
      ]
     },
     "execution_count": 10,
     "metadata": {},
     "output_type": "execute_result"
    }
   ],
   "source": [
    "df_population.head(3)"
   ]
  },
  {
   "cell_type": "markdown",
   "metadata": {},
   "source": [
    "Ajout de l'évolution démographique : calcul de l'évolution moyenne sur la période 2010-2017."
   ]
  },
  {
   "cell_type": "code",
   "execution_count": 11,
   "metadata": {},
   "outputs": [
    {
     "data": {
      "text/html": [
       "<div>\n",
       "<style scoped>\n",
       "    .dataframe tbody tr th:only-of-type {\n",
       "        vertical-align: middle;\n",
       "    }\n",
       "\n",
       "    .dataframe tbody tr th {\n",
       "        vertical-align: top;\n",
       "    }\n",
       "\n",
       "    .dataframe thead th {\n",
       "        text-align: right;\n",
       "    }\n",
       "</style>\n",
       "<table border=\"1\" class=\"dataframe\">\n",
       "  <thead>\n",
       "    <tr style=\"text-align: right;\">\n",
       "      <th></th>\n",
       "      <th>code_zone</th>\n",
       "      <th>zone</th>\n",
       "      <th>evolution_population_%</th>\n",
       "    </tr>\n",
       "  </thead>\n",
       "  <tbody>\n",
       "    <tr>\n",
       "      <th>0</th>\n",
       "      <td>1</td>\n",
       "      <td>Arménie</td>\n",
       "      <td>-0.22</td>\n",
       "    </tr>\n",
       "    <tr>\n",
       "      <th>1</th>\n",
       "      <td>2</td>\n",
       "      <td>Afghanistan</td>\n",
       "      <td>3.29</td>\n",
       "    </tr>\n",
       "    <tr>\n",
       "      <th>2</th>\n",
       "      <td>3</td>\n",
       "      <td>Albanie</td>\n",
       "      <td>-0.45</td>\n",
       "    </tr>\n",
       "  </tbody>\n",
       "</table>\n",
       "</div>"
      ],
      "text/plain": [
       "   code_zone         zone  evolution_population_%\n",
       "0          1      Arménie                   -0.22\n",
       "1          2  Afghanistan                    3.29\n",
       "2          3      Albanie                   -0.45"
      ]
     },
     "execution_count": 11,
     "metadata": {},
     "output_type": "execute_result"
    }
   ],
   "source": [
    "# Crée le DataFrame final à partir de celui de la population\n",
    "df_final = df_population.copy()\n",
    "\n",
    "# Pivote 'code_zone' et 'zone'\n",
    "df_final = df_final.pivot_table(\n",
    "    index='annee', columns=['code_zone', 'zone'],values='valeur')\n",
    "\n",
    "# Complète les valeurs des années manquantes par celles de la ligne précédente\n",
    "df_final = df_final.fillna(method='bfill', axis='rows')\n",
    "\n",
    "# Calcule l'écart en pourcentage entre deux lignes\n",
    "df_final = df_final.pct_change()\n",
    "\n",
    "# Calcule la moyenne de chaque colonne\n",
    "df_final = (\n",
    "    (df_final.mean()*100).round(2)\n",
    "    .to_frame(name='evolution_population_%')\n",
    "    .reset_index()\n",
    ")\n",
    "\n",
    "df_final.head(3)"
   ]
  },
  {
   "cell_type": "markdown",
   "metadata": {},
   "source": [
    "#### `df_disponibilite`"
   ]
  },
  {
   "cell_type": "code",
   "execution_count": 12,
   "metadata": {},
   "outputs": [
    {
     "data": {
      "text/html": [
       "<div>\n",
       "<style scoped>\n",
       "    .dataframe tbody tr th:only-of-type {\n",
       "        vertical-align: middle;\n",
       "    }\n",
       "\n",
       "    .dataframe tbody tr th {\n",
       "        vertical-align: top;\n",
       "    }\n",
       "\n",
       "    .dataframe thead th {\n",
       "        text-align: right;\n",
       "    }\n",
       "</style>\n",
       "<table border=\"1\" class=\"dataframe\">\n",
       "  <thead>\n",
       "    <tr style=\"text-align: right;\">\n",
       "      <th></th>\n",
       "      <th>code_domaine</th>\n",
       "      <th>domaine</th>\n",
       "      <th>code_zone_(fao)</th>\n",
       "      <th>zone</th>\n",
       "      <th>code_element</th>\n",
       "      <th>element</th>\n",
       "      <th>code_produit_(cpc)</th>\n",
       "      <th>produit</th>\n",
       "      <th>code_annee</th>\n",
       "      <th>annee</th>\n",
       "      <th>unite</th>\n",
       "      <th>valeur</th>\n",
       "      <th>symbole</th>\n",
       "      <th>description_du_symbole</th>\n",
       "    </tr>\n",
       "  </thead>\n",
       "  <tbody>\n",
       "    <tr>\n",
       "      <th>0</th>\n",
       "      <td>FBS</td>\n",
       "      <td>Bilans Alimentaires (2010-)</td>\n",
       "      <td>150</td>\n",
       "      <td>Pays-Bas (Royaume des)</td>\n",
       "      <td>5511</td>\n",
       "      <td>Production</td>\n",
       "      <td>F2511</td>\n",
       "      <td>Blé et produits</td>\n",
       "      <td>2017</td>\n",
       "      <td>2017</td>\n",
       "      <td>Milliers de tonnes</td>\n",
       "      <td>1054.0</td>\n",
       "      <td>I</td>\n",
       "      <td>Valeur imputée</td>\n",
       "    </tr>\n",
       "    <tr>\n",
       "      <th>1</th>\n",
       "      <td>FBS</td>\n",
       "      <td>Bilans Alimentaires (2010-)</td>\n",
       "      <td>150</td>\n",
       "      <td>Pays-Bas (Royaume des)</td>\n",
       "      <td>5611</td>\n",
       "      <td>Importations - Quantité</td>\n",
       "      <td>F2511</td>\n",
       "      <td>Blé et produits</td>\n",
       "      <td>2017</td>\n",
       "      <td>2017</td>\n",
       "      <td>Milliers de tonnes</td>\n",
       "      <td>6792.0</td>\n",
       "      <td>I</td>\n",
       "      <td>Valeur imputée</td>\n",
       "    </tr>\n",
       "    <tr>\n",
       "      <th>2</th>\n",
       "      <td>FBS</td>\n",
       "      <td>Bilans Alimentaires (2010-)</td>\n",
       "      <td>150</td>\n",
       "      <td>Pays-Bas (Royaume des)</td>\n",
       "      <td>5911</td>\n",
       "      <td>Exportations - Quantité</td>\n",
       "      <td>F2511</td>\n",
       "      <td>Blé et produits</td>\n",
       "      <td>2017</td>\n",
       "      <td>2017</td>\n",
       "      <td>Milliers de tonnes</td>\n",
       "      <td>1609.0</td>\n",
       "      <td>I</td>\n",
       "      <td>Valeur imputée</td>\n",
       "    </tr>\n",
       "  </tbody>\n",
       "</table>\n",
       "</div>"
      ],
      "text/plain": [
       "  code_domaine                      domaine  code_zone_(fao)  \\\n",
       "0          FBS  Bilans Alimentaires (2010-)              150   \n",
       "1          FBS  Bilans Alimentaires (2010-)              150   \n",
       "2          FBS  Bilans Alimentaires (2010-)              150   \n",
       "\n",
       "                     zone  code_element                  element  \\\n",
       "0  Pays-Bas (Royaume des)          5511               Production   \n",
       "1  Pays-Bas (Royaume des)          5611  Importations - Quantité   \n",
       "2  Pays-Bas (Royaume des)          5911  Exportations - Quantité   \n",
       "\n",
       "  code_produit_(cpc)          produit  code_annee  annee               unite  \\\n",
       "0              F2511  Blé et produits        2017   2017  Milliers de tonnes   \n",
       "1              F2511  Blé et produits        2017   2017  Milliers de tonnes   \n",
       "2              F2511  Blé et produits        2017   2017  Milliers de tonnes   \n",
       "\n",
       "   valeur symbole description_du_symbole  \n",
       "0  1054.0       I         Valeur imputée  \n",
       "1  6792.0       I         Valeur imputée  \n",
       "2  1609.0       I         Valeur imputée  "
      ]
     },
     "execution_count": 12,
     "metadata": {},
     "output_type": "execute_result"
    }
   ],
   "source": [
    "df_disponibilite.head(3)"
   ]
  },
  {
   "cell_type": "markdown",
   "metadata": {},
   "source": [
    "1. Ajout de la part de consommation de poulet."
   ]
  },
  {
   "cell_type": "markdown",
   "metadata": {},
   "source": [
    "Nous souhaitons récupérer la disponibilité de poulet, hors tous les produits sont présents dans nos données. Nous allons donc chercher le nom de produit qui correspond au poulet."
   ]
  },
  {
   "cell_type": "code",
   "execution_count": 13,
   "metadata": {},
   "outputs": [
    {
     "data": {
      "text/plain": [
       "array(['Viande de Volailles'], dtype=object)"
      ]
     },
     "execution_count": 13,
     "metadata": {},
     "output_type": "execute_result"
    }
   ],
   "source": [
    "df_disponibilite.loc[\n",
    "    df_disponibilite['produit'].str.contains('poulet|volaille|dinde', case=False\n",
    "    )]['produit'].unique()"
   ]
  },
  {
   "cell_type": "markdown",
   "metadata": {},
   "source": [
    "On peut maintenant ajouter la part de consommation de viande de volailles à notre *dataset* final."
   ]
  },
  {
   "cell_type": "code",
   "execution_count": 14,
   "metadata": {},
   "outputs": [
    {
     "data": {
      "text/html": [
       "<div>\n",
       "<style scoped>\n",
       "    .dataframe tbody tr th:only-of-type {\n",
       "        vertical-align: middle;\n",
       "    }\n",
       "\n",
       "    .dataframe tbody tr th {\n",
       "        vertical-align: top;\n",
       "    }\n",
       "\n",
       "    .dataframe thead th {\n",
       "        text-align: right;\n",
       "    }\n",
       "</style>\n",
       "<table border=\"1\" class=\"dataframe\">\n",
       "  <thead>\n",
       "    <tr style=\"text-align: right;\">\n",
       "      <th></th>\n",
       "      <th>code_zone</th>\n",
       "      <th>zone</th>\n",
       "      <th>evolution_population_%</th>\n",
       "      <th>part_conso_volailles_%</th>\n",
       "    </tr>\n",
       "  </thead>\n",
       "  <tbody>\n",
       "    <tr>\n",
       "      <th>0</th>\n",
       "      <td>1</td>\n",
       "      <td>Arménie</td>\n",
       "      <td>-0.22</td>\n",
       "      <td>1.488499</td>\n",
       "    </tr>\n",
       "    <tr>\n",
       "      <th>1</th>\n",
       "      <td>2</td>\n",
       "      <td>Afghanistan</td>\n",
       "      <td>3.29</td>\n",
       "      <td>0.448368</td>\n",
       "    </tr>\n",
       "    <tr>\n",
       "      <th>2</th>\n",
       "      <td>3</td>\n",
       "      <td>Albanie</td>\n",
       "      <td>-0.45</td>\n",
       "      <td>0.979548</td>\n",
       "    </tr>\n",
       "  </tbody>\n",
       "</table>\n",
       "</div>"
      ],
      "text/plain": [
       "   code_zone         zone  evolution_population_%  part_conso_volailles_%\n",
       "0          1      Arménie                   -0.22                1.488499\n",
       "1          2  Afghanistan                    3.29                0.448368\n",
       "2          3      Albanie                   -0.45                0.979548"
      ]
     },
     "execution_count": 14,
     "metadata": {},
     "output_type": "execute_result"
    }
   ],
   "source": [
    "# Crée un DataFrame temporaire en filtrant 'element'\n",
    "df_temp = df_disponibilite.loc[df_disponibilite['element'] == 'Nourriture']\n",
    "\n",
    "# Pivote 'produit'\n",
    "df_temp = df_temp.pivot_table(\n",
    "    index='code_zone_(fao)', columns='produit', values='valeur'\n",
    ")\n",
    "\n",
    "# Calcul la part de consommation de volaille\n",
    "df_temp['part_conso_volailles_%'] = (df_temp['Viande de Volailles'] \n",
    "                                    / df_temp.sum(axis='columns')*100)\n",
    "\n",
    "# Réinitialise l'index\n",
    "df_temp = df_temp.reset_index().rename_axis(None, axis='columns')\n",
    "\n",
    "# Ajoute la variable à 'df_final'\n",
    "df_final = pd.merge(\n",
    "    df_final,\n",
    "    df_temp[['code_zone_(fao)', 'part_conso_volailles_%']],\n",
    "    how='left',\n",
    "    left_on='code_zone',\n",
    "    right_on='code_zone_(fao)'\n",
    ").drop(columns='code_zone_(fao)')\n",
    "\n",
    "del df_temp\n",
    "\n",
    "df_final.head(3)"
   ]
  },
  {
   "cell_type": "markdown",
   "metadata": {},
   "source": [
    "2. Ajout des importations de volailles."
   ]
  },
  {
   "cell_type": "code",
   "execution_count": 15,
   "metadata": {},
   "outputs": [
    {
     "data": {
      "text/html": [
       "<div>\n",
       "<style scoped>\n",
       "    .dataframe tbody tr th:only-of-type {\n",
       "        vertical-align: middle;\n",
       "    }\n",
       "\n",
       "    .dataframe tbody tr th {\n",
       "        vertical-align: top;\n",
       "    }\n",
       "\n",
       "    .dataframe thead th {\n",
       "        text-align: right;\n",
       "    }\n",
       "</style>\n",
       "<table border=\"1\" class=\"dataframe\">\n",
       "  <thead>\n",
       "    <tr style=\"text-align: right;\">\n",
       "      <th></th>\n",
       "      <th>code_zone</th>\n",
       "      <th>zone</th>\n",
       "      <th>evolution_population_%</th>\n",
       "      <th>part_conso_volailles_%</th>\n",
       "      <th>importations_volailles_kt</th>\n",
       "    </tr>\n",
       "  </thead>\n",
       "  <tbody>\n",
       "    <tr>\n",
       "      <th>0</th>\n",
       "      <td>1</td>\n",
       "      <td>Arménie</td>\n",
       "      <td>-0.22</td>\n",
       "      <td>1.488499</td>\n",
       "      <td>35.0</td>\n",
       "    </tr>\n",
       "    <tr>\n",
       "      <th>1</th>\n",
       "      <td>2</td>\n",
       "      <td>Afghanistan</td>\n",
       "      <td>3.29</td>\n",
       "      <td>0.448368</td>\n",
       "      <td>29.0</td>\n",
       "    </tr>\n",
       "    <tr>\n",
       "      <th>2</th>\n",
       "      <td>3</td>\n",
       "      <td>Albanie</td>\n",
       "      <td>-0.45</td>\n",
       "      <td>0.979548</td>\n",
       "      <td>20.0</td>\n",
       "    </tr>\n",
       "  </tbody>\n",
       "</table>\n",
       "</div>"
      ],
      "text/plain": [
       "   code_zone         zone  evolution_population_%  part_conso_volailles_%  \\\n",
       "0          1      Arménie                   -0.22                1.488499   \n",
       "1          2  Afghanistan                    3.29                0.448368   \n",
       "2          3      Albanie                   -0.45                0.979548   \n",
       "\n",
       "   importations_volailles_kt  \n",
       "0                       35.0  \n",
       "1                       29.0  \n",
       "2                       20.0  "
      ]
     },
     "execution_count": 15,
     "metadata": {},
     "output_type": "execute_result"
    }
   ],
   "source": [
    "# Crée un DataFrame temporaire en filtrant 'element' et 'produit'\n",
    "df_temp = df_disponibilite.loc[\n",
    "    (df_disponibilite['element'] == 'Importations - Quantité')\n",
    "    & (df_disponibilite['produit'] == 'Viande de Volailles')\n",
    "]\n",
    "\n",
    "# Ajoute la variable à 'df_final'\n",
    "df_final = pd.merge(\n",
    "    df_final,\n",
    "    df_temp[['code_zone_(fao)', 'valeur']],\n",
    "    how='left',\n",
    "    left_on='code_zone',\n",
    "    right_on='code_zone_(fao)'\n",
    ").drop(columns='code_zone_(fao)')\n",
    "\n",
    "# Renomme la variable 'valeur'\n",
    "df_final = df_final.rename(\n",
    "    columns={'valeur': 'importations_volailles_kt'})\n",
    "\n",
    "del df_temp\n",
    "\n",
    "df_final.head(3)"
   ]
  },
  {
   "cell_type": "markdown",
   "metadata": {},
   "source": [
    "3. Ajout du taux d'autosuffisance (TAS).\n",
    "\n",
    "Cette indicateur se calcule de la manière suivante :\n",
    "\n",
    "* $TAS = \\frac{Production}{Production + Importations - Exportations}\\times100$"
   ]
  },
  {
   "cell_type": "code",
   "execution_count": 16,
   "metadata": {},
   "outputs": [
    {
     "data": {
      "text/html": [
       "<div>\n",
       "<style scoped>\n",
       "    .dataframe tbody tr th:only-of-type {\n",
       "        vertical-align: middle;\n",
       "    }\n",
       "\n",
       "    .dataframe tbody tr th {\n",
       "        vertical-align: top;\n",
       "    }\n",
       "\n",
       "    .dataframe thead th {\n",
       "        text-align: right;\n",
       "    }\n",
       "</style>\n",
       "<table border=\"1\" class=\"dataframe\">\n",
       "  <thead>\n",
       "    <tr style=\"text-align: right;\">\n",
       "      <th></th>\n",
       "      <th>code_zone</th>\n",
       "      <th>zone</th>\n",
       "      <th>evolution_population_%</th>\n",
       "      <th>part_conso_volailles_%</th>\n",
       "      <th>importations_volailles_kt</th>\n",
       "      <th>tas_volailles_%</th>\n",
       "    </tr>\n",
       "  </thead>\n",
       "  <tbody>\n",
       "    <tr>\n",
       "      <th>0</th>\n",
       "      <td>1</td>\n",
       "      <td>Arménie</td>\n",
       "      <td>-0.22</td>\n",
       "      <td>1.488499</td>\n",
       "      <td>35.0</td>\n",
       "      <td>93.696200</td>\n",
       "    </tr>\n",
       "    <tr>\n",
       "      <th>1</th>\n",
       "      <td>2</td>\n",
       "      <td>Afghanistan</td>\n",
       "      <td>3.29</td>\n",
       "      <td>0.448368</td>\n",
       "      <td>29.0</td>\n",
       "      <td>81.869816</td>\n",
       "    </tr>\n",
       "    <tr>\n",
       "      <th>2</th>\n",
       "      <td>3</td>\n",
       "      <td>Albanie</td>\n",
       "      <td>-0.45</td>\n",
       "      <td>0.979548</td>\n",
       "      <td>20.0</td>\n",
       "      <td>92.144814</td>\n",
       "    </tr>\n",
       "  </tbody>\n",
       "</table>\n",
       "</div>"
      ],
      "text/plain": [
       "   code_zone         zone  evolution_population_%  part_conso_volailles_%  \\\n",
       "0          1      Arménie                   -0.22                1.488499   \n",
       "1          2  Afghanistan                    3.29                0.448368   \n",
       "2          3      Albanie                   -0.45                0.979548   \n",
       "\n",
       "   importations_volailles_kt  tas_volailles_%  \n",
       "0                       35.0        93.696200  \n",
       "1                       29.0        81.869816  \n",
       "2                       20.0        92.144814  "
      ]
     },
     "execution_count": 16,
     "metadata": {},
     "output_type": "execute_result"
    }
   ],
   "source": [
    "# Crée un DataFrame temporaire en filtrant 'produit'\n",
    "df_temp = df_disponibilite.loc[\n",
    "    df_disponibilite['produit'] == 'Viande de Volailles']\n",
    "\n",
    "# Pivote 'element'\n",
    "df_temp =  df_disponibilite.pivot_table(\n",
    "    index='code_zone_(fao)', columns='element', values='valeur'\n",
    ").reset_index().rename_axis(None, axis='columns')\n",
    "\n",
    "# Calcul le taux d'autosuffisance\n",
    "df_temp['tas_volailles_%'] = (\n",
    "    df_temp['Production']\n",
    "    / (df_temp['Production']\n",
    "       + df_temp['Importations - Quantité']\n",
    "       - df_temp['Exportations - Quantité']) * 100\n",
    ")\n",
    "\n",
    "# Ajoute la variable à 'df_final'\n",
    "df_final = pd.merge(\n",
    "    df_final,\n",
    "    df_temp[['code_zone_(fao)', 'tas_volailles_%']],\n",
    "    how='left',\n",
    "    left_on='code_zone',\n",
    "    right_on='code_zone_(fao)'\n",
    ").drop(columns='code_zone_(fao)')\n",
    "\n",
    "del df_temp\n",
    "\n",
    "df_final.head(3)"
   ]
  },
  {
   "cell_type": "markdown",
   "metadata": {},
   "source": [
    "#### `df_macro`"
   ]
  },
  {
   "cell_type": "code",
   "execution_count": 19,
   "metadata": {},
   "outputs": [
    {
     "data": {
      "text/html": [
       "<div>\n",
       "<style scoped>\n",
       "    .dataframe tbody tr th:only-of-type {\n",
       "        vertical-align: middle;\n",
       "    }\n",
       "\n",
       "    .dataframe tbody tr th {\n",
       "        vertical-align: top;\n",
       "    }\n",
       "\n",
       "    .dataframe thead th {\n",
       "        text-align: right;\n",
       "    }\n",
       "</style>\n",
       "<table border=\"1\" class=\"dataframe\">\n",
       "  <thead>\n",
       "    <tr style=\"text-align: right;\">\n",
       "      <th></th>\n",
       "      <th>code_domaine</th>\n",
       "      <th>domaine</th>\n",
       "      <th>code_zone_(fao)</th>\n",
       "      <th>zone</th>\n",
       "      <th>code_element</th>\n",
       "      <th>element</th>\n",
       "      <th>code_produit</th>\n",
       "      <th>produit</th>\n",
       "      <th>code_annee</th>\n",
       "      <th>annee</th>\n",
       "      <th>unite</th>\n",
       "      <th>valeur</th>\n",
       "      <th>symbole</th>\n",
       "      <th>description_du_symbole</th>\n",
       "      <th>note</th>\n",
       "    </tr>\n",
       "  </thead>\n",
       "  <tbody>\n",
       "    <tr>\n",
       "      <th>0</th>\n",
       "      <td>MK</td>\n",
       "      <td>Indicateurs macro</td>\n",
       "      <td>2</td>\n",
       "      <td>Afghanistan</td>\n",
       "      <td>6119</td>\n",
       "      <td>Valeur US $ par habitant</td>\n",
       "      <td>22008</td>\n",
       "      <td>Produit Intérieur Brut</td>\n",
       "      <td>2017</td>\n",
       "      <td>2017</td>\n",
       "      <td>US$</td>\n",
       "      <td>530.149831</td>\n",
       "      <td>X</td>\n",
       "      <td>Ciffre de sources internationales</td>\n",
       "      <td>NaN</td>\n",
       "    </tr>\n",
       "    <tr>\n",
       "      <th>1</th>\n",
       "      <td>MK</td>\n",
       "      <td>Indicateurs macro</td>\n",
       "      <td>2</td>\n",
       "      <td>Afghanistan</td>\n",
       "      <td>6129</td>\n",
       "      <td>Croissance annuelle US$</td>\n",
       "      <td>22008</td>\n",
       "      <td>Produit Intérieur Brut</td>\n",
       "      <td>2017</td>\n",
       "      <td>2017</td>\n",
       "      <td>%</td>\n",
       "      <td>4.865790</td>\n",
       "      <td>X</td>\n",
       "      <td>Ciffre de sources internationales</td>\n",
       "      <td>NaN</td>\n",
       "    </tr>\n",
       "    <tr>\n",
       "      <th>2</th>\n",
       "      <td>MK</td>\n",
       "      <td>Indicateurs macro</td>\n",
       "      <td>2</td>\n",
       "      <td>Afghanistan</td>\n",
       "      <td>6119</td>\n",
       "      <td>Valeur US $ par habitant</td>\n",
       "      <td>22011</td>\n",
       "      <td>Revenu national brut</td>\n",
       "      <td>2017</td>\n",
       "      <td>2017</td>\n",
       "      <td>US$</td>\n",
       "      <td>537.126294</td>\n",
       "      <td>X</td>\n",
       "      <td>Ciffre de sources internationales</td>\n",
       "      <td>NaN</td>\n",
       "    </tr>\n",
       "  </tbody>\n",
       "</table>\n",
       "</div>"
      ],
      "text/plain": [
       "  code_domaine            domaine  code_zone_(fao)         zone  code_element  \\\n",
       "0           MK  Indicateurs macro                2  Afghanistan          6119   \n",
       "1           MK  Indicateurs macro                2  Afghanistan          6129   \n",
       "2           MK  Indicateurs macro                2  Afghanistan          6119   \n",
       "\n",
       "                    element  code_produit                 produit  code_annee  \\\n",
       "0  Valeur US $ par habitant         22008  Produit Intérieur Brut        2017   \n",
       "1   Croissance annuelle US$         22008  Produit Intérieur Brut        2017   \n",
       "2  Valeur US $ par habitant         22011    Revenu national brut        2017   \n",
       "\n",
       "   annee unite      valeur symbole             description_du_symbole  note  \n",
       "0   2017   US$  530.149831       X  Ciffre de sources internationales   NaN  \n",
       "1   2017     %    4.865790       X  Ciffre de sources internationales   NaN  \n",
       "2   2017   US$  537.126294       X  Ciffre de sources internationales   NaN  "
      ]
     },
     "execution_count": 19,
     "metadata": {},
     "output_type": "execute_result"
    }
   ],
   "source": [
    "df_macro.head(3)"
   ]
  },
  {
   "cell_type": "markdown",
   "metadata": {},
   "source": [
    "Ajout du taux de croissance et du revenu par habitant."
   ]
  },
  {
   "cell_type": "code",
   "execution_count": 20,
   "metadata": {},
   "outputs": [
    {
     "data": {
      "text/html": [
       "<div>\n",
       "<style scoped>\n",
       "    .dataframe tbody tr th:only-of-type {\n",
       "        vertical-align: middle;\n",
       "    }\n",
       "\n",
       "    .dataframe tbody tr th {\n",
       "        vertical-align: top;\n",
       "    }\n",
       "\n",
       "    .dataframe thead th {\n",
       "        text-align: right;\n",
       "    }\n",
       "</style>\n",
       "<table border=\"1\" class=\"dataframe\">\n",
       "  <thead>\n",
       "    <tr style=\"text-align: right;\">\n",
       "      <th></th>\n",
       "      <th>code_zone</th>\n",
       "      <th>zone</th>\n",
       "      <th>evolution_population_%</th>\n",
       "      <th>part_conso_volailles_%</th>\n",
       "      <th>importations_volailles_kt</th>\n",
       "      <th>tas_volailles_%</th>\n",
       "      <th>croissance_annuelle_%</th>\n",
       "      <th>revenu_par_habitant_usd</th>\n",
       "    </tr>\n",
       "  </thead>\n",
       "  <tbody>\n",
       "    <tr>\n",
       "      <th>0</th>\n",
       "      <td>1</td>\n",
       "      <td>Arménie</td>\n",
       "      <td>-0.22</td>\n",
       "      <td>1.488499</td>\n",
       "      <td>35.0</td>\n",
       "      <td>93.696200</td>\n",
       "      <td>9.305043</td>\n",
       "      <td>4184.835842</td>\n",
       "    </tr>\n",
       "    <tr>\n",
       "      <th>1</th>\n",
       "      <td>2</td>\n",
       "      <td>Afghanistan</td>\n",
       "      <td>3.29</td>\n",
       "      <td>0.448368</td>\n",
       "      <td>29.0</td>\n",
       "      <td>81.869816</td>\n",
       "      <td>4.865790</td>\n",
       "      <td>537.126294</td>\n",
       "    </tr>\n",
       "    <tr>\n",
       "      <th>2</th>\n",
       "      <td>3</td>\n",
       "      <td>Albanie</td>\n",
       "      <td>-0.45</td>\n",
       "      <td>0.979548</td>\n",
       "      <td>20.0</td>\n",
       "      <td>92.144814</td>\n",
       "      <td>9.765944</td>\n",
       "      <td>4532.791976</td>\n",
       "    </tr>\n",
       "  </tbody>\n",
       "</table>\n",
       "</div>"
      ],
      "text/plain": [
       "   code_zone         zone  evolution_population_%  part_conso_volailles_%  \\\n",
       "0          1      Arménie                   -0.22                1.488499   \n",
       "1          2  Afghanistan                    3.29                0.448368   \n",
       "2          3      Albanie                   -0.45                0.979548   \n",
       "\n",
       "   importations_volailles_kt  tas_volailles_%  croissance_annuelle_%  \\\n",
       "0                       35.0        93.696200               9.305043   \n",
       "1                       29.0        81.869816               4.865790   \n",
       "2                       20.0        92.144814               9.765944   \n",
       "\n",
       "   revenu_par_habitant_usd  \n",
       "0              4184.835842  \n",
       "1               537.126294  \n",
       "2              4532.791976  "
      ]
     },
     "execution_count": 20,
     "metadata": {},
     "output_type": "execute_result"
    }
   ],
   "source": [
    "# Crée un DataFrame temporaire en filtrant 'element' et 'produit'\n",
    "df_temp = df_macro.loc[\n",
    "    (\n",
    "        (df_macro['element'] == 'Croissance annuelle US$')\n",
    "        & (df_macro['produit'] == 'Produit Intérieur Brut')\n",
    "    )\n",
    "    | (\n",
    "        (df_macro['element'] == 'Valeur US $ par habitant')\n",
    "        & (df_macro['produit'] == 'Revenu national brut')\n",
    "    )\n",
    "]\n",
    "\n",
    "# Pivote 'element'\n",
    "df_temp =  df_temp.pivot_table(\n",
    "    index='code_zone_(fao)', columns='element', values='valeur'\n",
    ").reset_index().rename_axis(None, axis='columns')\n",
    "\n",
    "# Ajoute les variables à 'df_final'\n",
    "df_final = pd.merge(\n",
    "    df_final,\n",
    "    df_temp[['code_zone_(fao)', 'Croissance annuelle US$',\n",
    "             'Valeur US $ par habitant']],\n",
    "    how='left',\n",
    "    left_on='code_zone',\n",
    "    right_on='code_zone_(fao)'\n",
    ").drop(columns='code_zone_(fao)')\n",
    "\n",
    "# Renomme les variables\n",
    "df_final = df_final.rename(\n",
    "    columns={'Croissance annuelle US$': 'croissance_annuelle_%',\n",
    "             'Valeur US $ par habitant': 'revenu_par_habitant_usd'}\n",
    ")\n",
    "\n",
    "del df_temp\n",
    "\n",
    "df_final.head(3)"
   ]
  },
  {
   "cell_type": "markdown",
   "metadata": {},
   "source": [
    "#### `df_securite`"
   ]
  },
  {
   "cell_type": "code",
   "execution_count": 23,
   "metadata": {},
   "outputs": [
    {
     "data": {
      "text/html": [
       "<div>\n",
       "<style scoped>\n",
       "    .dataframe tbody tr th:only-of-type {\n",
       "        vertical-align: middle;\n",
       "    }\n",
       "\n",
       "    .dataframe tbody tr th {\n",
       "        vertical-align: top;\n",
       "    }\n",
       "\n",
       "    .dataframe thead th {\n",
       "        text-align: right;\n",
       "    }\n",
       "</style>\n",
       "<table border=\"1\" class=\"dataframe\">\n",
       "  <thead>\n",
       "    <tr style=\"text-align: right;\">\n",
       "      <th></th>\n",
       "      <th>code_domaine</th>\n",
       "      <th>domaine</th>\n",
       "      <th>code_zone_(fao)</th>\n",
       "      <th>zone</th>\n",
       "      <th>code_element</th>\n",
       "      <th>element</th>\n",
       "      <th>code_produit</th>\n",
       "      <th>produit</th>\n",
       "      <th>code_annee</th>\n",
       "      <th>annee</th>\n",
       "      <th>unite</th>\n",
       "      <th>valeur</th>\n",
       "      <th>symbole</th>\n",
       "      <th>description_du_symbole</th>\n",
       "      <th>note</th>\n",
       "    </tr>\n",
       "  </thead>\n",
       "  <tbody>\n",
       "    <tr>\n",
       "      <th>0</th>\n",
       "      <td>FS</td>\n",
       "      <td>Données de la sécurité alimentaire</td>\n",
       "      <td>150</td>\n",
       "      <td>Pays-Bas (Royaume des)</td>\n",
       "      <td>6125</td>\n",
       "      <td>Valeur</td>\n",
       "      <td>21032</td>\n",
       "      <td>Stabilité politique et absence de violence/ter...</td>\n",
       "      <td>2017</td>\n",
       "      <td>2017</td>\n",
       "      <td>indice</td>\n",
       "      <td>0.92</td>\n",
       "      <td>X</td>\n",
       "      <td>Ciffre de sources internationales</td>\n",
       "      <td>NaN</td>\n",
       "    </tr>\n",
       "    <tr>\n",
       "      <th>1</th>\n",
       "      <td>FS</td>\n",
       "      <td>Données de la sécurité alimentaire</td>\n",
       "      <td>2</td>\n",
       "      <td>Afghanistan</td>\n",
       "      <td>6125</td>\n",
       "      <td>Valeur</td>\n",
       "      <td>21032</td>\n",
       "      <td>Stabilité politique et absence de violence/ter...</td>\n",
       "      <td>2017</td>\n",
       "      <td>2017</td>\n",
       "      <td>indice</td>\n",
       "      <td>-2.80</td>\n",
       "      <td>X</td>\n",
       "      <td>Ciffre de sources internationales</td>\n",
       "      <td>NaN</td>\n",
       "    </tr>\n",
       "    <tr>\n",
       "      <th>2</th>\n",
       "      <td>FS</td>\n",
       "      <td>Données de la sécurité alimentaire</td>\n",
       "      <td>202</td>\n",
       "      <td>Afrique du Sud</td>\n",
       "      <td>6125</td>\n",
       "      <td>Valeur</td>\n",
       "      <td>21032</td>\n",
       "      <td>Stabilité politique et absence de violence/ter...</td>\n",
       "      <td>2017</td>\n",
       "      <td>2017</td>\n",
       "      <td>indice</td>\n",
       "      <td>-0.28</td>\n",
       "      <td>X</td>\n",
       "      <td>Ciffre de sources internationales</td>\n",
       "      <td>NaN</td>\n",
       "    </tr>\n",
       "  </tbody>\n",
       "</table>\n",
       "</div>"
      ],
      "text/plain": [
       "  code_domaine                             domaine  code_zone_(fao)  \\\n",
       "0           FS  Données de la sécurité alimentaire              150   \n",
       "1           FS  Données de la sécurité alimentaire                2   \n",
       "2           FS  Données de la sécurité alimentaire              202   \n",
       "\n",
       "                     zone  code_element element  code_produit  \\\n",
       "0  Pays-Bas (Royaume des)          6125  Valeur         21032   \n",
       "1             Afghanistan          6125  Valeur         21032   \n",
       "2          Afrique du Sud          6125  Valeur         21032   \n",
       "\n",
       "                                             produit  code_annee  annee  \\\n",
       "0  Stabilité politique et absence de violence/ter...        2017   2017   \n",
       "1  Stabilité politique et absence de violence/ter...        2017   2017   \n",
       "2  Stabilité politique et absence de violence/ter...        2017   2017   \n",
       "\n",
       "    unite  valeur symbole             description_du_symbole  note  \n",
       "0  indice    0.92       X  Ciffre de sources internationales   NaN  \n",
       "1  indice   -2.80       X  Ciffre de sources internationales   NaN  \n",
       "2  indice   -0.28       X  Ciffre de sources internationales   NaN  "
      ]
     },
     "execution_count": 23,
     "metadata": {},
     "output_type": "execute_result"
    }
   ],
   "source": [
    "df_securite.head(3)"
   ]
  },
  {
   "cell_type": "markdown",
   "metadata": {},
   "source": [
    "On commence par pivoter les produits qui sont les variables dont nous allons avoir besoin."
   ]
  },
  {
   "cell_type": "code",
   "execution_count": 24,
   "metadata": {},
   "outputs": [
    {
     "data": {
      "text/html": [
       "<div>\n",
       "<style scoped>\n",
       "    .dataframe tbody tr th:only-of-type {\n",
       "        vertical-align: middle;\n",
       "    }\n",
       "\n",
       "    .dataframe tbody tr th {\n",
       "        vertical-align: top;\n",
       "    }\n",
       "\n",
       "    .dataframe thead th {\n",
       "        text-align: right;\n",
       "    }\n",
       "</style>\n",
       "<table border=\"1\" class=\"dataframe\">\n",
       "  <thead>\n",
       "    <tr style=\"text-align: right;\">\n",
       "      <th></th>\n",
       "      <th>code_zone_(fao)</th>\n",
       "      <th>Stabilité politique et absence de violence/terrorisme (indice)</th>\n",
       "    </tr>\n",
       "  </thead>\n",
       "  <tbody>\n",
       "    <tr>\n",
       "      <th>0</th>\n",
       "      <td>1</td>\n",
       "      <td>-0.62</td>\n",
       "    </tr>\n",
       "    <tr>\n",
       "      <th>1</th>\n",
       "      <td>2</td>\n",
       "      <td>-2.80</td>\n",
       "    </tr>\n",
       "    <tr>\n",
       "      <th>2</th>\n",
       "      <td>3</td>\n",
       "      <td>0.38</td>\n",
       "    </tr>\n",
       "    <tr>\n",
       "      <th>3</th>\n",
       "      <td>4</td>\n",
       "      <td>-0.92</td>\n",
       "    </tr>\n",
       "    <tr>\n",
       "      <th>4</th>\n",
       "      <td>5</td>\n",
       "      <td>1.22</td>\n",
       "    </tr>\n",
       "    <tr>\n",
       "      <th>...</th>\n",
       "      <td>...</td>\n",
       "      <td>...</td>\n",
       "    </tr>\n",
       "    <tr>\n",
       "      <th>191</th>\n",
       "      <td>272</td>\n",
       "      <td>0.09</td>\n",
       "    </tr>\n",
       "    <tr>\n",
       "      <th>192</th>\n",
       "      <td>273</td>\n",
       "      <td>-0.06</td>\n",
       "    </tr>\n",
       "    <tr>\n",
       "      <th>193</th>\n",
       "      <td>276</td>\n",
       "      <td>-1.98</td>\n",
       "    </tr>\n",
       "    <tr>\n",
       "      <th>194</th>\n",
       "      <td>277</td>\n",
       "      <td>-2.45</td>\n",
       "    </tr>\n",
       "    <tr>\n",
       "      <th>195</th>\n",
       "      <td>299</td>\n",
       "      <td>-1.66</td>\n",
       "    </tr>\n",
       "  </tbody>\n",
       "</table>\n",
       "<p>196 rows × 2 columns</p>\n",
       "</div>"
      ],
      "text/plain": [
       "     code_zone_(fao)  \\\n",
       "0                  1   \n",
       "1                  2   \n",
       "2                  3   \n",
       "3                  4   \n",
       "4                  5   \n",
       "..               ...   \n",
       "191              272   \n",
       "192              273   \n",
       "193              276   \n",
       "194              277   \n",
       "195              299   \n",
       "\n",
       "     Stabilité politique et absence de violence/terrorisme (indice)  \n",
       "0                                                -0.62               \n",
       "1                                                -2.80               \n",
       "2                                                 0.38               \n",
       "3                                                -0.92               \n",
       "4                                                 1.22               \n",
       "..                                                 ...               \n",
       "191                                               0.09               \n",
       "192                                              -0.06               \n",
       "193                                              -1.98               \n",
       "194                                              -2.45               \n",
       "195                                              -1.66               \n",
       "\n",
       "[196 rows x 2 columns]"
      ]
     },
     "execution_count": 24,
     "metadata": {},
     "output_type": "execute_result"
    }
   ],
   "source": [
    "df_securite.pivot_table(\n",
    "    index='code_zone_(fao)', columns='produit', values='valeur'\n",
    ").reset_index().rename_axis(None, axis='columns')"
   ]
  },
  {
   "cell_type": "code",
   "execution_count": 25,
   "metadata": {},
   "outputs": [
    {
     "data": {
      "text/html": [
       "<div>\n",
       "<style scoped>\n",
       "    .dataframe tbody tr th:only-of-type {\n",
       "        vertical-align: middle;\n",
       "    }\n",
       "\n",
       "    .dataframe tbody tr th {\n",
       "        vertical-align: top;\n",
       "    }\n",
       "\n",
       "    .dataframe thead th {\n",
       "        text-align: right;\n",
       "    }\n",
       "</style>\n",
       "<table border=\"1\" class=\"dataframe\">\n",
       "  <thead>\n",
       "    <tr style=\"text-align: right;\">\n",
       "      <th></th>\n",
       "      <th>code_zone</th>\n",
       "      <th>zone</th>\n",
       "      <th>evolution_population_%</th>\n",
       "      <th>part_conso_volailles_%</th>\n",
       "      <th>importations_volailles_kt</th>\n",
       "      <th>tas_volailles_%</th>\n",
       "      <th>croissance_annuelle_%</th>\n",
       "      <th>revenu_par_habitant_usd</th>\n",
       "      <th>indice_stabilite_politique</th>\n",
       "    </tr>\n",
       "  </thead>\n",
       "  <tbody>\n",
       "    <tr>\n",
       "      <th>0</th>\n",
       "      <td>1</td>\n",
       "      <td>Arménie</td>\n",
       "      <td>-0.22</td>\n",
       "      <td>1.488499</td>\n",
       "      <td>35.0</td>\n",
       "      <td>93.696200</td>\n",
       "      <td>9.305043</td>\n",
       "      <td>4184.835842</td>\n",
       "      <td>-0.62</td>\n",
       "    </tr>\n",
       "    <tr>\n",
       "      <th>1</th>\n",
       "      <td>2</td>\n",
       "      <td>Afghanistan</td>\n",
       "      <td>3.29</td>\n",
       "      <td>0.448368</td>\n",
       "      <td>29.0</td>\n",
       "      <td>81.869816</td>\n",
       "      <td>4.865790</td>\n",
       "      <td>537.126294</td>\n",
       "      <td>-2.80</td>\n",
       "    </tr>\n",
       "    <tr>\n",
       "      <th>2</th>\n",
       "      <td>3</td>\n",
       "      <td>Albanie</td>\n",
       "      <td>-0.45</td>\n",
       "      <td>0.979548</td>\n",
       "      <td>20.0</td>\n",
       "      <td>92.144814</td>\n",
       "      <td>9.765944</td>\n",
       "      <td>4532.791976</td>\n",
       "      <td>0.38</td>\n",
       "    </tr>\n",
       "  </tbody>\n",
       "</table>\n",
       "</div>"
      ],
      "text/plain": [
       "   code_zone         zone  evolution_population_%  part_conso_volailles_%  \\\n",
       "0          1      Arménie                   -0.22                1.488499   \n",
       "1          2  Afghanistan                    3.29                0.448368   \n",
       "2          3      Albanie                   -0.45                0.979548   \n",
       "\n",
       "   importations_volailles_kt  tas_volailles_%  croissance_annuelle_%  \\\n",
       "0                       35.0        93.696200               9.305043   \n",
       "1                       29.0        81.869816               4.865790   \n",
       "2                       20.0        92.144814               9.765944   \n",
       "\n",
       "   revenu_par_habitant_usd  indice_stabilite_politique  \n",
       "0              4184.835842                       -0.62  \n",
       "1               537.126294                       -2.80  \n",
       "2              4532.791976                        0.38  "
      ]
     },
     "execution_count": 25,
     "metadata": {},
     "output_type": "execute_result"
    }
   ],
   "source": [
    "# Crée un DataFrame temporaire en pivotant 'element'\n",
    "df_temp = df_securite.pivot_table(\n",
    "    index='code_zone_(fao)', columns='produit', values='valeur'\n",
    ").reset_index().rename_axis(None, axis='columns')\n",
    "\n",
    "# Ajoute la variable à 'df_final'\n",
    "df_final = pd.merge(\n",
    "    df_final,\n",
    "    df_temp[['code_zone_(fao)',\n",
    "             'Stabilité politique et absence de violence/terrorisme (indice)']],\n",
    "    how='left',\n",
    "    left_on='code_zone',\n",
    "    right_on='code_zone_(fao)'\n",
    ").drop(columns='code_zone_(fao)')\n",
    "\n",
    "# Renomme la variable 'valeur'\n",
    "df_final = df_final.rename(\n",
    "    columns={'Stabilité politique et absence de violence/terrorisme (indice)':\n",
    "             'indice_stabilite_politique'}\n",
    ")\n",
    "\n",
    "del df_temp\n",
    "\n",
    "df_final.head(3)"
   ]
  },
  {
   "cell_type": "markdown",
   "metadata": {},
   "source": [
    "#### `df_utilisation`"
   ]
  },
  {
   "cell_type": "code",
   "execution_count": 27,
   "metadata": {},
   "outputs": [],
   "source": [
    "# df_utilisation.head(3)"
   ]
  },
  {
   "cell_type": "markdown",
   "metadata": {},
   "source": [
    "Ajout de la part de superficie des terres agricoles."
   ]
  },
  {
   "cell_type": "code",
   "execution_count": 28,
   "metadata": {},
   "outputs": [],
   "source": [
    "# # Crée un DataFrame temporaire en pivotant les variables\n",
    "# df_temp =  df_utilisation.pivot_table(\n",
    "#     index='code_zone_(fao)', values='valeur'\n",
    "# ).reset_index().rename_axis(None, axis='columns')\n",
    "\n",
    "# # Ajoute la variable à 'df_final'\n",
    "# df_final = pd.merge(\n",
    "#     df_final,\n",
    "#     df_temp[['code_zone_(fao)', 'valeur']],\n",
    "#     how='left',\n",
    "#     left_on='code_zone',\n",
    "#     right_on='code_zone_(fao)'\n",
    "# ).drop(columns='code_zone_(fao)')\n",
    "\n",
    "# # Renomme la variable 'valeur'\n",
    "# df_final = df_final.rename(\n",
    "#     columns={'valeur': 'part_terres_agricoles_%'})\n",
    "\n",
    "# del df_temp\n",
    "\n",
    "# df_final.head(3)"
   ]
  },
  {
   "cell_type": "markdown",
   "metadata": {},
   "source": [
    "Nos *DataFrames* source ne sont plus nécessaires. On les supprime."
   ]
  },
  {
   "cell_type": "code",
   "execution_count": 29,
   "metadata": {},
   "outputs": [],
   "source": [
    "del (dfs, df, df_disponibilite, df_macro, df_population, df_securite)"
   ]
  },
  {
   "cell_type": "markdown",
   "metadata": {},
   "source": [
    "### Vérification de `df_final`<a id='1-3'></a>"
   ]
  },
  {
   "cell_type": "markdown",
   "metadata": {},
   "source": [
    "#### Aperçu des données"
   ]
  },
  {
   "cell_type": "code",
   "execution_count": 30,
   "metadata": {},
   "outputs": [
    {
     "data": {
      "text/html": [
       "<div>\n",
       "<style scoped>\n",
       "    .dataframe tbody tr th:only-of-type {\n",
       "        vertical-align: middle;\n",
       "    }\n",
       "\n",
       "    .dataframe tbody tr th {\n",
       "        vertical-align: top;\n",
       "    }\n",
       "\n",
       "    .dataframe thead th {\n",
       "        text-align: right;\n",
       "    }\n",
       "</style>\n",
       "<table border=\"1\" class=\"dataframe\">\n",
       "  <thead>\n",
       "    <tr style=\"text-align: right;\">\n",
       "      <th></th>\n",
       "      <th>code_zone</th>\n",
       "      <th>zone</th>\n",
       "      <th>evolution_population_%</th>\n",
       "      <th>part_conso_volailles_%</th>\n",
       "      <th>importations_volailles_kt</th>\n",
       "      <th>tas_volailles_%</th>\n",
       "      <th>croissance_annuelle_%</th>\n",
       "      <th>revenu_par_habitant_usd</th>\n",
       "      <th>indice_stabilite_politique</th>\n",
       "    </tr>\n",
       "  </thead>\n",
       "  <tbody>\n",
       "    <tr>\n",
       "      <th>0</th>\n",
       "      <td>1</td>\n",
       "      <td>Arménie</td>\n",
       "      <td>-0.22</td>\n",
       "      <td>1.488499</td>\n",
       "      <td>35.0</td>\n",
       "      <td>93.696200</td>\n",
       "      <td>9.305043</td>\n",
       "      <td>4184.835842</td>\n",
       "      <td>-0.62</td>\n",
       "    </tr>\n",
       "    <tr>\n",
       "      <th>1</th>\n",
       "      <td>2</td>\n",
       "      <td>Afghanistan</td>\n",
       "      <td>3.29</td>\n",
       "      <td>0.448368</td>\n",
       "      <td>29.0</td>\n",
       "      <td>81.869816</td>\n",
       "      <td>4.865790</td>\n",
       "      <td>537.126294</td>\n",
       "      <td>-2.80</td>\n",
       "    </tr>\n",
       "    <tr>\n",
       "      <th>2</th>\n",
       "      <td>3</td>\n",
       "      <td>Albanie</td>\n",
       "      <td>-0.45</td>\n",
       "      <td>0.979548</td>\n",
       "      <td>20.0</td>\n",
       "      <td>92.144814</td>\n",
       "      <td>9.765944</td>\n",
       "      <td>4532.791976</td>\n",
       "      <td>0.38</td>\n",
       "    </tr>\n",
       "    <tr>\n",
       "      <th>3</th>\n",
       "      <td>4</td>\n",
       "      <td>Algérie</td>\n",
       "      <td>1.72</td>\n",
       "      <td>0.923962</td>\n",
       "      <td>2.0</td>\n",
       "      <td>68.879152</td>\n",
       "      <td>6.287893</td>\n",
       "      <td>4081.775086</td>\n",
       "      <td>-0.92</td>\n",
       "    </tr>\n",
       "    <tr>\n",
       "      <th>4</th>\n",
       "      <td>5</td>\n",
       "      <td>Samoa américaines</td>\n",
       "      <td>-0.23</td>\n",
       "      <td>NaN</td>\n",
       "      <td>NaN</td>\n",
       "      <td>NaN</td>\n",
       "      <td>NaN</td>\n",
       "      <td>NaN</td>\n",
       "      <td>1.22</td>\n",
       "    </tr>\n",
       "  </tbody>\n",
       "</table>\n",
       "</div>"
      ],
      "text/plain": [
       "   code_zone               zone  evolution_population_%  \\\n",
       "0          1            Arménie                   -0.22   \n",
       "1          2        Afghanistan                    3.29   \n",
       "2          3            Albanie                   -0.45   \n",
       "3          4            Algérie                    1.72   \n",
       "4          5  Samoa américaines                   -0.23   \n",
       "\n",
       "   part_conso_volailles_%  importations_volailles_kt  tas_volailles_%  \\\n",
       "0                1.488499                       35.0        93.696200   \n",
       "1                0.448368                       29.0        81.869816   \n",
       "2                0.979548                       20.0        92.144814   \n",
       "3                0.923962                        2.0        68.879152   \n",
       "4                     NaN                        NaN              NaN   \n",
       "\n",
       "   croissance_annuelle_%  revenu_par_habitant_usd  indice_stabilite_politique  \n",
       "0               9.305043              4184.835842                       -0.62  \n",
       "1               4.865790               537.126294                       -2.80  \n",
       "2               9.765944              4532.791976                        0.38  \n",
       "3               6.287893              4081.775086                       -0.92  \n",
       "4                    NaN                      NaN                        1.22  "
      ]
     },
     "execution_count": 30,
     "metadata": {},
     "output_type": "execute_result"
    }
   ],
   "source": [
    "df_final.head()"
   ]
  },
  {
   "cell_type": "code",
   "execution_count": 31,
   "metadata": {},
   "outputs": [
    {
     "name": "stdout",
     "output_type": "stream",
     "text": [
      "Dimensions du DataFrame: (238, 9)\n"
     ]
    }
   ],
   "source": [
    "print(f'Dimensions du DataFrame: {df_final.shape}')"
   ]
  },
  {
   "cell_type": "markdown",
   "metadata": {},
   "source": [
    "On supprime le code des zones qui ne sera plus utile."
   ]
  },
  {
   "cell_type": "code",
   "execution_count": 32,
   "metadata": {},
   "outputs": [],
   "source": [
    "df_final = df_final.drop(columns='code_zone')"
   ]
  },
  {
   "cell_type": "markdown",
   "metadata": {},
   "source": [
    "#### Type des données"
   ]
  },
  {
   "cell_type": "code",
   "execution_count": 33,
   "metadata": {},
   "outputs": [
    {
     "data": {
      "text/plain": [
       "zone                           object\n",
       "evolution_population_%        float64\n",
       "part_conso_volailles_%        float64\n",
       "importations_volailles_kt     float64\n",
       "tas_volailles_%               float64\n",
       "croissance_annuelle_%         float64\n",
       "revenu_par_habitant_usd       float64\n",
       "indice_stabilite_politique    float64\n",
       "dtype: object"
      ]
     },
     "execution_count": 33,
     "metadata": {},
     "output_type": "execute_result"
    }
   ],
   "source": [
    "df_final.dtypes"
   ]
  },
  {
   "cell_type": "markdown",
   "metadata": {},
   "source": [
    "Le type des données est correct."
   ]
  },
  {
   "cell_type": "markdown",
   "metadata": {},
   "source": [
    "#### Doublons"
   ]
  },
  {
   "cell_type": "code",
   "execution_count": 34,
   "metadata": {},
   "outputs": [
    {
     "name": "stdout",
     "output_type": "stream",
     "text": [
      "Nombre de doublons dans le DataFrame : 0\n"
     ]
    }
   ],
   "source": [
    "print('Nombre de doublons dans le DataFrame :', df_final.duplicated().sum())"
   ]
  },
  {
   "cell_type": "markdown",
   "metadata": {},
   "source": [
    "#### Valeurs manquantes"
   ]
  },
  {
   "cell_type": "code",
   "execution_count": 35,
   "metadata": {},
   "outputs": [
    {
     "data": {
      "text/plain": [
       "zone                           0\n",
       "evolution_population_%         0\n",
       "part_conso_volailles_%        59\n",
       "importations_volailles_kt     60\n",
       "tas_volailles_%               59\n",
       "croissance_annuelle_%         28\n",
       "revenu_par_habitant_usd       28\n",
       "indice_stabilite_politique    42\n",
       "dtype: int64"
      ]
     },
     "execution_count": 35,
     "metadata": {},
     "output_type": "execute_result"
    }
   ],
   "source": [
    "df_final.isna().sum()"
   ]
  },
  {
   "cell_type": "markdown",
   "metadata": {},
   "source": [
    "Dans un premier temps, nous allons supprimer les enregistrements qui ont un nombre de valeurs manquantes supérieur ou égal à 5 (sur 7 indicateurs). Au préalable, nous sauvegardons la liste des zones pour pouvoir la comparer avec celle après nettoyage."
   ]
  },
  {
   "cell_type": "code",
   "execution_count": 36,
   "metadata": {},
   "outputs": [
    {
     "data": {
      "text/plain": [
       "zone                           0\n",
       "evolution_population_%         0\n",
       "part_conso_volailles_%        32\n",
       "importations_volailles_kt     33\n",
       "tas_volailles_%               32\n",
       "croissance_annuelle_%          1\n",
       "revenu_par_habitant_usd        1\n",
       "indice_stabilite_politique    16\n",
       "dtype: int64"
      ]
     },
     "execution_count": 36,
     "metadata": {},
     "output_type": "execute_result"
    }
   ],
   "source": [
    "# Crée la liste initiale des zones\n",
    "liste_initiale_zones = set(df_final['zone'].unique())\n",
    "\n",
    "# Supprime les zones avec NaN >= 5\n",
    "df_final = (\n",
    "    df_final[df_final.isna().sum(axis='columns') < 5]).reset_index(drop=True)\n",
    "\n",
    "df_final.isna().sum()"
   ]
  },
  {
   "cell_type": "markdown",
   "metadata": {},
   "source": [
    "Dans un second temps, nous complétons `part_conso_volailles_%`, `importations_volailles_kt` et `tas_volailles_%` par les valeurs médianes du jeu de données."
   ]
  },
  {
   "cell_type": "code",
   "execution_count": 37,
   "metadata": {},
   "outputs": [
    {
     "data": {
      "text/plain": [
       "zone                          0\n",
       "evolution_population_%        0\n",
       "part_conso_volailles_%        0\n",
       "importations_volailles_kt     0\n",
       "tas_volailles_%               0\n",
       "croissance_annuelle_%         1\n",
       "revenu_par_habitant_usd       1\n",
       "indice_stabilite_politique    0\n",
       "dtype: int64"
      ]
     },
     "execution_count": 37,
     "metadata": {},
     "output_type": "execute_result"
    }
   ],
   "source": [
    "cols = ['part_conso_volailles_%', 'importations_volailles_kt',\n",
    "        'tas_volailles_%', 'indice_stabilite_politique']\n",
    "\n",
    "for col in cols:\n",
    "    df_final[col] = df_final[col].fillna(df_final[col].median())\n",
    "\n",
    "del col, cols\n",
    "\n",
    "df_final.isna().sum()"
   ]
  },
  {
   "cell_type": "markdown",
   "metadata": {},
   "source": [
    "Il ne reste qu'un enregistrement à traiter, affichons le pays concernés."
   ]
  },
  {
   "cell_type": "code",
   "execution_count": 38,
   "metadata": {},
   "outputs": [
    {
     "data": {
      "text/html": [
       "<div>\n",
       "<style scoped>\n",
       "    .dataframe tbody tr th:only-of-type {\n",
       "        vertical-align: middle;\n",
       "    }\n",
       "\n",
       "    .dataframe tbody tr th {\n",
       "        vertical-align: top;\n",
       "    }\n",
       "\n",
       "    .dataframe thead th {\n",
       "        text-align: right;\n",
       "    }\n",
       "</style>\n",
       "<table border=\"1\" class=\"dataframe\">\n",
       "  <thead>\n",
       "    <tr style=\"text-align: right;\">\n",
       "      <th></th>\n",
       "      <th>zone</th>\n",
       "      <th>evolution_population_%</th>\n",
       "      <th>part_conso_volailles_%</th>\n",
       "      <th>importations_volailles_kt</th>\n",
       "      <th>tas_volailles_%</th>\n",
       "      <th>croissance_annuelle_%</th>\n",
       "      <th>revenu_par_habitant_usd</th>\n",
       "      <th>indice_stabilite_politique</th>\n",
       "    </tr>\n",
       "  </thead>\n",
       "  <tbody>\n",
       "    <tr>\n",
       "      <th>174</th>\n",
       "      <td>Chine, Taiwan Province de</td>\n",
       "      <td>0.43</td>\n",
       "      <td>5.331486</td>\n",
       "      <td>161.0</td>\n",
       "      <td>56.780967</td>\n",
       "      <td>NaN</td>\n",
       "      <td>NaN</td>\n",
       "      <td>0.03</td>\n",
       "    </tr>\n",
       "  </tbody>\n",
       "</table>\n",
       "</div>"
      ],
      "text/plain": [
       "                          zone  evolution_population_%  \\\n",
       "174  Chine, Taiwan Province de                    0.43   \n",
       "\n",
       "     part_conso_volailles_%  importations_volailles_kt  tas_volailles_%  \\\n",
       "174                5.331486                      161.0        56.780967   \n",
       "\n",
       "     croissance_annuelle_%  revenu_par_habitant_usd  \\\n",
       "174                    NaN                      NaN   \n",
       "\n",
       "     indice_stabilite_politique  \n",
       "174                        0.03  "
      ]
     },
     "execution_count": 38,
     "metadata": {},
     "output_type": "execute_result"
    }
   ],
   "source": [
    "df_final.loc[df_final.isna().any(axis='columns')]"
   ]
  },
  {
   "cell_type": "markdown",
   "metadata": {},
   "source": [
    "Nous allons imputer directement les valeurs à partir de données trouvées dans une note de synthèse du gouvernement français."
   ]
  },
  {
   "cell_type": "code",
   "execution_count": 39,
   "metadata": {},
   "outputs": [],
   "source": [
    "df_final.loc[174, 'croissance_annuelle_%'] = 3.08\n",
    "df_final.loc[174, 'revenu_par_habitant_usd'] = 22698"
   ]
  },
  {
   "cell_type": "code",
   "execution_count": 40,
   "metadata": {},
   "outputs": [],
   "source": [
    "# RAZ de l'index de 'df_final'\n",
    "df_final = df_final.reset_index(drop=True)"
   ]
  },
  {
   "cell_type": "markdown",
   "metadata": {},
   "source": [
    "Le traitement des valeurs manquantes étant terminer, nous allons vérifier la liste des zones supprimées."
   ]
  },
  {
   "cell_type": "code",
   "execution_count": 41,
   "metadata": {},
   "outputs": [
    {
     "name": "stdout",
     "output_type": "stream",
     "text": [
      "{'Îles Mariannes du Nord', 'Îles Féroé', 'Serbie-et-Monténégro', 'Nioué', 'Gibraltar', 'Îles Falkland (Malvinas)', 'Mayotte', 'Martinique', 'Saint-Siège', 'Saint-Barthélemy', 'Bonaire, Saint-Eustache et Saba', 'Antilles néerlandaises (ex)', 'Saint-Martin (partie française)', 'Sainte-Hélène, Ascension et Tristan da Cunha', 'Îles Anglo-Normandes', 'Saint-Pierre-et-Miquelon', 'Sahara occidental', 'Îles Wallis-et-Futuna', 'Réunion', 'Samoa américaines', 'Tokélaou', 'Îles Vierges américaines', 'Île de Man', 'Soudan (ex)', 'Guyane française', 'Guadeloupe', 'Guam'}\n"
     ]
    }
   ],
   "source": [
    "# Crée la liste des zones après traitement\n",
    "liste_finales_zones = set(df_final['zone'].unique())\n",
    "\n",
    "# Crée la liste des zones supprimées\n",
    "liste_zones_supprimees = liste_initiale_zones - liste_finales_zones\n",
    "\n",
    "# Affiche la liste des zones supprimées\n",
    "print(liste_zones_supprimees)"
   ]
  },
  {
   "cell_type": "markdown",
   "metadata": {},
   "source": [
    "On remarque que nous avons essentiellement supprimé des îles ou des régions appartenant à d'autres pays."
   ]
  },
  {
   "cell_type": "code",
   "execution_count": 42,
   "metadata": {},
   "outputs": [],
   "source": [
    "del liste_initiale_zones, liste_finales_zones, liste_zones_supprimees"
   ]
  },
  {
   "cell_type": "markdown",
   "metadata": {},
   "source": [
    "## Analyse descriptive<a id='2'></a>"
   ]
  },
  {
   "cell_type": "markdown",
   "metadata": {},
   "source": [
    "### Analyse univariée<a id='2-1'></a>"
   ]
  },
  {
   "cell_type": "code",
   "execution_count": 43,
   "metadata": {},
   "outputs": [
    {
     "name": "stdout",
     "output_type": "stream",
     "text": [
      "Nombre de pays dans le jeu de données : 211\n",
      "Nombre d'indicateurs : 7\n"
     ]
    }
   ],
   "source": [
    "# Affiche le nombre de pays\n",
    "print(f'Nombre de pays dans le jeu de données : {df_final.zone.nunique()}')\n",
    "\n",
    "# Affiche le nombre d'indicateurs\n",
    "print(f'Nombre d\\'indicateurs : {(len(df_final.columns) - 1)}')"
   ]
  },
  {
   "cell_type": "markdown",
   "metadata": {},
   "source": [
    "Nous pouvons créer une liste de nos indicateurs qui nous permettra nous aidera par la suite à tracer nos représentations graphiques"
   ]
  },
  {
   "cell_type": "code",
   "execution_count": 44,
   "metadata": {},
   "outputs": [],
   "source": [
    "# Crée la liste des indicateurs\n",
    "indicateurs = (list(df_final.columns))\n",
    "indicateurs.remove('zone')"
   ]
  },
  {
   "cell_type": "code",
   "execution_count": 45,
   "metadata": {},
   "outputs": [
    {
     "data": {
      "text/html": [
       "<div>\n",
       "<style scoped>\n",
       "    .dataframe tbody tr th:only-of-type {\n",
       "        vertical-align: middle;\n",
       "    }\n",
       "\n",
       "    .dataframe tbody tr th {\n",
       "        vertical-align: top;\n",
       "    }\n",
       "\n",
       "    .dataframe thead th {\n",
       "        text-align: right;\n",
       "    }\n",
       "</style>\n",
       "<table border=\"1\" class=\"dataframe\">\n",
       "  <thead>\n",
       "    <tr style=\"text-align: right;\">\n",
       "      <th></th>\n",
       "      <th>count</th>\n",
       "      <th>mean</th>\n",
       "      <th>std</th>\n",
       "      <th>min</th>\n",
       "      <th>25%</th>\n",
       "      <th>50%</th>\n",
       "      <th>75%</th>\n",
       "      <th>max</th>\n",
       "    </tr>\n",
       "  </thead>\n",
       "  <tbody>\n",
       "    <tr>\n",
       "      <th>evolution_population_%</th>\n",
       "      <td>211.0</td>\n",
       "      <td>1.411991</td>\n",
       "      <td>1.345583</td>\n",
       "      <td>-1.230000</td>\n",
       "      <td>0.470000</td>\n",
       "      <td>1.250000</td>\n",
       "      <td>2.270000</td>\n",
       "      <td>9.110000</td>\n",
       "    </tr>\n",
       "    <tr>\n",
       "      <th>part_conso_volailles_%</th>\n",
       "      <td>211.0</td>\n",
       "      <td>2.904313</td>\n",
       "      <td>2.305629</td>\n",
       "      <td>0.090686</td>\n",
       "      <td>1.392572</td>\n",
       "      <td>2.341613</td>\n",
       "      <td>3.597528</td>\n",
       "      <td>12.458472</td>\n",
       "    </tr>\n",
       "    <tr>\n",
       "      <th>importations_volailles_kt</th>\n",
       "      <td>211.0</td>\n",
       "      <td>74.421801</td>\n",
       "      <td>168.957863</td>\n",
       "      <td>0.000000</td>\n",
       "      <td>5.000000</td>\n",
       "      <td>16.000000</td>\n",
       "      <td>57.500000</td>\n",
       "      <td>1069.000000</td>\n",
       "    </tr>\n",
       "    <tr>\n",
       "      <th>tas_volailles_%</th>\n",
       "      <td>211.0</td>\n",
       "      <td>20.341483</td>\n",
       "      <td>1141.652842</td>\n",
       "      <td>-16444.206009</td>\n",
       "      <td>86.519625</td>\n",
       "      <td>93.748459</td>\n",
       "      <td>100.870004</td>\n",
       "      <td>1165.739375</td>\n",
       "    </tr>\n",
       "    <tr>\n",
       "      <th>croissance_annuelle_%</th>\n",
       "      <td>211.0</td>\n",
       "      <td>7.069815</td>\n",
       "      <td>7.541745</td>\n",
       "      <td>-27.928307</td>\n",
       "      <td>4.390064</td>\n",
       "      <td>7.260694</td>\n",
       "      <td>9.941225</td>\n",
       "      <td>36.133401</td>\n",
       "    </tr>\n",
       "    <tr>\n",
       "      <th>revenu_par_habitant_usd</th>\n",
       "      <td>211.0</td>\n",
       "      <td>16442.455916</td>\n",
       "      <td>24804.617018</td>\n",
       "      <td>295.780939</td>\n",
       "      <td>2015.642986</td>\n",
       "      <td>6339.886355</td>\n",
       "      <td>19806.127104</td>\n",
       "      <td>178117.963683</td>\n",
       "    </tr>\n",
       "    <tr>\n",
       "      <th>indice_stabilite_politique</th>\n",
       "      <td>211.0</td>\n",
       "      <td>-0.065261</td>\n",
       "      <td>0.955217</td>\n",
       "      <td>-2.940000</td>\n",
       "      <td>-0.625000</td>\n",
       "      <td>0.030000</td>\n",
       "      <td>0.655000</td>\n",
       "      <td>1.920000</td>\n",
       "    </tr>\n",
       "  </tbody>\n",
       "</table>\n",
       "</div>"
      ],
      "text/plain": [
       "                            count          mean           std           min  \\\n",
       "evolution_population_%      211.0      1.411991      1.345583     -1.230000   \n",
       "part_conso_volailles_%      211.0      2.904313      2.305629      0.090686   \n",
       "importations_volailles_kt   211.0     74.421801    168.957863      0.000000   \n",
       "tas_volailles_%             211.0     20.341483   1141.652842 -16444.206009   \n",
       "croissance_annuelle_%       211.0      7.069815      7.541745    -27.928307   \n",
       "revenu_par_habitant_usd     211.0  16442.455916  24804.617018    295.780939   \n",
       "indice_stabilite_politique  211.0     -0.065261      0.955217     -2.940000   \n",
       "\n",
       "                                    25%          50%           75%  \\\n",
       "evolution_population_%         0.470000     1.250000      2.270000   \n",
       "part_conso_volailles_%         1.392572     2.341613      3.597528   \n",
       "importations_volailles_kt      5.000000    16.000000     57.500000   \n",
       "tas_volailles_%               86.519625    93.748459    100.870004   \n",
       "croissance_annuelle_%          4.390064     7.260694      9.941225   \n",
       "revenu_par_habitant_usd     2015.642986  6339.886355  19806.127104   \n",
       "indice_stabilite_politique    -0.625000     0.030000      0.655000   \n",
       "\n",
       "                                      max  \n",
       "evolution_population_%           9.110000  \n",
       "part_conso_volailles_%          12.458472  \n",
       "importations_volailles_kt     1069.000000  \n",
       "tas_volailles_%               1165.739375  \n",
       "croissance_annuelle_%           36.133401  \n",
       "revenu_par_habitant_usd     178117.963683  \n",
       "indice_stabilite_politique       1.920000  "
      ]
     },
     "execution_count": 45,
     "metadata": {},
     "output_type": "execute_result"
    }
   ],
   "source": [
    "# Affiche la description des variables quantitatives\n",
    "df_final.describe().T"
   ]
  },
  {
   "cell_type": "markdown",
   "metadata": {},
   "source": [
    "On remarque un soucis sur les valeurs minimales et maximales de `tas_volailles_%`. Voyons à quelle pays cela correspond."
   ]
  },
  {
   "cell_type": "code",
   "execution_count": 46,
   "metadata": {},
   "outputs": [
    {
     "data": {
      "text/html": [
       "<div>\n",
       "<style scoped>\n",
       "    .dataframe tbody tr th:only-of-type {\n",
       "        vertical-align: middle;\n",
       "    }\n",
       "\n",
       "    .dataframe tbody tr th {\n",
       "        vertical-align: top;\n",
       "    }\n",
       "\n",
       "    .dataframe thead th {\n",
       "        text-align: right;\n",
       "    }\n",
       "</style>\n",
       "<table border=\"1\" class=\"dataframe\">\n",
       "  <thead>\n",
       "    <tr style=\"text-align: right;\">\n",
       "      <th></th>\n",
       "      <th>zone</th>\n",
       "      <th>evolution_population_%</th>\n",
       "      <th>part_conso_volailles_%</th>\n",
       "      <th>importations_volailles_kt</th>\n",
       "      <th>tas_volailles_%</th>\n",
       "      <th>croissance_annuelle_%</th>\n",
       "      <th>revenu_par_habitant_usd</th>\n",
       "      <th>indice_stabilite_politique</th>\n",
       "    </tr>\n",
       "  </thead>\n",
       "  <tbody>\n",
       "    <tr>\n",
       "      <th>108</th>\n",
       "      <td>Maldives</td>\n",
       "      <td>3.47</td>\n",
       "      <td>2.823491</td>\n",
       "      <td>12.0</td>\n",
       "      <td>-16444.206009</td>\n",
       "      <td>8.564508</td>\n",
       "      <td>9268.018455</td>\n",
       "      <td>0.23</td>\n",
       "    </tr>\n",
       "    <tr>\n",
       "      <th>159</th>\n",
       "      <td>Seychelles</td>\n",
       "      <td>1.01</td>\n",
       "      <td>6.007810</td>\n",
       "      <td>3.0</td>\n",
       "      <td>-105.786319</td>\n",
       "      <td>4.853478</td>\n",
       "      <td>13916.512646</td>\n",
       "      <td>0.79</td>\n",
       "    </tr>\n",
       "    <tr>\n",
       "      <th>104</th>\n",
       "      <td>Chine - RAS de Macao</td>\n",
       "      <td>2.19</td>\n",
       "      <td>4.510503</td>\n",
       "      <td>23.0</td>\n",
       "      <td>12.614096</td>\n",
       "      <td>11.914871</td>\n",
       "      <td>70300.937271</td>\n",
       "      <td>1.43</td>\n",
       "    </tr>\n",
       "    <tr>\n",
       "      <th>73</th>\n",
       "      <td>Chine - RAS de Hong-Kong</td>\n",
       "      <td>0.61</td>\n",
       "      <td>6.185678</td>\n",
       "      <td>907.0</td>\n",
       "      <td>13.039694</td>\n",
       "      <td>6.361267</td>\n",
       "      <td>47724.637597</td>\n",
       "      <td>0.83</td>\n",
       "    </tr>\n",
       "    <tr>\n",
       "      <th>57</th>\n",
       "      <td>Djibouti</td>\n",
       "      <td>1.62</td>\n",
       "      <td>0.710093</td>\n",
       "      <td>3.0</td>\n",
       "      <td>18.203544</td>\n",
       "      <td>5.662606</td>\n",
       "      <td>2778.467670</td>\n",
       "      <td>-0.74</td>\n",
       "    </tr>\n",
       "  </tbody>\n",
       "</table>\n",
       "</div>"
      ],
      "text/plain": [
       "                         zone  evolution_population_%  part_conso_volailles_%  \\\n",
       "108                  Maldives                    3.47                2.823491   \n",
       "159                Seychelles                    1.01                6.007810   \n",
       "104      Chine - RAS de Macao                    2.19                4.510503   \n",
       "73   Chine - RAS de Hong-Kong                    0.61                6.185678   \n",
       "57                   Djibouti                    1.62                0.710093   \n",
       "\n",
       "     importations_volailles_kt  tas_volailles_%  croissance_annuelle_%  \\\n",
       "108                       12.0    -16444.206009               8.564508   \n",
       "159                        3.0      -105.786319               4.853478   \n",
       "104                       23.0        12.614096              11.914871   \n",
       "73                       907.0        13.039694               6.361267   \n",
       "57                         3.0        18.203544               5.662606   \n",
       "\n",
       "     revenu_par_habitant_usd  indice_stabilite_politique  \n",
       "108              9268.018455                        0.23  \n",
       "159             13916.512646                        0.79  \n",
       "104             70300.937271                        1.43  \n",
       "73              47724.637597                        0.83  \n",
       "57               2778.467670                       -0.74  "
      ]
     },
     "execution_count": 46,
     "metadata": {},
     "output_type": "execute_result"
    }
   ],
   "source": [
    "df_final.nsmallest(5, 'tas_volailles_%')"
   ]
  },
  {
   "cell_type": "code",
   "execution_count": 47,
   "metadata": {},
   "outputs": [
    {
     "data": {
      "text/html": [
       "<div>\n",
       "<style scoped>\n",
       "    .dataframe tbody tr th:only-of-type {\n",
       "        vertical-align: middle;\n",
       "    }\n",
       "\n",
       "    .dataframe tbody tr th {\n",
       "        vertical-align: top;\n",
       "    }\n",
       "\n",
       "    .dataframe thead th {\n",
       "        text-align: right;\n",
       "    }\n",
       "</style>\n",
       "<table border=\"1\" class=\"dataframe\">\n",
       "  <thead>\n",
       "    <tr style=\"text-align: right;\">\n",
       "      <th></th>\n",
       "      <th>zone</th>\n",
       "      <th>evolution_population_%</th>\n",
       "      <th>part_conso_volailles_%</th>\n",
       "      <th>importations_volailles_kt</th>\n",
       "      <th>tas_volailles_%</th>\n",
       "      <th>croissance_annuelle_%</th>\n",
       "      <th>revenu_par_habitant_usd</th>\n",
       "      <th>indice_stabilite_politique</th>\n",
       "    </tr>\n",
       "  </thead>\n",
       "  <tbody>\n",
       "    <tr>\n",
       "      <th>111</th>\n",
       "      <td>Mauritanie</td>\n",
       "      <td>2.90</td>\n",
       "      <td>1.135630</td>\n",
       "      <td>24.0</td>\n",
       "      <td>1165.739375</td>\n",
       "      <td>6.272922</td>\n",
       "      <td>1611.405907</td>\n",
       "      <td>-0.63</td>\n",
       "    </tr>\n",
       "    <tr>\n",
       "      <th>64</th>\n",
       "      <td>Kiribati</td>\n",
       "      <td>1.78</td>\n",
       "      <td>3.238866</td>\n",
       "      <td>1.0</td>\n",
       "      <td>266.048459</td>\n",
       "      <td>5.426179</td>\n",
       "      <td>2984.736961</td>\n",
       "      <td>0.88</td>\n",
       "    </tr>\n",
       "    <tr>\n",
       "      <th>76</th>\n",
       "      <td>Islande</td>\n",
       "      <td>1.02</td>\n",
       "      <td>3.268081</td>\n",
       "      <td>2.0</td>\n",
       "      <td>224.203490</td>\n",
       "      <td>18.925049</td>\n",
       "      <td>72312.699778</td>\n",
       "      <td>1.35</td>\n",
       "    </tr>\n",
       "    <tr>\n",
       "      <th>191</th>\n",
       "      <td>Uruguay</td>\n",
       "      <td>0.21</td>\n",
       "      <td>1.260468</td>\n",
       "      <td>3.0</td>\n",
       "      <td>197.677149</td>\n",
       "      <td>12.225233</td>\n",
       "      <td>17886.932041</td>\n",
       "      <td>1.05</td>\n",
       "    </tr>\n",
       "    <tr>\n",
       "      <th>128</th>\n",
       "      <td>Nouvelle-Zélande</td>\n",
       "      <td>1.15</td>\n",
       "      <td>3.398297</td>\n",
       "      <td>1.0</td>\n",
       "      <td>151.048054</td>\n",
       "      <td>9.418329</td>\n",
       "      <td>41898.140322</td>\n",
       "      <td>1.60</td>\n",
       "    </tr>\n",
       "  </tbody>\n",
       "</table>\n",
       "</div>"
      ],
      "text/plain": [
       "                 zone  evolution_population_%  part_conso_volailles_%  \\\n",
       "111        Mauritanie                    2.90                1.135630   \n",
       "64           Kiribati                    1.78                3.238866   \n",
       "76            Islande                    1.02                3.268081   \n",
       "191           Uruguay                    0.21                1.260468   \n",
       "128  Nouvelle-Zélande                    1.15                3.398297   \n",
       "\n",
       "     importations_volailles_kt  tas_volailles_%  croissance_annuelle_%  \\\n",
       "111                       24.0      1165.739375               6.272922   \n",
       "64                         1.0       266.048459               5.426179   \n",
       "76                         2.0       224.203490              18.925049   \n",
       "191                        3.0       197.677149              12.225233   \n",
       "128                        1.0       151.048054               9.418329   \n",
       "\n",
       "     revenu_par_habitant_usd  indice_stabilite_politique  \n",
       "111              1611.405907                       -0.63  \n",
       "64               2984.736961                        0.88  \n",
       "76              72312.699778                        1.35  \n",
       "191             17886.932041                        1.05  \n",
       "128             41898.140322                        1.60  "
      ]
     },
     "execution_count": 47,
     "metadata": {},
     "output_type": "execute_result"
    }
   ],
   "source": [
    "df_final.nlargest(5, 'tas_volailles_%')"
   ]
  },
  {
   "cell_type": "markdown",
   "metadata": {},
   "source": [
    "Nous avons deux pays avec des valeurs négatives dont une extrêment aberrante et même improbable. Nous remplaçons leur valeur par la valeur moyenne."
   ]
  },
  {
   "cell_type": "code",
   "execution_count": 48,
   "metadata": {},
   "outputs": [],
   "source": [
    "# Remplace les valeurs aberrantes de 'tas_volailles_%' par la moyenne\n",
    "df_final.loc[108, 'tas_volailles_%'] = df_final['tas_volailles_%'].mean()\n",
    "df_final.loc[159, 'tas_volailles_%'] = df_final['tas_volailles_%'].mean()"
   ]
  },
  {
   "cell_type": "markdown",
   "metadata": {},
   "source": [
    "La Mauritanie a un TAS bien plus élevé que le reste du jeu de données alors que la valeur de ses autres indicateurs, et notamment de sa consommation et de ses importations, n'ont rien d'aberrantes. Nous décidons de corriger cette valeur en la remplaçant par la deuxième valeur la plus forte."
   ]
  },
  {
   "cell_type": "code",
   "execution_count": 49,
   "metadata": {},
   "outputs": [],
   "source": [
    "df_final.loc[111, 'tas_volailles_%'] = df_final.loc[64, 'tas_volailles_%']"
   ]
  },
  {
   "cell_type": "markdown",
   "metadata": {},
   "source": [
    "#### Distribution des indicateurs"
   ]
  },
  {
   "cell_type": "code",
   "execution_count": 50,
   "metadata": {},
   "outputs": [
    {
     "data": {
      "image/png": "[encoded data removed]",
      "text/plain": [
       "<Figure size 960x860 with 7 Axes>"
      ]
     },
     "metadata": {},
     "output_type": "display_data"
    }
   ],
   "source": [
    "# Initialise le graphique\n",
    "fig, axs = plt.subplots(3, 3, figsize=(9.6, 8.6))\n",
    "\n",
    "# Trace l'histogramme pour chaque variable\n",
    "for i, indicateur in enumerate(indicateurs):\n",
    "    r = np.floor(i/3).astype(int)\n",
    "    c = i % 3\n",
    "    axs[r, c].hist(indicateur, data=df_final, edgecolor='k', bins=20)\n",
    "    axs[r, c].set_title(f'{indicateur}', size=10)\n",
    "    axs[r, c].tick_params(axis='both', which='both', labelsize=8.5)\n",
    "\n",
    "# Supprime les graphiques vides\n",
    "[fig.delaxes(ax) for ax in axs.flatten() if not ax.has_data()]\n",
    "\n",
    "fig.suptitle('Distribution des indicateurs')\n",
    "\n",
    "plt.tight_layout()\n",
    "\n",
    "plt.show()\n",
    "\n",
    "del fig, axs, i, r, c"
   ]
  },
  {
   "cell_type": "markdown",
   "metadata": {},
   "source": [
    "#### Dispersion des indicateurs"
   ]
  },
  {
   "cell_type": "code",
   "execution_count": 51,
   "metadata": {},
   "outputs": [
    {
     "data": {
      "image/png": "[encoded data removed]",
      "text/plain": [
       "<Figure size 960x800 with 7 Axes>"
      ]
     },
     "metadata": {},
     "output_type": "display_data"
    }
   ],
   "source": [
    "# Initialise le graphique\n",
    "fig, axs = plt.subplots(3, 3, figsize=(9.6, 8))\n",
    "\n",
    "# Trace l'histogramme pour chaque variable\n",
    "for i, indicateur in enumerate(indicateurs):\n",
    "    r = np.floor(i/3).astype(int)\n",
    "    c = i % 3\n",
    "    axs[r, c].boxplot(indicateur, data=df_final, patch_artist=True)\n",
    "    axs[r, c].set_title(f'{indicateur}', size=10)\n",
    "    axs[r, c].xaxis.set_major_locator(plt.NullLocator())\n",
    "    axs[r, c].tick_params(axis='y', which='both', labelsize=8.5)\n",
    "\n",
    "# Supprime les graphiques vides\n",
    "[fig.delaxes(ax) for ax in axs.flatten() if not ax.has_data()]\n",
    "\n",
    "fig.suptitle('Dispersion des indicateurs')\n",
    "\n",
    "plt.tight_layout()\n",
    "\n",
    "plt.show()\n",
    "\n",
    "del fig, axs, i, indicateur, r, c"
   ]
  },
  {
   "cell_type": "markdown",
   "metadata": {},
   "source": [
    "On remarque que certains indicateurs ont un nombre d'*ouliers* signicatif, affichons les zones concernées."
   ]
  },
  {
   "cell_type": "code",
   "execution_count": 52,
   "metadata": {},
   "outputs": [
    {
     "data": {
      "text/plain": [
       "Index(['zone', 'evolution_population_%', 'part_conso_volailles_%',\n",
       "       'importations_volailles_kt', 'tas_volailles_%', 'croissance_annuelle_%',\n",
       "       'revenu_par_habitant_usd', 'indice_stabilite_politique'],\n",
       "      dtype='object')"
      ]
     },
     "execution_count": 52,
     "metadata": {},
     "output_type": "execute_result"
    }
   ],
   "source": [
    "df_final.columns"
   ]
  },
  {
   "cell_type": "code",
   "execution_count": 53,
   "metadata": {},
   "outputs": [
    {
     "data": {
      "text/html": [
       "<div>\n",
       "<style scoped>\n",
       "    .dataframe tbody tr th:only-of-type {\n",
       "        vertical-align: middle;\n",
       "    }\n",
       "\n",
       "    .dataframe tbody tr th {\n",
       "        vertical-align: top;\n",
       "    }\n",
       "\n",
       "    .dataframe thead th {\n",
       "        text-align: right;\n",
       "    }\n",
       "</style>\n",
       "<table border=\"1\" class=\"dataframe\">\n",
       "  <thead>\n",
       "    <tr style=\"text-align: right;\">\n",
       "      <th></th>\n",
       "      <th>zone</th>\n",
       "      <th>part_conso_volailles_%</th>\n",
       "    </tr>\n",
       "  </thead>\n",
       "  <tbody>\n",
       "    <tr>\n",
       "      <th>152</th>\n",
       "      <td>Saint-Kitts-et-Nevis</td>\n",
       "      <td>12.458472</td>\n",
       "    </tr>\n",
       "    <tr>\n",
       "      <th>179</th>\n",
       "      <td>Trinité-et-Tobago</td>\n",
       "      <td>11.911027</td>\n",
       "    </tr>\n",
       "    <tr>\n",
       "      <th>154</th>\n",
       "      <td>Saint-Vincent-et-les Grenadines</td>\n",
       "      <td>11.245432</td>\n",
       "    </tr>\n",
       "    <tr>\n",
       "      <th>153</th>\n",
       "      <td>Sainte-Lucie</td>\n",
       "      <td>10.981332</td>\n",
       "    </tr>\n",
       "    <tr>\n",
       "      <th>6</th>\n",
       "      <td>Antigua-et-Barbuda</td>\n",
       "      <td>9.209799</td>\n",
       "    </tr>\n",
       "  </tbody>\n",
       "</table>\n",
       "</div>"
      ],
      "text/plain": [
       "                                zone  part_conso_volailles_%\n",
       "152             Saint-Kitts-et-Nevis               12.458472\n",
       "179                Trinité-et-Tobago               11.911027\n",
       "154  Saint-Vincent-et-les Grenadines               11.245432\n",
       "153                     Sainte-Lucie               10.981332\n",
       "6                 Antigua-et-Barbuda                9.209799"
      ]
     },
     "execution_count": 53,
     "metadata": {},
     "output_type": "execute_result"
    }
   ],
   "source": [
    "df_final[['zone', 'part_conso_volailles_%']].nlargest(\n",
    "    5, 'part_conso_volailles_%')"
   ]
  },
  {
   "cell_type": "code",
   "execution_count": 54,
   "metadata": {},
   "outputs": [
    {
     "data": {
      "text/html": [
       "<div>\n",
       "<style scoped>\n",
       "    .dataframe tbody tr th:only-of-type {\n",
       "        vertical-align: middle;\n",
       "    }\n",
       "\n",
       "    .dataframe tbody tr th {\n",
       "        vertical-align: top;\n",
       "    }\n",
       "\n",
       "    .dataframe thead th {\n",
       "        text-align: right;\n",
       "    }\n",
       "</style>\n",
       "<table border=\"1\" class=\"dataframe\">\n",
       "  <thead>\n",
       "    <tr style=\"text-align: right;\">\n",
       "      <th></th>\n",
       "      <th>zone</th>\n",
       "      <th>importations_volailles_kt</th>\n",
       "    </tr>\n",
       "  </thead>\n",
       "  <tbody>\n",
       "    <tr>\n",
       "      <th>87</th>\n",
       "      <td>Japon</td>\n",
       "      <td>1069.0</td>\n",
       "    </tr>\n",
       "    <tr>\n",
       "      <th>113</th>\n",
       "      <td>Mexique</td>\n",
       "      <td>972.0</td>\n",
       "    </tr>\n",
       "    <tr>\n",
       "      <th>73</th>\n",
       "      <td>Chine - RAS de Hong-Kong</td>\n",
       "      <td>907.0</td>\n",
       "    </tr>\n",
       "    <tr>\n",
       "      <th>61</th>\n",
       "      <td>Allemagne</td>\n",
       "      <td>842.0</td>\n",
       "    </tr>\n",
       "    <tr>\n",
       "      <th>187</th>\n",
       "      <td>Royaume-Uni de Grande-Bretagne et d'Irlande du...</td>\n",
       "      <td>779.0</td>\n",
       "    </tr>\n",
       "  </tbody>\n",
       "</table>\n",
       "</div>"
      ],
      "text/plain": [
       "                                                  zone  \\\n",
       "87                                               Japon   \n",
       "113                                            Mexique   \n",
       "73                            Chine - RAS de Hong-Kong   \n",
       "61                                           Allemagne   \n",
       "187  Royaume-Uni de Grande-Bretagne et d'Irlande du...   \n",
       "\n",
       "     importations_volailles_kt  \n",
       "87                      1069.0  \n",
       "113                      972.0  \n",
       "73                       907.0  \n",
       "61                       842.0  \n",
       "187                      779.0  "
      ]
     },
     "execution_count": 54,
     "metadata": {},
     "output_type": "execute_result"
    }
   ],
   "source": [
    "df_final[['zone', 'importations_volailles_kt']].nlargest(\n",
    "    5, 'importations_volailles_kt')"
   ]
  },
  {
   "cell_type": "code",
   "execution_count": 55,
   "metadata": {},
   "outputs": [
    {
     "data": {
      "text/html": [
       "<div>\n",
       "<style scoped>\n",
       "    .dataframe tbody tr th:only-of-type {\n",
       "        vertical-align: middle;\n",
       "    }\n",
       "\n",
       "    .dataframe tbody tr th {\n",
       "        vertical-align: top;\n",
       "    }\n",
       "\n",
       "    .dataframe thead th {\n",
       "        text-align: right;\n",
       "    }\n",
       "</style>\n",
       "<table border=\"1\" class=\"dataframe\">\n",
       "  <thead>\n",
       "    <tr style=\"text-align: right;\">\n",
       "      <th></th>\n",
       "      <th>zone</th>\n",
       "      <th>revenu_par_habitant_usd</th>\n",
       "    </tr>\n",
       "  </thead>\n",
       "  <tbody>\n",
       "    <tr>\n",
       "      <th>101</th>\n",
       "      <td>Liechtenstein</td>\n",
       "      <td>178117.963683</td>\n",
       "    </tr>\n",
       "    <tr>\n",
       "      <th>114</th>\n",
       "      <td>Monaco</td>\n",
       "      <td>173611.814788</td>\n",
       "    </tr>\n",
       "    <tr>\n",
       "      <th>14</th>\n",
       "      <td>Bermudes</td>\n",
       "      <td>114601.928092</td>\n",
       "    </tr>\n",
       "    <tr>\n",
       "      <th>171</th>\n",
       "      <td>Suisse</td>\n",
       "      <td>81118.449926</td>\n",
       "    </tr>\n",
       "    <tr>\n",
       "      <th>202</th>\n",
       "      <td>Luxembourg</td>\n",
       "      <td>78873.811060</td>\n",
       "    </tr>\n",
       "  </tbody>\n",
       "</table>\n",
       "</div>"
      ],
      "text/plain": [
       "              zone  revenu_par_habitant_usd\n",
       "101  Liechtenstein            178117.963683\n",
       "114         Monaco            173611.814788\n",
       "14        Bermudes            114601.928092\n",
       "171         Suisse             81118.449926\n",
       "202     Luxembourg             78873.811060"
      ]
     },
     "execution_count": 55,
     "metadata": {},
     "output_type": "execute_result"
    }
   ],
   "source": [
    "df_final[['zone', 'revenu_par_habitant_usd']].nlargest(\n",
    "    5, 'revenu_par_habitant_usd')"
   ]
  },
  {
   "cell_type": "code",
   "execution_count": 56,
   "metadata": {},
   "outputs": [
    {
     "data": {
      "text/html": [
       "<div>\n",
       "<style scoped>\n",
       "    .dataframe tbody tr th:only-of-type {\n",
       "        vertical-align: middle;\n",
       "    }\n",
       "\n",
       "    .dataframe tbody tr th {\n",
       "        vertical-align: top;\n",
       "    }\n",
       "\n",
       "    .dataframe thead th {\n",
       "        text-align: right;\n",
       "    }\n",
       "</style>\n",
       "<table border=\"1\" class=\"dataframe\">\n",
       "  <thead>\n",
       "    <tr style=\"text-align: right;\">\n",
       "      <th></th>\n",
       "      <th>zone</th>\n",
       "      <th>tas_volailles_%</th>\n",
       "    </tr>\n",
       "  </thead>\n",
       "  <tbody>\n",
       "    <tr>\n",
       "      <th>64</th>\n",
       "      <td>Kiribati</td>\n",
       "      <td>266.048459</td>\n",
       "    </tr>\n",
       "    <tr>\n",
       "      <th>111</th>\n",
       "      <td>Mauritanie</td>\n",
       "      <td>266.048459</td>\n",
       "    </tr>\n",
       "    <tr>\n",
       "      <th>76</th>\n",
       "      <td>Islande</td>\n",
       "      <td>224.203490</td>\n",
       "    </tr>\n",
       "    <tr>\n",
       "      <th>191</th>\n",
       "      <td>Uruguay</td>\n",
       "      <td>197.677149</td>\n",
       "    </tr>\n",
       "    <tr>\n",
       "      <th>128</th>\n",
       "      <td>Nouvelle-Zélande</td>\n",
       "      <td>151.048054</td>\n",
       "    </tr>\n",
       "  </tbody>\n",
       "</table>\n",
       "</div>"
      ],
      "text/plain": [
       "                 zone  tas_volailles_%\n",
       "64           Kiribati       266.048459\n",
       "111        Mauritanie       266.048459\n",
       "76            Islande       224.203490\n",
       "191           Uruguay       197.677149\n",
       "128  Nouvelle-Zélande       151.048054"
      ]
     },
     "execution_count": 56,
     "metadata": {},
     "output_type": "execute_result"
    }
   ],
   "source": [
    "df_final[['zone', 'tas_volailles_%']].nlargest(\n",
    "    5, 'tas_volailles_%')"
   ]
  },
  {
   "cell_type": "code",
   "execution_count": 57,
   "metadata": {},
   "outputs": [
    {
     "data": {
      "text/html": [
       "<div>\n",
       "<style scoped>\n",
       "    .dataframe tbody tr th:only-of-type {\n",
       "        vertical-align: middle;\n",
       "    }\n",
       "\n",
       "    .dataframe tbody tr th {\n",
       "        vertical-align: top;\n",
       "    }\n",
       "\n",
       "    .dataframe thead th {\n",
       "        text-align: right;\n",
       "    }\n",
       "</style>\n",
       "<table border=\"1\" class=\"dataframe\">\n",
       "  <thead>\n",
       "    <tr style=\"text-align: right;\">\n",
       "      <th></th>\n",
       "      <th>zone</th>\n",
       "      <th>tas_volailles_%</th>\n",
       "    </tr>\n",
       "  </thead>\n",
       "  <tbody>\n",
       "    <tr>\n",
       "      <th>104</th>\n",
       "      <td>Chine - RAS de Macao</td>\n",
       "      <td>12.614096</td>\n",
       "    </tr>\n",
       "    <tr>\n",
       "      <th>73</th>\n",
       "      <td>Chine - RAS de Hong-Kong</td>\n",
       "      <td>13.039694</td>\n",
       "    </tr>\n",
       "    <tr>\n",
       "      <th>57</th>\n",
       "      <td>Djibouti</td>\n",
       "      <td>18.203544</td>\n",
       "    </tr>\n",
       "    <tr>\n",
       "      <th>108</th>\n",
       "      <td>Maldives</td>\n",
       "      <td>20.341483</td>\n",
       "    </tr>\n",
       "    <tr>\n",
       "      <th>184</th>\n",
       "      <td>Émirats arabes unis</td>\n",
       "      <td>28.791367</td>\n",
       "    </tr>\n",
       "  </tbody>\n",
       "</table>\n",
       "</div>"
      ],
      "text/plain": [
       "                         zone  tas_volailles_%\n",
       "104      Chine - RAS de Macao        12.614096\n",
       "73   Chine - RAS de Hong-Kong        13.039694\n",
       "57                   Djibouti        18.203544\n",
       "108                  Maldives        20.341483\n",
       "184       Émirats arabes unis        28.791367"
      ]
     },
     "execution_count": 57,
     "metadata": {},
     "output_type": "execute_result"
    }
   ],
   "source": [
    "df_final[['zone', 'tas_volailles_%']].nsmallest(\n",
    "    5, 'tas_volailles_%')"
   ]
  },
  {
   "cell_type": "code",
   "execution_count": 58,
   "metadata": {},
   "outputs": [
    {
     "data": {
      "text/html": [
       "<div>\n",
       "<style scoped>\n",
       "    .dataframe tbody tr th:only-of-type {\n",
       "        vertical-align: middle;\n",
       "    }\n",
       "\n",
       "    .dataframe tbody tr th {\n",
       "        vertical-align: top;\n",
       "    }\n",
       "\n",
       "    .dataframe thead th {\n",
       "        text-align: right;\n",
       "    }\n",
       "</style>\n",
       "<table border=\"1\" class=\"dataframe\">\n",
       "  <thead>\n",
       "    <tr style=\"text-align: right;\">\n",
       "      <th></th>\n",
       "      <th>zone</th>\n",
       "      <th>croissance_annuelle_%</th>\n",
       "    </tr>\n",
       "  </thead>\n",
       "  <tbody>\n",
       "    <tr>\n",
       "      <th>206</th>\n",
       "      <td>Soudan</td>\n",
       "      <td>36.133401</td>\n",
       "    </tr>\n",
       "    <tr>\n",
       "      <th>100</th>\n",
       "      <td>Libye</td>\n",
       "      <td>34.551485</td>\n",
       "    </tr>\n",
       "    <tr>\n",
       "      <th>172</th>\n",
       "      <td>République arabe syrienne</td>\n",
       "      <td>27.042528</td>\n",
       "    </tr>\n",
       "    <tr>\n",
       "      <th>106</th>\n",
       "      <td>Malawi</td>\n",
       "      <td>25.544370</td>\n",
       "    </tr>\n",
       "    <tr>\n",
       "      <th>151</th>\n",
       "      <td>Fédération de Russie</td>\n",
       "      <td>23.293875</td>\n",
       "    </tr>\n",
       "  </tbody>\n",
       "</table>\n",
       "</div>"
      ],
      "text/plain": [
       "                          zone  croissance_annuelle_%\n",
       "206                     Soudan              36.133401\n",
       "100                      Libye              34.551485\n",
       "172  République arabe syrienne              27.042528\n",
       "106                     Malawi              25.544370\n",
       "151       Fédération de Russie              23.293875"
      ]
     },
     "execution_count": 58,
     "metadata": {},
     "output_type": "execute_result"
    }
   ],
   "source": [
    "df_final[['zone', 'croissance_annuelle_%']].nlargest(\n",
    "    5, 'croissance_annuelle_%')"
   ]
  },
  {
   "cell_type": "code",
   "execution_count": 59,
   "metadata": {},
   "outputs": [
    {
     "data": {
      "text/html": [
       "<div>\n",
       "<style scoped>\n",
       "    .dataframe tbody tr th:only-of-type {\n",
       "        vertical-align: middle;\n",
       "    }\n",
       "\n",
       "    .dataframe tbody tr th {\n",
       "        vertical-align: top;\n",
       "    }\n",
       "\n",
       "    .dataframe thead th {\n",
       "        text-align: right;\n",
       "    }\n",
       "</style>\n",
       "<table border=\"1\" class=\"dataframe\">\n",
       "  <thead>\n",
       "    <tr style=\"text-align: right;\">\n",
       "      <th></th>\n",
       "      <th>zone</th>\n",
       "      <th>croissance_annuelle_%</th>\n",
       "    </tr>\n",
       "  </thead>\n",
       "  <tbody>\n",
       "    <tr>\n",
       "      <th>192</th>\n",
       "      <td>Ouzbékistan</td>\n",
       "      <td>-27.928307</td>\n",
       "    </tr>\n",
       "    <tr>\n",
       "      <th>49</th>\n",
       "      <td>Égypte</td>\n",
       "      <td>-27.795932</td>\n",
       "    </tr>\n",
       "    <tr>\n",
       "      <th>193</th>\n",
       "      <td>Venezuela (République bolivarienne du)</td>\n",
       "      <td>-14.069328</td>\n",
       "    </tr>\n",
       "    <tr>\n",
       "      <th>145</th>\n",
       "      <td>Érythrée</td>\n",
       "      <td>-12.409467</td>\n",
       "    </tr>\n",
       "    <tr>\n",
       "      <th>203</th>\n",
       "      <td>Anguilla</td>\n",
       "      <td>-11.826220</td>\n",
       "    </tr>\n",
       "  </tbody>\n",
       "</table>\n",
       "</div>"
      ],
      "text/plain": [
       "                                       zone  croissance_annuelle_%\n",
       "192                             Ouzbékistan             -27.928307\n",
       "49                                   Égypte             -27.795932\n",
       "193  Venezuela (République bolivarienne du)             -14.069328\n",
       "145                                Érythrée             -12.409467\n",
       "203                                Anguilla             -11.826220"
      ]
     },
     "execution_count": 59,
     "metadata": {},
     "output_type": "execute_result"
    }
   ],
   "source": [
    "df_final[['zone', 'croissance_annuelle_%']].nsmallest(\n",
    "    5, 'croissance_annuelle_%')"
   ]
  },
  {
   "cell_type": "markdown",
   "metadata": {},
   "source": [
    "### Analyse bivariée<a id='2-2'></a>"
   ]
  },
  {
   "cell_type": "markdown",
   "metadata": {},
   "source": [
    "#### Matrice de corrélation"
   ]
  },
  {
   "cell_type": "markdown",
   "metadata": {},
   "source": [
    "Commençons par calculer les corrélations entres nos variables."
   ]
  },
  {
   "cell_type": "code",
   "execution_count": 60,
   "metadata": {},
   "outputs": [
    {
     "data": {
      "text/html": [
       "<style type=\"text/css\">\n",
       "</style>\n",
       "<table id=\"T_277fb\">\n",
       "  <thead>\n",
       "    <tr>\n",
       "      <th class=\"blank level0\" >&nbsp;</th>\n",
       "      <th id=\"T_277fb_level0_col0\" class=\"col_heading level0 col0\" >evolution_population_%</th>\n",
       "      <th id=\"T_277fb_level0_col1\" class=\"col_heading level0 col1\" >part_conso_volailles_%</th>\n",
       "      <th id=\"T_277fb_level0_col2\" class=\"col_heading level0 col2\" >importations_volailles_kt</th>\n",
       "      <th id=\"T_277fb_level0_col3\" class=\"col_heading level0 col3\" >tas_volailles_%</th>\n",
       "      <th id=\"T_277fb_level0_col4\" class=\"col_heading level0 col4\" >croissance_annuelle_%</th>\n",
       "      <th id=\"T_277fb_level0_col5\" class=\"col_heading level0 col5\" >revenu_par_habitant_usd</th>\n",
       "      <th id=\"T_277fb_level0_col6\" class=\"col_heading level0 col6\" >indice_stabilite_politique</th>\n",
       "    </tr>\n",
       "  </thead>\n",
       "  <tbody>\n",
       "    <tr>\n",
       "      <th id=\"T_277fb_level0_row0\" class=\"row_heading level0 row0\" >evolution_population_%</th>\n",
       "      <td id=\"T_277fb_row0_col0\" class=\"data row0 col0\" >1.00</td>\n",
       "      <td id=\"T_277fb_row0_col1\" class=\"data row0 col1\" >-0.14</td>\n",
       "      <td id=\"T_277fb_row0_col2\" class=\"data row0 col2\" >-0.06</td>\n",
       "      <td id=\"T_277fb_row0_col3\" class=\"data row0 col3\" >-0.14</td>\n",
       "      <td id=\"T_277fb_row0_col4\" class=\"data row0 col4\" >-0.06</td>\n",
       "      <td id=\"T_277fb_row0_col5\" class=\"data row0 col5\" >-0.10</td>\n",
       "      <td id=\"T_277fb_row0_col6\" class=\"data row0 col6\" >-0.31</td>\n",
       "    </tr>\n",
       "    <tr>\n",
       "      <th id=\"T_277fb_level0_row1\" class=\"row_heading level0 row1\" >part_conso_volailles_%</th>\n",
       "      <td id=\"T_277fb_row1_col0\" class=\"data row1 col0\" >-0.14</td>\n",
       "      <td id=\"T_277fb_row1_col1\" class=\"data row1 col1\" >1.00</td>\n",
       "      <td id=\"T_277fb_row1_col2\" class=\"data row1 col2\" >0.13</td>\n",
       "      <td id=\"T_277fb_row1_col3\" class=\"data row1 col3\" >-0.16</td>\n",
       "      <td id=\"T_277fb_row1_col4\" class=\"data row1 col4\" >-0.05</td>\n",
       "      <td id=\"T_277fb_row1_col5\" class=\"data row1 col5\" >0.12</td>\n",
       "      <td id=\"T_277fb_row1_col6\" class=\"data row1 col6\" >0.29</td>\n",
       "    </tr>\n",
       "    <tr>\n",
       "      <th id=\"T_277fb_level0_row2\" class=\"row_heading level0 row2\" >importations_volailles_kt</th>\n",
       "      <td id=\"T_277fb_row2_col0\" class=\"data row2 col0\" >-0.06</td>\n",
       "      <td id=\"T_277fb_row2_col1\" class=\"data row2 col1\" >0.13</td>\n",
       "      <td id=\"T_277fb_row2_col2\" class=\"data row2 col2\" >1.00</td>\n",
       "      <td id=\"T_277fb_row2_col3\" class=\"data row2 col3\" >-0.19</td>\n",
       "      <td id=\"T_277fb_row2_col4\" class=\"data row2 col4\" >-0.01</td>\n",
       "      <td id=\"T_277fb_row2_col5\" class=\"data row2 col5\" >0.16</td>\n",
       "      <td id=\"T_277fb_row2_col6\" class=\"data row2 col6\" >0.07</td>\n",
       "    </tr>\n",
       "    <tr>\n",
       "      <th id=\"T_277fb_level0_row3\" class=\"row_heading level0 row3\" >tas_volailles_%</th>\n",
       "      <td id=\"T_277fb_row3_col0\" class=\"data row3 col0\" >-0.14</td>\n",
       "      <td id=\"T_277fb_row3_col1\" class=\"data row3 col1\" >-0.16</td>\n",
       "      <td id=\"T_277fb_row3_col2\" class=\"data row3 col2\" >-0.19</td>\n",
       "      <td id=\"T_277fb_row3_col3\" class=\"data row3 col3\" >1.00</td>\n",
       "      <td id=\"T_277fb_row3_col4\" class=\"data row3 col4\" >0.12</td>\n",
       "      <td id=\"T_277fb_row3_col5\" class=\"data row3 col5\" >-0.04</td>\n",
       "      <td id=\"T_277fb_row3_col6\" class=\"data row3 col6\" >0.10</td>\n",
       "    </tr>\n",
       "    <tr>\n",
       "      <th id=\"T_277fb_level0_row4\" class=\"row_heading level0 row4\" >croissance_annuelle_%</th>\n",
       "      <td id=\"T_277fb_row4_col0\" class=\"data row4 col0\" >-0.06</td>\n",
       "      <td id=\"T_277fb_row4_col1\" class=\"data row4 col1\" >-0.05</td>\n",
       "      <td id=\"T_277fb_row4_col2\" class=\"data row4 col2\" >-0.01</td>\n",
       "      <td id=\"T_277fb_row4_col3\" class=\"data row4 col3\" >0.12</td>\n",
       "      <td id=\"T_277fb_row4_col4\" class=\"data row4 col4\" >1.00</td>\n",
       "      <td id=\"T_277fb_row4_col5\" class=\"data row4 col5\" >-0.10</td>\n",
       "      <td id=\"T_277fb_row4_col6\" class=\"data row4 col6\" >-0.05</td>\n",
       "    </tr>\n",
       "    <tr>\n",
       "      <th id=\"T_277fb_level0_row5\" class=\"row_heading level0 row5\" >revenu_par_habitant_usd</th>\n",
       "      <td id=\"T_277fb_row5_col0\" class=\"data row5 col0\" >-0.10</td>\n",
       "      <td id=\"T_277fb_row5_col1\" class=\"data row5 col1\" >0.12</td>\n",
       "      <td id=\"T_277fb_row5_col2\" class=\"data row5 col2\" >0.16</td>\n",
       "      <td id=\"T_277fb_row5_col3\" class=\"data row5 col3\" >-0.04</td>\n",
       "      <td id=\"T_277fb_row5_col4\" class=\"data row5 col4\" >-0.10</td>\n",
       "      <td id=\"T_277fb_row5_col5\" class=\"data row5 col5\" >1.00</td>\n",
       "      <td id=\"T_277fb_row5_col6\" class=\"data row5 col6\" >0.41</td>\n",
       "    </tr>\n",
       "    <tr>\n",
       "      <th id=\"T_277fb_level0_row6\" class=\"row_heading level0 row6\" >indice_stabilite_politique</th>\n",
       "      <td id=\"T_277fb_row6_col0\" class=\"data row6 col0\" >-0.31</td>\n",
       "      <td id=\"T_277fb_row6_col1\" class=\"data row6 col1\" >0.29</td>\n",
       "      <td id=\"T_277fb_row6_col2\" class=\"data row6 col2\" >0.07</td>\n",
       "      <td id=\"T_277fb_row6_col3\" class=\"data row6 col3\" >0.10</td>\n",
       "      <td id=\"T_277fb_row6_col4\" class=\"data row6 col4\" >-0.05</td>\n",
       "      <td id=\"T_277fb_row6_col5\" class=\"data row6 col5\" >0.41</td>\n",
       "      <td id=\"T_277fb_row6_col6\" class=\"data row6 col6\" >1.00</td>\n",
       "    </tr>\n",
       "  </tbody>\n",
       "</table>\n"
      ],
      "text/plain": [
       "<pandas.io.formats.style.Styler at 0x2926a460b90>"
      ]
     },
     "execution_count": 60,
     "metadata": {},
     "output_type": "execute_result"
    }
   ],
   "source": [
    "correlation_matrix = df_final.corr(numeric_only=True)\n",
    "correlation_matrix.style.format('{:.2f}')"
   ]
  },
  {
   "cell_type": "markdown",
   "metadata": {},
   "source": [
    "Puis représentons-la sous forme graphique."
   ]
  },
  {
   "cell_type": "code",
   "execution_count": 61,
   "metadata": {},
   "outputs": [
    {
     "data": {
      "image/png": "[encoded data removed]",
      "text/plain": [
       "<Figure size 800x600 with 2 Axes>"
      ]
     },
     "metadata": {},
     "output_type": "display_data"
    }
   ],
   "source": [
    "# Initialise le graphique\n",
    "fig, ax = plt.subplots(figsize=(8, 6))\n",
    "\n",
    "# Trace la matrice\n",
    "sns.heatmap(correlation_matrix, annot=True, fmt='.2f', vmin=-1, vmax=1,\n",
    "annot_kws=None, linewidths=1, cmap='RdYlBu', ax=ax)\n",
    "\n",
    "ax.set_title('Matrice de corrélation des indicateurs')\n",
    "\n",
    "plt.show()\n",
    "\n",
    "del fig, ax"
   ]
  },
  {
   "cell_type": "markdown",
   "metadata": {},
   "source": [
    "#### Relations variables quantitatives"
   ]
  },
  {
   "cell_type": "markdown",
   "metadata": {},
   "source": [
    "Traçons les relations entre variables ayant les valeurs de corrélations les plus significatives. Pour cela, et afin d'automatiser la sélection des variables, nous créons une fonction qui permet de ne tracer que les paires de variables qui nous intéressent."
   ]
  },
  {
   "cell_type": "code",
   "execution_count": 62,
   "metadata": {},
   "outputs": [],
   "source": [
    "def filtered_pairplot(df, corr_value, ncols=3):\n",
    "    \"\"\"\n",
    "    Trace les paires de variables en les filtrant à partir des coefficients de\n",
    "    corrélation calculés dans la matrice de corrélation.\n",
    "    Paramètres :\n",
    "    - df : DataFrame source.\n",
    "    - corr_value : valeur de corrélation minimale pour tracer la paire.\n",
    "    - ncols : nombre de colonne du graphique.\n",
    "    \"\"\"\n",
    "\n",
    "    # Calcule la matrice de corrélation et pivote les colonnes\n",
    "    df_temp = df.corr(numeric_only=True).unstack().reset_index()\n",
    "\n",
    "    # Renomme les colonnes\n",
    "    df_temp = df_temp.rename(\n",
    "        columns={'level_0': 'var_0', 'level_1': 'var_1', 0: 'value'})\n",
    "    \n",
    "    # Sélectionne les lignes ayant une valeur absolue supérieure à 'corr_value'\n",
    "    df_temp = df_temp.loc[(np.abs(df_temp['value']) >= corr_value)\n",
    "                          & (np.abs(df_temp['value']) != 1)]\n",
    "    \n",
    "    # Supprime les doublons\n",
    "    df_temp = df_temp.drop_duplicates(subset='value')\n",
    "\n",
    "    # Détermine le nombre de lignes de graphiques à créer\n",
    "    nrows = np.ceil(len(df_temp) / ncols).astype(int)\n",
    "\n",
    "    # Initialise le graphique\n",
    "    fig, axs = plt.subplots(nrows=nrows, ncols=ncols,\n",
    "                            figsize=((ncols*3), (2*nrows+2)))\n",
    "    \n",
    "    # Boucle sur les lignes du DataFrame\n",
    "    for i, row in enumerate(df_temp.itertuples()):\n",
    "\n",
    "        # Calcul la position du graphique\n",
    "        r = np.floor(i/ncols).astype(int)\n",
    "        c = i % ncols\n",
    "\n",
    "        # Trace les graphiques\n",
    "        axs[r, c].scatter(df[row.var_0], df[row.var_1], edgecolors='w')\n",
    "        axs[r, c].set_xlabel(f'{row.var_0}', size=9)\n",
    "        axs[r, c].set_ylabel(f'{row.var_1}', size=9)\n",
    "        axs[r, c].tick_params(axis='both', which='both', labelsize=8.5)\n",
    "    \n",
    "    # Supprime les graphiques vides\n",
    "    [fig.delaxes(ax) for ax in axs.flatten() if not ax.has_data()]\n",
    "\n",
    "    fig.suptitle(\n",
    "        f'Paires de variables avec coefficient de corrélation ≤ -{corr_value}' \n",
    "        f'et ≥ +{corr_value}'\n",
    "        , y=1.02)\n",
    "      \n",
    "    fig.tight_layout()\n",
    "\n",
    "    plt.show()"
   ]
  },
  {
   "cell_type": "markdown",
   "metadata": {},
   "source": [
    "On peut ensuite tracer nos graphiques."
   ]
  },
  {
   "cell_type": "code",
   "execution_count": 63,
   "metadata": {},
   "outputs": [
    {
     "data": {
      "image/png": "[encoded data removed]",
      "text/plain": [
       "<Figure size 900x1000 with 12 Axes>"
      ]
     },
     "metadata": {},
     "output_type": "display_data"
    }
   ],
   "source": [
    "filtered_pairplot(df_final, 0.1)"
   ]
  },
  {
   "cell_type": "markdown",
   "metadata": {},
   "source": [
    "### Exportation de `df_final`<a id='3'></a>"
   ]
  },
  {
   "cell_type": "code",
   "execution_count": 64,
   "metadata": {},
   "outputs": [],
   "source": [
    "df_final.to_csv('./datasets/indicateurs-zones-2017.csv', index=False)"
   ]
  }
 ],
 "metadata": {
  "kernelspec": {
   "display_name": "oc-env",
   "language": "python",
   "name": "python3"
  },
  "language_info": {
   "codemirror_mode": {
    "name": "ipython",
    "version": 3
   },
   "file_extension": ".py",
   "mimetype": "text/x-python",
   "name": "python",
   "nbconvert_exporter": "python",
   "pygments_lexer": "ipython3",
   "version": "3.11.2"
  },
  "orig_nbformat": 4
 },
 "nbformat": 4,
 "nbformat_minor": 2
}
