{
 "cells": [
  {
   "cell_type": "code",
   "execution_count": 1,
   "metadata": {},
   "outputs": [],
   "source": [
    "# Importation librairies\n",
    "import numpy as np\n",
    "import pandas as pd\n",
    "import matplotlib.pyplot as plt\n",
    "from matplotlib import ticker\n",
    "import warnings\n",
    "\n",
    "# Masque avertissement quand importation fichiers \"xlsx\"\n",
    "warnings.filterwarnings('ignore', category = UserWarning, module = 'openpyxl')\n",
    "\n",
    "# Augmentation du nombre de colonnes affichées dans les DataFrame\n",
    "pd.set_option('display.max_columns', 50)"
   ]
  },
  {
   "attachments": {},
   "cell_type": "markdown",
   "metadata": {},
   "source": [
    "<img src='./images/logo-bottleneck-sans-fond.png' width=240px />"
   ]
  },
  {
   "attachments": {},
   "cell_type": "markdown",
   "metadata": {},
   "source": [
    "Dans le cadre de ce projet, nous sommes *Data Analyst freelance* en mission chez BottleNeck qui est un marchand de vin. L'objectif est d'étudier les ventes de la boutique en ligne, mais pour cela, il faudra au préalable nettoyer et rapprocher les données mises à notre disposition."
   ]
  },
  {
   "attachments": {},
   "cell_type": "markdown",
   "metadata": {},
   "source": [
    "## Sommaire<a id='0'></a>"
   ]
  },
  {
   "attachments": {},
   "cell_type": "markdown",
   "metadata": {},
   "source": [
    "* [Préparation des données source](#1)\n",
    "    * [Export de l'ERP](#1-1)\n",
    "    * [Fichier de liaison](#1-2)\n",
    "    * [Export du CMS](#1-3)\n",
    "* [Rapprochement des exports](#2)\n",
    "* [Analyse des ventes en ligne](#3)\n",
    "    * [Chiffre d'affaires par produit](#3-1)\n",
    "    * [Chiffre d'affaires total](#3-2)\n",
    "* [Analyse des prix des produits](#4)\n",
    "    * [Distribution empirique des prix](#4-1)\n",
    "    * [Mesures de tendance centrale](#4-2)\n",
    "    * [Mesures de dispersion](#4-3)\n",
    "    * [Conclusion](#4-4)\n",
    "* [Pour aller plus loin](#5)\n",
    "    * [Mesures de forme](#5-1)\n",
    "    * [Mesures de concentration](#5-2)"
   ]
  },
  {
   "attachments": {},
   "cell_type": "markdown",
   "metadata": {},
   "source": [
    "## Préparation des données source<a id='1'></a>"
   ]
  },
  {
   "attachments": {},
   "cell_type": "markdown",
   "metadata": {},
   "source": [
    "Cette première partie sera consacrée au traitement de chaque fichier Excel:\n",
    "* chargement des données dans un *DataFrame*;\n",
    "* vérification de l'importation;\n",
    "* suppression des variables inutiles;\n",
    "* vérification du type des données;\n",
    "* vérification des valeurs manquantes et/ou des doublons."
   ]
  },
  {
   "attachments": {},
   "cell_type": "markdown",
   "metadata": {},
   "source": [
    "### Export de l'ERP<a id='1-1'></a>"
   ]
  },
  {
   "cell_type": "code",
   "execution_count": 2,
   "metadata": {},
   "outputs": [],
   "source": [
    "df_erp = pd.read_excel('./datasets/erp.xlsx')"
   ]
  },
  {
   "cell_type": "code",
   "execution_count": 3,
   "metadata": {},
   "outputs": [
    {
     "data": {
      "text/html": [
       "<div>\n",
       "<style scoped>\n",
       "    .dataframe tbody tr th:only-of-type {\n",
       "        vertical-align: middle;\n",
       "    }\n",
       "\n",
       "    .dataframe tbody tr th {\n",
       "        vertical-align: top;\n",
       "    }\n",
       "\n",
       "    .dataframe thead th {\n",
       "        text-align: right;\n",
       "    }\n",
       "</style>\n",
       "<table border=\"1\" class=\"dataframe\">\n",
       "  <thead>\n",
       "    <tr style=\"text-align: right;\">\n",
       "      <th></th>\n",
       "      <th>product_id</th>\n",
       "      <th>onsale_web</th>\n",
       "      <th>price</th>\n",
       "      <th>stock_quantity</th>\n",
       "      <th>stock_status</th>\n",
       "    </tr>\n",
       "  </thead>\n",
       "  <tbody>\n",
       "    <tr>\n",
       "      <th>0</th>\n",
       "      <td>3847</td>\n",
       "      <td>1</td>\n",
       "      <td>24.2</td>\n",
       "      <td>0</td>\n",
       "      <td>outofstock</td>\n",
       "    </tr>\n",
       "    <tr>\n",
       "      <th>1</th>\n",
       "      <td>3849</td>\n",
       "      <td>1</td>\n",
       "      <td>34.3</td>\n",
       "      <td>0</td>\n",
       "      <td>outofstock</td>\n",
       "    </tr>\n",
       "    <tr>\n",
       "      <th>2</th>\n",
       "      <td>3850</td>\n",
       "      <td>1</td>\n",
       "      <td>20.8</td>\n",
       "      <td>0</td>\n",
       "      <td>outofstock</td>\n",
       "    </tr>\n",
       "  </tbody>\n",
       "</table>\n",
       "</div>"
      ],
      "text/plain": [
       "   product_id  onsale_web  price  stock_quantity stock_status\n",
       "0        3847           1   24.2               0   outofstock\n",
       "1        3849           1   34.3               0   outofstock\n",
       "2        3850           1   20.8               0   outofstock"
      ]
     },
     "execution_count": 3,
     "metadata": {},
     "output_type": "execute_result"
    }
   ],
   "source": [
    "df_erp.head(3)"
   ]
  },
  {
   "cell_type": "code",
   "execution_count": 4,
   "metadata": {},
   "outputs": [
    {
     "data": {
      "text/plain": [
       "(825, 5)"
      ]
     },
     "execution_count": 4,
     "metadata": {},
     "output_type": "execute_result"
    }
   ],
   "source": [
    "df_erp.shape"
   ]
  },
  {
   "attachments": {},
   "cell_type": "markdown",
   "metadata": {},
   "source": [
    "Les données de l'ERP contiennent 825 produits renseignés sur 5 variables nous donnant des informations sur leur code, leur disponibilité à la vente en ligne, leur prix et l'état de leur stock."
   ]
  },
  {
   "cell_type": "code",
   "execution_count": 5,
   "metadata": {},
   "outputs": [
    {
     "data": {
      "text/plain": [
       "product_id          int64\n",
       "onsale_web          int64\n",
       "price             float64\n",
       "stock_quantity      int64\n",
       "stock_status       object\n",
       "dtype: object"
      ]
     },
     "execution_count": 5,
     "metadata": {},
     "output_type": "execute_result"
    }
   ],
   "source": [
    "df_erp.dtypes"
   ]
  },
  {
   "attachments": {},
   "cell_type": "markdown",
   "metadata": {},
   "source": [
    "La variable \"product_id\" est qualitative, nous allons la convertir en objet.<br>\n",
    "La variable \"onsale_web\" est booléenne. Nous allons la convertir en vérifiant avant qu'elle ne comprenne bien que les valeurs 0 ou 1."
   ]
  },
  {
   "cell_type": "code",
   "execution_count": 6,
   "metadata": {},
   "outputs": [
    {
     "name": "stdout",
     "output_type": "stream",
     "text": [
      "La variable \"onsale_web\" ne contient bien que les valeurs 0 ou 1 : True.\n"
     ]
    }
   ],
   "source": [
    "# Vérification valeurs présentes dans \"onsale_web\"\n",
    "verification_valeurs = df_erp['onsale_web'].isin([0, 1]).all()\n",
    "\n",
    "print(\n",
    "    f'La variable \\\"onsale_web\\\" ne contient bien que les valeurs 0 ou 1 : {verification_valeurs}.')\n",
    "\n",
    "del verification_valeurs"
   ]
  },
  {
   "cell_type": "code",
   "execution_count": 7,
   "metadata": {},
   "outputs": [],
   "source": [
    "df_erp['product_id'] = df_erp['product_id'].astype(object)\n",
    "df_erp['onsale_web'] = df_erp['onsale_web'].astype(bool)"
   ]
  },
  {
   "cell_type": "code",
   "execution_count": 8,
   "metadata": {},
   "outputs": [
    {
     "data": {
      "text/plain": [
       "product_id        0\n",
       "onsale_web        0\n",
       "price             0\n",
       "stock_quantity    0\n",
       "stock_status      0\n",
       "dtype: int64"
      ]
     },
     "execution_count": 8,
     "metadata": {},
     "output_type": "execute_result"
    }
   ],
   "source": [
    "df_erp.isna().sum()"
   ]
  },
  {
   "attachments": {},
   "cell_type": "markdown",
   "metadata": {},
   "source": [
    "Il n'y a pas de valeurs manquantes, on passe aux doublons."
   ]
  },
  {
   "cell_type": "code",
   "execution_count": 9,
   "metadata": {},
   "outputs": [
    {
     "name": "stdout",
     "output_type": "stream",
     "text": [
      "Il y a 0 doublons dans les codes produits.\n"
     ]
    }
   ],
   "source": [
    "# Test des doublons sur le code produit\n",
    "test_doublons = df_erp.duplicated(subset=['product_id']).sum()\n",
    "\n",
    "print(f'Il y a {test_doublons} doublons dans les codes produits.')\n",
    "\n",
    "del test_doublons"
   ]
  },
  {
   "attachments": {},
   "cell_type": "markdown",
   "metadata": {},
   "source": [
    "### Fichier de liaison<a id='1-2'></a>"
   ]
  },
  {
   "cell_type": "code",
   "execution_count": 10,
   "metadata": {},
   "outputs": [],
   "source": [
    "df_liaison = pd.read_excel('./datasets/liaison.xlsx')"
   ]
  },
  {
   "cell_type": "code",
   "execution_count": 11,
   "metadata": {},
   "outputs": [
    {
     "data": {
      "text/html": [
       "<div>\n",
       "<style scoped>\n",
       "    .dataframe tbody tr th:only-of-type {\n",
       "        vertical-align: middle;\n",
       "    }\n",
       "\n",
       "    .dataframe tbody tr th {\n",
       "        vertical-align: top;\n",
       "    }\n",
       "\n",
       "    .dataframe thead th {\n",
       "        text-align: right;\n",
       "    }\n",
       "</style>\n",
       "<table border=\"1\" class=\"dataframe\">\n",
       "  <thead>\n",
       "    <tr style=\"text-align: right;\">\n",
       "      <th></th>\n",
       "      <th>product_id</th>\n",
       "      <th>id_web</th>\n",
       "    </tr>\n",
       "  </thead>\n",
       "  <tbody>\n",
       "    <tr>\n",
       "      <th>0</th>\n",
       "      <td>3847</td>\n",
       "      <td>15298</td>\n",
       "    </tr>\n",
       "    <tr>\n",
       "      <th>1</th>\n",
       "      <td>3849</td>\n",
       "      <td>15296</td>\n",
       "    </tr>\n",
       "    <tr>\n",
       "      <th>2</th>\n",
       "      <td>3850</td>\n",
       "      <td>15300</td>\n",
       "    </tr>\n",
       "  </tbody>\n",
       "</table>\n",
       "</div>"
      ],
      "text/plain": [
       "   product_id id_web\n",
       "0        3847  15298\n",
       "1        3849  15296\n",
       "2        3850  15300"
      ]
     },
     "execution_count": 11,
     "metadata": {},
     "output_type": "execute_result"
    }
   ],
   "source": [
    "df_liaison.head(3)"
   ]
  },
  {
   "cell_type": "code",
   "execution_count": 12,
   "metadata": {},
   "outputs": [
    {
     "data": {
      "text/plain": [
       "(825, 2)"
      ]
     },
     "execution_count": 12,
     "metadata": {},
     "output_type": "execute_result"
    }
   ],
   "source": [
    "df_liaison.shape"
   ]
  },
  {
   "attachments": {},
   "cell_type": "markdown",
   "metadata": {},
   "source": [
    "Les données du fichier de liaison contiennent également 825 produits et 2 variables:\n",
    "* \"product_id\": le code du produit issu de l'ERP;\n",
    "* \"id_web\": le code du produit issu du CMS.\n",
    "\n",
    "Nous savons que \"id_web\" correspond en fait au SKU du CMS donc nous allons tout de suite renommer la colonne."
   ]
  },
  {
   "cell_type": "code",
   "execution_count": 13,
   "metadata": {},
   "outputs": [],
   "source": [
    "df_liaison = df_liaison.rename(columns = {'id_web':'sku'})"
   ]
  },
  {
   "cell_type": "code",
   "execution_count": 14,
   "metadata": {},
   "outputs": [
    {
     "data": {
      "text/plain": [
       "product_id     int64\n",
       "sku           object\n",
       "dtype: object"
      ]
     },
     "execution_count": 14,
     "metadata": {},
     "output_type": "execute_result"
    }
   ],
   "source": [
    "df_liaison.dtypes"
   ]
  },
  {
   "attachments": {},
   "cell_type": "markdown",
   "metadata": {},
   "source": [
    "La variable \"product_id\" est qualitative, nous la convertissons en objet."
   ]
  },
  {
   "cell_type": "code",
   "execution_count": 15,
   "metadata": {},
   "outputs": [],
   "source": [
    "df_liaison['product_id'] = df_liaison['product_id'].astype(object)"
   ]
  },
  {
   "cell_type": "code",
   "execution_count": 16,
   "metadata": {},
   "outputs": [
    {
     "data": {
      "text/plain": [
       "product_id     0\n",
       "sku           91\n",
       "dtype: int64"
      ]
     },
     "execution_count": 16,
     "metadata": {},
     "output_type": "execute_result"
    }
   ],
   "source": [
    "df_liaison.isna().sum()"
   ]
  },
  {
   "attachments": {},
   "cell_type": "markdown",
   "metadata": {},
   "source": [
    "Il manque 91 valeurs pour \"sku\". Les produits concernés ne pourront pas être rapprochés de leur(s) vente(s), il est donc inutile de les conserver."
   ]
  },
  {
   "cell_type": "code",
   "execution_count": 17,
   "metadata": {},
   "outputs": [],
   "source": [
    "df_liaison = df_liaison.dropna().reset_index(drop=True)"
   ]
  },
  {
   "attachments": {},
   "cell_type": "markdown",
   "metadata": {},
   "source": [
    "Pour finir, nous nous assurons que les codes \"product_id\" et \"sku\" ne contiennent pas de doublons."
   ]
  },
  {
   "cell_type": "code",
   "execution_count": 18,
   "metadata": {},
   "outputs": [
    {
     "name": "stdout",
     "output_type": "stream",
     "text": [
      "Il y a 0 doublons dans les codes produits et les SKU.\n"
     ]
    }
   ],
   "source": [
    "# Test des doublons sur le code produit et le SKU\n",
    "test_doublons = df_liaison.duplicated(subset=['product_id', 'sku']).sum()\n",
    "\n",
    "print(f'Il y a {test_doublons} doublons dans les codes produits et les SKU.')\n",
    "\n",
    "del test_doublons"
   ]
  },
  {
   "attachments": {},
   "cell_type": "markdown",
   "metadata": {},
   "source": [
    "### Export du CMS<a id='1-3'></a>"
   ]
  },
  {
   "cell_type": "code",
   "execution_count": 19,
   "metadata": {},
   "outputs": [],
   "source": [
    "df_web = pd.read_excel('./datasets/web.xlsx')"
   ]
  },
  {
   "cell_type": "code",
   "execution_count": 20,
   "metadata": {},
   "outputs": [
    {
     "data": {
      "text/html": [
       "<div>\n",
       "<style scoped>\n",
       "    .dataframe tbody tr th:only-of-type {\n",
       "        vertical-align: middle;\n",
       "    }\n",
       "\n",
       "    .dataframe tbody tr th {\n",
       "        vertical-align: top;\n",
       "    }\n",
       "\n",
       "    .dataframe thead th {\n",
       "        text-align: right;\n",
       "    }\n",
       "</style>\n",
       "<table border=\"1\" class=\"dataframe\">\n",
       "  <thead>\n",
       "    <tr style=\"text-align: right;\">\n",
       "      <th></th>\n",
       "      <th>sku</th>\n",
       "      <th>virtual</th>\n",
       "      <th>downloadable</th>\n",
       "      <th>rating_count</th>\n",
       "      <th>average_rating</th>\n",
       "      <th>total_sales</th>\n",
       "      <th>tax_status</th>\n",
       "      <th>tax_class</th>\n",
       "      <th>post_author</th>\n",
       "      <th>post_date</th>\n",
       "      <th>post_date_gmt</th>\n",
       "      <th>post_content</th>\n",
       "      <th>post_title</th>\n",
       "      <th>post_excerpt</th>\n",
       "      <th>post_status</th>\n",
       "      <th>comment_status</th>\n",
       "      <th>ping_status</th>\n",
       "      <th>post_password</th>\n",
       "      <th>post_name</th>\n",
       "      <th>post_modified</th>\n",
       "      <th>post_modified_gmt</th>\n",
       "      <th>post_content_filtered</th>\n",
       "      <th>post_parent</th>\n",
       "      <th>guid</th>\n",
       "      <th>menu_order</th>\n",
       "      <th>post_type</th>\n",
       "      <th>post_mime_type</th>\n",
       "      <th>comment_count</th>\n",
       "    </tr>\n",
       "  </thead>\n",
       "  <tbody>\n",
       "    <tr>\n",
       "      <th>0</th>\n",
       "      <td>bon-cadeau-25-euros</td>\n",
       "      <td>0</td>\n",
       "      <td>0</td>\n",
       "      <td>0</td>\n",
       "      <td>0.0</td>\n",
       "      <td>10.0</td>\n",
       "      <td>taxable</td>\n",
       "      <td>NaN</td>\n",
       "      <td>1.0</td>\n",
       "      <td>2018-06-01 13:53:46</td>\n",
       "      <td>2018-06-01 11:53:46</td>\n",
       "      <td>NaN</td>\n",
       "      <td>Bon cadeau de 25€</td>\n",
       "      <td>&lt;span style=\"color: #a85253;\"&gt;&lt;strong&gt;Parlons ...</td>\n",
       "      <td>publish</td>\n",
       "      <td>closed</td>\n",
       "      <td>closed</td>\n",
       "      <td>NaN</td>\n",
       "      <td>bon-cadeau-de-25-euros</td>\n",
       "      <td>2018-06-01 14:13:57</td>\n",
       "      <td>2018-06-01 12:13:57</td>\n",
       "      <td>NaN</td>\n",
       "      <td>0.0</td>\n",
       "      <td>https://www.bottle-neck.fr/?post_type=product&amp;...</td>\n",
       "      <td>0.0</td>\n",
       "      <td>product</td>\n",
       "      <td>NaN</td>\n",
       "      <td>0.0</td>\n",
       "    </tr>\n",
       "    <tr>\n",
       "      <th>1</th>\n",
       "      <td>15298</td>\n",
       "      <td>0</td>\n",
       "      <td>0</td>\n",
       "      <td>0</td>\n",
       "      <td>0.0</td>\n",
       "      <td>6.0</td>\n",
       "      <td>taxable</td>\n",
       "      <td>NaN</td>\n",
       "      <td>2.0</td>\n",
       "      <td>2018-02-08 12:58:52</td>\n",
       "      <td>2018-02-08 11:58:52</td>\n",
       "      <td>NaN</td>\n",
       "      <td>Pierre Jean Villa Saint-Joseph Préface 2018</td>\n",
       "      <td>Il exhale un nez subtil, racé avec du poivre f...</td>\n",
       "      <td>publish</td>\n",
       "      <td>closed</td>\n",
       "      <td>closed</td>\n",
       "      <td>NaN</td>\n",
       "      <td>pierre-jean-villa-saint-joseph-preface-2018</td>\n",
       "      <td>2019-12-30 09:30:29</td>\n",
       "      <td>2019-12-30 08:30:29</td>\n",
       "      <td>NaN</td>\n",
       "      <td>0.0</td>\n",
       "      <td>https://www.bottle-neck.fr/?post_type=product&amp;...</td>\n",
       "      <td>0.0</td>\n",
       "      <td>product</td>\n",
       "      <td>NaN</td>\n",
       "      <td>0.0</td>\n",
       "    </tr>\n",
       "    <tr>\n",
       "      <th>2</th>\n",
       "      <td>15296</td>\n",
       "      <td>0</td>\n",
       "      <td>0</td>\n",
       "      <td>0</td>\n",
       "      <td>0.0</td>\n",
       "      <td>0.0</td>\n",
       "      <td>taxable</td>\n",
       "      <td>NaN</td>\n",
       "      <td>2.0</td>\n",
       "      <td>2018-02-08 13:49:41</td>\n",
       "      <td>2018-02-08 12:49:41</td>\n",
       "      <td>NaN</td>\n",
       "      <td>Pierre Jean Villa Saint-Joseph Rouge Tildé 2017</td>\n",
       "      <td>Les vieilles vignes lui apportent une rare pro...</td>\n",
       "      <td>publish</td>\n",
       "      <td>closed</td>\n",
       "      <td>closed</td>\n",
       "      <td>NaN</td>\n",
       "      <td>pierre-jean-villa-saint-joseph-tilde-2017</td>\n",
       "      <td>2019-12-21 09:00:17</td>\n",
       "      <td>2019-12-21 08:00:17</td>\n",
       "      <td>NaN</td>\n",
       "      <td>0.0</td>\n",
       "      <td>https://www.bottle-neck.fr/?post_type=product&amp;...</td>\n",
       "      <td>0.0</td>\n",
       "      <td>product</td>\n",
       "      <td>NaN</td>\n",
       "      <td>0.0</td>\n",
       "    </tr>\n",
       "  </tbody>\n",
       "</table>\n",
       "</div>"
      ],
      "text/plain": [
       "                   sku  virtual  downloadable  rating_count  average_rating  \\\n",
       "0  bon-cadeau-25-euros        0             0             0             0.0   \n",
       "1                15298        0             0             0             0.0   \n",
       "2                15296        0             0             0             0.0   \n",
       "\n",
       "   total_sales tax_status  tax_class  post_author           post_date  \\\n",
       "0         10.0    taxable        NaN          1.0 2018-06-01 13:53:46   \n",
       "1          6.0    taxable        NaN          2.0 2018-02-08 12:58:52   \n",
       "2          0.0    taxable        NaN          2.0 2018-02-08 13:49:41   \n",
       "\n",
       "        post_date_gmt  post_content  \\\n",
       "0 2018-06-01 11:53:46           NaN   \n",
       "1 2018-02-08 11:58:52           NaN   \n",
       "2 2018-02-08 12:49:41           NaN   \n",
       "\n",
       "                                        post_title  \\\n",
       "0                                Bon cadeau de 25€   \n",
       "1      Pierre Jean Villa Saint-Joseph Préface 2018   \n",
       "2  Pierre Jean Villa Saint-Joseph Rouge Tildé 2017   \n",
       "\n",
       "                                        post_excerpt post_status  \\\n",
       "0  <span style=\"color: #a85253;\"><strong>Parlons ...     publish   \n",
       "1  Il exhale un nez subtil, racé avec du poivre f...     publish   \n",
       "2  Les vieilles vignes lui apportent une rare pro...     publish   \n",
       "\n",
       "  comment_status ping_status  post_password  \\\n",
       "0         closed      closed            NaN   \n",
       "1         closed      closed            NaN   \n",
       "2         closed      closed            NaN   \n",
       "\n",
       "                                     post_name       post_modified  \\\n",
       "0                       bon-cadeau-de-25-euros 2018-06-01 14:13:57   \n",
       "1  pierre-jean-villa-saint-joseph-preface-2018 2019-12-30 09:30:29   \n",
       "2    pierre-jean-villa-saint-joseph-tilde-2017 2019-12-21 09:00:17   \n",
       "\n",
       "    post_modified_gmt  post_content_filtered  post_parent  \\\n",
       "0 2018-06-01 12:13:57                    NaN          0.0   \n",
       "1 2019-12-30 08:30:29                    NaN          0.0   \n",
       "2 2019-12-21 08:00:17                    NaN          0.0   \n",
       "\n",
       "                                                guid  menu_order post_type  \\\n",
       "0  https://www.bottle-neck.fr/?post_type=product&...         0.0   product   \n",
       "1  https://www.bottle-neck.fr/?post_type=product&...         0.0   product   \n",
       "2  https://www.bottle-neck.fr/?post_type=product&...         0.0   product   \n",
       "\n",
       "  post_mime_type  comment_count  \n",
       "0            NaN            0.0  \n",
       "1            NaN            0.0  \n",
       "2            NaN            0.0  "
      ]
     },
     "execution_count": 20,
     "metadata": {},
     "output_type": "execute_result"
    }
   ],
   "source": [
    "df_web.head(3)"
   ]
  },
  {
   "cell_type": "code",
   "execution_count": 21,
   "metadata": {},
   "outputs": [
    {
     "data": {
      "text/plain": [
       "(1513, 28)"
      ]
     },
     "execution_count": 21,
     "metadata": {},
     "output_type": "execute_result"
    }
   ],
   "source": [
    "df_web.shape"
   ]
  },
  {
   "attachments": {},
   "cell_type": "markdown",
   "metadata": {},
   "source": [
    "Les données du CMS contiennent 1513 produits avec 28 variables:\n",
    "* Le nombre de produits disponibles en ligne est largement supérieur au nombre de produits dans le *DataFrame* `df_erp`.\n",
    "* Les variables sont nombreuses, mais beaucoup semblent vides ou ne semblent comporter que des 0.<br>"
   ]
  },
  {
   "cell_type": "code",
   "execution_count": 22,
   "metadata": {},
   "outputs": [
    {
     "data": {
      "text/plain": [
       "sku                              object\n",
       "virtual                           int64\n",
       "downloadable                      int64\n",
       "rating_count                      int64\n",
       "average_rating                  float64\n",
       "total_sales                     float64\n",
       "tax_status                       object\n",
       "tax_class                       float64\n",
       "post_author                     float64\n",
       "post_date                datetime64[ns]\n",
       "post_date_gmt            datetime64[ns]\n",
       "post_content                    float64\n",
       "post_title                       object\n",
       "post_excerpt                     object\n",
       "post_status                      object\n",
       "comment_status                   object\n",
       "ping_status                      object\n",
       "post_password                   float64\n",
       "post_name                        object\n",
       "post_modified            datetime64[ns]\n",
       "post_modified_gmt        datetime64[ns]\n",
       "post_content_filtered           float64\n",
       "post_parent                     float64\n",
       "guid                             object\n",
       "menu_order                      float64\n",
       "post_type                        object\n",
       "post_mime_type                   object\n",
       "comment_count                   float64\n",
       "dtype: object"
      ]
     },
     "execution_count": 22,
     "metadata": {},
     "output_type": "execute_result"
    }
   ],
   "source": [
    "df_web.dtypes"
   ]
  },
  {
   "attachments": {},
   "cell_type": "markdown",
   "metadata": {},
   "source": [
    "Il y a plusieurs variables dont on ne sait pas à quoi elles correspondent exactement et il est difficile de savoir de quel type elles devraient être. Nous allons donc étudier la possibilité d'en supprimer quelques-unes. Utilisons la méthode `.describe()` qui va nous donner des informations sur les variables définies comme quantitatives dans le *DataFrame*."
   ]
  },
  {
   "cell_type": "code",
   "execution_count": 23,
   "metadata": {},
   "outputs": [
    {
     "data": {
      "text/html": [
       "<div>\n",
       "<style scoped>\n",
       "    .dataframe tbody tr th:only-of-type {\n",
       "        vertical-align: middle;\n",
       "    }\n",
       "\n",
       "    .dataframe tbody tr th {\n",
       "        vertical-align: top;\n",
       "    }\n",
       "\n",
       "    .dataframe thead th {\n",
       "        text-align: right;\n",
       "    }\n",
       "</style>\n",
       "<table border=\"1\" class=\"dataframe\">\n",
       "  <thead>\n",
       "    <tr style=\"text-align: right;\">\n",
       "      <th></th>\n",
       "      <th>virtual</th>\n",
       "      <th>downloadable</th>\n",
       "      <th>rating_count</th>\n",
       "      <th>average_rating</th>\n",
       "      <th>total_sales</th>\n",
       "      <th>tax_class</th>\n",
       "      <th>post_author</th>\n",
       "      <th>post_content</th>\n",
       "      <th>post_password</th>\n",
       "      <th>post_content_filtered</th>\n",
       "      <th>post_parent</th>\n",
       "      <th>menu_order</th>\n",
       "      <th>comment_count</th>\n",
       "    </tr>\n",
       "  </thead>\n",
       "  <tbody>\n",
       "    <tr>\n",
       "      <th>count</th>\n",
       "      <td>1513.0</td>\n",
       "      <td>1513.0</td>\n",
       "      <td>1513.0</td>\n",
       "      <td>1430.0</td>\n",
       "      <td>1430.000000</td>\n",
       "      <td>0.0</td>\n",
       "      <td>1430.000000</td>\n",
       "      <td>0.0</td>\n",
       "      <td>0.0</td>\n",
       "      <td>0.0</td>\n",
       "      <td>1430.0</td>\n",
       "      <td>1430.0</td>\n",
       "      <td>1430.0</td>\n",
       "    </tr>\n",
       "    <tr>\n",
       "      <th>mean</th>\n",
       "      <td>0.0</td>\n",
       "      <td>0.0</td>\n",
       "      <td>0.0</td>\n",
       "      <td>0.0</td>\n",
       "      <td>4.006993</td>\n",
       "      <td>NaN</td>\n",
       "      <td>1.998601</td>\n",
       "      <td>NaN</td>\n",
       "      <td>NaN</td>\n",
       "      <td>NaN</td>\n",
       "      <td>0.0</td>\n",
       "      <td>0.0</td>\n",
       "      <td>0.0</td>\n",
       "    </tr>\n",
       "    <tr>\n",
       "      <th>std</th>\n",
       "      <td>0.0</td>\n",
       "      <td>0.0</td>\n",
       "      <td>0.0</td>\n",
       "      <td>0.0</td>\n",
       "      <td>8.510559</td>\n",
       "      <td>NaN</td>\n",
       "      <td>0.037385</td>\n",
       "      <td>NaN</td>\n",
       "      <td>NaN</td>\n",
       "      <td>NaN</td>\n",
       "      <td>0.0</td>\n",
       "      <td>0.0</td>\n",
       "      <td>0.0</td>\n",
       "    </tr>\n",
       "    <tr>\n",
       "      <th>min</th>\n",
       "      <td>0.0</td>\n",
       "      <td>0.0</td>\n",
       "      <td>0.0</td>\n",
       "      <td>0.0</td>\n",
       "      <td>0.000000</td>\n",
       "      <td>NaN</td>\n",
       "      <td>1.000000</td>\n",
       "      <td>NaN</td>\n",
       "      <td>NaN</td>\n",
       "      <td>NaN</td>\n",
       "      <td>0.0</td>\n",
       "      <td>0.0</td>\n",
       "      <td>0.0</td>\n",
       "    </tr>\n",
       "    <tr>\n",
       "      <th>25%</th>\n",
       "      <td>0.0</td>\n",
       "      <td>0.0</td>\n",
       "      <td>0.0</td>\n",
       "      <td>0.0</td>\n",
       "      <td>0.000000</td>\n",
       "      <td>NaN</td>\n",
       "      <td>2.000000</td>\n",
       "      <td>NaN</td>\n",
       "      <td>NaN</td>\n",
       "      <td>NaN</td>\n",
       "      <td>0.0</td>\n",
       "      <td>0.0</td>\n",
       "      <td>0.0</td>\n",
       "    </tr>\n",
       "    <tr>\n",
       "      <th>50%</th>\n",
       "      <td>0.0</td>\n",
       "      <td>0.0</td>\n",
       "      <td>0.0</td>\n",
       "      <td>0.0</td>\n",
       "      <td>1.000000</td>\n",
       "      <td>NaN</td>\n",
       "      <td>2.000000</td>\n",
       "      <td>NaN</td>\n",
       "      <td>NaN</td>\n",
       "      <td>NaN</td>\n",
       "      <td>0.0</td>\n",
       "      <td>0.0</td>\n",
       "      <td>0.0</td>\n",
       "    </tr>\n",
       "    <tr>\n",
       "      <th>75%</th>\n",
       "      <td>0.0</td>\n",
       "      <td>0.0</td>\n",
       "      <td>0.0</td>\n",
       "      <td>0.0</td>\n",
       "      <td>4.000000</td>\n",
       "      <td>NaN</td>\n",
       "      <td>2.000000</td>\n",
       "      <td>NaN</td>\n",
       "      <td>NaN</td>\n",
       "      <td>NaN</td>\n",
       "      <td>0.0</td>\n",
       "      <td>0.0</td>\n",
       "      <td>0.0</td>\n",
       "    </tr>\n",
       "    <tr>\n",
       "      <th>max</th>\n",
       "      <td>0.0</td>\n",
       "      <td>0.0</td>\n",
       "      <td>0.0</td>\n",
       "      <td>0.0</td>\n",
       "      <td>96.000000</td>\n",
       "      <td>NaN</td>\n",
       "      <td>2.000000</td>\n",
       "      <td>NaN</td>\n",
       "      <td>NaN</td>\n",
       "      <td>NaN</td>\n",
       "      <td>0.0</td>\n",
       "      <td>0.0</td>\n",
       "      <td>0.0</td>\n",
       "    </tr>\n",
       "  </tbody>\n",
       "</table>\n",
       "</div>"
      ],
      "text/plain": [
       "       virtual  downloadable  rating_count  average_rating  total_sales  \\\n",
       "count   1513.0        1513.0        1513.0          1430.0  1430.000000   \n",
       "mean       0.0           0.0           0.0             0.0     4.006993   \n",
       "std        0.0           0.0           0.0             0.0     8.510559   \n",
       "min        0.0           0.0           0.0             0.0     0.000000   \n",
       "25%        0.0           0.0           0.0             0.0     0.000000   \n",
       "50%        0.0           0.0           0.0             0.0     1.000000   \n",
       "75%        0.0           0.0           0.0             0.0     4.000000   \n",
       "max        0.0           0.0           0.0             0.0    96.000000   \n",
       "\n",
       "       tax_class  post_author  post_content  post_password  \\\n",
       "count        0.0  1430.000000           0.0            0.0   \n",
       "mean         NaN     1.998601           NaN            NaN   \n",
       "std          NaN     0.037385           NaN            NaN   \n",
       "min          NaN     1.000000           NaN            NaN   \n",
       "25%          NaN     2.000000           NaN            NaN   \n",
       "50%          NaN     2.000000           NaN            NaN   \n",
       "75%          NaN     2.000000           NaN            NaN   \n",
       "max          NaN     2.000000           NaN            NaN   \n",
       "\n",
       "       post_content_filtered  post_parent  menu_order  comment_count  \n",
       "count                    0.0       1430.0      1430.0         1430.0  \n",
       "mean                     NaN          0.0         0.0            0.0  \n",
       "std                      NaN          0.0         0.0            0.0  \n",
       "min                      NaN          0.0         0.0            0.0  \n",
       "25%                      NaN          0.0         0.0            0.0  \n",
       "50%                      NaN          0.0         0.0            0.0  \n",
       "75%                      NaN          0.0         0.0            0.0  \n",
       "max                      NaN          0.0         0.0            0.0  "
      ]
     },
     "execution_count": 23,
     "metadata": {},
     "output_type": "execute_result"
    }
   ],
   "source": [
    "df_web.describe()"
   ]
  },
  {
   "attachments": {},
   "cell_type": "markdown",
   "metadata": {},
   "source": [
    "Plusieurs variables ont pour seule valeur 0 et d'autres n'ont aucune valeur. Toutes ces variables peuvent donc être supprimées sans risque."
   ]
  },
  {
   "cell_type": "code",
   "execution_count": 24,
   "metadata": {},
   "outputs": [
    {
     "data": {
      "text/plain": [
       "(1513, 21)"
      ]
     },
     "execution_count": 24,
     "metadata": {},
     "output_type": "execute_result"
    }
   ],
   "source": [
    "# Suppression colonnes dont toutes les lignes sont égales à 0\n",
    "df_web = df_web.drop(df_web.loc[:, (df_web == 0).all(axis='rows')]\n",
    "                     , axis='columns')\n",
    "\n",
    "# Suppression colonnes dont toutes les lignes sont vides\n",
    "df_web = df_web.dropna(axis='columns', how='all')\n",
    "\n",
    "df_web.shape"
   ]
  },
  {
   "cell_type": "markdown",
   "metadata": {},
   "source": [
    "Le nombre de variables est passé de 28 à 21, voyons ce que cela donne si on utilise à nouveau `.describe()`."
   ]
  },
  {
   "cell_type": "code",
   "execution_count": 25,
   "metadata": {},
   "outputs": [
    {
     "data": {
      "text/html": [
       "<div>\n",
       "<style scoped>\n",
       "    .dataframe tbody tr th:only-of-type {\n",
       "        vertical-align: middle;\n",
       "    }\n",
       "\n",
       "    .dataframe tbody tr th {\n",
       "        vertical-align: top;\n",
       "    }\n",
       "\n",
       "    .dataframe thead th {\n",
       "        text-align: right;\n",
       "    }\n",
       "</style>\n",
       "<table border=\"1\" class=\"dataframe\">\n",
       "  <thead>\n",
       "    <tr style=\"text-align: right;\">\n",
       "      <th></th>\n",
       "      <th>average_rating</th>\n",
       "      <th>total_sales</th>\n",
       "      <th>post_author</th>\n",
       "      <th>post_parent</th>\n",
       "      <th>menu_order</th>\n",
       "      <th>comment_count</th>\n",
       "    </tr>\n",
       "  </thead>\n",
       "  <tbody>\n",
       "    <tr>\n",
       "      <th>count</th>\n",
       "      <td>1430.0</td>\n",
       "      <td>1430.000000</td>\n",
       "      <td>1430.000000</td>\n",
       "      <td>1430.0</td>\n",
       "      <td>1430.0</td>\n",
       "      <td>1430.0</td>\n",
       "    </tr>\n",
       "    <tr>\n",
       "      <th>mean</th>\n",
       "      <td>0.0</td>\n",
       "      <td>4.006993</td>\n",
       "      <td>1.998601</td>\n",
       "      <td>0.0</td>\n",
       "      <td>0.0</td>\n",
       "      <td>0.0</td>\n",
       "    </tr>\n",
       "    <tr>\n",
       "      <th>std</th>\n",
       "      <td>0.0</td>\n",
       "      <td>8.510559</td>\n",
       "      <td>0.037385</td>\n",
       "      <td>0.0</td>\n",
       "      <td>0.0</td>\n",
       "      <td>0.0</td>\n",
       "    </tr>\n",
       "    <tr>\n",
       "      <th>min</th>\n",
       "      <td>0.0</td>\n",
       "      <td>0.000000</td>\n",
       "      <td>1.000000</td>\n",
       "      <td>0.0</td>\n",
       "      <td>0.0</td>\n",
       "      <td>0.0</td>\n",
       "    </tr>\n",
       "    <tr>\n",
       "      <th>25%</th>\n",
       "      <td>0.0</td>\n",
       "      <td>0.000000</td>\n",
       "      <td>2.000000</td>\n",
       "      <td>0.0</td>\n",
       "      <td>0.0</td>\n",
       "      <td>0.0</td>\n",
       "    </tr>\n",
       "    <tr>\n",
       "      <th>50%</th>\n",
       "      <td>0.0</td>\n",
       "      <td>1.000000</td>\n",
       "      <td>2.000000</td>\n",
       "      <td>0.0</td>\n",
       "      <td>0.0</td>\n",
       "      <td>0.0</td>\n",
       "    </tr>\n",
       "    <tr>\n",
       "      <th>75%</th>\n",
       "      <td>0.0</td>\n",
       "      <td>4.000000</td>\n",
       "      <td>2.000000</td>\n",
       "      <td>0.0</td>\n",
       "      <td>0.0</td>\n",
       "      <td>0.0</td>\n",
       "    </tr>\n",
       "    <tr>\n",
       "      <th>max</th>\n",
       "      <td>0.0</td>\n",
       "      <td>96.000000</td>\n",
       "      <td>2.000000</td>\n",
       "      <td>0.0</td>\n",
       "      <td>0.0</td>\n",
       "      <td>0.0</td>\n",
       "    </tr>\n",
       "  </tbody>\n",
       "</table>\n",
       "</div>"
      ],
      "text/plain": [
       "       average_rating  total_sales  post_author  post_parent  menu_order  \\\n",
       "count          1430.0  1430.000000  1430.000000       1430.0      1430.0   \n",
       "mean              0.0     4.006993     1.998601          0.0         0.0   \n",
       "std               0.0     8.510559     0.037385          0.0         0.0   \n",
       "min               0.0     0.000000     1.000000          0.0         0.0   \n",
       "25%               0.0     0.000000     2.000000          0.0         0.0   \n",
       "50%               0.0     1.000000     2.000000          0.0         0.0   \n",
       "75%               0.0     4.000000     2.000000          0.0         0.0   \n",
       "max               0.0    96.000000     2.000000          0.0         0.0   \n",
       "\n",
       "       comment_count  \n",
       "count         1430.0  \n",
       "mean             0.0  \n",
       "std              0.0  \n",
       "min              0.0  \n",
       "25%              0.0  \n",
       "50%              0.0  \n",
       "75%              0.0  \n",
       "max              0.0  "
      ]
     },
     "execution_count": 25,
     "metadata": {},
     "output_type": "execute_result"
    }
   ],
   "source": [
    "df_web.describe()"
   ]
  },
  {
   "attachments": {},
   "cell_type": "markdown",
   "metadata": {},
   "source": [
    "4 colonnes comportent 1430 fois la valeur 0. On devine que les valeurs restantes sont manquantes et que c'est pour cela qu'elles n'ont pas été supprimées. Vérifions ce raisonnement en affichant le nombre de fois où chaque valeur est présente."
   ]
  },
  {
   "cell_type": "code",
   "execution_count": 26,
   "metadata": {},
   "outputs": [
    {
     "data": {
      "text/plain": [
       "average_rating  post_parent  menu_order  comment_count\n",
       "0.0             0.0          0.0         0.0              1430\n",
       "NaN             NaN          NaN         NaN                83\n",
       "dtype: int64"
      ]
     },
     "execution_count": 26,
     "metadata": {},
     "output_type": "execute_result"
    }
   ],
   "source": [
    "# Décompte valeurs des 4 colonnes\n",
    "df_web[['average_rating', 'post_parent', 'menu_order', 'comment_count']\n",
    "       ].value_counts(dropna=False)"
   ]
  },
  {
   "attachments": {},
   "cell_type": "markdown",
   "metadata": {},
   "source": [
    "Notre intuition est confirmée. Nous pouvons supprimer ces colonnes puis afficher de nouveau le type des données."
   ]
  },
  {
   "cell_type": "code",
   "execution_count": 27,
   "metadata": {},
   "outputs": [
    {
     "data": {
      "text/plain": [
       "sku                          object\n",
       "total_sales                 float64\n",
       "tax_status                   object\n",
       "post_author                 float64\n",
       "post_date            datetime64[ns]\n",
       "post_date_gmt        datetime64[ns]\n",
       "post_title                   object\n",
       "post_excerpt                 object\n",
       "post_status                  object\n",
       "comment_status               object\n",
       "ping_status                  object\n",
       "post_name                    object\n",
       "post_modified        datetime64[ns]\n",
       "post_modified_gmt    datetime64[ns]\n",
       "guid                         object\n",
       "post_type                    object\n",
       "post_mime_type               object\n",
       "dtype: object"
      ]
     },
     "execution_count": 27,
     "metadata": {},
     "output_type": "execute_result"
    }
   ],
   "source": [
    "df_web = df_web.drop(['average_rating', 'post_parent',\n",
    "                     'menu_order', 'comment_count'], axis='columns')\n",
    "\n",
    "df_web.dtypes"
   ]
  },
  {
   "attachments": {},
   "cell_type": "markdown",
   "metadata": {},
   "source": [
    "Tout semble correct à l'exception de \"post_author\" qui est une variable qualitative que nous allons convertir en objet."
   ]
  },
  {
   "cell_type": "code",
   "execution_count": 28,
   "metadata": {},
   "outputs": [],
   "source": [
    "df_web['post_author'] = df_web['post_author'].astype(object)"
   ]
  },
  {
   "attachments": {},
   "cell_type": "markdown",
   "metadata": {},
   "source": [
    "Nous avons commencé à travailler sur les colonnes, vérifions maintenant les lignes."
   ]
  },
  {
   "cell_type": "code",
   "execution_count": 29,
   "metadata": {},
   "outputs": [
    {
     "data": {
      "text/plain": [
       "sku                   85\n",
       "total_sales           83\n",
       "tax_status           797\n",
       "post_author           83\n",
       "post_date             83\n",
       "post_date_gmt         83\n",
       "post_title            83\n",
       "post_excerpt         797\n",
       "post_status           83\n",
       "comment_status        83\n",
       "ping_status           83\n",
       "post_name             83\n",
       "post_modified         83\n",
       "post_modified_gmt     83\n",
       "guid                  83\n",
       "post_type             83\n",
       "post_mime_type       799\n",
       "dtype: int64"
      ]
     },
     "execution_count": 29,
     "metadata": {},
     "output_type": "execute_result"
    }
   ],
   "source": [
    "df_web.isna().sum()"
   ]
  },
  {
   "attachments": {},
   "cell_type": "markdown",
   "metadata": {},
   "source": [
    "83 lignes sont entièrement vides et peuvent être supprimées. On notera qu'en plus de ces lignes, deux autres n'ont pas de \"sku\"."
   ]
  },
  {
   "cell_type": "code",
   "execution_count": 30,
   "metadata": {},
   "outputs": [],
   "source": [
    "df_web = df_web.dropna(how='all', axis='rows').reset_index(drop=True)"
   ]
  },
  {
   "attachments": {},
   "cell_type": "markdown",
   "metadata": {},
   "source": [
    "Quelles sont les deux lignes sans \"sku\"?"
   ]
  },
  {
   "cell_type": "code",
   "execution_count": 31,
   "metadata": {},
   "outputs": [
    {
     "data": {
      "text/html": [
       "<div>\n",
       "<style scoped>\n",
       "    .dataframe tbody tr th:only-of-type {\n",
       "        vertical-align: middle;\n",
       "    }\n",
       "\n",
       "    .dataframe tbody tr th {\n",
       "        vertical-align: top;\n",
       "    }\n",
       "\n",
       "    .dataframe thead th {\n",
       "        text-align: right;\n",
       "    }\n",
       "</style>\n",
       "<table border=\"1\" class=\"dataframe\">\n",
       "  <thead>\n",
       "    <tr style=\"text-align: right;\">\n",
       "      <th></th>\n",
       "      <th>sku</th>\n",
       "      <th>total_sales</th>\n",
       "      <th>tax_status</th>\n",
       "      <th>post_author</th>\n",
       "      <th>post_date</th>\n",
       "      <th>post_date_gmt</th>\n",
       "      <th>post_title</th>\n",
       "      <th>post_excerpt</th>\n",
       "      <th>post_status</th>\n",
       "      <th>comment_status</th>\n",
       "      <th>ping_status</th>\n",
       "      <th>post_name</th>\n",
       "      <th>post_modified</th>\n",
       "      <th>post_modified_gmt</th>\n",
       "      <th>guid</th>\n",
       "      <th>post_type</th>\n",
       "      <th>post_mime_type</th>\n",
       "    </tr>\n",
       "  </thead>\n",
       "  <tbody>\n",
       "    <tr>\n",
       "      <th>448</th>\n",
       "      <td>NaN</td>\n",
       "      <td>0.0</td>\n",
       "      <td>taxable</td>\n",
       "      <td>2.0</td>\n",
       "      <td>2018-07-31 12:07:23</td>\n",
       "      <td>2018-07-31 10:07:23</td>\n",
       "      <td>Pierre Jean Villa Côte Rôtie Fongeant 2017</td>\n",
       "      <td>Fongeant 2017 explose sur un fruit brillant, p...</td>\n",
       "      <td>publish</td>\n",
       "      <td>closed</td>\n",
       "      <td>closed</td>\n",
       "      <td>pierre-jean-villa-cote-rotie-fongeant-2017</td>\n",
       "      <td>2019-11-02 13:24:15</td>\n",
       "      <td>2019-11-02 12:24:15</td>\n",
       "      <td>https://www.bottle-neck.fr/?post_type=product&amp;...</td>\n",
       "      <td>product</td>\n",
       "      <td>NaN</td>\n",
       "    </tr>\n",
       "    <tr>\n",
       "      <th>449</th>\n",
       "      <td>NaN</td>\n",
       "      <td>0.0</td>\n",
       "      <td>taxable</td>\n",
       "      <td>2.0</td>\n",
       "      <td>2018-08-08 11:23:43</td>\n",
       "      <td>2018-08-08 09:23:43</td>\n",
       "      <td>Pierre Jean Villa Condrieu Jardin Suspendu 2018</td>\n",
       "      <td>&lt;span id=\"u1194-83\"&gt;Le nez séduit par ses parf...</td>\n",
       "      <td>publish</td>\n",
       "      <td>closed</td>\n",
       "      <td>closed</td>\n",
       "      <td>pierre-jean-villa-condrieu-suspendu-2018</td>\n",
       "      <td>2019-11-02 13:24:01</td>\n",
       "      <td>2019-11-02 12:24:01</td>\n",
       "      <td>https://www.bottle-neck.fr/?post_type=product&amp;...</td>\n",
       "      <td>product</td>\n",
       "      <td>NaN</td>\n",
       "    </tr>\n",
       "  </tbody>\n",
       "</table>\n",
       "</div>"
      ],
      "text/plain": [
       "     sku  total_sales tax_status post_author           post_date  \\\n",
       "448  NaN          0.0    taxable         2.0 2018-07-31 12:07:23   \n",
       "449  NaN          0.0    taxable         2.0 2018-08-08 11:23:43   \n",
       "\n",
       "          post_date_gmt                                       post_title  \\\n",
       "448 2018-07-31 10:07:23       Pierre Jean Villa Côte Rôtie Fongeant 2017   \n",
       "449 2018-08-08 09:23:43  Pierre Jean Villa Condrieu Jardin Suspendu 2018   \n",
       "\n",
       "                                          post_excerpt post_status  \\\n",
       "448  Fongeant 2017 explose sur un fruit brillant, p...     publish   \n",
       "449  <span id=\"u1194-83\">Le nez séduit par ses parf...     publish   \n",
       "\n",
       "    comment_status ping_status                                   post_name  \\\n",
       "448         closed      closed  pierre-jean-villa-cote-rotie-fongeant-2017   \n",
       "449         closed      closed    pierre-jean-villa-condrieu-suspendu-2018   \n",
       "\n",
       "          post_modified   post_modified_gmt  \\\n",
       "448 2019-11-02 13:24:15 2019-11-02 12:24:15   \n",
       "449 2019-11-02 13:24:01 2019-11-02 12:24:01   \n",
       "\n",
       "                                                  guid post_type  \\\n",
       "448  https://www.bottle-neck.fr/?post_type=product&...   product   \n",
       "449  https://www.bottle-neck.fr/?post_type=product&...   product   \n",
       "\n",
       "    post_mime_type  \n",
       "448            NaN  \n",
       "449            NaN  "
      ]
     },
     "execution_count": 31,
     "metadata": {},
     "output_type": "execute_result"
    }
   ],
   "source": [
    "df_web.loc[df_web['sku'].isna() & ~df_web['total_sales'].isna()]"
   ]
  },
  {
   "attachments": {},
   "cell_type": "markdown",
   "metadata": {},
   "source": [
    "La variable \"post_title\" va nous aider à chercher si ces produits existe ailleurs dans notre jeu de données et si nous pourrions donc en déduire leur SKU."
   ]
  },
  {
   "cell_type": "code",
   "execution_count": 32,
   "metadata": {},
   "outputs": [
    {
     "data": {
      "text/html": [
       "<div>\n",
       "<style scoped>\n",
       "    .dataframe tbody tr th:only-of-type {\n",
       "        vertical-align: middle;\n",
       "    }\n",
       "\n",
       "    .dataframe tbody tr th {\n",
       "        vertical-align: top;\n",
       "    }\n",
       "\n",
       "    .dataframe thead th {\n",
       "        text-align: right;\n",
       "    }\n",
       "</style>\n",
       "<table border=\"1\" class=\"dataframe\">\n",
       "  <thead>\n",
       "    <tr style=\"text-align: right;\">\n",
       "      <th></th>\n",
       "      <th>sku</th>\n",
       "      <th>post_title</th>\n",
       "    </tr>\n",
       "  </thead>\n",
       "  <tbody>\n",
       "    <tr>\n",
       "      <th>448</th>\n",
       "      <td>NaN</td>\n",
       "      <td>Pierre Jean Villa Côte Rôtie Fongeant 2017</td>\n",
       "    </tr>\n",
       "    <tr>\n",
       "      <th>449</th>\n",
       "      <td>NaN</td>\n",
       "      <td>Pierre Jean Villa Condrieu Jardin Suspendu 2018</td>\n",
       "    </tr>\n",
       "  </tbody>\n",
       "</table>\n",
       "</div>"
      ],
      "text/plain": [
       "     sku                                       post_title\n",
       "448  NaN       Pierre Jean Villa Côte Rôtie Fongeant 2017\n",
       "449  NaN  Pierre Jean Villa Condrieu Jardin Suspendu 2018"
      ]
     },
     "execution_count": 32,
     "metadata": {},
     "output_type": "execute_result"
    }
   ],
   "source": [
    "df_web.loc[(df_web['post_title'].str.contains('^pierre.jean.villa.*fongeant.*2017', case=False)) |\n",
    "           (df_web['post_title'].str.contains('^pierre.jean.villa.*condrieu.*2018', case=False)),\n",
    "           ['sku', 'post_title']]"
   ]
  },
  {
   "attachments": {},
   "cell_type": "markdown",
   "metadata": {},
   "source": [
    "Il n'y a pas d'autres résultats, nous pouvons aussi supprimer ces deux lignes."
   ]
  },
  {
   "cell_type": "code",
   "execution_count": 33,
   "metadata": {},
   "outputs": [],
   "source": [
    "df_web = df_web.dropna(subset=['sku'], axis='rows').reset_index(drop=True)"
   ]
  },
  {
   "attachments": {},
   "cell_type": "markdown",
   "metadata": {},
   "source": [
    "En ce qui concerne les doublons, nous savons déjà qu'il y en a car `df_web` compte bien plus de lignes que les autres *DataFrame*. Vérifions en quelle quantité ils sont présents."
   ]
  },
  {
   "cell_type": "code",
   "execution_count": 34,
   "metadata": {},
   "outputs": [
    {
     "name": "stdout",
     "output_type": "stream",
     "text": [
      "50.00% des lignes du DataFrame sont des doublons.\n"
     ]
    }
   ],
   "source": [
    "taux_doublons_df_web = df_web['sku'].nunique() / df_web['sku'].size\n",
    "\n",
    "print(f'{taux_doublons_df_web:.2%} des lignes du DataFrame sont des doublons.')\n",
    "\n",
    "del taux_doublons_df_web"
   ]
  },
  {
   "attachments": {},
   "cell_type": "markdown",
   "metadata": {},
   "source": [
    "Chaque ligne produit est doublée. Il a surement une différence notable entre une ligne et son doublon qui nous permettra de supprimer les lignes inutiles. Pour cela, nous allons choisir une ligne aléatoirement, puis nous allons chercher son doublon et enfin  afficher les deux lignes."
   ]
  },
  {
   "cell_type": "code",
   "execution_count": 35,
   "metadata": {},
   "outputs": [
    {
     "data": {
      "text/html": [
       "<div>\n",
       "<style scoped>\n",
       "    .dataframe tbody tr th:only-of-type {\n",
       "        vertical-align: middle;\n",
       "    }\n",
       "\n",
       "    .dataframe tbody tr th {\n",
       "        vertical-align: top;\n",
       "    }\n",
       "\n",
       "    .dataframe thead th {\n",
       "        text-align: right;\n",
       "    }\n",
       "</style>\n",
       "<table border=\"1\" class=\"dataframe\">\n",
       "  <thead>\n",
       "    <tr style=\"text-align: right;\">\n",
       "      <th></th>\n",
       "      <th>sku</th>\n",
       "      <th>total_sales</th>\n",
       "      <th>tax_status</th>\n",
       "      <th>post_author</th>\n",
       "      <th>post_date</th>\n",
       "      <th>post_date_gmt</th>\n",
       "      <th>post_title</th>\n",
       "      <th>post_excerpt</th>\n",
       "      <th>post_status</th>\n",
       "      <th>comment_status</th>\n",
       "      <th>ping_status</th>\n",
       "      <th>post_name</th>\n",
       "      <th>post_modified</th>\n",
       "      <th>post_modified_gmt</th>\n",
       "      <th>guid</th>\n",
       "      <th>post_type</th>\n",
       "      <th>post_mime_type</th>\n",
       "    </tr>\n",
       "  </thead>\n",
       "  <tbody>\n",
       "    <tr>\n",
       "      <th>478</th>\n",
       "      <td>16130</td>\n",
       "      <td>9.0</td>\n",
       "      <td>taxable</td>\n",
       "      <td>2.0</td>\n",
       "      <td>2018-10-09 15:22:19</td>\n",
       "      <td>2018-10-09 13:22:19</td>\n",
       "      <td>Decelle-Villa Meursault 2018</td>\n",
       "      <td>De couleur Jaune paille brillante, le Meursaul...</td>\n",
       "      <td>publish</td>\n",
       "      <td>closed</td>\n",
       "      <td>closed</td>\n",
       "      <td>decelle-villa-meursault-2018</td>\n",
       "      <td>2020-08-26 11:25:02</td>\n",
       "      <td>2020-08-26 09:25:02</td>\n",
       "      <td>https://www.bottle-neck.fr/?post_type=product&amp;...</td>\n",
       "      <td>product</td>\n",
       "      <td>NaN</td>\n",
       "    </tr>\n",
       "    <tr>\n",
       "      <th>1192</th>\n",
       "      <td>16130</td>\n",
       "      <td>9.0</td>\n",
       "      <td>NaN</td>\n",
       "      <td>2.0</td>\n",
       "      <td>2018-10-09 15:22:19</td>\n",
       "      <td>2018-10-09 13:22:19</td>\n",
       "      <td>Decelle-Villa Meursault 2018</td>\n",
       "      <td>NaN</td>\n",
       "      <td>publish</td>\n",
       "      <td>closed</td>\n",
       "      <td>closed</td>\n",
       "      <td>decelle-villa-meursault-2018</td>\n",
       "      <td>2020-08-26 11:25:02</td>\n",
       "      <td>2020-08-26 09:25:02</td>\n",
       "      <td>https://www.bottle-neck.fr/wp-content/uploads/...</td>\n",
       "      <td>attachment</td>\n",
       "      <td>image/jpeg</td>\n",
       "    </tr>\n",
       "  </tbody>\n",
       "</table>\n",
       "</div>"
      ],
      "text/plain": [
       "        sku  total_sales tax_status post_author           post_date  \\\n",
       "478   16130          9.0    taxable         2.0 2018-10-09 15:22:19   \n",
       "1192  16130          9.0        NaN         2.0 2018-10-09 15:22:19   \n",
       "\n",
       "           post_date_gmt                    post_title  \\\n",
       "478  2018-10-09 13:22:19  Decelle-Villa Meursault 2018   \n",
       "1192 2018-10-09 13:22:19  Decelle-Villa Meursault 2018   \n",
       "\n",
       "                                           post_excerpt post_status  \\\n",
       "478   De couleur Jaune paille brillante, le Meursaul...     publish   \n",
       "1192                                                NaN     publish   \n",
       "\n",
       "     comment_status ping_status                     post_name  \\\n",
       "478          closed      closed  decelle-villa-meursault-2018   \n",
       "1192         closed      closed  decelle-villa-meursault-2018   \n",
       "\n",
       "           post_modified   post_modified_gmt  \\\n",
       "478  2020-08-26 11:25:02 2020-08-26 09:25:02   \n",
       "1192 2020-08-26 11:25:02 2020-08-26 09:25:02   \n",
       "\n",
       "                                                   guid   post_type  \\\n",
       "478   https://www.bottle-neck.fr/?post_type=product&...     product   \n",
       "1192  https://www.bottle-neck.fr/wp-content/uploads/...  attachment   \n",
       "\n",
       "     post_mime_type  \n",
       "478             NaN  \n",
       "1192     image/jpeg  "
      ]
     },
     "execution_count": 35,
     "metadata": {},
     "output_type": "execute_result"
    }
   ],
   "source": [
    "# Sélection aléatoire d'une ligne\n",
    "random_index = np.random.randint(0, len(df_liaison['product_id']))\n",
    "\n",
    "# Sélection SKU à partir de l'index de la ligne aléatoire\n",
    "random_sku = df_web['sku'].iloc[random_index]\n",
    "\n",
    "# Affichage des deux lignes en doublons\n",
    "df_web.loc[df_web['sku'] == random_sku]"
   ]
  },
  {
   "cell_type": "code",
   "execution_count": 36,
   "metadata": {},
   "outputs": [],
   "source": [
    "del random_index, random_sku"
   ]
  },
  {
   "attachments": {},
   "cell_type": "markdown",
   "metadata": {},
   "source": [
    "Quelques variables, dont \"post_type\", diffèrent. Cette dernière prend soit la valeur \"product\", soit la valeur \"attachment\". Nous n'allons conserver que les lignes \"product\". Malgré tout, par mesure de sécurité, vérifions si \"post_type\" ne prend pas d'autre(s) valeur(s)."
   ]
  },
  {
   "cell_type": "code",
   "execution_count": 37,
   "metadata": {},
   "outputs": [
    {
     "data": {
      "text/plain": [
       "array(['product', 'attachment'], dtype=object)"
      ]
     },
     "execution_count": 37,
     "metadata": {},
     "output_type": "execute_result"
    }
   ],
   "source": [
    "df_web['post_type'].unique()"
   ]
  },
  {
   "attachments": {},
   "cell_type": "markdown",
   "metadata": {},
   "source": [
    "La vérification est concluante, on peut supprimer les lignes."
   ]
  },
  {
   "cell_type": "code",
   "execution_count": 38,
   "metadata": {},
   "outputs": [],
   "source": [
    "df_web = df_web.loc[df_web['post_type'] != 'attachment'].copy()"
   ]
  },
  {
   "attachments": {},
   "cell_type": "markdown",
   "metadata": {},
   "source": [
    "Voyons à quoi ressemble maintenant le *DataFrame*."
   ]
  },
  {
   "cell_type": "code",
   "execution_count": 39,
   "metadata": {},
   "outputs": [
    {
     "data": {
      "text/html": [
       "<div>\n",
       "<style scoped>\n",
       "    .dataframe tbody tr th:only-of-type {\n",
       "        vertical-align: middle;\n",
       "    }\n",
       "\n",
       "    .dataframe tbody tr th {\n",
       "        vertical-align: top;\n",
       "    }\n",
       "\n",
       "    .dataframe thead th {\n",
       "        text-align: right;\n",
       "    }\n",
       "</style>\n",
       "<table border=\"1\" class=\"dataframe\">\n",
       "  <thead>\n",
       "    <tr style=\"text-align: right;\">\n",
       "      <th></th>\n",
       "      <th>sku</th>\n",
       "      <th>total_sales</th>\n",
       "      <th>tax_status</th>\n",
       "      <th>post_author</th>\n",
       "      <th>post_date</th>\n",
       "      <th>post_date_gmt</th>\n",
       "      <th>post_title</th>\n",
       "      <th>post_excerpt</th>\n",
       "      <th>post_status</th>\n",
       "      <th>comment_status</th>\n",
       "      <th>ping_status</th>\n",
       "      <th>post_name</th>\n",
       "      <th>post_modified</th>\n",
       "      <th>post_modified_gmt</th>\n",
       "      <th>guid</th>\n",
       "      <th>post_type</th>\n",
       "      <th>post_mime_type</th>\n",
       "    </tr>\n",
       "  </thead>\n",
       "  <tbody>\n",
       "    <tr>\n",
       "      <th>0</th>\n",
       "      <td>bon-cadeau-25-euros</td>\n",
       "      <td>10.0</td>\n",
       "      <td>taxable</td>\n",
       "      <td>1.0</td>\n",
       "      <td>2018-06-01 13:53:46</td>\n",
       "      <td>2018-06-01 11:53:46</td>\n",
       "      <td>Bon cadeau de 25€</td>\n",
       "      <td>&lt;span style=\"color: #a85253;\"&gt;&lt;strong&gt;Parlons ...</td>\n",
       "      <td>publish</td>\n",
       "      <td>closed</td>\n",
       "      <td>closed</td>\n",
       "      <td>bon-cadeau-de-25-euros</td>\n",
       "      <td>2018-06-01 14:13:57</td>\n",
       "      <td>2018-06-01 12:13:57</td>\n",
       "      <td>https://www.bottle-neck.fr/?post_type=product&amp;...</td>\n",
       "      <td>product</td>\n",
       "      <td>NaN</td>\n",
       "    </tr>\n",
       "    <tr>\n",
       "      <th>1</th>\n",
       "      <td>15298</td>\n",
       "      <td>6.0</td>\n",
       "      <td>taxable</td>\n",
       "      <td>2.0</td>\n",
       "      <td>2018-02-08 12:58:52</td>\n",
       "      <td>2018-02-08 11:58:52</td>\n",
       "      <td>Pierre Jean Villa Saint-Joseph Préface 2018</td>\n",
       "      <td>Il exhale un nez subtil, racé avec du poivre f...</td>\n",
       "      <td>publish</td>\n",
       "      <td>closed</td>\n",
       "      <td>closed</td>\n",
       "      <td>pierre-jean-villa-saint-joseph-preface-2018</td>\n",
       "      <td>2019-12-30 09:30:29</td>\n",
       "      <td>2019-12-30 08:30:29</td>\n",
       "      <td>https://www.bottle-neck.fr/?post_type=product&amp;...</td>\n",
       "      <td>product</td>\n",
       "      <td>NaN</td>\n",
       "    </tr>\n",
       "    <tr>\n",
       "      <th>2</th>\n",
       "      <td>15296</td>\n",
       "      <td>0.0</td>\n",
       "      <td>taxable</td>\n",
       "      <td>2.0</td>\n",
       "      <td>2018-02-08 13:49:41</td>\n",
       "      <td>2018-02-08 12:49:41</td>\n",
       "      <td>Pierre Jean Villa Saint-Joseph Rouge Tildé 2017</td>\n",
       "      <td>Les vieilles vignes lui apportent une rare pro...</td>\n",
       "      <td>publish</td>\n",
       "      <td>closed</td>\n",
       "      <td>closed</td>\n",
       "      <td>pierre-jean-villa-saint-joseph-tilde-2017</td>\n",
       "      <td>2019-12-21 09:00:17</td>\n",
       "      <td>2019-12-21 08:00:17</td>\n",
       "      <td>https://www.bottle-neck.fr/?post_type=product&amp;...</td>\n",
       "      <td>product</td>\n",
       "      <td>NaN</td>\n",
       "    </tr>\n",
       "  </tbody>\n",
       "</table>\n",
       "</div>"
      ],
      "text/plain": [
       "                   sku  total_sales tax_status post_author  \\\n",
       "0  bon-cadeau-25-euros         10.0    taxable         1.0   \n",
       "1                15298          6.0    taxable         2.0   \n",
       "2                15296          0.0    taxable         2.0   \n",
       "\n",
       "            post_date       post_date_gmt  \\\n",
       "0 2018-06-01 13:53:46 2018-06-01 11:53:46   \n",
       "1 2018-02-08 12:58:52 2018-02-08 11:58:52   \n",
       "2 2018-02-08 13:49:41 2018-02-08 12:49:41   \n",
       "\n",
       "                                        post_title  \\\n",
       "0                                Bon cadeau de 25€   \n",
       "1      Pierre Jean Villa Saint-Joseph Préface 2018   \n",
       "2  Pierre Jean Villa Saint-Joseph Rouge Tildé 2017   \n",
       "\n",
       "                                        post_excerpt post_status  \\\n",
       "0  <span style=\"color: #a85253;\"><strong>Parlons ...     publish   \n",
       "1  Il exhale un nez subtil, racé avec du poivre f...     publish   \n",
       "2  Les vieilles vignes lui apportent une rare pro...     publish   \n",
       "\n",
       "  comment_status ping_status                                    post_name  \\\n",
       "0         closed      closed                       bon-cadeau-de-25-euros   \n",
       "1         closed      closed  pierre-jean-villa-saint-joseph-preface-2018   \n",
       "2         closed      closed    pierre-jean-villa-saint-joseph-tilde-2017   \n",
       "\n",
       "        post_modified   post_modified_gmt  \\\n",
       "0 2018-06-01 14:13:57 2018-06-01 12:13:57   \n",
       "1 2019-12-30 09:30:29 2019-12-30 08:30:29   \n",
       "2 2019-12-21 09:00:17 2019-12-21 08:00:17   \n",
       "\n",
       "                                                guid post_type post_mime_type  \n",
       "0  https://www.bottle-neck.fr/?post_type=product&...   product            NaN  \n",
       "1  https://www.bottle-neck.fr/?post_type=product&...   product            NaN  \n",
       "2  https://www.bottle-neck.fr/?post_type=product&...   product            NaN  "
      ]
     },
     "execution_count": 39,
     "metadata": {},
     "output_type": "execute_result"
    }
   ],
   "source": [
    "df_web.head(3)"
   ]
  },
  {
   "attachments": {},
   "cell_type": "markdown",
   "metadata": {},
   "source": [
    "Nous avons nettoyé les lignes, essayons de supprimer encore quelques colonnes inutiles."
   ]
  },
  {
   "cell_type": "code",
   "execution_count": 40,
   "metadata": {},
   "outputs": [
    {
     "data": {
      "text/plain": [
       "sku                  714\n",
       "total_sales           41\n",
       "tax_status             1\n",
       "post_author            2\n",
       "post_date            714\n",
       "post_date_gmt        714\n",
       "post_title           711\n",
       "post_excerpt         677\n",
       "post_status            1\n",
       "comment_status         1\n",
       "ping_status            1\n",
       "post_name            714\n",
       "post_modified        587\n",
       "post_modified_gmt    587\n",
       "guid                 714\n",
       "post_type              1\n",
       "post_mime_type         0\n",
       "dtype: int64"
      ]
     },
     "execution_count": 40,
     "metadata": {},
     "output_type": "execute_result"
    }
   ],
   "source": [
    "df_web.nunique()"
   ]
  },
  {
   "attachments": {},
   "cell_type": "markdown",
   "metadata": {},
   "source": [
    "On constate bien que l'on peut encore faire un peu de nettoyage:\n",
    "* suppression des variables n'ayant qu'une valeur ou n'ayant que des valeurs manquantes;\n",
    "* suppression des variables non pertinentes pour la suite de l'analyse;\n",
    "* suppression des dates au format GMT (en doublon).\n",
    "\n",
    "Enfin, nous allons modifier l'affichage des dates restantes en ne conservant que l'année, le mois et le jour."
   ]
  },
  {
   "cell_type": "code",
   "execution_count": 41,
   "metadata": {},
   "outputs": [],
   "source": [
    "# On ne conserve que les variables ayant au moins 2 valeurs différentes\n",
    "df_web = df_web.loc[:, (df_web.nunique() > 2)].copy()\n",
    "\n",
    "# Suppression colonnes non pertinentes\n",
    "df_web = df_web.drop(['post_date_gmt', 'post_name', 'post_excerpt',\n",
    "                     'post_modified_gmt', 'guid'], axis='columns')\n",
    "\n",
    "# Modification format dates\n",
    "df_web['post_date'] = df_web['post_date'].dt.normalize()\n",
    "df_web['post_modified'] = df_web['post_modified'].dt.normalize()"
   ]
  },
  {
   "attachments": {},
   "cell_type": "markdown",
   "metadata": {},
   "source": [
    "Le nettoyage des données est terminé."
   ]
  },
  {
   "attachments": {},
   "cell_type": "markdown",
   "metadata": {},
   "source": [
    "## Rapprochement des exports<a id='2'></a>"
   ]
  },
  {
   "attachments": {},
   "cell_type": "markdown",
   "metadata": {},
   "source": [
    "Le regroupement des données va être effectué dans un nouveau *DataFrame* que nous appellerons `df_final`. Cela va se passer en quatre étapes:\n",
    "* regroupement des données de l'ERP avec le fichier de liaison;\n",
    "* vérification et nettoyage du premier regroupement;\n",
    "* regroupement du *DataFrame* obtenu avec les données du CMS;\n",
    "* vérification et nettoyage du jeu de données final."
   ]
  },
  {
   "cell_type": "code",
   "execution_count": 42,
   "metadata": {},
   "outputs": [
    {
     "data": {
      "text/html": [
       "<div>\n",
       "<style scoped>\n",
       "    .dataframe tbody tr th:only-of-type {\n",
       "        vertical-align: middle;\n",
       "    }\n",
       "\n",
       "    .dataframe tbody tr th {\n",
       "        vertical-align: top;\n",
       "    }\n",
       "\n",
       "    .dataframe thead th {\n",
       "        text-align: right;\n",
       "    }\n",
       "</style>\n",
       "<table border=\"1\" class=\"dataframe\">\n",
       "  <thead>\n",
       "    <tr style=\"text-align: right;\">\n",
       "      <th></th>\n",
       "      <th>product_id</th>\n",
       "      <th>onsale_web</th>\n",
       "      <th>price</th>\n",
       "      <th>stock_quantity</th>\n",
       "      <th>stock_status</th>\n",
       "      <th>sku</th>\n",
       "    </tr>\n",
       "  </thead>\n",
       "  <tbody>\n",
       "    <tr>\n",
       "      <th>0</th>\n",
       "      <td>3847</td>\n",
       "      <td>True</td>\n",
       "      <td>24.2</td>\n",
       "      <td>0</td>\n",
       "      <td>outofstock</td>\n",
       "      <td>15298</td>\n",
       "    </tr>\n",
       "    <tr>\n",
       "      <th>1</th>\n",
       "      <td>3849</td>\n",
       "      <td>True</td>\n",
       "      <td>34.3</td>\n",
       "      <td>0</td>\n",
       "      <td>outofstock</td>\n",
       "      <td>15296</td>\n",
       "    </tr>\n",
       "    <tr>\n",
       "      <th>2</th>\n",
       "      <td>3850</td>\n",
       "      <td>True</td>\n",
       "      <td>20.8</td>\n",
       "      <td>0</td>\n",
       "      <td>outofstock</td>\n",
       "      <td>15300</td>\n",
       "    </tr>\n",
       "  </tbody>\n",
       "</table>\n",
       "</div>"
      ],
      "text/plain": [
       "  product_id  onsale_web  price  stock_quantity stock_status    sku\n",
       "0       3847        True   24.2               0   outofstock  15298\n",
       "1       3849        True   34.3               0   outofstock  15296\n",
       "2       3850        True   20.8               0   outofstock  15300"
      ]
     },
     "execution_count": 42,
     "metadata": {},
     "output_type": "execute_result"
    }
   ],
   "source": [
    "df_final = pd.merge((df_erp), (df_liaison), on = ['product_id'], how = 'left')\n",
    "df_final.head(3)"
   ]
  },
  {
   "cell_type": "code",
   "execution_count": 43,
   "metadata": {},
   "outputs": [
    {
     "data": {
      "text/plain": [
       "(825, 6)"
      ]
     },
     "execution_count": 43,
     "metadata": {},
     "output_type": "execute_result"
    }
   ],
   "source": [
    "df_final.shape"
   ]
  },
  {
   "attachments": {},
   "cell_type": "markdown",
   "metadata": {},
   "source": [
    "Le premier regroupement s'est correctement déroulé. Voyons les valeurs manquantes."
   ]
  },
  {
   "cell_type": "code",
   "execution_count": 44,
   "metadata": {},
   "outputs": [
    {
     "data": {
      "text/plain": [
       "product_id         0\n",
       "onsale_web         0\n",
       "price              0\n",
       "stock_quantity     0\n",
       "stock_status       0\n",
       "sku               91\n",
       "dtype: int64"
      ]
     },
     "execution_count": 44,
     "metadata": {},
     "output_type": "execute_result"
    }
   ],
   "source": [
    "df_final.isna().sum()"
   ]
  },
  {
   "attachments": {},
   "cell_type": "markdown",
   "metadata": {},
   "source": [
    "Il manque 91 valeurs dans \"sku\" ce qui est logique puisque qu'il manquait 91 correspondances dans le fichier de liaison d'origine.<br>\n",
    "Avant de supprimer ces lignes affichons, grâce à \"onsale_web\", les produits que l'on aurait pu retrouver dans les ventes en ligne."
   ]
  },
  {
   "cell_type": "code",
   "execution_count": 45,
   "metadata": {},
   "outputs": [
    {
     "data": {
      "text/html": [
       "<div>\n",
       "<style scoped>\n",
       "    .dataframe tbody tr th:only-of-type {\n",
       "        vertical-align: middle;\n",
       "    }\n",
       "\n",
       "    .dataframe tbody tr th {\n",
       "        vertical-align: top;\n",
       "    }\n",
       "\n",
       "    .dataframe thead th {\n",
       "        text-align: right;\n",
       "    }\n",
       "</style>\n",
       "<table border=\"1\" class=\"dataframe\">\n",
       "  <thead>\n",
       "    <tr style=\"text-align: right;\">\n",
       "      <th></th>\n",
       "      <th>product_id</th>\n",
       "      <th>onsale_web</th>\n",
       "      <th>price</th>\n",
       "      <th>stock_quantity</th>\n",
       "      <th>stock_status</th>\n",
       "      <th>sku</th>\n",
       "    </tr>\n",
       "  </thead>\n",
       "  <tbody>\n",
       "    <tr>\n",
       "      <th>242</th>\n",
       "      <td>4594</td>\n",
       "      <td>True</td>\n",
       "      <td>144.0</td>\n",
       "      <td>0</td>\n",
       "      <td>outofstock</td>\n",
       "      <td>NaN</td>\n",
       "    </tr>\n",
       "    <tr>\n",
       "      <th>486</th>\n",
       "      <td>5070</td>\n",
       "      <td>True</td>\n",
       "      <td>84.7</td>\n",
       "      <td>0</td>\n",
       "      <td>outofstock</td>\n",
       "      <td>NaN</td>\n",
       "    </tr>\n",
       "    <tr>\n",
       "      <th>487</th>\n",
       "      <td>5075</td>\n",
       "      <td>True</td>\n",
       "      <td>43.3</td>\n",
       "      <td>0</td>\n",
       "      <td>outofstock</td>\n",
       "      <td>NaN</td>\n",
       "    </tr>\n",
       "  </tbody>\n",
       "</table>\n",
       "</div>"
      ],
      "text/plain": [
       "    product_id  onsale_web  price  stock_quantity stock_status  sku\n",
       "242       4594        True  144.0               0   outofstock  NaN\n",
       "486       5070        True   84.7               0   outofstock  NaN\n",
       "487       5075        True   43.3               0   outofstock  NaN"
      ]
     },
     "execution_count": 45,
     "metadata": {},
     "output_type": "execute_result"
    }
   ],
   "source": [
    "df_final.loc[(df_final['sku'].isna()) & (df_final['onsale_web'] == True)]"
   ]
  },
  {
   "attachments": {},
   "cell_type": "markdown",
   "metadata": {},
   "source": [
    "Il n'y a que 3 produits, cela ne devrait pas trop affecter nos analyses."
   ]
  },
  {
   "cell_type": "code",
   "execution_count": 46,
   "metadata": {},
   "outputs": [],
   "source": [
    "df_final = df_final.loc[~df_final['sku'].isna()].copy().reset_index(drop=True)"
   ]
  },
  {
   "attachments": {},
   "cell_type": "markdown",
   "metadata": {},
   "source": [
    "On passe à la deuxième jointure."
   ]
  },
  {
   "cell_type": "code",
   "execution_count": 47,
   "metadata": {},
   "outputs": [
    {
     "data": {
      "text/html": [
       "<div>\n",
       "<style scoped>\n",
       "    .dataframe tbody tr th:only-of-type {\n",
       "        vertical-align: middle;\n",
       "    }\n",
       "\n",
       "    .dataframe tbody tr th {\n",
       "        vertical-align: top;\n",
       "    }\n",
       "\n",
       "    .dataframe thead th {\n",
       "        text-align: right;\n",
       "    }\n",
       "</style>\n",
       "<table border=\"1\" class=\"dataframe\">\n",
       "  <thead>\n",
       "    <tr style=\"text-align: right;\">\n",
       "      <th></th>\n",
       "      <th>product_id</th>\n",
       "      <th>onsale_web</th>\n",
       "      <th>price</th>\n",
       "      <th>stock_quantity</th>\n",
       "      <th>stock_status</th>\n",
       "      <th>sku</th>\n",
       "      <th>total_sales</th>\n",
       "      <th>post_date</th>\n",
       "      <th>post_title</th>\n",
       "      <th>post_modified</th>\n",
       "    </tr>\n",
       "  </thead>\n",
       "  <tbody>\n",
       "    <tr>\n",
       "      <th>0</th>\n",
       "      <td>3847</td>\n",
       "      <td>True</td>\n",
       "      <td>24.2</td>\n",
       "      <td>0</td>\n",
       "      <td>outofstock</td>\n",
       "      <td>15298</td>\n",
       "      <td>6.0</td>\n",
       "      <td>2018-02-08</td>\n",
       "      <td>Pierre Jean Villa Saint-Joseph Préface 2018</td>\n",
       "      <td>2019-12-30</td>\n",
       "    </tr>\n",
       "    <tr>\n",
       "      <th>1</th>\n",
       "      <td>3849</td>\n",
       "      <td>True</td>\n",
       "      <td>34.3</td>\n",
       "      <td>0</td>\n",
       "      <td>outofstock</td>\n",
       "      <td>15296</td>\n",
       "      <td>0.0</td>\n",
       "      <td>2018-02-08</td>\n",
       "      <td>Pierre Jean Villa Saint-Joseph Rouge Tildé 2017</td>\n",
       "      <td>2019-12-21</td>\n",
       "    </tr>\n",
       "    <tr>\n",
       "      <th>2</th>\n",
       "      <td>3850</td>\n",
       "      <td>True</td>\n",
       "      <td>20.8</td>\n",
       "      <td>0</td>\n",
       "      <td>outofstock</td>\n",
       "      <td>15300</td>\n",
       "      <td>0.0</td>\n",
       "      <td>2018-02-08</td>\n",
       "      <td>Pierre Jean Villa Crozes-Hermitage Accroche Co...</td>\n",
       "      <td>2020-06-26</td>\n",
       "    </tr>\n",
       "  </tbody>\n",
       "</table>\n",
       "</div>"
      ],
      "text/plain": [
       "  product_id  onsale_web  price  stock_quantity stock_status    sku  \\\n",
       "0       3847        True   24.2               0   outofstock  15298   \n",
       "1       3849        True   34.3               0   outofstock  15296   \n",
       "2       3850        True   20.8               0   outofstock  15300   \n",
       "\n",
       "   total_sales  post_date                                         post_title  \\\n",
       "0          6.0 2018-02-08        Pierre Jean Villa Saint-Joseph Préface 2018   \n",
       "1          0.0 2018-02-08    Pierre Jean Villa Saint-Joseph Rouge Tildé 2017   \n",
       "2          0.0 2018-02-08  Pierre Jean Villa Crozes-Hermitage Accroche Co...   \n",
       "\n",
       "  post_modified  \n",
       "0    2019-12-30  \n",
       "1    2019-12-21  \n",
       "2    2020-06-26  "
      ]
     },
     "execution_count": 47,
     "metadata": {},
     "output_type": "execute_result"
    }
   ],
   "source": [
    "df_final = pd.merge((df_final), (df_web), on = ['sku'], how = 'left')\n",
    "df_final.head(3)"
   ]
  },
  {
   "cell_type": "code",
   "execution_count": 48,
   "metadata": {},
   "outputs": [
    {
     "data": {
      "text/plain": [
       "(734, 10)"
      ]
     },
     "execution_count": 48,
     "metadata": {},
     "output_type": "execute_result"
    }
   ],
   "source": [
    "df_final.shape"
   ]
  },
  {
   "cell_type": "code",
   "execution_count": 49,
   "metadata": {},
   "outputs": [
    {
     "data": {
      "text/plain": [
       "product_id         0\n",
       "onsale_web         0\n",
       "price              0\n",
       "stock_quantity     0\n",
       "stock_status       0\n",
       "sku                0\n",
       "total_sales       20\n",
       "post_date         20\n",
       "post_title        20\n",
       "post_modified     20\n",
       "dtype: int64"
      ]
     },
     "execution_count": 49,
     "metadata": {},
     "output_type": "execute_result"
    }
   ],
   "source": [
    "df_final.isna().sum()"
   ]
  },
  {
   "attachments": {},
   "cell_type": "markdown",
   "metadata": {},
   "source": [
    "20 lignes ont des valeurs manquantes sur plusieurs variables, nous allons les afficher."
   ]
  },
  {
   "cell_type": "code",
   "execution_count": 50,
   "metadata": {},
   "outputs": [
    {
     "data": {
      "text/html": [
       "<div>\n",
       "<style scoped>\n",
       "    .dataframe tbody tr th:only-of-type {\n",
       "        vertical-align: middle;\n",
       "    }\n",
       "\n",
       "    .dataframe tbody tr th {\n",
       "        vertical-align: top;\n",
       "    }\n",
       "\n",
       "    .dataframe thead th {\n",
       "        text-align: right;\n",
       "    }\n",
       "</style>\n",
       "<table border=\"1\" class=\"dataframe\">\n",
       "  <thead>\n",
       "    <tr style=\"text-align: right;\">\n",
       "      <th></th>\n",
       "      <th>product_id</th>\n",
       "      <th>onsale_web</th>\n",
       "      <th>price</th>\n",
       "      <th>stock_quantity</th>\n",
       "      <th>stock_status</th>\n",
       "      <th>sku</th>\n",
       "      <th>total_sales</th>\n",
       "      <th>post_date</th>\n",
       "      <th>post_title</th>\n",
       "      <th>post_modified</th>\n",
       "    </tr>\n",
       "  </thead>\n",
       "  <tbody>\n",
       "    <tr>\n",
       "      <th>185</th>\n",
       "      <td>4289</td>\n",
       "      <td>False</td>\n",
       "      <td>22.8</td>\n",
       "      <td>0</td>\n",
       "      <td>outofstock</td>\n",
       "      <td>13771</td>\n",
       "      <td>NaN</td>\n",
       "      <td>NaT</td>\n",
       "      <td>NaN</td>\n",
       "      <td>NaT</td>\n",
       "    </tr>\n",
       "    <tr>\n",
       "      <th>227</th>\n",
       "      <td>4568</td>\n",
       "      <td>False</td>\n",
       "      <td>21.5</td>\n",
       "      <td>0</td>\n",
       "      <td>outofstock</td>\n",
       "      <td>15065</td>\n",
       "      <td>NaN</td>\n",
       "      <td>NaT</td>\n",
       "      <td>NaN</td>\n",
       "      <td>NaT</td>\n",
       "    </tr>\n",
       "    <tr>\n",
       "      <th>230</th>\n",
       "      <td>4584</td>\n",
       "      <td>False</td>\n",
       "      <td>32.3</td>\n",
       "      <td>0</td>\n",
       "      <td>outofstock</td>\n",
       "      <td>14785</td>\n",
       "      <td>NaN</td>\n",
       "      <td>NaT</td>\n",
       "      <td>NaN</td>\n",
       "      <td>NaT</td>\n",
       "    </tr>\n",
       "    <tr>\n",
       "      <th>334</th>\n",
       "      <td>4741</td>\n",
       "      <td>False</td>\n",
       "      <td>12.4</td>\n",
       "      <td>0</td>\n",
       "      <td>outofstock</td>\n",
       "      <td>12601</td>\n",
       "      <td>NaN</td>\n",
       "      <td>NaT</td>\n",
       "      <td>NaN</td>\n",
       "      <td>NaT</td>\n",
       "    </tr>\n",
       "    <tr>\n",
       "      <th>368</th>\n",
       "      <td>4864</td>\n",
       "      <td>False</td>\n",
       "      <td>8.3</td>\n",
       "      <td>0</td>\n",
       "      <td>outofstock</td>\n",
       "      <td>15154</td>\n",
       "      <td>NaN</td>\n",
       "      <td>NaT</td>\n",
       "      <td>NaN</td>\n",
       "      <td>NaT</td>\n",
       "    </tr>\n",
       "    <tr>\n",
       "      <th>371</th>\n",
       "      <td>4869</td>\n",
       "      <td>False</td>\n",
       "      <td>17.2</td>\n",
       "      <td>0</td>\n",
       "      <td>outofstock</td>\n",
       "      <td>14360</td>\n",
       "      <td>NaN</td>\n",
       "      <td>NaT</td>\n",
       "      <td>NaN</td>\n",
       "      <td>NaT</td>\n",
       "    </tr>\n",
       "    <tr>\n",
       "      <th>399</th>\n",
       "      <td>4921</td>\n",
       "      <td>False</td>\n",
       "      <td>13.8</td>\n",
       "      <td>0</td>\n",
       "      <td>outofstock</td>\n",
       "      <td>15608</td>\n",
       "      <td>NaN</td>\n",
       "      <td>NaT</td>\n",
       "      <td>NaN</td>\n",
       "      <td>NaT</td>\n",
       "    </tr>\n",
       "    <tr>\n",
       "      <th>400</th>\n",
       "      <td>4922</td>\n",
       "      <td>False</td>\n",
       "      <td>21.5</td>\n",
       "      <td>0</td>\n",
       "      <td>outofstock</td>\n",
       "      <td>15586</td>\n",
       "      <td>NaN</td>\n",
       "      <td>NaT</td>\n",
       "      <td>NaN</td>\n",
       "      <td>NaT</td>\n",
       "    </tr>\n",
       "    <tr>\n",
       "      <th>443</th>\n",
       "      <td>5018</td>\n",
       "      <td>False</td>\n",
       "      <td>15.4</td>\n",
       "      <td>0</td>\n",
       "      <td>outofstock</td>\n",
       "      <td>15272</td>\n",
       "      <td>NaN</td>\n",
       "      <td>NaT</td>\n",
       "      <td>NaN</td>\n",
       "      <td>NaT</td>\n",
       "    </tr>\n",
       "    <tr>\n",
       "      <th>445</th>\n",
       "      <td>5021</td>\n",
       "      <td>False</td>\n",
       "      <td>17.1</td>\n",
       "      <td>0</td>\n",
       "      <td>outofstock</td>\n",
       "      <td>15630</td>\n",
       "      <td>NaN</td>\n",
       "      <td>NaT</td>\n",
       "      <td>NaN</td>\n",
       "      <td>NaT</td>\n",
       "    </tr>\n",
       "    <tr>\n",
       "      <th>493</th>\n",
       "      <td>5505</td>\n",
       "      <td>False</td>\n",
       "      <td>10.1</td>\n",
       "      <td>0</td>\n",
       "      <td>outofstock</td>\n",
       "      <td>14648</td>\n",
       "      <td>NaN</td>\n",
       "      <td>NaT</td>\n",
       "      <td>NaN</td>\n",
       "      <td>NaT</td>\n",
       "    </tr>\n",
       "    <tr>\n",
       "      <th>510</th>\n",
       "      <td>5559</td>\n",
       "      <td>False</td>\n",
       "      <td>27.9</td>\n",
       "      <td>3</td>\n",
       "      <td>instock</td>\n",
       "      <td>14715</td>\n",
       "      <td>NaN</td>\n",
       "      <td>NaT</td>\n",
       "      <td>NaN</td>\n",
       "      <td>NaT</td>\n",
       "    </tr>\n",
       "    <tr>\n",
       "      <th>516</th>\n",
       "      <td>5570</td>\n",
       "      <td>False</td>\n",
       "      <td>22.5</td>\n",
       "      <td>0</td>\n",
       "      <td>outofstock</td>\n",
       "      <td>14730</td>\n",
       "      <td>NaN</td>\n",
       "      <td>NaT</td>\n",
       "      <td>NaN</td>\n",
       "      <td>NaT</td>\n",
       "    </tr>\n",
       "    <tr>\n",
       "      <th>581</th>\n",
       "      <td>5800</td>\n",
       "      <td>False</td>\n",
       "      <td>32.3</td>\n",
       "      <td>0</td>\n",
       "      <td>outofstock</td>\n",
       "      <td>14689</td>\n",
       "      <td>NaN</td>\n",
       "      <td>NaT</td>\n",
       "      <td>NaN</td>\n",
       "      <td>NaT</td>\n",
       "    </tr>\n",
       "    <tr>\n",
       "      <th>625</th>\n",
       "      <td>5953</td>\n",
       "      <td>False</td>\n",
       "      <td>47.5</td>\n",
       "      <td>0</td>\n",
       "      <td>outofstock</td>\n",
       "      <td>14379</td>\n",
       "      <td>NaN</td>\n",
       "      <td>NaT</td>\n",
       "      <td>NaN</td>\n",
       "      <td>NaT</td>\n",
       "    </tr>\n",
       "    <tr>\n",
       "      <th>626</th>\n",
       "      <td>5954</td>\n",
       "      <td>False</td>\n",
       "      <td>18.8</td>\n",
       "      <td>0</td>\n",
       "      <td>outofstock</td>\n",
       "      <td>15609</td>\n",
       "      <td>NaN</td>\n",
       "      <td>NaT</td>\n",
       "      <td>NaN</td>\n",
       "      <td>NaT</td>\n",
       "    </tr>\n",
       "    <tr>\n",
       "      <th>627</th>\n",
       "      <td>5955</td>\n",
       "      <td>False</td>\n",
       "      <td>27.3</td>\n",
       "      <td>0</td>\n",
       "      <td>outofstock</td>\n",
       "      <td>14377</td>\n",
       "      <td>NaN</td>\n",
       "      <td>NaT</td>\n",
       "      <td>NaN</td>\n",
       "      <td>NaT</td>\n",
       "    </tr>\n",
       "    <tr>\n",
       "      <th>629</th>\n",
       "      <td>5957</td>\n",
       "      <td>False</td>\n",
       "      <td>39.0</td>\n",
       "      <td>0</td>\n",
       "      <td>outofstock</td>\n",
       "      <td>13577</td>\n",
       "      <td>NaN</td>\n",
       "      <td>NaT</td>\n",
       "      <td>NaN</td>\n",
       "      <td>NaT</td>\n",
       "    </tr>\n",
       "    <tr>\n",
       "      <th>652</th>\n",
       "      <td>6100</td>\n",
       "      <td>False</td>\n",
       "      <td>12.9</td>\n",
       "      <td>0</td>\n",
       "      <td>outofstock</td>\n",
       "      <td>15529</td>\n",
       "      <td>NaN</td>\n",
       "      <td>NaT</td>\n",
       "      <td>NaN</td>\n",
       "      <td>NaT</td>\n",
       "    </tr>\n",
       "    <tr>\n",
       "      <th>732</th>\n",
       "      <td>7329</td>\n",
       "      <td>False</td>\n",
       "      <td>26.5</td>\n",
       "      <td>14</td>\n",
       "      <td>instock</td>\n",
       "      <td>14680-1</td>\n",
       "      <td>NaN</td>\n",
       "      <td>NaT</td>\n",
       "      <td>NaN</td>\n",
       "      <td>NaT</td>\n",
       "    </tr>\n",
       "  </tbody>\n",
       "</table>\n",
       "</div>"
      ],
      "text/plain": [
       "    product_id  onsale_web  price  stock_quantity stock_status      sku  \\\n",
       "185       4289       False   22.8               0   outofstock    13771   \n",
       "227       4568       False   21.5               0   outofstock    15065   \n",
       "230       4584       False   32.3               0   outofstock    14785   \n",
       "334       4741       False   12.4               0   outofstock    12601   \n",
       "368       4864       False    8.3               0   outofstock    15154   \n",
       "371       4869       False   17.2               0   outofstock    14360   \n",
       "399       4921       False   13.8               0   outofstock    15608   \n",
       "400       4922       False   21.5               0   outofstock    15586   \n",
       "443       5018       False   15.4               0   outofstock    15272   \n",
       "445       5021       False   17.1               0   outofstock    15630   \n",
       "493       5505       False   10.1               0   outofstock    14648   \n",
       "510       5559       False   27.9               3      instock    14715   \n",
       "516       5570       False   22.5               0   outofstock    14730   \n",
       "581       5800       False   32.3               0   outofstock    14689   \n",
       "625       5953       False   47.5               0   outofstock    14379   \n",
       "626       5954       False   18.8               0   outofstock    15609   \n",
       "627       5955       False   27.3               0   outofstock    14377   \n",
       "629       5957       False   39.0               0   outofstock    13577   \n",
       "652       6100       False   12.9               0   outofstock    15529   \n",
       "732       7329       False   26.5              14      instock  14680-1   \n",
       "\n",
       "     total_sales post_date post_title post_modified  \n",
       "185          NaN       NaT        NaN           NaT  \n",
       "227          NaN       NaT        NaN           NaT  \n",
       "230          NaN       NaT        NaN           NaT  \n",
       "334          NaN       NaT        NaN           NaT  \n",
       "368          NaN       NaT        NaN           NaT  \n",
       "371          NaN       NaT        NaN           NaT  \n",
       "399          NaN       NaT        NaN           NaT  \n",
       "400          NaN       NaT        NaN           NaT  \n",
       "443          NaN       NaT        NaN           NaT  \n",
       "445          NaN       NaT        NaN           NaT  \n",
       "493          NaN       NaT        NaN           NaT  \n",
       "510          NaN       NaT        NaN           NaT  \n",
       "516          NaN       NaT        NaN           NaT  \n",
       "581          NaN       NaT        NaN           NaT  \n",
       "625          NaN       NaT        NaN           NaT  \n",
       "626          NaN       NaT        NaN           NaT  \n",
       "627          NaN       NaT        NaN           NaT  \n",
       "629          NaN       NaT        NaN           NaT  \n",
       "652          NaN       NaT        NaN           NaT  \n",
       "732          NaN       NaT        NaN           NaT  "
      ]
     },
     "execution_count": 50,
     "metadata": {},
     "output_type": "execute_result"
    }
   ],
   "source": [
    "df_final.loc[(df_final['total_sales'].isna())]"
   ]
  },
  {
   "attachments": {},
   "cell_type": "markdown",
   "metadata": {},
   "source": [
    "Les 20 produits dont les ventes ne sont pas connues sont marqués comme non disponibles à la vente en ligne. Ils ont peut-être été créés par erreur, ou alors, leur a statut a changé. Dans tous les cas, leur suppression ne devrait donc pas influencer nos analyses."
   ]
  },
  {
   "cell_type": "code",
   "execution_count": 51,
   "metadata": {},
   "outputs": [],
   "source": [
    "df_final = df_final.loc[~df_final['total_sales'].isna()\n",
    "                        ].copy().reset_index(drop=True)"
   ]
  },
  {
   "cell_type": "code",
   "execution_count": 52,
   "metadata": {},
   "outputs": [
    {
     "data": {
      "text/html": [
       "<div>\n",
       "<style scoped>\n",
       "    .dataframe tbody tr th:only-of-type {\n",
       "        vertical-align: middle;\n",
       "    }\n",
       "\n",
       "    .dataframe tbody tr th {\n",
       "        vertical-align: top;\n",
       "    }\n",
       "\n",
       "    .dataframe thead th {\n",
       "        text-align: right;\n",
       "    }\n",
       "</style>\n",
       "<table border=\"1\" class=\"dataframe\">\n",
       "  <thead>\n",
       "    <tr style=\"text-align: right;\">\n",
       "      <th></th>\n",
       "      <th>product_id</th>\n",
       "      <th>onsale_web</th>\n",
       "      <th>price</th>\n",
       "      <th>stock_quantity</th>\n",
       "      <th>stock_status</th>\n",
       "      <th>sku</th>\n",
       "      <th>total_sales</th>\n",
       "      <th>post_date</th>\n",
       "      <th>post_title</th>\n",
       "      <th>post_modified</th>\n",
       "    </tr>\n",
       "  </thead>\n",
       "  <tbody>\n",
       "    <tr>\n",
       "      <th>0</th>\n",
       "      <td>3847</td>\n",
       "      <td>True</td>\n",
       "      <td>24.2</td>\n",
       "      <td>0</td>\n",
       "      <td>outofstock</td>\n",
       "      <td>15298</td>\n",
       "      <td>6.0</td>\n",
       "      <td>2018-02-08</td>\n",
       "      <td>Pierre Jean Villa Saint-Joseph Préface 2018</td>\n",
       "      <td>2019-12-30</td>\n",
       "    </tr>\n",
       "    <tr>\n",
       "      <th>1</th>\n",
       "      <td>3849</td>\n",
       "      <td>True</td>\n",
       "      <td>34.3</td>\n",
       "      <td>0</td>\n",
       "      <td>outofstock</td>\n",
       "      <td>15296</td>\n",
       "      <td>0.0</td>\n",
       "      <td>2018-02-08</td>\n",
       "      <td>Pierre Jean Villa Saint-Joseph Rouge Tildé 2017</td>\n",
       "      <td>2019-12-21</td>\n",
       "    </tr>\n",
       "    <tr>\n",
       "      <th>2</th>\n",
       "      <td>3850</td>\n",
       "      <td>True</td>\n",
       "      <td>20.8</td>\n",
       "      <td>0</td>\n",
       "      <td>outofstock</td>\n",
       "      <td>15300</td>\n",
       "      <td>0.0</td>\n",
       "      <td>2018-02-08</td>\n",
       "      <td>Pierre Jean Villa Crozes-Hermitage Accroche Co...</td>\n",
       "      <td>2020-06-26</td>\n",
       "    </tr>\n",
       "  </tbody>\n",
       "</table>\n",
       "</div>"
      ],
      "text/plain": [
       "  product_id  onsale_web  price  stock_quantity stock_status    sku  \\\n",
       "0       3847        True   24.2               0   outofstock  15298   \n",
       "1       3849        True   34.3               0   outofstock  15296   \n",
       "2       3850        True   20.8               0   outofstock  15300   \n",
       "\n",
       "   total_sales  post_date                                         post_title  \\\n",
       "0          6.0 2018-02-08        Pierre Jean Villa Saint-Joseph Préface 2018   \n",
       "1          0.0 2018-02-08    Pierre Jean Villa Saint-Joseph Rouge Tildé 2017   \n",
       "2          0.0 2018-02-08  Pierre Jean Villa Crozes-Hermitage Accroche Co...   \n",
       "\n",
       "  post_modified  \n",
       "0    2019-12-30  \n",
       "1    2019-12-21  \n",
       "2    2020-06-26  "
      ]
     },
     "execution_count": 52,
     "metadata": {},
     "output_type": "execute_result"
    }
   ],
   "source": [
    "df_final.head(3)"
   ]
  },
  {
   "cell_type": "code",
   "execution_count": 53,
   "metadata": {},
   "outputs": [
    {
     "data": {
      "text/plain": [
       "(714, 10)"
      ]
     },
     "execution_count": 53,
     "metadata": {},
     "output_type": "execute_result"
    }
   ],
   "source": [
    "df_final.shape"
   ]
  },
  {
   "attachments": {},
   "cell_type": "markdown",
   "metadata": {},
   "source": [
    "Pour terminer, et afin de faciliter la lecture, nous allons modifier l'ordre des colonnes."
   ]
  },
  {
   "cell_type": "code",
   "execution_count": 54,
   "metadata": {},
   "outputs": [],
   "source": [
    "# Réorganisation colonnes\n",
    "df_final = df_final[['product_id', 'post_title', 'post_date', 'post_modified',\n",
    "                     'onsale_web', 'sku', 'stock_quantity', 'stock_status',\n",
    "                     'price', 'total_sales']]"
   ]
  },
  {
   "attachments": {},
   "cell_type": "markdown",
   "metadata": {},
   "source": [
    "Les *DataFrame* sources ne sont plus utiles, on peut les supprimer."
   ]
  },
  {
   "cell_type": "code",
   "execution_count": 55,
   "metadata": {},
   "outputs": [],
   "source": [
    "del df_erp, df_liaison, df_web"
   ]
  },
  {
   "attachments": {},
   "cell_type": "markdown",
   "metadata": {},
   "source": [
    "## Analyse des ventes en ligne<a id='3'></a>"
   ]
  },
  {
   "attachments": {},
   "cell_type": "markdown",
   "metadata": {},
   "source": [
    "Nous disposons maintenant d'un jeu de données exploitable, la phase d'analyses peut commencer."
   ]
  },
  {
   "attachments": {},
   "cell_type": "markdown",
   "metadata": {},
   "source": [
    "### Chiffre d'affaires par produit<a id='3-1'></a>"
   ]
  },
  {
   "attachments": {},
   "cell_type": "markdown",
   "metadata": {},
   "source": [
    "Les prix unitaires et les quantités vendues, nous permettent de calculer le chiffre d'affaires généré par chaque produit ainsi que le poids que cela représente par rapport au total du chiffre."
   ]
  },
  {
   "cell_type": "code",
   "execution_count": 56,
   "metadata": {},
   "outputs": [],
   "source": [
    "df_final['turnover'] = df_final['price'] * df_final['total_sales']\n",
    "df_final['%_turnover'] = df_final['turnover'] / df_final['turnover'].sum()"
   ]
  },
  {
   "attachments": {},
   "cell_type": "markdown",
   "metadata": {},
   "source": [
    "Voyons quels produits génèrent le plus de chiffre d'affaires."
   ]
  },
  {
   "cell_type": "code",
   "execution_count": 57,
   "metadata": {},
   "outputs": [
    {
     "data": {
      "text/html": [
       "<div>\n",
       "<style scoped>\n",
       "    .dataframe tbody tr th:only-of-type {\n",
       "        vertical-align: middle;\n",
       "    }\n",
       "\n",
       "    .dataframe tbody tr th {\n",
       "        vertical-align: top;\n",
       "    }\n",
       "\n",
       "    .dataframe thead th {\n",
       "        text-align: right;\n",
       "    }\n",
       "</style>\n",
       "<table border=\"1\" class=\"dataframe\">\n",
       "  <thead>\n",
       "    <tr style=\"text-align: right;\">\n",
       "      <th></th>\n",
       "      <th>product_id</th>\n",
       "      <th>post_title</th>\n",
       "      <th>post_date</th>\n",
       "      <th>post_modified</th>\n",
       "      <th>onsale_web</th>\n",
       "      <th>sku</th>\n",
       "      <th>stock_quantity</th>\n",
       "      <th>stock_status</th>\n",
       "      <th>price</th>\n",
       "      <th>total_sales</th>\n",
       "      <th>turnover</th>\n",
       "      <th>%_turnover</th>\n",
       "    </tr>\n",
       "  </thead>\n",
       "  <tbody>\n",
       "    <tr>\n",
       "      <th>194</th>\n",
       "      <td>4334</td>\n",
       "      <td>Champagne Gosset Grand Blanc de Blancs</td>\n",
       "      <td>2018-03-01</td>\n",
       "      <td>2020-08-12</td>\n",
       "      <td>True</td>\n",
       "      <td>7818</td>\n",
       "      <td>0</td>\n",
       "      <td>outofstock</td>\n",
       "      <td>49.0</td>\n",
       "      <td>96.0</td>\n",
       "      <td>4704.0</td>\n",
       "      <td>0.066659</td>\n",
       "    </tr>\n",
       "    <tr>\n",
       "      <th>71</th>\n",
       "      <td>4144</td>\n",
       "      <td>Champagne Gosset Grand Rosé</td>\n",
       "      <td>2018-02-13</td>\n",
       "      <td>2020-08-14</td>\n",
       "      <td>True</td>\n",
       "      <td>1662</td>\n",
       "      <td>11</td>\n",
       "      <td>instock</td>\n",
       "      <td>49.0</td>\n",
       "      <td>87.0</td>\n",
       "      <td>4263.0</td>\n",
       "      <td>0.060409</td>\n",
       "    </tr>\n",
       "    <tr>\n",
       "      <th>218</th>\n",
       "      <td>4402</td>\n",
       "      <td>Cognac Frapin VIP XO</td>\n",
       "      <td>2018-03-22</td>\n",
       "      <td>2020-08-22</td>\n",
       "      <td>True</td>\n",
       "      <td>3510</td>\n",
       "      <td>8</td>\n",
       "      <td>instock</td>\n",
       "      <td>176.0</td>\n",
       "      <td>13.0</td>\n",
       "      <td>2288.0</td>\n",
       "      <td>0.032422</td>\n",
       "    </tr>\n",
       "    <tr>\n",
       "      <th>70</th>\n",
       "      <td>4142</td>\n",
       "      <td>Champagne Gosset Grand Millésime 2006</td>\n",
       "      <td>2018-02-13</td>\n",
       "      <td>2020-08-20</td>\n",
       "      <td>True</td>\n",
       "      <td>11641</td>\n",
       "      <td>8</td>\n",
       "      <td>instock</td>\n",
       "      <td>53.0</td>\n",
       "      <td>30.0</td>\n",
       "      <td>1590.0</td>\n",
       "      <td>0.022531</td>\n",
       "    </tr>\n",
       "    <tr>\n",
       "      <th>69</th>\n",
       "      <td>4141</td>\n",
       "      <td>Champagne Gosset Grande Réserve</td>\n",
       "      <td>2018-02-13</td>\n",
       "      <td>2020-08-27</td>\n",
       "      <td>True</td>\n",
       "      <td>304</td>\n",
       "      <td>1</td>\n",
       "      <td>instock</td>\n",
       "      <td>39.0</td>\n",
       "      <td>40.0</td>\n",
       "      <td>1560.0</td>\n",
       "      <td>0.022106</td>\n",
       "    </tr>\n",
       "    <tr>\n",
       "      <th>201</th>\n",
       "      <td>4355</td>\n",
       "      <td>Champagne Egly-Ouriet Grand Cru Blanc de Noirs</td>\n",
       "      <td>2018-03-02</td>\n",
       "      <td>2020-08-13</td>\n",
       "      <td>True</td>\n",
       "      <td>12589</td>\n",
       "      <td>2</td>\n",
       "      <td>instock</td>\n",
       "      <td>126.5</td>\n",
       "      <td>11.0</td>\n",
       "      <td>1391.5</td>\n",
       "      <td>0.019718</td>\n",
       "    </tr>\n",
       "    <tr>\n",
       "      <th>199</th>\n",
       "      <td>4352</td>\n",
       "      <td>Champagne Egly-Ouriet Grand Cru Millésimé 2008</td>\n",
       "      <td>2018-03-02</td>\n",
       "      <td>2020-03-07</td>\n",
       "      <td>True</td>\n",
       "      <td>15940</td>\n",
       "      <td>0</td>\n",
       "      <td>outofstock</td>\n",
       "      <td>225.0</td>\n",
       "      <td>5.0</td>\n",
       "      <td>1125.0</td>\n",
       "      <td>0.015942</td>\n",
       "    </tr>\n",
       "    <tr>\n",
       "      <th>79</th>\n",
       "      <td>4153</td>\n",
       "      <td>Elian Daros Côtes du Marmandais Clos Baquey 2015</td>\n",
       "      <td>2018-02-13</td>\n",
       "      <td>2020-07-28</td>\n",
       "      <td>True</td>\n",
       "      <td>16237</td>\n",
       "      <td>0</td>\n",
       "      <td>outofstock</td>\n",
       "      <td>29.0</td>\n",
       "      <td>36.0</td>\n",
       "      <td>1044.0</td>\n",
       "      <td>0.014794</td>\n",
       "    </tr>\n",
       "    <tr>\n",
       "      <th>651</th>\n",
       "      <td>6206</td>\n",
       "      <td>Domaine Giudicelli Patrimonio Blanc 2019</td>\n",
       "      <td>2019-07-24</td>\n",
       "      <td>2020-08-27</td>\n",
       "      <td>True</td>\n",
       "      <td>16580</td>\n",
       "      <td>120</td>\n",
       "      <td>instock</td>\n",
       "      <td>25.2</td>\n",
       "      <td>41.0</td>\n",
       "      <td>1033.2</td>\n",
       "      <td>0.014641</td>\n",
       "    </tr>\n",
       "    <tr>\n",
       "      <th>30</th>\n",
       "      <td>4068</td>\n",
       "      <td>Gilles Robin Crozes-Hermitage Rouge Papillon 2019</td>\n",
       "      <td>2018-02-12</td>\n",
       "      <td>2020-08-27</td>\n",
       "      <td>True</td>\n",
       "      <td>16416</td>\n",
       "      <td>157</td>\n",
       "      <td>instock</td>\n",
       "      <td>16.6</td>\n",
       "      <td>62.0</td>\n",
       "      <td>1029.2</td>\n",
       "      <td>0.014584</td>\n",
       "    </tr>\n",
       "  </tbody>\n",
       "</table>\n",
       "</div>"
      ],
      "text/plain": [
       "    product_id                                         post_title  post_date  \\\n",
       "194       4334             Champagne Gosset Grand Blanc de Blancs 2018-03-01   \n",
       "71        4144                        Champagne Gosset Grand Rosé 2018-02-13   \n",
       "218       4402                               Cognac Frapin VIP XO 2018-03-22   \n",
       "70        4142              Champagne Gosset Grand Millésime 2006 2018-02-13   \n",
       "69        4141                    Champagne Gosset Grande Réserve 2018-02-13   \n",
       "201       4355     Champagne Egly-Ouriet Grand Cru Blanc de Noirs 2018-03-02   \n",
       "199       4352     Champagne Egly-Ouriet Grand Cru Millésimé 2008 2018-03-02   \n",
       "79        4153   Elian Daros Côtes du Marmandais Clos Baquey 2015 2018-02-13   \n",
       "651       6206           Domaine Giudicelli Patrimonio Blanc 2019 2019-07-24   \n",
       "30        4068  Gilles Robin Crozes-Hermitage Rouge Papillon 2019 2018-02-12   \n",
       "\n",
       "    post_modified  onsale_web    sku  stock_quantity stock_status  price  \\\n",
       "194    2020-08-12        True   7818               0   outofstock   49.0   \n",
       "71     2020-08-14        True   1662              11      instock   49.0   \n",
       "218    2020-08-22        True   3510               8      instock  176.0   \n",
       "70     2020-08-20        True  11641               8      instock   53.0   \n",
       "69     2020-08-27        True    304               1      instock   39.0   \n",
       "201    2020-08-13        True  12589               2      instock  126.5   \n",
       "199    2020-03-07        True  15940               0   outofstock  225.0   \n",
       "79     2020-07-28        True  16237               0   outofstock   29.0   \n",
       "651    2020-08-27        True  16580             120      instock   25.2   \n",
       "30     2020-08-27        True  16416             157      instock   16.6   \n",
       "\n",
       "     total_sales  turnover  %_turnover  \n",
       "194         96.0    4704.0    0.066659  \n",
       "71          87.0    4263.0    0.060409  \n",
       "218         13.0    2288.0    0.032422  \n",
       "70          30.0    1590.0    0.022531  \n",
       "69          40.0    1560.0    0.022106  \n",
       "201         11.0    1391.5    0.019718  \n",
       "199          5.0    1125.0    0.015942  \n",
       "79          36.0    1044.0    0.014794  \n",
       "651         41.0    1033.2    0.014641  \n",
       "30          62.0    1029.2    0.014584  "
      ]
     },
     "execution_count": 57,
     "metadata": {},
     "output_type": "execute_result"
    }
   ],
   "source": [
    "df_final.nlargest(10, 'turnover')"
   ]
  },
  {
   "attachments": {},
   "cell_type": "markdown",
   "metadata": {},
   "source": [
    "Les vins de Champagne sont bien représentés dans le haut du classement et notamment ceux de la maison Gosset. Deux de leurs produits génèrent presque 13 % du chiffre d'affaires total.<br>\n",
    "Penchons-nous maintenant sur les produits qui en génèrent le moins."
   ]
  },
  {
   "cell_type": "code",
   "execution_count": 58,
   "metadata": {},
   "outputs": [
    {
     "data": {
      "text/html": [
       "<div>\n",
       "<style scoped>\n",
       "    .dataframe tbody tr th:only-of-type {\n",
       "        vertical-align: middle;\n",
       "    }\n",
       "\n",
       "    .dataframe tbody tr th {\n",
       "        vertical-align: top;\n",
       "    }\n",
       "\n",
       "    .dataframe thead th {\n",
       "        text-align: right;\n",
       "    }\n",
       "</style>\n",
       "<table border=\"1\" class=\"dataframe\">\n",
       "  <thead>\n",
       "    <tr style=\"text-align: right;\">\n",
       "      <th></th>\n",
       "      <th>product_id</th>\n",
       "      <th>post_title</th>\n",
       "      <th>post_date</th>\n",
       "      <th>post_modified</th>\n",
       "      <th>onsale_web</th>\n",
       "      <th>sku</th>\n",
       "      <th>stock_quantity</th>\n",
       "      <th>stock_status</th>\n",
       "      <th>price</th>\n",
       "      <th>total_sales</th>\n",
       "      <th>turnover</th>\n",
       "      <th>%_turnover</th>\n",
       "    </tr>\n",
       "  </thead>\n",
       "  <tbody>\n",
       "    <tr>\n",
       "      <th>1</th>\n",
       "      <td>3849</td>\n",
       "      <td>Pierre Jean Villa Saint-Joseph Rouge Tildé 2017</td>\n",
       "      <td>2018-02-08</td>\n",
       "      <td>2019-12-21</td>\n",
       "      <td>True</td>\n",
       "      <td>15296</td>\n",
       "      <td>0</td>\n",
       "      <td>outofstock</td>\n",
       "      <td>34.3</td>\n",
       "      <td>0.0</td>\n",
       "      <td>0.0</td>\n",
       "      <td>0.0</td>\n",
       "    </tr>\n",
       "    <tr>\n",
       "      <th>2</th>\n",
       "      <td>3850</td>\n",
       "      <td>Pierre Jean Villa Crozes-Hermitage Accroche Co...</td>\n",
       "      <td>2018-02-08</td>\n",
       "      <td>2020-06-26</td>\n",
       "      <td>True</td>\n",
       "      <td>15300</td>\n",
       "      <td>0</td>\n",
       "      <td>outofstock</td>\n",
       "      <td>20.8</td>\n",
       "      <td>0.0</td>\n",
       "      <td>0.0</td>\n",
       "      <td>0.0</td>\n",
       "    </tr>\n",
       "    <tr>\n",
       "      <th>4</th>\n",
       "      <td>4039</td>\n",
       "      <td>Pierre Jean Villa Côte Rôtie Carmina 2017</td>\n",
       "      <td>2018-02-12</td>\n",
       "      <td>2020-01-04</td>\n",
       "      <td>True</td>\n",
       "      <td>19815</td>\n",
       "      <td>0</td>\n",
       "      <td>outofstock</td>\n",
       "      <td>46.0</td>\n",
       "      <td>0.0</td>\n",
       "      <td>0.0</td>\n",
       "      <td>0.0</td>\n",
       "    </tr>\n",
       "    <tr>\n",
       "      <th>5</th>\n",
       "      <td>4040</td>\n",
       "      <td>Pierre Jean Villa Saint-Joseph Saut De l'Ange ...</td>\n",
       "      <td>2018-02-12</td>\n",
       "      <td>2019-11-02</td>\n",
       "      <td>True</td>\n",
       "      <td>15303</td>\n",
       "      <td>0</td>\n",
       "      <td>outofstock</td>\n",
       "      <td>34.3</td>\n",
       "      <td>0.0</td>\n",
       "      <td>0.0</td>\n",
       "      <td>0.0</td>\n",
       "    </tr>\n",
       "    <tr>\n",
       "      <th>6</th>\n",
       "      <td>4041</td>\n",
       "      <td>Pierre Gaillard Condrieu 2018</td>\n",
       "      <td>2018-02-12</td>\n",
       "      <td>2020-08-14</td>\n",
       "      <td>True</td>\n",
       "      <td>14975</td>\n",
       "      <td>15</td>\n",
       "      <td>instock</td>\n",
       "      <td>32.7</td>\n",
       "      <td>0.0</td>\n",
       "      <td>0.0</td>\n",
       "      <td>0.0</td>\n",
       "    </tr>\n",
       "    <tr>\n",
       "      <th>11</th>\n",
       "      <td>4047</td>\n",
       "      <td>Pierre Gaillard Côtes-du-Rhône Blanc Les Gendr...</td>\n",
       "      <td>2018-02-12</td>\n",
       "      <td>2020-08-27</td>\n",
       "      <td>True</td>\n",
       "      <td>14977</td>\n",
       "      <td>36</td>\n",
       "      <td>instock</td>\n",
       "      <td>18.3</td>\n",
       "      <td>0.0</td>\n",
       "      <td>0.0</td>\n",
       "      <td>0.0</td>\n",
       "    </tr>\n",
       "    <tr>\n",
       "      <th>27</th>\n",
       "      <td>4065</td>\n",
       "      <td>Oratoire Saint Martin Cairanne Rouge Les Douye...</td>\n",
       "      <td>2018-02-12</td>\n",
       "      <td>2020-08-27</td>\n",
       "      <td>True</td>\n",
       "      <td>15022</td>\n",
       "      <td>35</td>\n",
       "      <td>instock</td>\n",
       "      <td>19.5</td>\n",
       "      <td>0.0</td>\n",
       "      <td>0.0</td>\n",
       "      <td>0.0</td>\n",
       "    </tr>\n",
       "    <tr>\n",
       "      <th>31</th>\n",
       "      <td>4069</td>\n",
       "      <td>Gilles Robin Hermitage Rouge 2012</td>\n",
       "      <td>2018-02-12</td>\n",
       "      <td>2019-01-31</td>\n",
       "      <td>True</td>\n",
       "      <td>11862</td>\n",
       "      <td>0</td>\n",
       "      <td>outofstock</td>\n",
       "      <td>60.0</td>\n",
       "      <td>0.0</td>\n",
       "      <td>0.0</td>\n",
       "      <td>0.0</td>\n",
       "    </tr>\n",
       "    <tr>\n",
       "      <th>35</th>\n",
       "      <td>4073</td>\n",
       "      <td>Château de Vaudieu Châteauneuf-du-Pape L'Avenu...</td>\n",
       "      <td>2018-02-12</td>\n",
       "      <td>2019-12-09</td>\n",
       "      <td>True</td>\n",
       "      <td>13074</td>\n",
       "      <td>11</td>\n",
       "      <td>instock</td>\n",
       "      <td>77.8</td>\n",
       "      <td>0.0</td>\n",
       "      <td>0.0</td>\n",
       "      <td>0.0</td>\n",
       "    </tr>\n",
       "    <tr>\n",
       "      <th>37</th>\n",
       "      <td>4075</td>\n",
       "      <td>Plateau des Chênes Lirac 2015</td>\n",
       "      <td>2018-02-12</td>\n",
       "      <td>2020-08-24</td>\n",
       "      <td>True</td>\n",
       "      <td>16069</td>\n",
       "      <td>54</td>\n",
       "      <td>instock</td>\n",
       "      <td>14.7</td>\n",
       "      <td>0.0</td>\n",
       "      <td>0.0</td>\n",
       "      <td>0.0</td>\n",
       "    </tr>\n",
       "  </tbody>\n",
       "</table>\n",
       "</div>"
      ],
      "text/plain": [
       "   product_id                                         post_title  post_date  \\\n",
       "1        3849    Pierre Jean Villa Saint-Joseph Rouge Tildé 2017 2018-02-08   \n",
       "2        3850  Pierre Jean Villa Crozes-Hermitage Accroche Co... 2018-02-08   \n",
       "4        4039          Pierre Jean Villa Côte Rôtie Carmina 2017 2018-02-12   \n",
       "5        4040  Pierre Jean Villa Saint-Joseph Saut De l'Ange ... 2018-02-12   \n",
       "6        4041                      Pierre Gaillard Condrieu 2018 2018-02-12   \n",
       "11       4047  Pierre Gaillard Côtes-du-Rhône Blanc Les Gendr... 2018-02-12   \n",
       "27       4065  Oratoire Saint Martin Cairanne Rouge Les Douye... 2018-02-12   \n",
       "31       4069                  Gilles Robin Hermitage Rouge 2012 2018-02-12   \n",
       "35       4073  Château de Vaudieu Châteauneuf-du-Pape L'Avenu... 2018-02-12   \n",
       "37       4075                      Plateau des Chênes Lirac 2015 2018-02-12   \n",
       "\n",
       "   post_modified  onsale_web    sku  stock_quantity stock_status  price  \\\n",
       "1     2019-12-21        True  15296               0   outofstock   34.3   \n",
       "2     2020-06-26        True  15300               0   outofstock   20.8   \n",
       "4     2020-01-04        True  19815               0   outofstock   46.0   \n",
       "5     2019-11-02        True  15303               0   outofstock   34.3   \n",
       "6     2020-08-14        True  14975              15      instock   32.7   \n",
       "11    2020-08-27        True  14977              36      instock   18.3   \n",
       "27    2020-08-27        True  15022              35      instock   19.5   \n",
       "31    2019-01-31        True  11862               0   outofstock   60.0   \n",
       "35    2019-12-09        True  13074              11      instock   77.8   \n",
       "37    2020-08-24        True  16069              54      instock   14.7   \n",
       "\n",
       "    total_sales  turnover  %_turnover  \n",
       "1           0.0       0.0         0.0  \n",
       "2           0.0       0.0         0.0  \n",
       "4           0.0       0.0         0.0  \n",
       "5           0.0       0.0         0.0  \n",
       "6           0.0       0.0         0.0  \n",
       "11          0.0       0.0         0.0  \n",
       "27          0.0       0.0         0.0  \n",
       "31          0.0       0.0         0.0  \n",
       "35          0.0       0.0         0.0  \n",
       "37          0.0       0.0         0.0  "
      ]
     },
     "execution_count": 58,
     "metadata": {},
     "output_type": "execute_result"
    }
   ],
   "source": [
    "df_final.nsmallest(10, 'turnover')"
   ]
  },
  {
   "attachments": {},
   "cell_type": "markdown",
   "metadata": {},
   "source": [
    "Parmi les bouteilles en queue de classement, on retrouve essentiellement des vins ayant des prix unitaires plutôt élevés. Néanmoins, une partie des références est également en rupture de stock. N'ayant pas d'informations sur l'évolution des ventes et des stocks au cours du temps, il semble difficile de pousser plus loin les analyses."
   ]
  },
  {
   "attachments": {},
   "cell_type": "markdown",
   "metadata": {},
   "source": [
    "### Chiffre d'affaires total<a id='3-2'></a>"
   ]
  },
  {
   "cell_type": "code",
   "execution_count": 59,
   "metadata": {},
   "outputs": [
    {
     "name": "stdout",
     "output_type": "stream",
     "text": [
      "Le chiffre d'affaire total réalisé en ligne s'élève à 70568.6 €.\n"
     ]
    }
   ],
   "source": [
    "total_ca_web = df_final['turnover'].sum()\n",
    "\n",
    "print(\n",
    "    f'Le chiffre d\\'affaire total réalisé en ligne s\\'élève à {total_ca_web} €.')\n",
    "\n",
    "del total_ca_web"
   ]
  },
  {
   "attachments": {},
   "cell_type": "markdown",
   "metadata": {},
   "source": [
    "## Analyse des prix des produits<a id='4'></a>"
   ]
  },
  {
   "attachments": {},
   "cell_type": "markdown",
   "metadata": {},
   "source": [
    "Dans cette partie, nous allons réaliser une étude univariée sur les prix de ventes afin de vérifier si ils contiennent des incohérences."
   ]
  },
  {
   "cell_type": "code",
   "execution_count": 60,
   "metadata": {},
   "outputs": [
    {
     "data": {
      "text/html": [
       "<div>\n",
       "<style scoped>\n",
       "    .dataframe tbody tr th:only-of-type {\n",
       "        vertical-align: middle;\n",
       "    }\n",
       "\n",
       "    .dataframe tbody tr th {\n",
       "        vertical-align: top;\n",
       "    }\n",
       "\n",
       "    .dataframe thead th {\n",
       "        text-align: right;\n",
       "    }\n",
       "</style>\n",
       "<table border=\"1\" class=\"dataframe\">\n",
       "  <thead>\n",
       "    <tr style=\"text-align: right;\">\n",
       "      <th></th>\n",
       "      <th>stock_quantity</th>\n",
       "      <th>price</th>\n",
       "      <th>total_sales</th>\n",
       "      <th>turnover</th>\n",
       "      <th>%_turnover</th>\n",
       "    </tr>\n",
       "  </thead>\n",
       "  <tbody>\n",
       "    <tr>\n",
       "      <th>count</th>\n",
       "      <td>714.000000</td>\n",
       "      <td>714.000000</td>\n",
       "      <td>714.000000</td>\n",
       "      <td>714.000000</td>\n",
       "      <td>714.000000</td>\n",
       "    </tr>\n",
       "    <tr>\n",
       "      <th>mean</th>\n",
       "      <td>28.746499</td>\n",
       "      <td>32.493137</td>\n",
       "      <td>4.012605</td>\n",
       "      <td>98.835574</td>\n",
       "      <td>0.001401</td>\n",
       "    </tr>\n",
       "    <tr>\n",
       "      <th>std</th>\n",
       "      <td>48.012608</td>\n",
       "      <td>27.810525</td>\n",
       "      <td>8.518183</td>\n",
       "      <td>307.685071</td>\n",
       "      <td>0.004360</td>\n",
       "    </tr>\n",
       "    <tr>\n",
       "      <th>min</th>\n",
       "      <td>0.000000</td>\n",
       "      <td>5.200000</td>\n",
       "      <td>0.000000</td>\n",
       "      <td>0.000000</td>\n",
       "      <td>0.000000</td>\n",
       "    </tr>\n",
       "    <tr>\n",
       "      <th>25%</th>\n",
       "      <td>2.000000</td>\n",
       "      <td>14.100000</td>\n",
       "      <td>0.000000</td>\n",
       "      <td>0.000000</td>\n",
       "      <td>0.000000</td>\n",
       "    </tr>\n",
       "    <tr>\n",
       "      <th>50%</th>\n",
       "      <td>12.000000</td>\n",
       "      <td>23.550000</td>\n",
       "      <td>1.000000</td>\n",
       "      <td>15.250000</td>\n",
       "      <td>0.000216</td>\n",
       "    </tr>\n",
       "    <tr>\n",
       "      <th>75%</th>\n",
       "      <td>35.000000</td>\n",
       "      <td>42.175000</td>\n",
       "      <td>4.000000</td>\n",
       "      <td>91.150000</td>\n",
       "      <td>0.001292</td>\n",
       "    </tr>\n",
       "    <tr>\n",
       "      <th>max</th>\n",
       "      <td>578.000000</td>\n",
       "      <td>225.000000</td>\n",
       "      <td>96.000000</td>\n",
       "      <td>4704.000000</td>\n",
       "      <td>0.066659</td>\n",
       "    </tr>\n",
       "  </tbody>\n",
       "</table>\n",
       "</div>"
      ],
      "text/plain": [
       "       stock_quantity       price  total_sales     turnover  %_turnover\n",
       "count      714.000000  714.000000   714.000000   714.000000  714.000000\n",
       "mean        28.746499   32.493137     4.012605    98.835574    0.001401\n",
       "std         48.012608   27.810525     8.518183   307.685071    0.004360\n",
       "min          0.000000    5.200000     0.000000     0.000000    0.000000\n",
       "25%          2.000000   14.100000     0.000000     0.000000    0.000000\n",
       "50%         12.000000   23.550000     1.000000    15.250000    0.000216\n",
       "75%         35.000000   42.175000     4.000000    91.150000    0.001292\n",
       "max        578.000000  225.000000    96.000000  4704.000000    0.066659"
      ]
     },
     "execution_count": 60,
     "metadata": {},
     "output_type": "execute_result"
    }
   ],
   "source": [
    "df_final.describe()"
   ]
  },
  {
   "attachments": {},
   "cell_type": "markdown",
   "metadata": {},
   "source": [
    "### Distribution empirique des prix<a id='4-1'></a>"
   ]
  },
  {
   "attachments": {},
   "cell_type": "markdown",
   "metadata": {},
   "source": [
    "Commençons par représenter graphiquement la distribution des prix de notre jeu de données."
   ]
  },
  {
   "cell_type": "code",
   "execution_count": 61,
   "metadata": {},
   "outputs": [
    {
     "data": {
      "image/png": "[encoded data removed]",
      "text/plain": [
       "<Figure size 640x480 with 1 Axes>"
      ]
     },
     "metadata": {},
     "output_type": "display_data"
    }
   ],
   "source": [
    "ax = df_final['price'].plot(kind='hist', density=True, bins=20,\n",
    "                            edgecolor='black', title='Distribution des prix de vente')\n",
    "\n",
    "del ax"
   ]
  },
  {
   "attachments": {},
   "cell_type": "markdown",
   "metadata": {},
   "source": [
    "On remarque qu'il n'y a ni prix négatifs, ni prix à 0. Les fréquences les plus importantes se retrouvent sur une plage de prix en dessous de 50 € mais on observe qu'il y a plusieurs prix atypiques pouvant être supérieurs à 200 €."
   ]
  },
  {
   "attachments": {},
   "cell_type": "markdown",
   "metadata": {},
   "source": [
    "### Mesures de tendance centrale<a id='4-2'></a>"
   ]
  },
  {
   "attachments": {},
   "cell_type": "markdown",
   "metadata": {},
   "source": [
    "Afin d'avoir une idée de la valeur autour de laquelle se concentrent les prix, calculons le mode, la moyenne et la médiane."
   ]
  },
  {
   "cell_type": "code",
   "execution_count": 62,
   "metadata": {},
   "outputs": [
    {
     "name": "stdout",
     "output_type": "stream",
     "text": [
      "Mode : 0    19.0\n",
      "Name: price, dtype: float64\n",
      "Moyenne : 32.49\n",
      "Médiane : 23.55\n"
     ]
    }
   ],
   "source": [
    "price_mode = df_final['price'].mode()\n",
    "price_mean = df_final['price'].mean()\n",
    "price_median = df_final['price'].median()\n",
    "\n",
    "print(\n",
    "    f'Mode : {price_mode}\\nMoyenne : {price_mean:.2f}\\nMédiane : {price_median}')\n",
    "\n",
    "del price_mode, price_mean, price_median"
   ]
  },
  {
   "attachments": {},
   "cell_type": "markdown",
   "metadata": {},
   "source": [
    "Le **mode** nous indique que **19 €** est le prix qui revient le plus souvent. La **moyenne**, à **32,49 €**, n'est pas vraiment exploitable car elle tient compte des valeurs aberrantes de notre jeu de données. La **médiane**, quant à elle, nous indique que la moitié des prix sont supérieurs à **23,55 €**.<br>\n",
    "Le fait que la moyenne soit supérieure à la médiane montre, tout comme l'histogramme, qu'il y a des valeurs aberrantes dans le jeu de données."
   ]
  },
  {
   "attachments": {},
   "cell_type": "markdown",
   "metadata": {},
   "source": [
    "### Mesures de dispersion<a id='4-3'></a>"
   ]
  },
  {
   "attachments": {},
   "cell_type": "markdown",
   "metadata": {},
   "source": [
    "Pour analyser plus en détail ces valeurs atypiques, calculons les mesures de dispersion. Elles vont nous permettre de préciser la façon dont les prix se répartissent autour des mesures de tendance centrale.<br>\n",
    "Commençons par l'étendue en affichant les valeurs extrêmes."
   ]
  },
  {
   "cell_type": "code",
   "execution_count": 63,
   "metadata": {},
   "outputs": [
    {
     "name": "stdout",
     "output_type": "stream",
     "text": [
      "Les prix s'étendent de : 5.2 € à 225.0 €.\n"
     ]
    }
   ],
   "source": [
    "price_mini = df_final['price'].min()\n",
    "price_maxi = df_final['price'].max()\n",
    "\n",
    "print(f'Les prix s\\'étendent de : {price_mini} € à {price_maxi} €.')\n",
    "\n",
    "del price_mini, price_maxi"
   ]
  },
  {
   "attachments": {},
   "cell_type": "markdown",
   "metadata": {},
   "source": [
    "On constate encore une fois que les valeurs supérieures aux valeurs centrales sont bien plus étendues que celles qui sont inférieures.<br>\n",
    "Voyons aussi comment se répartissent les prix autour des valeurs centrales grâce à la variance et l'écart-type. Ce sont les valeurs non biaisées de ces indicateurs qui seront calculées."
   ]
  },
  {
   "cell_type": "code",
   "execution_count": 64,
   "metadata": {},
   "outputs": [
    {
     "name": "stdout",
     "output_type": "stream",
     "text": [
      "Variance : 772.34\n",
      "Ecart-type : 27.79\n"
     ]
    }
   ],
   "source": [
    "variance = df_final['price'].var(ddof=0)\n",
    "ecart_type = df_final['price'].std(ddof=0)\n",
    "\n",
    "print(f'Variance : {variance:.2f}\\nEcart-type : {ecart_type:.2f}')\n",
    "\n",
    "del variance, ecart_type"
   ]
  },
  {
   "attachments": {},
   "cell_type": "markdown",
   "metadata": {},
   "source": [
    "La variance est difficilement interprétable car elle n'est pas dans la même unité que nos données. L'écart-type, avec une valeur proche de la moyenne, permet de constater une nouvelle fois que les prix sont assez dispersés autour de cette dernière.<br>\n",
    "Traçons une représentation graphique de type boîte à moustaches pour finalement identifier les valeurs aberrantes."
   ]
  },
  {
   "cell_type": "code",
   "execution_count": 65,
   "metadata": {},
   "outputs": [
    {
     "data": {
      "image/png": "[encoded data removed]",
      "text/plain": [
       "<Figure size 640x480 with 1 Axes>"
      ]
     },
     "metadata": {},
     "output_type": "display_data"
    }
   ],
   "source": [
    "ax = (df_final['price'].plot(kind='box', vert=False,\n",
    "                             title='Dispersion des prix de vente'))\n",
    "\n",
    "del ax"
   ]
  },
  {
   "attachments": {},
   "cell_type": "markdown",
   "metadata": {},
   "source": [
    "Cette fois on voit très clairement nos *outliers* et où ils se situent. Nous allons afficher les produits qui se situent entre la borne maximale de la boîte à moustaches et la valeurs maximale des données.\n",
    "La borne maximale du *boxplot* se calcule de la manière suivante:<br><br>\n",
    "$max\\_boxplot = 1,5 * IQR + Q_3$<br>\n",
    "avec:<br>\n",
    "$IQR = Q_3 - Q_1$<br>\n",
    "$Q_1 = premier\\ quartile$<br>\n",
    "$Q_3 = troisième\\ quartile$"
   ]
  },
  {
   "cell_type": "code",
   "execution_count": 66,
   "metadata": {},
   "outputs": [
    {
     "data": {
      "text/html": [
       "<div>\n",
       "<style scoped>\n",
       "    .dataframe tbody tr th:only-of-type {\n",
       "        vertical-align: middle;\n",
       "    }\n",
       "\n",
       "    .dataframe tbody tr th {\n",
       "        vertical-align: top;\n",
       "    }\n",
       "\n",
       "    .dataframe thead th {\n",
       "        text-align: right;\n",
       "    }\n",
       "</style>\n",
       "<table border=\"1\" class=\"dataframe\">\n",
       "  <thead>\n",
       "    <tr style=\"text-align: right;\">\n",
       "      <th></th>\n",
       "      <th>product_id</th>\n",
       "      <th>post_title</th>\n",
       "      <th>post_date</th>\n",
       "      <th>post_modified</th>\n",
       "      <th>onsale_web</th>\n",
       "      <th>sku</th>\n",
       "      <th>stock_quantity</th>\n",
       "      <th>stock_status</th>\n",
       "      <th>price</th>\n",
       "      <th>total_sales</th>\n",
       "      <th>turnover</th>\n",
       "      <th>%_turnover</th>\n",
       "    </tr>\n",
       "  </thead>\n",
       "  <tbody>\n",
       "    <tr>\n",
       "      <th>199</th>\n",
       "      <td>4352</td>\n",
       "      <td>Champagne Egly-Ouriet Grand Cru Millésimé 2008</td>\n",
       "      <td>2018-03-02</td>\n",
       "      <td>2020-03-07</td>\n",
       "      <td>True</td>\n",
       "      <td>15940</td>\n",
       "      <td>0</td>\n",
       "      <td>outofstock</td>\n",
       "      <td>225.0</td>\n",
       "      <td>5.0</td>\n",
       "      <td>1125.0</td>\n",
       "      <td>0.015942</td>\n",
       "    </tr>\n",
       "    <tr>\n",
       "      <th>426</th>\n",
       "      <td>5001</td>\n",
       "      <td>David Duband Charmes-Chambertin Grand Cru 2014</td>\n",
       "      <td>2018-07-17</td>\n",
       "      <td>2020-05-16</td>\n",
       "      <td>True</td>\n",
       "      <td>14581</td>\n",
       "      <td>20</td>\n",
       "      <td>instock</td>\n",
       "      <td>217.5</td>\n",
       "      <td>0.0</td>\n",
       "      <td>0.0</td>\n",
       "      <td>0.000000</td>\n",
       "    </tr>\n",
       "    <tr>\n",
       "      <th>587</th>\n",
       "      <td>5892</td>\n",
       "      <td>Coteaux Champenois Egly-Ouriet Ambonnay Rouge ...</td>\n",
       "      <td>2019-03-28</td>\n",
       "      <td>2020-04-01</td>\n",
       "      <td>True</td>\n",
       "      <td>14983</td>\n",
       "      <td>10</td>\n",
       "      <td>instock</td>\n",
       "      <td>191.3</td>\n",
       "      <td>3.0</td>\n",
       "      <td>573.9</td>\n",
       "      <td>0.008133</td>\n",
       "    </tr>\n",
       "    <tr>\n",
       "      <th>218</th>\n",
       "      <td>4402</td>\n",
       "      <td>Cognac Frapin VIP XO</td>\n",
       "      <td>2018-03-22</td>\n",
       "      <td>2020-08-22</td>\n",
       "      <td>True</td>\n",
       "      <td>3510</td>\n",
       "      <td>8</td>\n",
       "      <td>instock</td>\n",
       "      <td>176.0</td>\n",
       "      <td>13.0</td>\n",
       "      <td>2288.0</td>\n",
       "      <td>0.032422</td>\n",
       "    </tr>\n",
       "    <tr>\n",
       "      <th>553</th>\n",
       "      <td>5767</td>\n",
       "      <td>Camille Giroud Clos de Vougeot 2016</td>\n",
       "      <td>2019-03-13</td>\n",
       "      <td>2020-06-11</td>\n",
       "      <td>True</td>\n",
       "      <td>15185</td>\n",
       "      <td>12</td>\n",
       "      <td>instock</td>\n",
       "      <td>175.0</td>\n",
       "      <td>0.0</td>\n",
       "      <td>0.0</td>\n",
       "      <td>0.000000</td>\n",
       "    </tr>\n",
       "    <tr>\n",
       "      <th>221</th>\n",
       "      <td>4406</td>\n",
       "      <td>Cognac Frapin Château de Fontpinot 1989 20 Ans...</td>\n",
       "      <td>2018-03-22</td>\n",
       "      <td>2020-03-14</td>\n",
       "      <td>True</td>\n",
       "      <td>7819</td>\n",
       "      <td>3</td>\n",
       "      <td>instock</td>\n",
       "      <td>157.0</td>\n",
       "      <td>0.0</td>\n",
       "      <td>0.0</td>\n",
       "      <td>0.000000</td>\n",
       "    </tr>\n",
       "    <tr>\n",
       "      <th>381</th>\n",
       "      <td>4904</td>\n",
       "      <td>Domaine Des Croix Corton Charlemagne Grand Cru...</td>\n",
       "      <td>2018-05-15</td>\n",
       "      <td>2020-05-19</td>\n",
       "      <td>True</td>\n",
       "      <td>14220</td>\n",
       "      <td>13</td>\n",
       "      <td>instock</td>\n",
       "      <td>137.0</td>\n",
       "      <td>5.0</td>\n",
       "      <td>685.0</td>\n",
       "      <td>0.009707</td>\n",
       "    </tr>\n",
       "    <tr>\n",
       "      <th>642</th>\n",
       "      <td>6126</td>\n",
       "      <td>Champagne Gosset Célébris Vintage 2007</td>\n",
       "      <td>2019-06-28</td>\n",
       "      <td>2020-08-27</td>\n",
       "      <td>True</td>\n",
       "      <td>14923</td>\n",
       "      <td>10</td>\n",
       "      <td>instock</td>\n",
       "      <td>135.0</td>\n",
       "      <td>2.0</td>\n",
       "      <td>270.0</td>\n",
       "      <td>0.003826</td>\n",
       "    </tr>\n",
       "    <tr>\n",
       "      <th>201</th>\n",
       "      <td>4355</td>\n",
       "      <td>Champagne Egly-Ouriet Grand Cru Blanc de Noirs</td>\n",
       "      <td>2018-03-02</td>\n",
       "      <td>2020-08-13</td>\n",
       "      <td>True</td>\n",
       "      <td>12589</td>\n",
       "      <td>2</td>\n",
       "      <td>instock</td>\n",
       "      <td>126.5</td>\n",
       "      <td>11.0</td>\n",
       "      <td>1391.5</td>\n",
       "      <td>0.019718</td>\n",
       "    </tr>\n",
       "    <tr>\n",
       "      <th>511</th>\n",
       "      <td>5612</td>\n",
       "      <td>Domaine Weinbach Gewurztraminer Grand Cru Furs...</td>\n",
       "      <td>2019-01-15</td>\n",
       "      <td>2019-01-23</td>\n",
       "      <td>True</td>\n",
       "      <td>14915</td>\n",
       "      <td>12</td>\n",
       "      <td>instock</td>\n",
       "      <td>124.8</td>\n",
       "      <td>0.0</td>\n",
       "      <td>0.0</td>\n",
       "      <td>0.000000</td>\n",
       "    </tr>\n",
       "    <tr>\n",
       "      <th>603</th>\n",
       "      <td>5917</td>\n",
       "      <td>Wemyss Malts Single Cask Scotch Whisky Choc 'n...</td>\n",
       "      <td>2019-04-04</td>\n",
       "      <td>2020-03-11</td>\n",
       "      <td>True</td>\n",
       "      <td>14775</td>\n",
       "      <td>4</td>\n",
       "      <td>instock</td>\n",
       "      <td>122.0</td>\n",
       "      <td>0.0</td>\n",
       "      <td>0.0</td>\n",
       "      <td>0.000000</td>\n",
       "    </tr>\n",
       "    <tr>\n",
       "      <th>654</th>\n",
       "      <td>6213</td>\n",
       "      <td>Domaine des Comtes Lafon Volnay 1er Cru Santen...</td>\n",
       "      <td>2019-07-25</td>\n",
       "      <td>2020-06-25</td>\n",
       "      <td>True</td>\n",
       "      <td>15072</td>\n",
       "      <td>7</td>\n",
       "      <td>instock</td>\n",
       "      <td>121.0</td>\n",
       "      <td>0.0</td>\n",
       "      <td>0.0</td>\n",
       "      <td>0.000000</td>\n",
       "    </tr>\n",
       "    <tr>\n",
       "      <th>657</th>\n",
       "      <td>6216</td>\n",
       "      <td>Domaine des Comtes Lafon Volnay 1er Cru Champa...</td>\n",
       "      <td>2019-07-25</td>\n",
       "      <td>2020-07-30</td>\n",
       "      <td>True</td>\n",
       "      <td>15070</td>\n",
       "      <td>6</td>\n",
       "      <td>instock</td>\n",
       "      <td>121.0</td>\n",
       "      <td>0.0</td>\n",
       "      <td>0.0</td>\n",
       "      <td>0.000000</td>\n",
       "    </tr>\n",
       "    <tr>\n",
       "      <th>648</th>\n",
       "      <td>6202</td>\n",
       "      <td>Domaine Clerget Echezeaux Grand Cru En Orveaux...</td>\n",
       "      <td>2019-07-23</td>\n",
       "      <td>2020-06-06</td>\n",
       "      <td>True</td>\n",
       "      <td>15126</td>\n",
       "      <td>14</td>\n",
       "      <td>instock</td>\n",
       "      <td>116.4</td>\n",
       "      <td>0.0</td>\n",
       "      <td>0.0</td>\n",
       "      <td>0.000000</td>\n",
       "    </tr>\n",
       "    <tr>\n",
       "      <th>653</th>\n",
       "      <td>6212</td>\n",
       "      <td>Domaine des Comtes Lafon Volnay 1er Cru Santen...</td>\n",
       "      <td>2019-07-25</td>\n",
       "      <td>2020-06-16</td>\n",
       "      <td>True</td>\n",
       "      <td>13996</td>\n",
       "      <td>2</td>\n",
       "      <td>instock</td>\n",
       "      <td>115.0</td>\n",
       "      <td>2.0</td>\n",
       "      <td>230.0</td>\n",
       "      <td>0.003259</td>\n",
       "    </tr>\n",
       "  </tbody>\n",
       "</table>\n",
       "</div>"
      ],
      "text/plain": [
       "    product_id                                         post_title  post_date  \\\n",
       "199       4352     Champagne Egly-Ouriet Grand Cru Millésimé 2008 2018-03-02   \n",
       "426       5001     David Duband Charmes-Chambertin Grand Cru 2014 2018-07-17   \n",
       "587       5892  Coteaux Champenois Egly-Ouriet Ambonnay Rouge ... 2019-03-28   \n",
       "218       4402                               Cognac Frapin VIP XO 2018-03-22   \n",
       "553       5767                Camille Giroud Clos de Vougeot 2016 2019-03-13   \n",
       "221       4406  Cognac Frapin Château de Fontpinot 1989 20 Ans... 2018-03-22   \n",
       "381       4904  Domaine Des Croix Corton Charlemagne Grand Cru... 2018-05-15   \n",
       "642       6126             Champagne Gosset Célébris Vintage 2007 2019-06-28   \n",
       "201       4355     Champagne Egly-Ouriet Grand Cru Blanc de Noirs 2018-03-02   \n",
       "511       5612  Domaine Weinbach Gewurztraminer Grand Cru Furs... 2019-01-15   \n",
       "603       5917  Wemyss Malts Single Cask Scotch Whisky Choc 'n... 2019-04-04   \n",
       "654       6213  Domaine des Comtes Lafon Volnay 1er Cru Santen... 2019-07-25   \n",
       "657       6216  Domaine des Comtes Lafon Volnay 1er Cru Champa... 2019-07-25   \n",
       "648       6202  Domaine Clerget Echezeaux Grand Cru En Orveaux... 2019-07-23   \n",
       "653       6212  Domaine des Comtes Lafon Volnay 1er Cru Santen... 2019-07-25   \n",
       "\n",
       "    post_modified  onsale_web    sku  stock_quantity stock_status  price  \\\n",
       "199    2020-03-07        True  15940               0   outofstock  225.0   \n",
       "426    2020-05-16        True  14581              20      instock  217.5   \n",
       "587    2020-04-01        True  14983              10      instock  191.3   \n",
       "218    2020-08-22        True   3510               8      instock  176.0   \n",
       "553    2020-06-11        True  15185              12      instock  175.0   \n",
       "221    2020-03-14        True   7819               3      instock  157.0   \n",
       "381    2020-05-19        True  14220              13      instock  137.0   \n",
       "642    2020-08-27        True  14923              10      instock  135.0   \n",
       "201    2020-08-13        True  12589               2      instock  126.5   \n",
       "511    2019-01-23        True  14915              12      instock  124.8   \n",
       "603    2020-03-11        True  14775               4      instock  122.0   \n",
       "654    2020-06-25        True  15072               7      instock  121.0   \n",
       "657    2020-07-30        True  15070               6      instock  121.0   \n",
       "648    2020-06-06        True  15126              14      instock  116.4   \n",
       "653    2020-06-16        True  13996               2      instock  115.0   \n",
       "\n",
       "     total_sales  turnover  %_turnover  \n",
       "199          5.0    1125.0    0.015942  \n",
       "426          0.0       0.0    0.000000  \n",
       "587          3.0     573.9    0.008133  \n",
       "218         13.0    2288.0    0.032422  \n",
       "553          0.0       0.0    0.000000  \n",
       "221          0.0       0.0    0.000000  \n",
       "381          5.0     685.0    0.009707  \n",
       "642          2.0     270.0    0.003826  \n",
       "201         11.0    1391.5    0.019718  \n",
       "511          0.0       0.0    0.000000  \n",
       "603          0.0       0.0    0.000000  \n",
       "654          0.0       0.0    0.000000  \n",
       "657          0.0       0.0    0.000000  \n",
       "648          0.0       0.0    0.000000  \n",
       "653          2.0     230.0    0.003259  "
      ]
     },
     "execution_count": 66,
     "metadata": {},
     "output_type": "execute_result"
    }
   ],
   "source": [
    "# Calcul de la borne maximale\n",
    "Q1, Q3 = df_final['price'].quantile(0.25), df_final['price'].quantile(0.75)\n",
    "IQR = Q3 - Q1\n",
    "max_boxplot = 1.5 * IQR + Q3\n",
    "\n",
    "# Affichage des 15 outliers avec les prix les plus élevés\n",
    "df_final.loc[(df_final['price'] >= max_boxplot)\n",
    "             & (df_final['price'] <= df_final['price'].max())\n",
    "             ].nlargest(15, 'price')"
   ]
  },
  {
   "cell_type": "code",
   "execution_count": 67,
   "metadata": {},
   "outputs": [],
   "source": [
    "del Q1, Q3, IQR, max_boxplot"
   ]
  },
  {
   "attachments": {},
   "cell_type": "markdown",
   "metadata": {},
   "source": [
    "### Conclusion<a id='4-4'></a>"
   ]
  },
  {
   "attachments": {},
   "cell_type": "markdown",
   "metadata": {},
   "source": [
    "Les prix qui correspondent aux valeurs les plus aberrantes concernent principalement des 1er crus ou des grands crus sur des millésimes assez anciens. On retrouve également du cognac ou encore du whisky. Il semble finalement assez logique que leurs prix soient bien plus élevés que le reste des autres produits mais **ils ne constituent en rien des erreurs**."
   ]
  },
  {
   "attachments": {},
   "cell_type": "markdown",
   "metadata": {},
   "source": [
    "## Pour aller plus loin<a id='5'></a>"
   ]
  },
  {
   "attachments": {},
   "cell_type": "markdown",
   "metadata": {},
   "source": [
    "### Mesures de forme<a id='5-1'></a>"
   ]
  },
  {
   "attachments": {},
   "cell_type": "markdown",
   "metadata": {},
   "source": [
    "Une autre façon d'appréhender la distribution de nos prix aurait pu être d'étudier l'asymétrie et l'aplatissement de nos données grâce au Skewness empirique et au Kurtosis empirique."
   ]
  },
  {
   "cell_type": "code",
   "execution_count": 68,
   "metadata": {},
   "outputs": [
    {
     "name": "stdout",
     "output_type": "stream",
     "text": [
      "Skewness : 2.58\n",
      "Kurtosis : 10.09\n"
     ]
    }
   ],
   "source": [
    "price_skew = df_final['price'].skew()\n",
    "price_kurt = df_final['price'].kurtosis()\n",
    "\n",
    "print(f'Skewness : {price_skew:.2f}\\nKurtosis : {price_kurt:.2f}')\n",
    "\n",
    "del price_skew, price_kurt"
   ]
  },
  {
   "attachments": {},
   "cell_type": "markdown",
   "metadata": {},
   "source": [
    "Le skewness montre que la distribution est asymétrique et qu'elle est étalée à droite car sa valeur est positive.<br>\n",
    "Ici, le kurtosis ne pourra pas nous donner beaucoup d'indications car l'aplatissement ne peut s'interpréter qu'à condition que la distribution soit symétrique."
   ]
  },
  {
   "attachments": {},
   "cell_type": "markdown",
   "metadata": {},
   "source": [
    "### Mesures de concentration<a id='5-2'></a>"
   ]
  },
  {
   "attachments": {},
   "cell_type": "markdown",
   "metadata": {},
   "source": [
    "Pour terminer, revenons au chiffre d'affaires en étudions sa concentration. Cela va nous permettre de vérifier si le chiffre d'affaires est réparti de manière égalitaire entre les produits. Cela revient à voir quel pourcentage de chiffre d'affaires et généré par quel pourcentage de produits. Pour cela, nous allons tracer la courbe de Lorenz."
   ]
  },
  {
   "cell_type": "code",
   "execution_count": 69,
   "metadata": {},
   "outputs": [
    {
     "data": {
      "image/png": "[encoded data removed]",
      "text/plain": [
       "<Figure size 640x480 with 1 Axes>"
      ]
     },
     "metadata": {},
     "output_type": "display_data"
    }
   ],
   "source": [
    "# Données du graphique\n",
    "# Sélection des valeurs de CA > 0\n",
    "turnover = df_final.loc[df_final['turnover'] > 0, 'turnover']\n",
    "# Calcul nombre de valeurs\n",
    "n_turnover = len(turnover)\n",
    "\n",
    "# Calcul CA (tri croissant) cumulé et normalisé (max = 1)\n",
    "cum_turnover = np.cumsum(np.sort(turnover)) / turnover.sum()\n",
    "# Ajout 0 car la courbe commence à 0\n",
    "cum_turnover = np.append([0], cum_turnover)\n",
    "\n",
    "# Calcul cumul nombre de produits\n",
    "cum_product = np.linspace(0-1/n_turnover, 1+1/n_turnover,\n",
    "                                 len(cum_turnover))\n",
    "\n",
    "# Configuration et traçage graphique\n",
    "fig, ax = plt.subplots()\n",
    "\n",
    "ax.plot(cum_product, cum_turnover, drawstyle='steps-post')\n",
    "ax.plot([0, 1], [0, 1])\n",
    "\n",
    "ax.grid(True)\n",
    "ax.xaxis.set_major_formatter(ticker.PercentFormatter(1))\n",
    "ax.yaxis.set_major_formatter(ticker.PercentFormatter(1))\n",
    "\n",
    "ax.set_title('Répartition du chiffre d\\'affaires')\n",
    "ax.set_xlabel('% produits')\n",
    "ax.set_ylabel('% CA')\n",
    "\n",
    "plt.show()\n",
    "\n",
    "del fig, ax"
   ]
  },
  {
   "attachments": {},
   "cell_type": "markdown",
   "metadata": {},
   "source": [
    "On observe facilement que la répartition n'est pas égalitaire. Une des lectures de cette courbe pourrait être: **50 % du chiffre d'affaires** est réalisé par **&#0177;10 % des produits**. Cela tend à rejoindre le constat que nous avions fait lors de l'affichage du [chiffre d'affaires par produit](#3-1).<br>\n",
    "En fin, résumons cette courbe en calculant l'indice de Gini."
   ]
  },
  {
   "cell_type": "code",
   "execution_count": 70,
   "metadata": {},
   "outputs": [
    {
     "name": "stdout",
     "output_type": "stream",
     "text": [
      "Indice de Gini : 0.64\n"
     ]
    }
   ],
   "source": [
    "# Surface sous la courbe de Lorenz.\n",
    "# Le premier segment (cum_turnover[0]) est à moitié en dessous de 0, on le coupe donc en 2.\n",
    "# On fait de même pour le dernier segment cum_turnover[-1] qui est à moitié au-dessus de 1.\n",
    "AUC = (cum_turnover.sum() -\n",
    "       cum_turnover[-1] / 2 - cum_turnover[0] / 2) / n_turnover\n",
    "\n",
    "# Surface entre la première bissectrice et la courbe de Lorenz\n",
    "S = 0.5 - AUC\n",
    "\n",
    "# Gini\n",
    "turnover_gini = 2 * S\n",
    "print(f'Indice de Gini : {turnover_gini:.2f}')\n",
    "\n",
    "del turnover, n_turnover, cum_turnover, cum_product, AUC, S, turnover_gini"
   ]
  },
  {
   "attachments": {},
   "cell_type": "markdown",
   "metadata": {},
   "source": [
    "Un indice nul montre une égalité parfaite et un indice égal à 1 montre une inégalité parfaite. Avec une valeur de 0,64, la répartition du chiffre d'affaires est plutôt inégalitaire. Il pourrait par exemple être intéressant de suivre son évolution au cours du temps mais cela n'est pas possible dans notre cas."
   ]
  }
 ],
 "metadata": {
  "kernelspec": {
   "display_name": "Python 3",
   "language": "python",
   "name": "python3"
  },
  "language_info": {
   "codemirror_mode": {
    "name": "ipython",
    "version": 3
   },
   "file_extension": ".py",
   "mimetype": "text/x-python",
   "name": "python",
   "nbconvert_exporter": "python",
   "pygments_lexer": "ipython3",
   "version": "3.11.2"
  },
  "orig_nbformat": 4
 },
 "nbformat": 4,
 "nbformat_minor": 2
}
