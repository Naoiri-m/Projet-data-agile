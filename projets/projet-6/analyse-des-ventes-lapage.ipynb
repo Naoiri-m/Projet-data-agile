{
 "cells": [
  {
   "cell_type": "code",
   "execution_count": 161,
   "metadata": {},
   "outputs": [],
   "source": [
    "# Importation librairies\n",
    "import numpy as np\n",
    "import pandas as pd\n",
    "import matplotlib.pyplot as plt\n",
    "import matplotlib.dates as mdates\n",
    "import matplotlib.ticker as ticker"
   ]
  },
  {
   "attachments": {},
   "cell_type": "markdown",
   "metadata": {},
   "source": [
    "<img src='./images/logo-lapage-sans-fond.png' width=240px />"
   ]
  },
  {
   "attachments": {},
   "cell_type": "markdown",
   "metadata": {},
   "source": [
    "# Analysez les ventes d'une librairie avec Python"
   ]
  },
  {
   "attachments": {},
   "cell_type": "markdown",
   "metadata": {},
   "source": [
    "Nous sommes consultant *Data Analyst*, rattaché au service Marketing chez Lapage qui est une grande librairie en ligne très réputée. Lapage était originellement une librairie physique avec plusieurs points de vente. Mais devant le succès de certains de ses produits et l’engouement de ses clients, elle a décidé depuis 2 ans d’ouvrir un site de vente en ligne. L’entreprise souhaite faire le point après deux ans d’exercice, et pouvoir analyser ses points forts, ses points faibles, les comportements clients, etc.."
   ]
  },
  {
   "attachments": {},
   "cell_type": "markdown",
   "metadata": {},
   "source": [
    "## Sommaire<a id='0'></a>"
   ]
  },
  {
   "attachments": {},
   "cell_type": "markdown",
   "metadata": {},
   "source": [
    "* [Préparation des données source](#1)\n",
    "    * [Importation](#1-1)\n",
    "    * [Type des données](#1-2)\n",
    "    * [Enregistrements test](#1-3)\n",
    "    * [Valeurs manquantes](#1-4)\n",
    "    * [Doublons ids](#1-5)\n",
    "    * [Cohérence des données](#1-6)\n",
    "    * [Regroupement des bases](#1-7)\n",
    "* [Indicateurs de vente](#2)\n",
    "    * [Chiffre d'affaires](#2-1)"
   ]
  },
  {
   "attachments": {},
   "cell_type": "markdown",
   "metadata": {},
   "source": [
    "## Préparation des données source<a id='1'></a>"
   ]
  },
  {
   "attachments": {},
   "cell_type": "markdown",
   "metadata": {},
   "source": [
    "Un traitement identique est appliqué, si nécessaire, à chaque fichier CSV qui compose la base données :\n",
    "* chargement dans un *DataFrame* ;\n",
    "* vérification de l'importation ;\n",
    "* renommage des variables ;\n",
    "* vérification du type des données ;\n",
    "* suppression des variables inutiles ;\n",
    "* vérification des valeurs manquantes et/ou des doublons.\n",
    "\n",
    "Les *DataFrames* seront ensuite regroupés afin de nous permettre de mener les analyses demandées."
   ]
  },
  {
   "attachments": {},
   "cell_type": "markdown",
   "metadata": {},
   "source": [
    "### Importation<a id='1-1'></a>"
   ]
  },
  {
   "cell_type": "code",
   "execution_count": 162,
   "metadata": {},
   "outputs": [],
   "source": [
    "df_products = pd.read_csv('./datasets/products.csv')\n",
    "df_customers = pd.read_csv('./datasets/customers.csv')\n",
    "df_transactions = pd.read_csv('./datasets/transactions.csv')"
   ]
  },
  {
   "cell_type": "code",
   "execution_count": 163,
   "metadata": {},
   "outputs": [
    {
     "data": {
      "text/html": [
       "<div>\n",
       "<style scoped>\n",
       "    .dataframe tbody tr th:only-of-type {\n",
       "        vertical-align: middle;\n",
       "    }\n",
       "\n",
       "    .dataframe tbody tr th {\n",
       "        vertical-align: top;\n",
       "    }\n",
       "\n",
       "    .dataframe thead th {\n",
       "        text-align: right;\n",
       "    }\n",
       "</style>\n",
       "<table border=\"1\" class=\"dataframe\">\n",
       "  <thead>\n",
       "    <tr style=\"text-align: right;\">\n",
       "      <th></th>\n",
       "      <th>id_prod</th>\n",
       "      <th>price</th>\n",
       "      <th>categ</th>\n",
       "    </tr>\n",
       "  </thead>\n",
       "  <tbody>\n",
       "    <tr>\n",
       "      <th>0</th>\n",
       "      <td>0_1421</td>\n",
       "      <td>19.99</td>\n",
       "      <td>0</td>\n",
       "    </tr>\n",
       "    <tr>\n",
       "      <th>1</th>\n",
       "      <td>0_1368</td>\n",
       "      <td>5.13</td>\n",
       "      <td>0</td>\n",
       "    </tr>\n",
       "    <tr>\n",
       "      <th>2</th>\n",
       "      <td>0_731</td>\n",
       "      <td>17.99</td>\n",
       "      <td>0</td>\n",
       "    </tr>\n",
       "  </tbody>\n",
       "</table>\n",
       "</div>"
      ],
      "text/plain": [
       "  id_prod  price  categ\n",
       "0  0_1421  19.99      0\n",
       "1  0_1368   5.13      0\n",
       "2   0_731  17.99      0"
      ]
     },
     "execution_count": 163,
     "metadata": {},
     "output_type": "execute_result"
    }
   ],
   "source": [
    "df_products.head(3)"
   ]
  },
  {
   "cell_type": "code",
   "execution_count": 164,
   "metadata": {},
   "outputs": [
    {
     "data": {
      "text/html": [
       "<div>\n",
       "<style scoped>\n",
       "    .dataframe tbody tr th:only-of-type {\n",
       "        vertical-align: middle;\n",
       "    }\n",
       "\n",
       "    .dataframe tbody tr th {\n",
       "        vertical-align: top;\n",
       "    }\n",
       "\n",
       "    .dataframe thead th {\n",
       "        text-align: right;\n",
       "    }\n",
       "</style>\n",
       "<table border=\"1\" class=\"dataframe\">\n",
       "  <thead>\n",
       "    <tr style=\"text-align: right;\">\n",
       "      <th></th>\n",
       "      <th>client_id</th>\n",
       "      <th>sex</th>\n",
       "      <th>birth</th>\n",
       "    </tr>\n",
       "  </thead>\n",
       "  <tbody>\n",
       "    <tr>\n",
       "      <th>0</th>\n",
       "      <td>c_4410</td>\n",
       "      <td>f</td>\n",
       "      <td>1967</td>\n",
       "    </tr>\n",
       "    <tr>\n",
       "      <th>1</th>\n",
       "      <td>c_7839</td>\n",
       "      <td>f</td>\n",
       "      <td>1975</td>\n",
       "    </tr>\n",
       "    <tr>\n",
       "      <th>2</th>\n",
       "      <td>c_1699</td>\n",
       "      <td>f</td>\n",
       "      <td>1984</td>\n",
       "    </tr>\n",
       "  </tbody>\n",
       "</table>\n",
       "</div>"
      ],
      "text/plain": [
       "  client_id sex  birth\n",
       "0    c_4410   f   1967\n",
       "1    c_7839   f   1975\n",
       "2    c_1699   f   1984"
      ]
     },
     "execution_count": 164,
     "metadata": {},
     "output_type": "execute_result"
    }
   ],
   "source": [
    "df_customers.head(3)"
   ]
  },
  {
   "cell_type": "code",
   "execution_count": 165,
   "metadata": {},
   "outputs": [
    {
     "data": {
      "text/html": [
       "<div>\n",
       "<style scoped>\n",
       "    .dataframe tbody tr th:only-of-type {\n",
       "        vertical-align: middle;\n",
       "    }\n",
       "\n",
       "    .dataframe tbody tr th {\n",
       "        vertical-align: top;\n",
       "    }\n",
       "\n",
       "    .dataframe thead th {\n",
       "        text-align: right;\n",
       "    }\n",
       "</style>\n",
       "<table border=\"1\" class=\"dataframe\">\n",
       "  <thead>\n",
       "    <tr style=\"text-align: right;\">\n",
       "      <th></th>\n",
       "      <th>id_prod</th>\n",
       "      <th>date</th>\n",
       "      <th>session_id</th>\n",
       "      <th>client_id</th>\n",
       "    </tr>\n",
       "  </thead>\n",
       "  <tbody>\n",
       "    <tr>\n",
       "      <th>0</th>\n",
       "      <td>0_1518</td>\n",
       "      <td>2022-05-20 13:21:29.043970</td>\n",
       "      <td>s_211425</td>\n",
       "      <td>c_103</td>\n",
       "    </tr>\n",
       "    <tr>\n",
       "      <th>1</th>\n",
       "      <td>1_251</td>\n",
       "      <td>2022-02-02 07:55:19.149409</td>\n",
       "      <td>s_158752</td>\n",
       "      <td>c_8534</td>\n",
       "    </tr>\n",
       "    <tr>\n",
       "      <th>2</th>\n",
       "      <td>0_1277</td>\n",
       "      <td>2022-06-18 15:44:33.155329</td>\n",
       "      <td>s_225667</td>\n",
       "      <td>c_6714</td>\n",
       "    </tr>\n",
       "  </tbody>\n",
       "</table>\n",
       "</div>"
      ],
      "text/plain": [
       "  id_prod                        date session_id client_id\n",
       "0  0_1518  2022-05-20 13:21:29.043970   s_211425     c_103\n",
       "1   1_251  2022-02-02 07:55:19.149409   s_158752    c_8534\n",
       "2  0_1277  2022-06-18 15:44:33.155329   s_225667    c_6714"
      ]
     },
     "execution_count": 165,
     "metadata": {},
     "output_type": "execute_result"
    }
   ],
   "source": [
    "df_transactions.head(3)"
   ]
  },
  {
   "attachments": {},
   "cell_type": "markdown",
   "metadata": {},
   "source": [
    "Il ne semble pas y avoir de variables à supprimer. Par contre, pour faciliter la compréhension, les noms de variables abrégés vont être renommés de manière explicite et vont être harmonisés."
   ]
  },
  {
   "cell_type": "code",
   "execution_count": 166,
   "metadata": {},
   "outputs": [],
   "source": [
    "# Renommage variables\n",
    "df_products = df_products.rename(\n",
    "    columns={'id_prod':'product_id', 'categ':'category'})\n",
    "\n",
    "df_customers = df_customers.rename(\n",
    "    columns={'birth':'birth_year'})\n",
    "\n",
    "df_transactions = df_transactions.rename(\n",
    "    columns={'id_prod':'product_id', 'date':'transaction_date'})"
   ]
  },
  {
   "attachments": {},
   "cell_type": "markdown",
   "metadata": {},
   "source": [
    "Voyons les dimensions des jeux de données."
   ]
  },
  {
   "cell_type": "code",
   "execution_count": 167,
   "metadata": {},
   "outputs": [
    {
     "name": "stdout",
     "output_type": "stream",
     "text": [
      "Les dimensions de \"df_products\" sont : (3287, 3)\n",
      "Les dimensions de \"df_customers\" sont : (8623, 3)\n",
      "Les dimensions de \"df_transactions\" sont : (679532, 4)\n"
     ]
    }
   ],
   "source": [
    "# Dimensions DataFrames\n",
    "print(f'Les dimensions de \"df_products\" sont : {df_products.shape}')\n",
    "print(f'Les dimensions de \"df_customers\" sont : {df_customers.shape}')   \n",
    "print(f'Les dimensions de \"df_transactions\" sont : {df_transactions.shape}')"
   ]
  },
  {
   "attachments": {},
   "cell_type": "markdown",
   "metadata": {},
   "source": [
    "### Type des données<a id='1-2'></a>"
   ]
  },
  {
   "cell_type": "code",
   "execution_count": 168,
   "metadata": {},
   "outputs": [
    {
     "data": {
      "text/plain": [
       "product_id     object\n",
       "price         float64\n",
       "category        int64\n",
       "dtype: object"
      ]
     },
     "execution_count": 168,
     "metadata": {},
     "output_type": "execute_result"
    }
   ],
   "source": [
    "df_products.dtypes"
   ]
  },
  {
   "attachments": {},
   "cell_type": "markdown",
   "metadata": {},
   "source": [
    "\"category\" est une variable quantitative qui prend un nombre fini de valeurs, nous allons changer sont en \"category\" justement."
   ]
  },
  {
   "cell_type": "code",
   "execution_count": 169,
   "metadata": {},
   "outputs": [],
   "source": [
    "df_products['category'] = df_products['category'].astype('category')"
   ]
  },
  {
   "cell_type": "code",
   "execution_count": 170,
   "metadata": {},
   "outputs": [
    {
     "data": {
      "text/plain": [
       "client_id     object\n",
       "sex           object\n",
       "birth_year     int64\n",
       "dtype: object"
      ]
     },
     "execution_count": 170,
     "metadata": {},
     "output_type": "execute_result"
    }
   ],
   "source": [
    "df_customers.dtypes"
   ]
  },
  {
   "attachments": {},
   "cell_type": "markdown",
   "metadata": {},
   "source": [
    "Pour la même raison, la même modification va être faite pour \"sex\" et \"birth_year\"."
   ]
  },
  {
   "cell_type": "code",
   "execution_count": 171,
   "metadata": {},
   "outputs": [],
   "source": [
    "df_customers['sex'] = df_customers['sex'].astype('category')\n",
    "df_customers['birth_year'] = df_customers['birth_year'].astype('category')"
   ]
  },
  {
   "cell_type": "code",
   "execution_count": 172,
   "metadata": {},
   "outputs": [
    {
     "data": {
      "text/plain": [
       "product_id          object\n",
       "transaction_date    object\n",
       "session_id          object\n",
       "client_id           object\n",
       "dtype: object"
      ]
     },
     "execution_count": 172,
     "metadata": {},
     "output_type": "execute_result"
    }
   ],
   "source": [
    "df_transactions.dtypes"
   ]
  },
  {
   "attachments": {},
   "cell_type": "markdown",
   "metadata": {},
   "source": [
    "Ici, seule la date n'est pas dans le bon format."
   ]
  },
  {
   "cell_type": "code",
   "execution_count": 173,
   "metadata": {},
   "outputs": [
    {
     "name": "stdout",
     "output_type": "stream",
     "text": [
      "Unknown string format: test_2021-03-01 02:30:02.237419 present at position 3019\n"
     ]
    }
   ],
   "source": [
    "try:\n",
    "    df_transactions['transaction_date'] = pd.to_datetime(\n",
    "        df_transactions['transaction_date'])\n",
    "except ValueError as erreur:\n",
    "    print(erreur)"
   ]
  },
  {
   "attachments": {},
   "cell_type": "markdown",
   "metadata": {},
   "source": [
    "La conversion a échoué et on constate que la ligne 3019 ligne contient la mention \"test_\" avant la date. Voyons si d'autres lignes sont concernées."
   ]
  },
  {
   "cell_type": "code",
   "execution_count": 174,
   "metadata": {},
   "outputs": [
    {
     "data": {
      "text/html": [
       "<div>\n",
       "<style scoped>\n",
       "    .dataframe tbody tr th:only-of-type {\n",
       "        vertical-align: middle;\n",
       "    }\n",
       "\n",
       "    .dataframe tbody tr th {\n",
       "        vertical-align: top;\n",
       "    }\n",
       "\n",
       "    .dataframe thead th {\n",
       "        text-align: right;\n",
       "    }\n",
       "</style>\n",
       "<table border=\"1\" class=\"dataframe\">\n",
       "  <thead>\n",
       "    <tr style=\"text-align: right;\">\n",
       "      <th></th>\n",
       "      <th>product_id</th>\n",
       "      <th>transaction_date</th>\n",
       "      <th>session_id</th>\n",
       "      <th>client_id</th>\n",
       "    </tr>\n",
       "  </thead>\n",
       "  <tbody>\n",
       "    <tr>\n",
       "      <th>3019</th>\n",
       "      <td>T_0</td>\n",
       "      <td>test_2021-03-01 02:30:02.237419</td>\n",
       "      <td>s_0</td>\n",
       "      <td>ct_0</td>\n",
       "    </tr>\n",
       "    <tr>\n",
       "      <th>5138</th>\n",
       "      <td>T_0</td>\n",
       "      <td>test_2021-03-01 02:30:02.237425</td>\n",
       "      <td>s_0</td>\n",
       "      <td>ct_0</td>\n",
       "    </tr>\n",
       "    <tr>\n",
       "      <th>9668</th>\n",
       "      <td>T_0</td>\n",
       "      <td>test_2021-03-01 02:30:02.237437</td>\n",
       "      <td>s_0</td>\n",
       "      <td>ct_1</td>\n",
       "    </tr>\n",
       "    <tr>\n",
       "      <th>10728</th>\n",
       "      <td>T_0</td>\n",
       "      <td>test_2021-03-01 02:30:02.237436</td>\n",
       "      <td>s_0</td>\n",
       "      <td>ct_0</td>\n",
       "    </tr>\n",
       "    <tr>\n",
       "      <th>15292</th>\n",
       "      <td>T_0</td>\n",
       "      <td>test_2021-03-01 02:30:02.237430</td>\n",
       "      <td>s_0</td>\n",
       "      <td>ct_0</td>\n",
       "    </tr>\n",
       "    <tr>\n",
       "      <th>...</th>\n",
       "      <td>...</td>\n",
       "      <td>...</td>\n",
       "      <td>...</td>\n",
       "      <td>...</td>\n",
       "    </tr>\n",
       "    <tr>\n",
       "      <th>657830</th>\n",
       "      <td>T_0</td>\n",
       "      <td>test_2021-03-01 02:30:02.237417</td>\n",
       "      <td>s_0</td>\n",
       "      <td>ct_0</td>\n",
       "    </tr>\n",
       "    <tr>\n",
       "      <th>662081</th>\n",
       "      <td>T_0</td>\n",
       "      <td>test_2021-03-01 02:30:02.237427</td>\n",
       "      <td>s_0</td>\n",
       "      <td>ct_1</td>\n",
       "    </tr>\n",
       "    <tr>\n",
       "      <th>670680</th>\n",
       "      <td>T_0</td>\n",
       "      <td>test_2021-03-01 02:30:02.237449</td>\n",
       "      <td>s_0</td>\n",
       "      <td>ct_1</td>\n",
       "    </tr>\n",
       "    <tr>\n",
       "      <th>671647</th>\n",
       "      <td>T_0</td>\n",
       "      <td>test_2021-03-01 02:30:02.237424</td>\n",
       "      <td>s_0</td>\n",
       "      <td>ct_1</td>\n",
       "    </tr>\n",
       "    <tr>\n",
       "      <th>679180</th>\n",
       "      <td>T_0</td>\n",
       "      <td>test_2021-03-01 02:30:02.237425</td>\n",
       "      <td>s_0</td>\n",
       "      <td>ct_1</td>\n",
       "    </tr>\n",
       "  </tbody>\n",
       "</table>\n",
       "<p>200 rows × 4 columns</p>\n",
       "</div>"
      ],
      "text/plain": [
       "       product_id                 transaction_date session_id client_id\n",
       "3019          T_0  test_2021-03-01 02:30:02.237419        s_0      ct_0\n",
       "5138          T_0  test_2021-03-01 02:30:02.237425        s_0      ct_0\n",
       "9668          T_0  test_2021-03-01 02:30:02.237437        s_0      ct_1\n",
       "10728         T_0  test_2021-03-01 02:30:02.237436        s_0      ct_0\n",
       "15292         T_0  test_2021-03-01 02:30:02.237430        s_0      ct_0\n",
       "...           ...                              ...        ...       ...\n",
       "657830        T_0  test_2021-03-01 02:30:02.237417        s_0      ct_0\n",
       "662081        T_0  test_2021-03-01 02:30:02.237427        s_0      ct_1\n",
       "670680        T_0  test_2021-03-01 02:30:02.237449        s_0      ct_1\n",
       "671647        T_0  test_2021-03-01 02:30:02.237424        s_0      ct_1\n",
       "679180        T_0  test_2021-03-01 02:30:02.237425        s_0      ct_1\n",
       "\n",
       "[200 rows x 4 columns]"
      ]
     },
     "execution_count": 174,
     "metadata": {},
     "output_type": "execute_result"
    }
   ],
   "source": [
    "df_transactions.query('transaction_date.str.contains(\\'test\\')')"
   ]
  },
  {
   "attachments": {},
   "cell_type": "markdown",
   "metadata": {},
   "source": [
    "200 lignes correspondent à des tests. Supprimons-les pour ne pas fausser les futures analyses puis, revenons au traitement de la date.<br>\n",
    "&#9888; Notons qu'il existe également un ou des produit(s) test (\"T_\") et des clients test (\"ct_\") qu'il faudra supprimer des *DataFrames* concernés."
   ]
  },
  {
   "cell_type": "code",
   "execution_count": 175,
   "metadata": {},
   "outputs": [],
   "source": [
    "# Suppression lignes de test\n",
    "df_transactions = df_transactions.drop(\n",
    "    df_transactions.query('transaction_date.str.contains(\\'test\\')').index\n",
    ").reset_index(drop=True)\n",
    "\n",
    "# Conversion date\n",
    "df_transactions['transaction_date'] =  pd.to_datetime(\n",
    "    df_transactions['transaction_date'])"
   ]
  },
  {
   "attachments": {},
   "cell_type": "markdown",
   "metadata": {},
   "source": [
    "### Enregistrements test<a id='1-3'></a>"
   ]
  },
  {
   "attachments": {},
   "cell_type": "markdown",
   "metadata": {},
   "source": [
    "Nous avons trouvé dans les transactions des lignes qui correspondent à des tests. On doit retrouver les produits et clients correspondant dans leur *DataFrame* respectif."
   ]
  },
  {
   "cell_type": "code",
   "execution_count": 176,
   "metadata": {},
   "outputs": [
    {
     "data": {
      "text/html": [
       "<div>\n",
       "<style scoped>\n",
       "    .dataframe tbody tr th:only-of-type {\n",
       "        vertical-align: middle;\n",
       "    }\n",
       "\n",
       "    .dataframe tbody tr th {\n",
       "        vertical-align: top;\n",
       "    }\n",
       "\n",
       "    .dataframe thead th {\n",
       "        text-align: right;\n",
       "    }\n",
       "</style>\n",
       "<table border=\"1\" class=\"dataframe\">\n",
       "  <thead>\n",
       "    <tr style=\"text-align: right;\">\n",
       "      <th></th>\n",
       "      <th>product_id</th>\n",
       "      <th>price</th>\n",
       "      <th>category</th>\n",
       "    </tr>\n",
       "  </thead>\n",
       "  <tbody>\n",
       "    <tr>\n",
       "      <th>731</th>\n",
       "      <td>T_0</td>\n",
       "      <td>-1.0</td>\n",
       "      <td>0</td>\n",
       "    </tr>\n",
       "  </tbody>\n",
       "</table>\n",
       "</div>"
      ],
      "text/plain": [
       "    product_id  price category\n",
       "731        T_0   -1.0        0"
      ]
     },
     "execution_count": 176,
     "metadata": {},
     "output_type": "execute_result"
    }
   ],
   "source": [
    "df_products.query('product_id.str.contains(\\'T\\')')"
   ]
  },
  {
   "cell_type": "code",
   "execution_count": 177,
   "metadata": {},
   "outputs": [
    {
     "data": {
      "text/html": [
       "<div>\n",
       "<style scoped>\n",
       "    .dataframe tbody tr th:only-of-type {\n",
       "        vertical-align: middle;\n",
       "    }\n",
       "\n",
       "    .dataframe tbody tr th {\n",
       "        vertical-align: top;\n",
       "    }\n",
       "\n",
       "    .dataframe thead th {\n",
       "        text-align: right;\n",
       "    }\n",
       "</style>\n",
       "<table border=\"1\" class=\"dataframe\">\n",
       "  <thead>\n",
       "    <tr style=\"text-align: right;\">\n",
       "      <th></th>\n",
       "      <th>client_id</th>\n",
       "      <th>sex</th>\n",
       "      <th>birth_year</th>\n",
       "    </tr>\n",
       "  </thead>\n",
       "  <tbody>\n",
       "    <tr>\n",
       "      <th>2735</th>\n",
       "      <td>ct_0</td>\n",
       "      <td>f</td>\n",
       "      <td>2001</td>\n",
       "    </tr>\n",
       "    <tr>\n",
       "      <th>8494</th>\n",
       "      <td>ct_1</td>\n",
       "      <td>m</td>\n",
       "      <td>2001</td>\n",
       "    </tr>\n",
       "  </tbody>\n",
       "</table>\n",
       "</div>"
      ],
      "text/plain": [
       "     client_id sex birth_year\n",
       "2735      ct_0   f       2001\n",
       "8494      ct_1   m       2001"
      ]
     },
     "execution_count": 177,
     "metadata": {},
     "output_type": "execute_result"
    }
   ],
   "source": [
    "df_customers.query('client_id.str.contains(\\'ct\\')')"
   ]
  },
  {
   "attachments": {},
   "cell_type": "markdown",
   "metadata": {},
   "source": [
    "Il y a donc un produit test, un client test féminin et un client test masculin à supprimer."
   ]
  },
  {
   "cell_type": "code",
   "execution_count": 178,
   "metadata": {},
   "outputs": [],
   "source": [
    "# Suppression des tests\n",
    "df_products = df_products.drop(\n",
    "    df_products.query('product_id.str.contains(\\'T\\')').index\n",
    "    ).reset_index(drop=True)\n",
    "\n",
    "df_customers = df_customers.drop(\n",
    "    df_customers.query('client_id.str.contains(\\'ct\\')').index\n",
    "    ).reset_index(drop=True)"
   ]
  },
  {
   "attachments": {},
   "cell_type": "markdown",
   "metadata": {},
   "source": [
    "### Valeurs manquantes<a id='1-4'></a>"
   ]
  },
  {
   "cell_type": "code",
   "execution_count": 179,
   "metadata": {},
   "outputs": [
    {
     "name": "stdout",
     "output_type": "stream",
     "text": [
      "Nombre de valeurs manquantes dans \"df_products\" : 0.\n",
      "Nombre de valeurs manquantes dans \"df_customers\" : 0.\n",
      "Nombre de valeurs manquantes dans \"df_transactions\" : 0.\n"
     ]
    }
   ],
   "source": [
    "na_products = df_products.isna().sum().sum()\n",
    "print(f'Nombre de valeurs manquantes dans \"df_products\" : {na_products}.')\n",
    "\n",
    "na_customers = df_customers.isna().sum().sum()\n",
    "print(f'Nombre de valeurs manquantes dans \"df_customers\" : {na_customers}.')\n",
    "\n",
    "na_transactions = df_transactions.isna().sum().sum()\n",
    "print(f'Nombre de valeurs manquantes dans \"df_transactions\" : {na_transactions}.')\n",
    "\n",
    "del na_products, na_customers, na_transactions"
   ]
  },
  {
   "attachments": {},
   "cell_type": "markdown",
   "metadata": {},
   "source": [
    "Tous nos jeux de données sont complets."
   ]
  },
  {
   "attachments": {},
   "cell_type": "markdown",
   "metadata": {},
   "source": [
    "### Doublons ids<a id='1-5'></a>"
   ]
  },
  {
   "cell_type": "code",
   "execution_count": 180,
   "metadata": {},
   "outputs": [
    {
     "name": "stdout",
     "output_type": "stream",
     "text": [
      "Nombre de doublons dans \"df_products\" : 0.\n",
      "Nombre de doublons dans \"df_customers\" : 0.\n",
      "Nombre de doublons dans \"df_transactions\" : 0.\n"
     ]
    }
   ],
   "source": [
    "duplicate_products = df_products.duplicated(subset='product_id').sum()\n",
    "print(f'Nombre de doublons dans \"df_products\" : {duplicate_products}.')\n",
    "\n",
    "duplicate_customers = df_customers.duplicated(subset='client_id').sum()\n",
    "print(f'Nombre de doublons dans \"df_customers\" : {duplicate_customers}.')\n",
    "\n",
    "# On vérifie que les transactions sont uniques à une date donnée\n",
    "duplicate_transactions = df_transactions.duplicated(\n",
    "    subset=['session_id', 'transaction_date']\n",
    ").sum()\n",
    "print(f'Nombre de doublons dans \"df_transactions\" : {duplicate_transactions}.')\n",
    "\n",
    "del duplicate_products, duplicate_customers, duplicate_transactions"
   ]
  },
  {
   "attachments": {},
   "cell_type": "markdown",
   "metadata": {},
   "source": [
    "### Cohérence des données<a id='1-6'></a>"
   ]
  },
  {
   "attachments": {},
   "cell_type": "markdown",
   "metadata": {},
   "source": [
    "* Les catégories des produits sont-elles en nombre limité et y-a-t'il des valeurs qui semblent incohérentes?"
   ]
  },
  {
   "cell_type": "code",
   "execution_count": 181,
   "metadata": {},
   "outputs": [
    {
     "name": "stdout",
     "output_type": "stream",
     "text": [
      "Les différentes catégories sont : [0, 1, 2].\n"
     ]
    }
   ],
   "source": [
    "categories =  df_products['category'].unique().tolist()\n",
    "print(f'Les différentes catégories sont : {categories}.')\n",
    "del categories"
   ]
  },
  {
   "attachments": {},
   "cell_type": "markdown",
   "metadata": {},
   "source": [
    "* Le premier caractère de \"product_id\" correspond à la catégorie du produit?"
   ]
  },
  {
   "cell_type": "code",
   "execution_count": 182,
   "metadata": {},
   "outputs": [
    {
     "name": "stdout",
     "output_type": "stream",
     "text": [
      "Le premier caractère de \"product_id\" est la catégorie : True.\n"
     ]
    }
   ],
   "source": [
    "test_id_category = (df_products['product_id'].str[0].astype('int')\n",
    "                    == df_products['category'].astype('int')).all()\n",
    "print(f'Le premier caractère de \"product_id\" est la catégorie : {test_id_category}.')\n",
    "del test_id_category"
   ]
  },
  {
   "attachments": {},
   "cell_type": "markdown",
   "metadata": {},
   "source": [
    "* Des produits ont-ils un prix inférieur ou égal à 0?"
   ]
  },
  {
   "cell_type": "code",
   "execution_count": 183,
   "metadata": {},
   "outputs": [
    {
     "name": "stdout",
     "output_type": "stream",
     "text": [
      "Tous les prix sont bien ≥ 0 : True.\n"
     ]
    }
   ],
   "source": [
    "test_price = (df_products['price'] <= 0).any()\n",
    "print(f'Tous les prix sont bien ≥ 0 : {~test_price}.')\n",
    "del test_price"
   ]
  },
  {
   "attachments": {},
   "cell_type": "markdown",
   "metadata": {},
   "source": [
    "* Le sexe des clients est-il toujours soit \"f\", soit \"m\"?"
   ]
  },
  {
   "cell_type": "code",
   "execution_count": 184,
   "metadata": {},
   "outputs": [
    {
     "name": "stdout",
     "output_type": "stream",
     "text": [
      "Les différentes valeurs de \"sex\" sont : ['f', 'm'].\n"
     ]
    }
   ],
   "source": [
    "genders = df_customers['sex'].unique().tolist()\n",
    "print(f'Les différentes valeurs de \"sex\" sont : {genders}.')\n",
    "del genders"
   ]
  },
  {
   "attachments": {},
   "cell_type": "markdown",
   "metadata": {},
   "source": [
    "* Les années de naissances des clients sont-elles cohérentes?"
   ]
  },
  {
   "cell_type": "code",
   "execution_count": 185,
   "metadata": {},
   "outputs": [
    {
     "data": {
      "text/plain": [
       "[1929, 1930, 1931, 1932, 1933, ..., 2000, 2001, 2002, 2003, 2004]\n",
       "Length: 76\n",
       "Categories (76, int64): [1929, 1930, 1931, 1932, ..., 2001, 2002, 2003, 2004]"
      ]
     },
     "execution_count": 185,
     "metadata": {},
     "output_type": "execute_result"
    }
   ],
   "source": [
    "df_customers['birth_year'].unique().sort_values()"
   ]
  },
  {
   "attachments": {},
   "cell_type": "markdown",
   "metadata": {},
   "source": [
    "Tout semble correct: les valeurs sont comprises entre 1929 et 2004 et il n'y a que des années composées de quatre chiffres."
   ]
  },
  {
   "attachments": {},
   "cell_type": "markdown",
   "metadata": {},
   "source": [
    "* Les transactions sont-elles enregistrées sur des années qui correspondent à la date d'ouverture du site en ligne?"
   ]
  },
  {
   "cell_type": "code",
   "execution_count": 186,
   "metadata": {},
   "outputs": [
    {
     "data": {
      "text/plain": [
       "2021    278335\n",
       "2022    346500\n",
       "2023     54497\n",
       "Name: transaction_date, dtype: int64"
      ]
     },
     "execution_count": 186,
     "metadata": {},
     "output_type": "execute_result"
    }
   ],
   "source": [
    "df_transactions['transaction_date'].dt.year.value_counts().sort_index()"
   ]
  },
  {
   "attachments": {},
   "cell_type": "markdown",
   "metadata": {},
   "source": [
    "Le site a ouvert il y a deux ans et il y a des transactions sur trois années. Vérifions qu'il n'y a bien que deux ans d'enregistrements."
   ]
  },
  {
   "cell_type": "code",
   "execution_count": 187,
   "metadata": {},
   "outputs": [
    {
     "name": "stdout",
     "output_type": "stream",
     "text": [
      "Date du premier enregistrement : 2021-03-01 00:01:07.843138.\n",
      "Date du dernier enregistrement : 2023-02-28 23:58:30.792755.\n"
     ]
    }
   ],
   "source": [
    "first_date = df_transactions['transaction_date'].min()\n",
    "last_date = df_transactions['transaction_date'].max()\n",
    "print(\n",
    "    f'Date du premier enregistrement : {first_date}.\\n'\n",
    "    f'Date du dernier enregistrement : {last_date}.'\n",
    ")\n",
    "del first_date, last_date"
   ]
  },
  {
   "attachments": {},
   "cell_type": "markdown",
   "metadata": {},
   "source": [
    "Le site n'a pas été mis en ligne au mois de janvier ce qui explique qu'il y ait trois années dans les données."
   ]
  },
  {
   "attachments": {},
   "cell_type": "markdown",
   "metadata": {},
   "source": [
    "### Regroupement des bases<a id='1-7'></a>"
   ]
  },
  {
   "attachments": {},
   "cell_type": "markdown",
   "metadata": {},
   "source": [
    "On ajoute aux transactions les informations concernant les produits et les clients dans un nouveau *DataFrame* appelé `df_final`."
   ]
  },
  {
   "cell_type": "code",
   "execution_count": 188,
   "metadata": {},
   "outputs": [
    {
     "data": {
      "text/html": [
       "<div>\n",
       "<style scoped>\n",
       "    .dataframe tbody tr th:only-of-type {\n",
       "        vertical-align: middle;\n",
       "    }\n",
       "\n",
       "    .dataframe tbody tr th {\n",
       "        vertical-align: top;\n",
       "    }\n",
       "\n",
       "    .dataframe thead th {\n",
       "        text-align: right;\n",
       "    }\n",
       "</style>\n",
       "<table border=\"1\" class=\"dataframe\">\n",
       "  <thead>\n",
       "    <tr style=\"text-align: right;\">\n",
       "      <th></th>\n",
       "      <th>product_id</th>\n",
       "      <th>transaction_date</th>\n",
       "      <th>session_id</th>\n",
       "      <th>client_id</th>\n",
       "      <th>price</th>\n",
       "      <th>category</th>\n",
       "      <th>sex</th>\n",
       "      <th>birth_year</th>\n",
       "    </tr>\n",
       "  </thead>\n",
       "  <tbody>\n",
       "    <tr>\n",
       "      <th>0</th>\n",
       "      <td>0_1518</td>\n",
       "      <td>2022-05-20 13:21:29.043970</td>\n",
       "      <td>s_211425</td>\n",
       "      <td>c_103</td>\n",
       "      <td>4.18</td>\n",
       "      <td>0</td>\n",
       "      <td>f</td>\n",
       "      <td>1986</td>\n",
       "    </tr>\n",
       "    <tr>\n",
       "      <th>1</th>\n",
       "      <td>1_251</td>\n",
       "      <td>2022-02-02 07:55:19.149409</td>\n",
       "      <td>s_158752</td>\n",
       "      <td>c_8534</td>\n",
       "      <td>15.99</td>\n",
       "      <td>1</td>\n",
       "      <td>m</td>\n",
       "      <td>1988</td>\n",
       "    </tr>\n",
       "    <tr>\n",
       "      <th>2</th>\n",
       "      <td>0_1277</td>\n",
       "      <td>2022-06-18 15:44:33.155329</td>\n",
       "      <td>s_225667</td>\n",
       "      <td>c_6714</td>\n",
       "      <td>7.99</td>\n",
       "      <td>0</td>\n",
       "      <td>f</td>\n",
       "      <td>1968</td>\n",
       "    </tr>\n",
       "  </tbody>\n",
       "</table>\n",
       "</div>"
      ],
      "text/plain": [
       "  product_id           transaction_date session_id client_id  price category  \\\n",
       "0     0_1518 2022-05-20 13:21:29.043970   s_211425     c_103   4.18        0   \n",
       "1      1_251 2022-02-02 07:55:19.149409   s_158752    c_8534  15.99        1   \n",
       "2     0_1277 2022-06-18 15:44:33.155329   s_225667    c_6714   7.99        0   \n",
       "\n",
       "  sex birth_year  \n",
       "0   f       1986  \n",
       "1   m       1988  \n",
       "2   f       1968  "
      ]
     },
     "execution_count": 188,
     "metadata": {},
     "output_type": "execute_result"
    }
   ],
   "source": [
    "# Ajout des informations produits\n",
    "df_final = pd.merge((df_transactions), (df_products), on =['product_id'], how ='left')\n",
    "\n",
    "# Ajout des informations clients\n",
    "df_final = pd.merge((df_final), (df_customers), on =['client_id'], how ='left')\n",
    "\n",
    "df_final.head(3)"
   ]
  },
  {
   "attachments": {},
   "cell_type": "markdown",
   "metadata": {},
   "source": [
    "Les données semblent correctes, voyons la taille du nouveau jeu de données."
   ]
  },
  {
   "cell_type": "code",
   "execution_count": 189,
   "metadata": {},
   "outputs": [
    {
     "name": "stdout",
     "output_type": "stream",
     "text": [
      "Les dimensions de \"df_final\" sont: (679332, 8)\n"
     ]
    }
   ],
   "source": [
    "print(f'Les dimensions de \"df_final\" sont: {df_final.shape}')"
   ]
  },
  {
   "attachments": {},
   "cell_type": "markdown",
   "metadata": {},
   "source": [
    "Le nombre de lignes est bon. `df_transactions` avait 679532 enregistrements desquels nous avons supprimé 200 test.<br>\n",
    "Pour faciliter la lecture, nous allons réorganiser l'ordre des colonnes."
   ]
  },
  {
   "cell_type": "code",
   "execution_count": 190,
   "metadata": {},
   "outputs": [],
   "source": [
    "df_final = df_final[\n",
    "    ['session_id',\n",
    "    'transaction_date',\n",
    "    'product_id',\n",
    "    'category',\n",
    "    'price',\n",
    "    'client_id',\n",
    "    'sex',\n",
    "    'birth_year']\n",
    "]"
   ]
  },
  {
   "attachments": {},
   "cell_type": "markdown",
   "metadata": {},
   "source": [
    "En fin, vérifions si il y a des valeurs manquantes."
   ]
  },
  {
   "cell_type": "code",
   "execution_count": 191,
   "metadata": {},
   "outputs": [
    {
     "data": {
      "text/plain": [
       "session_id            0\n",
       "transaction_date      0\n",
       "product_id            0\n",
       "category            221\n",
       "price               221\n",
       "client_id             0\n",
       "sex                   0\n",
       "birth_year            0\n",
       "dtype: int64"
      ]
     },
     "execution_count": 191,
     "metadata": {},
     "output_type": "execute_result"
    }
   ],
   "source": [
    "df_final.isna().sum()"
   ]
  },
  {
   "attachments": {},
   "cell_type": "markdown",
   "metadata": {},
   "source": [
    "221 enregistrements n'ont ni prix, ni catégorie. Voyons combien de produits sont concernés."
   ]
  },
  {
   "cell_type": "code",
   "execution_count": 192,
   "metadata": {},
   "outputs": [
    {
     "name": "stdout",
     "output_type": "stream",
     "text": [
      "Il y a 1 produit(s) non renseigné(s) sur 3266.\n",
      "Cela représente 0.033% des transactions.\n"
     ]
    }
   ],
   "source": [
    "# Calcul nombre de produits sans prix/catégorie\n",
    "products_na = df_final['product_id'].isna().nunique()\n",
    "products_sum = df_final['product_id'].nunique()\n",
    "print(f'Il y a {products_na} produit(s) non renseigné(s) sur {products_sum}.')\n",
    "\n",
    "# Calcul pourcentage transactions concernées\n",
    "pct_transactions_na = (df_final.isna().any(axis='columns').sum()\n",
    "                       / len(df_final.index))\n",
    "print(f'Cela représente {pct_transactions_na:.3%} des transactions.')\n",
    "\n",
    "del products_na, products_sum, pct_transactions_na"
   ]
  },
  {
   "attachments": {},
   "cell_type": "markdown",
   "metadata": {},
   "source": [
    "Supprimer ces lignes n'aura donc pas d'impact sur les analyses."
   ]
  },
  {
   "cell_type": "code",
   "execution_count": 193,
   "metadata": {},
   "outputs": [],
   "source": [
    "df_final = df_final.dropna(axis='rows', how='any').reset_index(drop=True)"
   ]
  },
  {
   "attachments": {},
   "cell_type": "markdown",
   "metadata": {},
   "source": [
    "Le jeu de données final est prêt. Les *DataFrames* sources ne sont plus utiles, on peut les supprimer."
   ]
  },
  {
   "cell_type": "code",
   "execution_count": 194,
   "metadata": {},
   "outputs": [],
   "source": [
    "del df_products, df_customers, df_transactions"
   ]
  },
  {
   "attachments": {},
   "cell_type": "markdown",
   "metadata": {},
   "source": [
    "## Indicateurs de vente<a id='2'></a>"
   ]
  },
  {
   "attachments": {},
   "cell_type": "markdown",
   "metadata": {},
   "source": [
    "* indicateurs et graphiques autour du chiffre d'affaires\n",
    "* l’évolution dans le temps et mettre en place une décomposition en moyenne mobile pour évaluer la tendance globale\n",
    "* faire un zoom sur les références, pour voir un peu les tops et les flops, la répartition par catégorie, etc.\n",
    "* quelques informations sur les profils de nos clients, et également la répartition du chiffre d'affaires entre eux, via par exemple une courbe de Lorenz\n",
    "* heatmap traffic horaire"
   ]
  },
  {
   "cell_type": "code",
   "execution_count": 195,
   "metadata": {},
   "outputs": [
    {
     "data": {
      "text/html": [
       "<div>\n",
       "<style scoped>\n",
       "    .dataframe tbody tr th:only-of-type {\n",
       "        vertical-align: middle;\n",
       "    }\n",
       "\n",
       "    .dataframe tbody tr th {\n",
       "        vertical-align: top;\n",
       "    }\n",
       "\n",
       "    .dataframe thead th {\n",
       "        text-align: right;\n",
       "    }\n",
       "</style>\n",
       "<table border=\"1\" class=\"dataframe\">\n",
       "  <thead>\n",
       "    <tr style=\"text-align: right;\">\n",
       "      <th></th>\n",
       "      <th>session_id</th>\n",
       "      <th>transaction_date</th>\n",
       "      <th>product_id</th>\n",
       "      <th>category</th>\n",
       "      <th>price</th>\n",
       "      <th>client_id</th>\n",
       "      <th>sex</th>\n",
       "      <th>birth_year</th>\n",
       "    </tr>\n",
       "  </thead>\n",
       "  <tbody>\n",
       "    <tr>\n",
       "      <th>0</th>\n",
       "      <td>s_211425</td>\n",
       "      <td>2022-05-20 13:21:29.043970</td>\n",
       "      <td>0_1518</td>\n",
       "      <td>0</td>\n",
       "      <td>4.18</td>\n",
       "      <td>c_103</td>\n",
       "      <td>f</td>\n",
       "      <td>1986</td>\n",
       "    </tr>\n",
       "    <tr>\n",
       "      <th>1</th>\n",
       "      <td>s_158752</td>\n",
       "      <td>2022-02-02 07:55:19.149409</td>\n",
       "      <td>1_251</td>\n",
       "      <td>1</td>\n",
       "      <td>15.99</td>\n",
       "      <td>c_8534</td>\n",
       "      <td>m</td>\n",
       "      <td>1988</td>\n",
       "    </tr>\n",
       "    <tr>\n",
       "      <th>2</th>\n",
       "      <td>s_225667</td>\n",
       "      <td>2022-06-18 15:44:33.155329</td>\n",
       "      <td>0_1277</td>\n",
       "      <td>0</td>\n",
       "      <td>7.99</td>\n",
       "      <td>c_6714</td>\n",
       "      <td>f</td>\n",
       "      <td>1968</td>\n",
       "    </tr>\n",
       "  </tbody>\n",
       "</table>\n",
       "</div>"
      ],
      "text/plain": [
       "  session_id           transaction_date product_id category  price client_id  \\\n",
       "0   s_211425 2022-05-20 13:21:29.043970     0_1518        0   4.18     c_103   \n",
       "1   s_158752 2022-02-02 07:55:19.149409      1_251        1  15.99    c_8534   \n",
       "2   s_225667 2022-06-18 15:44:33.155329     0_1277        0   7.99    c_6714   \n",
       "\n",
       "  sex birth_year  \n",
       "0   f       1986  \n",
       "1   m       1988  \n",
       "2   f       1968  "
      ]
     },
     "execution_count": 195,
     "metadata": {},
     "output_type": "execute_result"
    }
   ],
   "source": [
    "df_final.head(3)"
   ]
  },
  {
   "attachments": {},
   "cell_type": "markdown",
   "metadata": {},
   "source": [
    "### Chiffre d'affaires <a id='2-1'></a>"
   ]
  },
  {
   "attachments": {},
   "cell_type": "markdown",
   "metadata": {},
   "source": [
    "#### Résultats annuels"
   ]
  },
  {
   "cell_type": "code",
   "execution_count": 234,
   "metadata": {},
   "outputs": [
    {
     "name": "stdout",
     "output_type": "stream",
     "text": [
      "Chiffre d'affaires réalisé :\n",
      "- 2021 :       4770.83 k€\n",
      "- 2022 :       6108.68 k€\n",
      "- 2023 :        974.22 k€\n",
      "- Total :     11853.73 k€\n"
     ]
    }
   ],
   "source": [
    "# Fonction de calcul résulats annuels\n",
    "def table_TO_per_year():\n",
    "    years = df_final['transaction_date'].sort_values().dt.year.unique()\n",
    "    TO_total = round(df_final['price'].sum()/1000,2)\n",
    "    \n",
    "    print(f'Chiffre d\\'affaires réalisé :')\n",
    "\n",
    "    for year in years:\n",
    "        TO_per_year = round(\n",
    "            df_final.loc[df_final['transaction_date'].dt.year == year, 'price'].sum()\n",
    "            /1000, 2)\n",
    "            \n",
    "        print(f'- {year} :  {TO_per_year:>12} k€')\n",
    "\n",
    "    print(f'- Total : {TO_total:>12} k€')\n",
    "\n",
    "table_TO_per_year()"
   ]
  },
  {
   "attachments": {},
   "cell_type": "markdown",
   "metadata": {},
   "source": [
    "#### Résultats mensuels"
   ]
  },
  {
   "cell_type": "code",
   "execution_count": 250,
   "metadata": {},
   "outputs": [
    {
     "name": "stdout",
     "output_type": "stream",
     "text": [
      "Chiffre d'affaires mensuel :\n",
      "Minimum :\t320.80 k€\n",
      "Maximum :\t535.57 k€\n",
      "Moyen :\t\t493.91 k€\n",
      "Médian :\t501.57 k€\n",
      "\n"
     ]
    }
   ],
   "source": [
    "# Fontion de calcul des résultats mensuels\n",
    "def table_TO_per_month(df):\n",
    "    TO_per_month = (df[['transaction_date', 'price']]\n",
    "                        .sort_values('transaction_date')).groupby(\n",
    "        pd.Grouper(key='transaction_date', freq='MS')\n",
    "        ).sum().reset_index()\n",
    "\n",
    "    min_TO_month = TO_per_month['price'].min()/1000\n",
    "    max_TO_month = TO_per_month['price'].max()/1000\n",
    "    avg_TO_month = TO_per_month['price'].mean()/1000\n",
    "    med_TO_month = TO_per_month['price'].median()/1000\n",
    "\n",
    "    print(\n",
    "        f'Chiffre d\\'affaires mensuel :\\n'\n",
    "        f'Minimum :\\t{min_TO_month:.2f} k€\\n'\n",
    "        f'Maximum :\\t{max_TO_month:.2f} k€\\n'\n",
    "        f'Moyen :\\t\\t{avg_TO_month:.2f} k€\\n'\n",
    "        f'Médian :\\t{med_TO_month:.2f} k€\\n'\n",
    "    )\n",
    "table_TO_per_month(df_final)"
   ]
  },
  {
   "cell_type": "markdown",
   "metadata": {},
   "source": [
    "#### Evolution du chiffre d'affaires"
   ]
  },
  {
   "cell_type": "code",
   "execution_count": 253,
   "metadata": {},
   "outputs": [
    {
     "data": {
      "image/png": "[encoded data removed]",
      "text/plain": [
       "<Figure size 1000x400 with 1 Axes>"
      ]
     },
     "metadata": {},
     "output_type": "display_data"
    }
   ],
   "source": [
    "# Fonction de préparation des données et de traçage du graphique\n",
    "def plot_TO_per_month(df):\n",
    "    df_temp = (df[['transaction_date', 'price']]\n",
    "                    .sort_values('transaction_date')).groupby(\n",
    "        pd.Grouper(key='transaction_date', freq='MS')\n",
    "        ).sum().reset_index()\n",
    "\n",
    "    dates = df_temp[\"transaction_date\"]\n",
    "    turnover = df_temp[\"price\"]\n",
    "    \n",
    "    fig, ax = plt.subplots(figsize=(10, 4))\n",
    "\n",
    "    ax.spines['right'].set_visible(False)\n",
    "    ax.spines['left'].set_visible(False)\n",
    "    ax.spines['top'].set_visible(False)\n",
    "    ax.spines['bottom'].set_color('0.8')\n",
    "\n",
    "    ax.grid(axis='both', which='both', color='0.8')\n",
    "\n",
    "    ax.get_yaxis().set_major_formatter(\n",
    "    ticker.FuncFormatter(lambda x, pos: format(int(x/1000))))\n",
    "    ax.tick_params(axis='both', which='both', color='1.0')\n",
    "\n",
    "    ax.set_xlabel('Mois')\n",
    "    ax.set_ylabel('Chiffre d\\'affaires (k€)')\n",
    "\n",
    "    ax.plot(dates, turnover, color='darkcyan', linewidth=2)\n",
    "    \n",
    "    fig.suptitle('Evolution mensuelle du chiffre d\\'affaires')\n",
    "    \n",
    "    plt.ylim(300000, 550000)\n",
    "    \n",
    "    plt.show()\n",
    "    \n",
    "plot_TO_per_month(df_final)"
   ]
  },
  {
   "cell_type": "code",
   "execution_count": 283,
   "metadata": {},
   "outputs": [
    {
     "data": {
      "text/plain": [
       "[<matplotlib.lines.Line2D at 0x18f8b9dd350>]"
      ]
     },
     "execution_count": 283,
     "metadata": {},
     "output_type": "execute_result"
    },
    {
     "data": {
      "image/png": "[encoded data removed]",
      "text/plain": [
       "<Figure size 640x480 with 1 Axes>"
      ]
     },
     "metadata": {},
     "output_type": "display_data"
    }
   ],
   "source": [
    "az = (df_final[['transaction_date', 'price']]\n",
    "                .sort_values('transaction_date')).groupby(\n",
    "    pd.Grouper(key='transaction_date', freq='D')\n",
    "    ).sum().reset_index()\n",
    "\n",
    "\n",
    "\n",
    "az = az.loc[(az['transaction_date'] >= '2021-09-01') & (az['transaction_date'] <= '2021-11-30')]\n",
    "\n",
    "az\n",
    "\n",
    "x = az['transaction_date']\n",
    "y = az['price']\n",
    "\n",
    "plt.plot(x,y)"
   ]
  },
  {
   "attachments": {},
   "cell_type": "markdown",
   "metadata": {},
   "source": [
    "#### Tops et flops"
   ]
  },
  {
   "attachments": {},
   "cell_type": "markdown",
   "metadata": {},
   "source": [
    "Faire en quantité + CA"
   ]
  },
  {
   "cell_type": "code",
   "execution_count": 200,
   "metadata": {},
   "outputs": [
    {
     "data": {
      "image/png": "[encoded data removed]",
      "text/plain": [
       "<Figure size 900x720 with 2 Axes>"
      ]
     },
     "metadata": {},
     "output_type": "display_data"
    }
   ],
   "source": [
    "df_temp = df_final.groupby('product_id')['price'].sum()\n",
    "\n",
    "x0= df_temp.nlargest(10).sort_values().index\n",
    "y0 = df_temp.nlargest(10).sort_values().values\n",
    "x1= df_temp.nsmallest(10).sort_values(ascending=False).index\n",
    "y1= df_temp.nsmallest(10).sort_values(ascending=False).values\n",
    "\n",
    "fig, axs = plt.subplots(2, 1, figsize=(9, 7.2))\n",
    "\n",
    "plot0 = axs[0].barh(x0, y0)\n",
    "axs[0].bar_label(plot0, padding=-50)\n",
    "axs[0].set_title('Tops')\n",
    "axs[0].get_xaxis().set_major_formatter(\n",
    "    ticker.FuncFormatter(lambda x, p: format(int(x/1000))+' k€'))\n",
    "\n",
    "cmap = plt.get_cmap('Oranges')\n",
    "\n",
    "\n",
    "plot1 = axs[1].barh(x1, y1, color='C1')\n",
    "axs[1].bar_label(plot1, padding=-30)\n",
    "axs[1].set_title('Flops')\n",
    "\n",
    "\n",
    "fig.supylabel('ids produit')\n",
    "\n",
    "\n",
    "plt.show()"
   ]
  },
  {
   "attachments": {},
   "cell_type": "markdown",
   "metadata": {},
   "source": [
    "#### Chiffre d'affaires par catégorie"
   ]
  },
  {
   "cell_type": "code",
   "execution_count": 201,
   "metadata": {},
   "outputs": [
    {
     "data": {
      "image/png": "[encoded data removed]",
      "text/plain": [
       "<Figure size 900x360 with 3 Axes>"
      ]
     },
     "metadata": {},
     "output_type": "display_data"
    }
   ],
   "source": [
    "def plot_TO_per_category(df):\n",
    "    # Préparation des données\n",
    "    df_temp = (df[['transaction_date', 'category', 'price']]\n",
    "               .sort_values('transaction_date')\n",
    "               .copy()\n",
    "    )\n",
    "    df_temp['transaction_date'] = df_temp['transaction_date'].dt.year\n",
    "    df_temp = (df_temp.groupby(['transaction_date', 'category'])['price']\n",
    "                   .sum()\n",
    "                   .reset_index()\n",
    "    )\n",
    "\n",
    "    years = df_temp['transaction_date'].unique()\n",
    "    categories = df_temp['category'].unique()\n",
    "\n",
    "    # Traçage grahique(s)\n",
    "    fig, axs = plt.subplots(1, len(years), figsize=((len(years)*3), 3.6))\n",
    "\n",
    "    for i in range(len(years)):\n",
    "        TO_sum = df_temp.loc[df_temp['transaction_date'] == years[i]\n",
    "                             , 'price'].values\n",
    "        \n",
    "        axs[i].pie(TO_sum, autopct = '%.1f%%')\n",
    "        axs[i].set_title(years[i], y=-0.1, size=10.5)\n",
    "   \n",
    "    fig.suptitle('Répartion du chiffre d\\'affaires par catégorie', y=0.9)\n",
    "    fig.legend(categories, ncols = 3, title='Catégories:', loc='lower center'\n",
    "        , fontsize=8)\n",
    "    \n",
    "    plt.show()\n",
    "    \n",
    "plot_TO_per_category(df_final)"
   ]
  }
 ],
 "metadata": {
  "kernelspec": {
   "display_name": "oc-env",
   "language": "python",
   "name": "python3"
  },
  "language_info": {
   "codemirror_mode": {
    "name": "ipython",
    "version": 3
   },
   "file_extension": ".py",
   "mimetype": "text/x-python",
   "name": "python",
   "nbconvert_exporter": "python",
   "pygments_lexer": "ipython3",
   "version": "3.11.2"
  },
  "orig_nbformat": 4,
  "vscode": {
   "interpreter": {
    "hash": "b883796c9eef5b4e5900fa71238114dfa6d87b8929d4c2120cc7014b383d77cc"
   }
  }
 },
 "nbformat": 4,
 "nbformat_minor": 2
}
